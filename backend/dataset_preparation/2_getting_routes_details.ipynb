{
 "cells": [
  {
   "cell_type": "markdown",
   "id": "04d2d1ee",
   "metadata": {},
   "source": [
    "# Part 1: Getting current routes"
   ]
  },
  {
   "cell_type": "markdown",
   "id": "d856438f",
   "metadata": {
    "vscode": {
     "languageId": "plaintext"
    }
   },
   "source": [
    "Now, we get the current routes for each airport based on their wikipedia article based on a series of scripts developed in the first notebook. Save to a current_routes.csv file. 6\n"
   ]
  },
  {
   "cell_type": "code",
   "execution_count": null,
   "id": "4ce8f99c",
   "metadata": {
    "vscode": {
     "languageId": "plaintext"
    }
   },
   "outputs": [],
   "source": []
  }
 ],
 "metadata": {
  "language_info": {
   "name": "python"
  }
 },
 "nbformat": 4,
 "nbformat_minor": 5
}
