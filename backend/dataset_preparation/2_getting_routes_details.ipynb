{
 "cells": [
  {
   "cell_type": "code",
   "execution_count": 1,
   "id": "1a831358",
   "metadata": {},
   "outputs": [],
   "source": [
    "import requests\n",
    "from bs4 import BeautifulSoup\n",
    "import csv\n",
    "import pandas as pd\n",
    "# Suppress just SettingWithCopyWarning\n",
    "import warnings\n",
    "warnings.simplefilter(action='ignore', category=pd.errors.SettingWithCopyWarning)"
   ]
  },
  {
   "cell_type": "markdown",
   "id": "04d2d1ee",
   "metadata": {},
   "source": [
    "# Part 1: Getting current routes"
   ]
  },
  {
   "cell_type": "markdown",
   "id": "d856438f",
   "metadata": {
    "vscode": {
     "languageId": "plaintext"
    }
   },
   "source": [
    "Now, we get the current routes for each airport based on their wikipedia article based on a series of scripts developed in the first notebook. Save to a current_routes.csv file. 6\n"
   ]
  },
  {
   "cell_type": "markdown",
   "id": "de03b532",
   "metadata": {},
   "source": [
    "defining key functions"
   ]
  },
  {
   "cell_type": "code",
   "execution_count": null,
   "id": "e8382c95",
   "metadata": {},
   "outputs": [],
   "source": [
    "#function to extract text between two found substrings\n",
    "def extract_between(text, start, end):\n",
    "    start_idx = text.find(start)\n",
    "    if start_idx == -1:\n",
    "        return \"\" #return empty string\n",
    "    start_idx += len(start)\n",
    "    end_idx = text.find(end, start_idx)\n",
    "    if end_idx == -1:\n",
    "        return \"\"\n",
    "    return text[start_idx:end_idx]\n",
    "#function to get iata code from wikipedia name\n",
    "def get_iata_code(iata,ref_data=pd.read_csv(\"./data/top_airports_basic_data.csv\")):\n",
    "    matched = ref_data[ref_data[\"wiki_name\"]==iata].iloc[0]\n",
    "    return matched[\"iata\"]\n",
    "#custom function to find the text matching the passenger destination section \n",
    "def extract_passenger_destinations(text, start, end):\n",
    "    start_idx = text.find(start)\n",
    "    #narrow down search text \n",
    "    if start_idx == -1:\n",
    "        return \"\" #return empty string\n",
    "    start_idx += len(start)\n",
    "    start_idx += 3 #increment by 3 to account for ==\n",
    "    end_idx = text.find(end, start_idx)\n",
    "    if end_idx == -1:\n",
    "        return \"\"\n",
    "    return text[start_idx:end_idx]\n",
    "\n",
    "def get_destinations(iata_source, wiki_name, file_append_path):\n",
    "    #open file in append mode\n",
    "    f = open(file_append_path, \"a\")\n",
    "    \n",
    "    search_url = f\"https://en.wikipedia.org/w/index.php?title={wiki_name}&action=raw\"\n",
    "    response = requests.get(search_url)\n",
    "    full_text = response.text\n",
    "    #get to the passenger destinations section marked by a predictiable substrings ()\n",
    "    # Call both and choose the first non-None result\n",
    "    destinations_text = extract_passenger_destinations(full_text, \"Airlines and destinations\",\"==\") \n",
    "    #if the length if less than 5, a low amount, we try differently\n",
    "    if(len(destinations_text) < 5): destinations_text = extract_passenger_destinations(full_text, \"Airlines and destinations\",\"Cargo\") \n",
    "    destinations_list = destinations_text.split(\"<!-- -->\")#split predictably\n",
    "    \n",
    "    return_list = [] #return a list of destination of tuple of the form (iata_source, starting_wiki_name, dest_wikipedia_name,airline, isSeasonal)\n",
    "    #ignore the first part, since that is some disclaimer\n",
    "    for i in range(1, len(destinations_list)):\n",
    "        airlineDest = destinations_list[i]#we get a list relating to airlines and their list of destinations\n",
    "        #get information before and the seasonal destination section (if present)\n",
    "        beforeSeasonal = \"\"\n",
    "        afterSeasonal = None\n",
    "        if \"'''Seasonal:'''\" in airlineDest:\n",
    "            seasonalSplit = airlineDest.split(\"'''Seasonal:'''\")\n",
    "            beforeSeasonal = seasonalSplit[0]\n",
    "            afterSeasonal = seasonalSplit[1]\n",
    "        else: \n",
    "            beforeSeasonal = airlineDest \n",
    "        \n",
    "        #get the airline based on a predictable pattern (in the first element)\n",
    "        beforeSeasonalsplit = beforeSeasonal.split(\",\") #split based on commas\n",
    "        airline_firstdest = beforeSeasonalsplit[0].split(\" | [[\")  #split between the airline and first destination\n",
    "        airline = str(airline_firstdest[0]) #extract the airline\n",
    "        airline = extract_between(airline,\"[[\",\"]]\") #remove the [[]]\n",
    "        #do a final split just in case (even if | is not found), [0] selects the current string\n",
    "        firstdest = \"\"  #get first destination (assuming not seasonal) \n",
    "        if len(airline_firstdest) == 2:\n",
    "            destination = airline_firstdest[1].split(\"|\")[0].strip()\n",
    "            destination_wiki_name = destination.replace(\" \", \"_\") #replace destination to get the destination iata_code\n",
    "            f.write(f\"{iata_source},{wiki_name},{destination_wiki_name},{airline},0\\n\") #(iata_source, starting_wiki_name, dest_wikipedia_name,airline, isSeasonal)\n",
    "        #loop thorugh the rest of the comma list for the before seasonal split if possible \n",
    "        for i in range(1, len(beforeSeasonalsplit)):\n",
    "            destination = beforeSeasonalsplit[i]\n",
    "            extracted_destination = extract_between(destination,\"[[\",\"]]\")\n",
    "            if (extracted_destination!=\"\"): #assuming \n",
    "                destination_wiki_name = extracted_destination.split(\"|\")[0].strip()\n",
    "                destination_wiki_name = destination_wiki_name.replace(\" \", \"_\")\n",
    "                f.write(f\"{iata_source},{wiki_name},{destination_wiki_name},{airline},0\\n\") #(iata_source, starting_wiki_name, dest_wikipedia_name,airline, isSeasonal)\n",
    "        #loop through the seasonal destinations list if the current airline has it\n",
    "        if (afterSeasonal):\n",
    "            afterSeasonalSplit = afterSeasonal.split(\",\")\n",
    "            for i in range(0, len(afterSeasonalSplit)):\n",
    "                destination = afterSeasonalSplit[i]\n",
    "                extracted_destination = extract_between(destination,\"[[\",\"]]\")\n",
    "                if (extracted_destination!=\"\"): #assuming \n",
    "                    destination_wiki_name = extracted_destination.split(\"|\")[0].strip()\n",
    "                    destination_wiki_name = destination_wiki_name.replace(\" \", \"_\")\n",
    "                    f.write(f\"{iata_source},{wiki_name},{destination_wiki_name},{airline},1\\n\") #(iata_source, starting_wiki_name, dest_wikipedia_name,airline, isSeasonal)\n",
    "    f.close() #close file at end\n",
    "    return \"done\""
   ]
  },
  {
   "cell_type": "markdown",
   "id": "dd0b1dc3",
   "metadata": {},
   "source": [
    "Start the file to store modern route data"
   ]
  },
  {
   "cell_type": "code",
   "execution_count": 3,
   "id": "229d1c66",
   "metadata": {},
   "outputs": [],
   "source": [
    "f = open(\"./data/current_routes.csv\", \"w\")\n",
    "f.write(\"iata_source,starting_wiki_name,dest_wikipedia_name,airline,isSeasonal\") \n",
    "f.close() #add column names"
   ]
  },
  {
   "cell_type": "markdown",
   "id": "5c23ec55",
   "metadata": {},
   "source": [
    "get iata code, wikiname lists"
   ]
  },
  {
   "cell_type": "code",
   "execution_count": 16,
   "id": "3cc616fe",
   "metadata": {},
   "outputs": [
    {
     "name": "stdout",
     "output_type": "stream",
     "text": [
      "989\n"
     ]
    }
   ],
   "source": [
    "data = pd.read_csv(\"./data/top_airports_basic_data.csv\")\n",
    "print(len(data))\n",
    "data.head(n=1)\n",
    "codes_list = data[\"iata\"]\n",
    "names_list = data[\"wiki_name\"]\n",
    "file_append_path = \"./data/current_routes.csv\""
   ]
  },
  {
   "cell_type": "markdown",
   "id": "5c37fe47",
   "metadata": {},
   "source": [
    "iterrate through airports 0 to 50"
   ]
  },
  {
   "cell_type": "code",
   "execution_count": 12,
   "id": "240b5b8a",
   "metadata": {},
   "outputs": [
    {
     "name": "stdout",
     "output_type": "stream",
     "text": [
      "airport index: 0\n",
      "airport index: 1\n",
      "airport index: 2\n",
      "airport index: 3\n",
      "airport index: 4\n",
      "airport index: 5\n",
      "airport index: 6\n",
      "airport index: 7\n",
      "airport index: 8\n",
      "airport index: 9\n",
      "airport index: 10\n",
      "airport index: 11\n",
      "airport index: 12\n",
      "airport index: 13\n",
      "airport index: 14\n",
      "airport index: 15\n",
      "airport index: 16\n",
      "airport index: 17\n",
      "airport index: 18\n",
      "airport index: 19\n",
      "airport index: 20\n",
      "airport index: 21\n",
      "airport index: 22\n",
      "airport index: 23\n",
      "airport index: 24\n",
      "airport index: 25\n",
      "airport index: 26\n",
      "airport index: 27\n",
      "airport index: 28\n",
      "airport index: 29\n",
      "airport index: 30\n",
      "airport index: 31\n",
      "airport index: 32\n",
      "airport index: 33\n",
      "airport index: 34\n",
      "airport index: 35\n",
      "airport index: 36\n",
      "airport index: 37\n",
      "airport index: 38\n",
      "airport index: 39\n",
      "airport index: 40\n",
      "airport index: 41\n",
      "airport index: 42\n",
      "airport index: 43\n",
      "airport index: 44\n",
      "airport index: 45\n",
      "airport index: 46\n",
      "airport index: 47\n",
      "airport index: 48\n",
      "airport index: 49\n"
     ]
    }
   ],
   "source": [
    "for i in range(0,50):\n",
    "    print(\"airport index:\", i)\n",
    "    code = codes_list[i]\n",
    "    name = names_list[i]\n",
    "    get_destinations(code,name,file_append_path)\n",
    "    "
   ]
  },
  {
   "cell_type": "markdown",
   "id": "e7467696",
   "metadata": {},
   "source": [
    "iterrate through airports 50 to 100"
   ]
  },
  {
   "cell_type": "code",
   "execution_count": 13,
   "id": "35f19ee2",
   "metadata": {},
   "outputs": [
    {
     "name": "stdout",
     "output_type": "stream",
     "text": [
      "airport index: 50\n",
      "airport index: 51\n",
      "airport index: 52\n",
      "airport index: 53\n",
      "airport index: 54\n",
      "airport index: 55\n",
      "airport index: 56\n",
      "airport index: 57\n",
      "airport index: 58\n",
      "airport index: 59\n",
      "airport index: 60\n",
      "airport index: 61\n",
      "airport index: 62\n",
      "airport index: 63\n",
      "airport index: 64\n",
      "airport index: 65\n",
      "airport index: 66\n",
      "airport index: 67\n",
      "airport index: 68\n",
      "airport index: 69\n",
      "airport index: 70\n",
      "airport index: 71\n",
      "airport index: 72\n",
      "airport index: 73\n",
      "airport index: 74\n",
      "airport index: 75\n",
      "airport index: 76\n",
      "airport index: 77\n",
      "airport index: 78\n",
      "airport index: 79\n",
      "airport index: 80\n",
      "airport index: 81\n",
      "airport index: 82\n",
      "airport index: 83\n",
      "airport index: 84\n",
      "airport index: 85\n",
      "airport index: 86\n",
      "airport index: 87\n",
      "airport index: 88\n",
      "airport index: 89\n",
      "airport index: 90\n",
      "airport index: 91\n",
      "airport index: 92\n",
      "airport index: 93\n",
      "airport index: 94\n",
      "airport index: 95\n",
      "airport index: 96\n",
      "airport index: 97\n",
      "airport index: 98\n",
      "airport index: 99\n"
     ]
    }
   ],
   "source": [
    "for i in range(50,100):\n",
    "    print(\"airport index:\", i)\n",
    "    code = codes_list[i]\n",
    "    name = names_list[i]\n",
    "    get_destinations(code,name,file_append_path)"
   ]
  },
  {
   "cell_type": "markdown",
   "id": "865db08d",
   "metadata": {},
   "source": [
    "iterrate through airpots 100 to 150"
   ]
  },
  {
   "cell_type": "code",
   "execution_count": 18,
   "id": "4493fc2a",
   "metadata": {},
   "outputs": [
    {
     "name": "stdout",
     "output_type": "stream",
     "text": [
      "airport index: 100\n",
      "airport index: 101\n",
      "airport index: 102\n",
      "airport index: 103\n",
      "airport index: 104\n",
      "airport index: 105\n",
      "airport index: 106\n",
      "airport index: 107\n",
      "airport index: 108\n",
      "airport index: 109\n",
      "airport index: 110\n",
      "airport index: 111\n",
      "airport index: 112\n",
      "airport index: 113\n",
      "airport index: 114\n",
      "airport index: 115\n",
      "airport index: 116\n",
      "airport index: 117\n",
      "airport index: 118\n",
      "airport index: 119\n",
      "airport index: 120\n",
      "airport index: 121\n",
      "airport index: 122\n",
      "airport index: 123\n",
      "airport index: 124\n",
      "airport index: 125\n",
      "airport index: 126\n",
      "airport index: 127\n",
      "airport index: 128\n",
      "airport index: 129\n",
      "airport index: 130\n",
      "airport index: 131\n",
      "airport index: 132\n",
      "airport index: 133\n",
      "airport index: 134\n",
      "airport index: 135\n",
      "airport index: 136\n",
      "airport index: 137\n",
      "airport index: 138\n",
      "airport index: 139\n",
      "airport index: 140\n",
      "airport index: 141\n",
      "airport index: 142\n",
      "airport index: 143\n",
      "airport index: 144\n",
      "airport index: 145\n",
      "airport index: 146\n",
      "airport index: 147\n",
      "airport index: 148\n",
      "airport index: 149\n"
     ]
    }
   ],
   "source": [
    "for i in range(100, 150):\n",
    "    print(\"airport index:\", i)\n",
    "    code = codes_list[i]\n",
    "    name = names_list[i]\n",
    "    get_destinations(code,name,file_append_path)"
   ]
  }
 ],
 "metadata": {
  "kernelspec": {
   "display_name": "base",
   "language": "python",
   "name": "python3"
  },
  "language_info": {
   "codemirror_mode": {
    "name": "ipython",
    "version": 3
   },
   "file_extension": ".py",
   "mimetype": "text/x-python",
   "name": "python",
   "nbconvert_exporter": "python",
   "pygments_lexer": "ipython3",
   "version": "3.11.5"
  }
 },
 "nbformat": 4,
 "nbformat_minor": 5
}
