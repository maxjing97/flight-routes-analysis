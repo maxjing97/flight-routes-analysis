{
 "cells": [
  {
   "cell_type": "markdown",
   "id": "04d2d1ee",
   "metadata": {},
   "source": [
    "# Part 1: Getting current routes"
   ]
  },
  {
   "cell_type": "markdown",
   "id": "d856438f",
   "metadata": {
    "vscode": {
     "languageId": "plaintext"
    }
   },
   "source": [
    "Now, we get the current routes for each airport based on their wikipedia article based on a series of scripts developed in the first notebook. Save to a current_routes.csv file. 6\n"
   ]
  },
  {
   "cell_type": "markdown",
   "id": "de03b532",
   "metadata": {},
   "source": [
    "defining key functions"
   ]
  },
  {
   "cell_type": "code",
   "execution_count": null,
   "id": "e8382c95",
   "metadata": {},
   "outputs": [],
   "source": [
    "#function to extract text between two found substrings\n",
    "def extract_between(text, start, end):\n",
    "    start_idx = text.find(start)\n",
    "    if start_idx == -1:\n",
    "        return \"\" #return empty string\n",
    "    start_idx += len(start)\n",
    "    end_idx = text.find(end, start_idx)\n",
    "    if end_idx == -1:\n",
    "        return \"\"\n",
    "    return text[start_idx:end_idx]\n",
    "#function to get iata code from wikipedia name\n",
    "def get_iata_code(iata,ref_data=pd.read_csv(\"./data/top_airports_basic_data.csv\")):\n",
    "    matched = ref_data[ref_data[\"wiki_name\"]==iata].iloc[0]\n",
    "    return matched[\"iata\"]\n",
    "    \n",
    "\n",
    "def get_destinations(iata_source, wiki_name, file_append):\n",
    "    search_url = f\"https://en.wikipedia.org/w/index.php?title={wiki_name}&action=raw\"\n",
    "    response = requests.get(search_url)\n",
    "    full_text = response.text\n",
    "    #get to the passenger destinations section marked by a predictiable substrings ()\n",
    "    # Call both and choose the first non-None result\n",
    "    destinations_text = extract_between(full_text, \"=== Passenger ===\", \"==\") or extract_between(full_text, \"===Passenger===\", \"==\")\n",
    "    destinations_list = destinations_text.split(\"<!-- -->\")#split predictably\n",
    "    \n",
    "    return_list = [] #return a list of destination of tuple of the form (iata_source, starting_wiki_name, dest_wikipedia_name,airline, isSeasonal)\n",
    "    #ignore the first part, since that is some disclaimer\n",
    "    for i in range(1, len(destinations_list)):\n",
    "        airlineDest = destinations_list[i]#we get a list relating to airlines and their list of destinations\n",
    "        #get information before and the seasonal destination section (if present)\n",
    "        beforeSeasonal = \"\"\n",
    "        afterSeasonal = None\n",
    "        if \"'''Seasonal:'''\" in airlineDest:\n",
    "            seasonalSplit = airlineDest.split(\"'''Seasonal:'''\")\n",
    "            beforeSeasonal = seasonalSplit[0]\n",
    "            afterSeasonal = seasonalSplit[1]\n",
    "        else: \n",
    "            beforeSeasonal = airlineDest \n",
    "        \n",
    "        #get the airline based on a predictable pattern (in the first element)\n",
    "        beforeSeasonalsplit = beforeSeasonal.split(\",\") #split based on commas\n",
    "        airline_firstdest = beforeSeasonalsplit[0].split(\" | [[\")  #split between the airline and first destination\n",
    "        airline = str(airline_firstdest[0]) #extract the airline\n",
    "        airline = extract_between(airline,\"[[\",\"]]\") #remove the [[]]\n",
    "        #do a final split just in case (even if | is not found), [0] selects the current string\n",
    "        firstdest = \"\"  #get first destination (assuming not seasonal) \n",
    "        if len(airline_firstdest) == 2:\n",
    "            destination = airline_firstdest[1].split(\"|\")[0].strip()\n",
    "            destination_wiki_name = destination.replace(\" \", \"_\") #replace destination to get the destination iata_code\n",
    "            return_list.append((iata_source,wiki_name,destination_wiki_name,airline,False )) #(iata_source, starting_wiki_name, dest_wikipedia_name,airline, isSeasonal)\n",
    "        #loop thorugh the rest of the comma list for the before seasonal split if possible \n",
    "        for i in range(1, len(beforeSeasonalsplit)):\n",
    "            destination = beforeSeasonalsplit[i]\n",
    "            extracted_destination = extract_between(destination,\"[[\",\"]]\")\n",
    "            if (extracted_destination!=\"\"): #assuming \n",
    "                destination_wiki_name = extracted_destination.split(\"|\")[0].strip()\n",
    "                destination_wiki_name = destination_wiki_name.replace(\" \", \"_\")\n",
    "                return_list.append((iata_source,wiki_name,destination_wiki_name,airline,False )) #(iata_source, starting_wiki_name, dest_wikipedia_name,airline, isSeasonal)\n",
    "        #loop through the seasonal destinations list if the current airline has it\n",
    "        if (afterSeasonal):\n",
    "            afterSeasonalSplit = afterSeasonal.split(\",\")\n",
    "            for i in range(0, len(afterSeasonalSplit)):\n",
    "                destination = afterSeasonalSplit[i]\n",
    "                extracted_destination = extract_between(destination,\"[[\",\"]]\")\n",
    "                if (extracted_destination!=\"\"): #assuming \n",
    "                    destination_wiki_name = extracted_destination.split(\"|\")[0].strip()\n",
    "                    destination_wiki_name = destination_wiki_name.replace(\" \", \"_\")\n",
    "                    return_list.append((iata_source,wiki_name,destination_wiki_name,airline,True )) #(iata_source, starting_wiki_name, dest_wikipedia_name,airline, isSeasonal)\n",
    "            \n",
    "    return return_list"
   ]
  },
  {
   "cell_type": "markdown",
   "id": "dd0b1dc3",
   "metadata": {},
   "source": [
    "Start the file"
   ]
  }
 ],
 "metadata": {
  "kernelspec": {
   "display_name": "base",
   "language": "python",
   "name": "python3"
  },
  "language_info": {
   "name": "python",
   "version": "3.11.5"
  }
 },
 "nbformat": 4,
 "nbformat_minor": 5
}
