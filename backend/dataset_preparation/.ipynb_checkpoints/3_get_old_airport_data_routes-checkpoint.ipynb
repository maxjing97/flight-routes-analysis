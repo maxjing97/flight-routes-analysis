{
 "cells": [
  {
   "cell_type": "code",
   "execution_count": 1,
   "id": "8ee7ebb2-a56d-482c-89cb-5a9338cd6cdc",
   "metadata": {},
   "outputs": [],
   "source": [
    "import requests\n",
    "from bs4 import BeautifulSoup\n",
    "import csv\n",
    "import re \n",
    "import pandas as pd\n",
    "\n",
    "# Suppress just SettingWithCopyWarning\n",
    "import warnings\n",
    "warnings.simplefilter(action='ignore', category=pd.errors.ChainedAssignmentError)\n",
    "warnings.simplefilter(action='ignore', category=pd.errors.SettingWithCopyWarning)\n",
    "pd.options.mode.chained_assignment = None  # Disable the warning\n"
   ]
  },
  {
   "cell_type": "markdown",
   "id": "35bb83ef-5684-4ec3-8130-3ca4e482fc2e",
   "metadata": {},
   "source": [
    "# Part 1: Get most recent wikipedia urls ids for airports before 2020\n",
    "\n",
    "This will help us analyze covid recovery route trends."
   ]
  },
  {
   "cell_type": "code",
   "execution_count": 8,
   "id": "eb469a14-62d3-4110-89b0-915ce01bf0fe",
   "metadata": {},
   "outputs": [
    {
     "name": "stdout",
     "output_type": "stream",
     "text": [
      "933044375\n"
     ]
    }
   ],
   "source": [
    "#function to find version code before a certain formated date \n",
    "\n",
    "def get_oldid_before(title, date):\n",
    "    \"\"\"Get the revision ID (oldid) of the latest version before a given date.\"\"\"\n",
    "    api_url = \"https://en.wikipedia.org/w/api.php\"\n",
    "    params = {\n",
    "        \"action\": \"query\",\n",
    "        \"format\": \"json\",\n",
    "        \"prop\": \"revisions\",\n",
    "        \"titles\": title,\n",
    "        \"rvlimit\": 1,\n",
    "        \"rvstart\": date,\n",
    "        \"rvdir\": \"older\",\n",
    "        \"rvprop\": \"ids\",\n",
    "        \"formatversion\": 2\n",
    "    }\n",
    "\n",
    "    response = requests.get(api_url, params=params)\n",
    "    data = response.json()\n",
    "\n",
    "    try:\n",
    "        return str(data['query']['pages'][0]['revisions'][0]['revid'])\n",
    "    except (KeyError, IndexError):\n",
    "        return None\n",
    "\n",
    "# Example usage\n",
    "id = get_oldid_before(\"John_F._Kennedy_International_Airport\", \"2020-01-01T00:00:00Z\")\n",
    "print(wikitext)"
   ]
  },
  {
   "cell_type": "code",
   "execution_count": 9,
   "id": "e5c0ea10-6b88-4afc-a2d7-83a60d99180c",
   "metadata": {},
   "outputs": [
    {
     "data": {
      "text/html": [
       "<div>\n",
       "<style scoped>\n",
       "    .dataframe tbody tr th:only-of-type {\n",
       "        vertical-align: middle;\n",
       "    }\n",
       "\n",
       "    .dataframe tbody tr th {\n",
       "        vertical-align: top;\n",
       "    }\n",
       "\n",
       "    .dataframe thead th {\n",
       "        text-align: right;\n",
       "    }\n",
       "</style>\n",
       "<table border=\"1\" class=\"dataframe\">\n",
       "  <thead>\n",
       "    <tr style=\"text-align: right;\">\n",
       "      <th></th>\n",
       "      <th>IATA</th>\n",
       "      <th>wiki_name</th>\n",
       "      <th>city</th>\n",
       "      <th>country</th>\n",
       "      <th>latitude</th>\n",
       "      <th>longitude</th>\n",
       "    </tr>\n",
       "  </thead>\n",
       "  <tbody>\n",
       "    <tr>\n",
       "      <th>0</th>\n",
       "      <td>ATL</td>\n",
       "      <td>Hartsfield–Jackson_Atlanta_International_Airport</td>\n",
       "      <td>Atlanta</td>\n",
       "      <td>Usa</td>\n",
       "      <td>33.64</td>\n",
       "      <td>-84.427</td>\n",
       "    </tr>\n",
       "  </tbody>\n",
       "</table>\n",
       "</div>"
      ],
      "text/plain": [
       "  IATA                                         wiki_name     city country  \\\n",
       "0  ATL  Hartsfield–Jackson_Atlanta_International_Airport  Atlanta     Usa   \n",
       "\n",
       "   latitude  longitude  \n",
       "0     33.64    -84.427  "
      ]
     },
     "execution_count": 9,
     "metadata": {},
     "output_type": "execute_result"
    }
   ],
   "source": [
    "#use the current routes airports source data\n",
    "source_link = \"./data/current_source_airports.csv\"\n",
    "ref_data = pd.read_csv(source_link, encoding='utf-8')\n",
    "ref_data.head(n=1)"
   ]
  },
  {
   "cell_type": "markdown",
   "id": "cf424a81-6e83-4eeb-ae56-842ccf50a060",
   "metadata": {},
   "source": [
    "iterate to find old ids.\n"
   ]
  },
  {
   "cell_type": "code",
   "execution_count": null,
   "id": "26a76277-0987-4092-90aa-b504133c37ee",
   "metadata": {},
   "outputs": [
    {
     "name": "stdout",
     "output_type": "stream",
     "text": [
      "932935279\n",
      "933401146\n",
      "933330707\n",
      "933323532\n",
      "933116518\n",
      "933330403\n",
      "931453019\n",
      "933341577\n",
      "933171499\n",
      "932772001\n",
      "933154237\n",
      "932686609\n"
     ]
    }
   ],
   "source": [
    "ref_data[\"pre2020_ids\"] = None\n",
    "for wiki_name in ref_data[\"wiki_name\"]:\n",
    "    id = get_oldid_before(wiki_name, \"2020-01-01T00:00:00Z\")\n",
    "    print(id)"
   ]
  }
 ],
 "metadata": {
  "kernelspec": {
   "display_name": "Python (basic)",
   "language": "python",
   "name": "basic"
  },
  "language_info": {
   "codemirror_mode": {
    "name": "ipython",
    "version": 3
   },
   "file_extension": ".py",
   "mimetype": "text/x-python",
   "name": "python",
   "nbconvert_exporter": "python",
   "pygments_lexer": "ipython3",
   "version": "3.13.3"
  }
 },
 "nbformat": 4,
 "nbformat_minor": 5
}
