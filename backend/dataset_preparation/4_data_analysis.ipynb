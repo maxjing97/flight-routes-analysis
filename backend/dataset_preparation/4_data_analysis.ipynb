{
 "cells": [
  {
   "cell_type": "code",
   "execution_count": 1,
   "id": "90b2fa9f",
   "metadata": {},
   "outputs": [],
   "source": [
    "import requests\n",
    "from bs4 import BeautifulSoup\n",
    "import csv\n",
    "import re \n",
    "import pandas as pd\n",
    "import numpy as np\n",
    "import math\n",
    "# Suppress just SettingWithCopyWarning\n",
    "import warnings\n",
    "warnings.simplefilter(action='ignore', category=pd.errors.ChainedAssignmentError)\n",
    "warnings.simplefilter(action='ignore', category=pd.errors.SettingWithCopyWarning)\n",
    "pd.options.mode.chained_assignment = None  # Disable the warning\n",
    "import time\n"
   ]
  },
  {
   "cell_type": "markdown",
   "id": "b6f8363d",
   "metadata": {},
   "source": [
    "# Part 1: Finding the number of routes by airport (IATA code) \n",
    "\n",
    "a few iata codes will be discarded that did not exist for all years. This is a groupby sum in SQL but in python. We first do a inner join by IATA codes.\n",
    "\n"
   ]
  },
  {
   "cell_type": "markdown",
   "id": "90a2dbc1",
   "metadata": {},
   "source": [
    "summing number of routes per airport in all data and creating a separte file"
   ]
  },
  {
   "cell_type": "code",
   "execution_count": null,
   "id": "fbe74a84",
   "metadata": {},
   "outputs": [],
   "source": [
    "#list of paths\n",
    "paths = [\"pre2020_routes\", \"pre2022_routes\", \"current_routes\"]\n",
    "for path in paths :\n",
    "    routes_data =pd.read_csv(f\"./data/{path}.csv\")\n",
    "    routes_sum = routes_data.groupby(\"iata_source\")[\"dest_wikipedia_name\"].count().reset_index(name=\"num_routes\")\n",
    "    routes_sum = pd.DataFrame(routes_sum) #exclude the first one\n",
    "    #get name fragment by spliting _\n",
    "    frag = path.split(\"_\")[0]\n",
    "    routes_sum.to_csv(f\"./data/{frag}_airport_count.csv\", index=False)\n",
    "    routes_data.head(n=1)"
   ]
  },
  {
   "cell_type": "markdown",
   "id": "7d7ec866",
   "metadata": {},
   "source": [
    "### tracking trends via an inner join of all three sum dataset"
   ]
  },
  {
   "cell_type": "code",
   "execution_count": 4,
   "id": "eeb9e277",
   "metadata": {},
   "outputs": [],
   "source": [
    "pre2020 = pd.read_csv(\"./data/pre2020_airport_count.csv\")\n",
    "pre2022 = pd.read_csv(\"./data/pre2022_airport_count.csv\")\n",
    "curr = pd.read_csv(\"./data/current_airport_count.csv\")\n"
   ]
  },
  {
   "cell_type": "code",
   "execution_count": 5,
   "id": "c9f22331",
   "metadata": {},
   "outputs": [],
   "source": [
    "merged = pd.merge(pre2020,pre2022, on=\"iata_source\",  how=\"inner\", suffixes=('2020_count', '2022_count'))#inner join with named defined in a left-right order suffixes modified when columns are named the same\n",
    "merged = pd.merge(merged,curr, on=\"iata_source\")#inner join"
   ]
  },
  {
   "cell_type": "code",
   "execution_count": 6,
   "id": "ae51033d",
   "metadata": {},
   "outputs": [
    {
     "name": "stdout",
     "output_type": "stream",
     "text": [
      "977\n"
     ]
    },
    {
     "data": {
      "text/html": [
       "<div>\n",
       "<style scoped>\n",
       "    .dataframe tbody tr th:only-of-type {\n",
       "        vertical-align: middle;\n",
       "    }\n",
       "\n",
       "    .dataframe tbody tr th {\n",
       "        vertical-align: top;\n",
       "    }\n",
       "\n",
       "    .dataframe thead th {\n",
       "        text-align: right;\n",
       "    }\n",
       "</style>\n",
       "<table border=\"1\" class=\"dataframe\">\n",
       "  <thead>\n",
       "    <tr style=\"text-align: right;\">\n",
       "      <th></th>\n",
       "      <th>iata_source</th>\n",
       "      <th>num_routes2020_count</th>\n",
       "      <th>num_routes2022_count</th>\n",
       "      <th>num_routes</th>\n",
       "    </tr>\n",
       "  </thead>\n",
       "  <tbody>\n",
       "    <tr>\n",
       "      <th>0</th>\n",
       "      <td>AAE</td>\n",
       "      <td>10</td>\n",
       "      <td>11</td>\n",
       "      <td>12</td>\n",
       "    </tr>\n",
       "  </tbody>\n",
       "</table>\n",
       "</div>"
      ],
      "text/plain": [
       "  iata_source  num_routes2020_count  num_routes2022_count  num_routes\n",
       "0         AAE                    10                    11          12"
      ]
     },
     "execution_count": 6,
     "metadata": {},
     "output_type": "execute_result"
    }
   ],
   "source": [
    "print(len(merged))\n",
    "merged.head(n=1)"
   ]
  },
  {
   "cell_type": "code",
   "execution_count": 7,
   "id": "e81e7efd",
   "metadata": {},
   "outputs": [],
   "source": [
    "#saving \n",
    "merged.to_csv(\"./data/route_counts_airports_years.csv\")"
   ]
  },
  {
   "cell_type": "markdown",
   "id": "857df13f",
   "metadata": {},
   "source": [
    "# Part 2: Finding the number of routes by airlines (IATA code) for all years \n",
    "\n",
    "a few iata codes will be discarded that did not exist for all years. This is a groupby sum in SQL but in python. We first do a inner join by IATA codes "
   ]
  },
  {
   "cell_type": "code",
   "execution_count": 8,
   "id": "43c0e11d",
   "metadata": {},
   "outputs": [],
   "source": [
    "#list of paths\n",
    "paths = [\"pre2020_routes\", \"pre2022_routes\", \"current_routes\"]\n",
    "for path in paths :\n",
    "    routes_data =pd.read_csv(f\"./data/{path}.csv\")\n",
    "    routes_sum = routes_data.groupby(\"airline\")[\"dest_wikipedia_name\"].count().reset_index(name=\"num_routes\")\n",
    "    routes_sum = pd.DataFrame(routes_sum) #exclude the first one\n",
    "    #get name fragment by spliting _\n",
    "    frag = path.split(\"_\")[0]\n",
    "    routes_sum.to_csv(f\"./data/{frag}_airline_count.csv\", index=False)\n",
    "    routes_data.head(n=1)"
   ]
  },
  {
   "cell_type": "code",
   "execution_count": 9,
   "id": "9fad04ac",
   "metadata": {},
   "outputs": [],
   "source": [
    "pre2020 = pd.read_csv(\"./data/pre2020_airline_count.csv\")\n",
    "pre2022 = pd.read_csv(\"./data/pre2022_airline_count.csv\")\n",
    "curr = pd.read_csv(\"./data/current_airline_count.csv\")\n"
   ]
  },
  {
   "cell_type": "markdown",
   "id": "2d1020a9",
   "metadata": {},
   "source": [
    "Merging airlines"
   ]
  },
  {
   "cell_type": "code",
   "execution_count": 10,
   "id": "d45aeb31",
   "metadata": {},
   "outputs": [],
   "source": [
    "merged = pd.merge(pre2020,pre2022, on=\"airline\",  how=\"inner\", suffixes=('2020_count', '2022_count'))#inner join with named defined in a left-right order suffixes modified when columns are named the same\n",
    "merged = pd.merge(merged,curr, on=\"airline\")#inner join"
   ]
  },
  {
   "cell_type": "markdown",
   "id": "76a8d4dd",
   "metadata": {},
   "source": [
    "Finally save the data counting the number of routes per airline between 2020-to now"
   ]
  },
  {
   "cell_type": "code",
   "execution_count": 11,
   "id": "e0ee19f9",
   "metadata": {},
   "outputs": [],
   "source": [
    "merged.to_csv(\"./data/route_counts_airlines2020-now.csv\") #tra"
   ]
  }
 ],
 "metadata": {
  "kernelspec": {
   "display_name": "base",
   "language": "python",
   "name": "python3"
  },
  "language_info": {
   "codemirror_mode": {
    "name": "ipython",
    "version": 3
   },
   "file_extension": ".py",
   "mimetype": "text/x-python",
   "name": "python",
   "nbconvert_exporter": "python",
   "pygments_lexer": "ipython3",
   "version": "3.12.3"
  }
 },
 "nbformat": 4,
 "nbformat_minor": 5
}
