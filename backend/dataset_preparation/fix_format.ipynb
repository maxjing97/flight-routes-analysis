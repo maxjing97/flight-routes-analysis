{
 "cells": [
  {
   "cell_type": "markdown",
   "id": "55317e4a",
   "metadata": {},
   "source": [
    "This is helper code to fix any potential encoding conflicts in python"
   ]
  },
  {
   "cell_type": "code",
   "execution_count": 1,
   "id": "44b640c9",
   "metadata": {},
   "outputs": [],
   "source": [
    "import pandas as pd\n",
    "import os "
   ]
  },
  {
   "cell_type": "code",
   "execution_count": 2,
   "id": "bf65810c",
   "metadata": {},
   "outputs": [
    {
     "name": "stdout",
     "output_type": "stream",
     "text": [
      "['current_routes.csv', 'current_served_airports.csv', 'current_source_airports.csv', 'current_source_airports_details.csv', 'top_airports_basic_data.csv']\n"
     ]
    }
   ],
   "source": [
    "#find all files the data directory\n",
    "datadirs = os.listdir(\"./data\")\n",
    "print(datadirs)"
   ]
  },
  {
   "cell_type": "markdown",
   "id": "45067b94",
   "metadata": {},
   "source": [
    "Fixing format issues for windows "
   ]
  },
  {
   "cell_type": "code",
   "execution_count": 3,
   "id": "fa035d4c",
   "metadata": {},
   "outputs": [],
   "source": [
    "for dir in datadirs:\n",
    "    link = f\"./data/{dir}\"\n",
    "    d1 = pd.read_csv(link, encoding='cp1252')\n",
    "    d1.to_csv(link, encoding='utf-8', index=False)\n"
   ]
  }
 ],
 "metadata": {
  "kernelspec": {
   "display_name": "base",
   "language": "python",
   "name": "python3"
  },
  "language_info": {
   "codemirror_mode": {
    "name": "ipython",
    "version": 3
   },
   "file_extension": ".py",
   "mimetype": "text/x-python",
   "name": "python",
   "nbconvert_exporter": "python",
   "pygments_lexer": "ipython3",
   "version": "3.12.3"
  }
 },
 "nbformat": 4,
 "nbformat_minor": 5
}
