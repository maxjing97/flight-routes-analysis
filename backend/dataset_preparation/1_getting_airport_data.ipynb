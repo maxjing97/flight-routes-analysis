{
 "cells": [
  {
   "cell_type": "markdown",
   "id": "0c7ef589",
   "metadata": {},
   "source": [
    "\n",
    "# General data\n",
    "\n",
    "Here, we get vital data for the key airports we want to scrape data from:\n",
    "\n",
    "location (coordinates, country, city), IATA code,\n",
    "\n",
    "This then allows us, using the wikipedia API to find each airport's corresponding wikipedia link.\n",
    "\n",
    "For each time range:\n",
    "\n",
    "The wikipedia page's raw text can be scrapped predictiably for a list of destinations from an airport. We will encode airport destinations using iata code.\n",
    "\n",
    "We do this for each airport, generating a large csv file of airport-destination pairs for a particular time change."
   ]
  },
  {
   "cell_type": "markdown",
   "id": "c30a557d",
   "metadata": {},
   "source": []
  }
 ],
 "metadata": {
  "language_info": {
   "name": "python"
  }
 },
 "nbformat": 4,
 "nbformat_minor": 5
}
