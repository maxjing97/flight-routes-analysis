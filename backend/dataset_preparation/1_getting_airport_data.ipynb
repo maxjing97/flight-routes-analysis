{
 "cells": [
  {
   "cell_type": "markdown",
   "id": "0c7ef589",
   "metadata": {},
   "source": [
    "\n",
    "# General information of the datascrapping process.\n",
    "\n",
    "Here, we get vital data for the key airports we want to scrape data from:\n",
    "\n",
    "location (coordinates, country, city), IATA code,\n",
    "\n",
    "This then allows us, using the wikipedia API to find each airport's corresponding wikipedia link and wikipedia name.\n",
    "For example JFK is encoded in wikipedia's internal database as John_F._Kennedy_International_Airport. This matches the last part of the url in the wikipedia page link for the airport:     \n",
    "https://en.wikipedia.org/wiki/John_F._Kennedy_International_Airport\n",
    "\n",
    "For each time range:\n",
    "\n",
    "The wikipedia page's raw text can be scrapped predictiably for a list of destinations from an airport. We will encode airport destinations using iata code.\n",
    "\n",
    "We do this for each airport, generating a large csv file of airport-destination pairs for a particular time change.\n",
    "\n",
    "We will look at 2 time ranges (now(as of June 4th 11am Eastern Time), before Jan 1, 2000 UTC 0)"
   ]
  },
  {
   "cell_type": "markdown",
   "id": "c30a557d",
   "metadata": {},
   "source": [
    "### Sources :\n",
    "\n",
    "\n",
    "list of top 1000 airports by traffic to scrape:\n",
    "\n",
    "https://gettocenter.com/airports/top-100-airports-in-world/1000#google_vignette  \n",
    "\n",
    "\n",
    "detailed airport database to cross reference:\n",
    "\n",
    "https://www.partow.net/miscellaneous/airportdatabase/index.html#Downloads "
   ]
  },
  {
   "cell_type": "markdown",
   "id": "4779b1bb",
   "metadata": {},
   "source": [
    "# Part 1: get basic data for the list of top 1000 airports "
   ]
  },
  {
   "cell_type": "code",
   "execution_count": 35,
   "id": "1ad92860",
   "metadata": {},
   "outputs": [],
   "source": [
    "import requests\n",
    "from bs4 import BeautifulSoup\n",
    "import csv\n",
    "import pandas as pd\n",
    "# Suppress just SettingWithCopyWarning\n",
    "import warnings\n",
    "warnings.simplefilter(action='ignore', category=pd.errors.SettingWithCopyWarning)"
   ]
  },
  {
   "cell_type": "code",
   "execution_count": null,
   "id": "a25fa4fc",
   "metadata": {},
   "outputs": [],
   "source": [
    "# Example: load HTML from a URL or string\n",
    "url = \"https://gettocenter.com/airports/top-100-airports-in-world/1000\"\n",
    "response = requests.get(url)\n",
    "soup = BeautifulSoup(response.text, 'html.parser')\n",
    "\n",
    "table = soup.find(\"table\")  \n",
    "rows = table.find_all(\"tr\")\n",
    "\n",
    "with open(\"./data/top_airports_basic_data.csv\", \"w\", newline=\"\", encoding=\"utf-8\") as f:\n",
    "    writer = csv.writer(f)\n",
    "    for row in rows:\n",
    "        # Extract all cells (td or th)\n",
    "        cols = row.find_all([\"td\", \"th\"])\n",
    "        # Write the row text content to CSV\n",
    "        writer.writerow([col.get_text(strip=True) for col in cols])\n",
    "    f.close()"
   ]
  },
  {
   "cell_type": "markdown",
   "id": "baae1a6d",
   "metadata": {},
   "source": [
    "after replacing blank strings \"\", read in again csv file and add column names"
   ]
  },
  {
   "cell_type": "code",
   "execution_count": null,
   "id": "6e3f9bab",
   "metadata": {},
   "outputs": [
    {
     "name": "stdout",
     "output_type": "stream",
     "text": [
      "1087\n",
      "989\n"
     ]
    },
    {
     "data": {
      "text/html": [
       "<div>\n",
       "<style scoped>\n",
       "    .dataframe tbody tr th:only-of-type {\n",
       "        vertical-align: middle;\n",
       "    }\n",
       "\n",
       "    .dataframe tbody tr th {\n",
       "        vertical-align: top;\n",
       "    }\n",
       "\n",
       "    .dataframe thead th {\n",
       "        text-align: right;\n",
       "    }\n",
       "</style>\n",
       "<table border=\"1\" class=\"dataframe\">\n",
       "  <thead>\n",
       "    <tr style=\"text-align: right;\">\n",
       "      <th></th>\n",
       "      <th>full_name</th>\n",
       "      <th>iata</th>\n",
       "      <th>city</th>\n",
       "      <th>country</th>\n",
       "      <th>estimated_pax</th>\n",
       "    </tr>\n",
       "  </thead>\n",
       "  <tbody>\n",
       "    <tr>\n",
       "      <th>1.0</th>\n",
       "      <td>Hartsfield–Jackson Atlanta International Airport</td>\n",
       "      <td>ATL</td>\n",
       "      <td>Atlanta</td>\n",
       "      <td>United States</td>\n",
       "      <td>103,902,992</td>\n",
       "    </tr>\n",
       "    <tr>\n",
       "      <th>2.0</th>\n",
       "      <td>Beijing Capital International Airport</td>\n",
       "      <td>PEK</td>\n",
       "      <td>Beijing</td>\n",
       "      <td>China</td>\n",
       "      <td>95,786,442</td>\n",
       "    </tr>\n",
       "    <tr>\n",
       "      <th>3.0</th>\n",
       "      <td>Dubai International Airport</td>\n",
       "      <td>DXB</td>\n",
       "      <td>Dubai</td>\n",
       "      <td>United Arab Emirates</td>\n",
       "      <td>88,242,099</td>\n",
       "    </tr>\n",
       "    <tr>\n",
       "      <th>4.0</th>\n",
       "      <td>Los Angeles International Airport</td>\n",
       "      <td>LAX</td>\n",
       "      <td>Los Angeles</td>\n",
       "      <td>United States</td>\n",
       "      <td>84,557,968</td>\n",
       "    </tr>\n",
       "    <tr>\n",
       "      <th>5.0</th>\n",
       "      <td>O'Hare International Airport</td>\n",
       "      <td>ORD</td>\n",
       "      <td>Chicago</td>\n",
       "      <td>United States</td>\n",
       "      <td>79,828,183</td>\n",
       "    </tr>\n",
       "    <tr>\n",
       "      <th>6.0</th>\n",
       "      <td>Heathrow Airport</td>\n",
       "      <td>LHR</td>\n",
       "      <td>London</td>\n",
       "      <td>United Kingdom</td>\n",
       "      <td>78,014,598</td>\n",
       "    </tr>\n",
       "    <tr>\n",
       "      <th>7.0</th>\n",
       "      <td>Haneda Airport</td>\n",
       "      <td>HND</td>\n",
       "      <td>Tokyo</td>\n",
       "      <td>Japan</td>\n",
       "      <td>76,476,251</td>\n",
       "    </tr>\n",
       "    <tr>\n",
       "      <th>8.0</th>\n",
       "      <td>Hong Kong International Airport</td>\n",
       "      <td>HKG</td>\n",
       "      <td>Hong Kong</td>\n",
       "      <td>Hong Kong</td>\n",
       "      <td>72,665,078</td>\n",
       "    </tr>\n",
       "    <tr>\n",
       "      <th>9.0</th>\n",
       "      <td>Shanghai Pudong International Airport</td>\n",
       "      <td>PVG</td>\n",
       "      <td>Shanghai</td>\n",
       "      <td>China</td>\n",
       "      <td>70,001,237</td>\n",
       "    </tr>\n",
       "    <tr>\n",
       "      <th>10.0</th>\n",
       "      <td>Charles de Gaulle International Airport</td>\n",
       "      <td>CDG</td>\n",
       "      <td>Paris</td>\n",
       "      <td>France</td>\n",
       "      <td>69,471,442</td>\n",
       "    </tr>\n",
       "    <tr>\n",
       "      <th>11.0</th>\n",
       "      <td>Amsterdam Airport Schiphol</td>\n",
       "      <td>AMS</td>\n",
       "      <td>Amsterdam</td>\n",
       "      <td>Netherlands</td>\n",
       "      <td>68,515,425</td>\n",
       "    </tr>\n",
       "  </tbody>\n",
       "</table>\n",
       "</div>"
      ],
      "text/plain": [
       "                                             full_name iata         city  \\\n",
       "1.0   Hartsfield–Jackson Atlanta International Airport  ATL      Atlanta   \n",
       "2.0              Beijing Capital International Airport  PEK      Beijing   \n",
       "3.0                        Dubai International Airport  DXB        Dubai   \n",
       "4.0                  Los Angeles International Airport  LAX  Los Angeles   \n",
       "5.0                       O'Hare International Airport  ORD      Chicago   \n",
       "6.0                                   Heathrow Airport  LHR       London   \n",
       "7.0                                     Haneda Airport  HND        Tokyo   \n",
       "8.0                    Hong Kong International Airport  HKG    Hong Kong   \n",
       "9.0              Shanghai Pudong International Airport  PVG     Shanghai   \n",
       "10.0           Charles de Gaulle International Airport  CDG        Paris   \n",
       "11.0                        Amsterdam Airport Schiphol  AMS    Amsterdam   \n",
       "\n",
       "                   country estimated_pax  \n",
       "1.0          United States   103,902,992  \n",
       "2.0                  China    95,786,442  \n",
       "3.0   United Arab Emirates    88,242,099  \n",
       "4.0          United States    84,557,968  \n",
       "5.0          United States    79,828,183  \n",
       "6.0         United Kingdom    78,014,598  \n",
       "7.0                  Japan    76,476,251  \n",
       "8.0              Hong Kong    72,665,078  \n",
       "9.0                  China    70,001,237  \n",
       "10.0                France    69,471,442  \n",
       "11.0           Netherlands    68,515,425  "
      ]
     },
     "execution_count": 15,
     "metadata": {},
     "output_type": "execute_result"
    }
   ],
   "source": [
    "data = pd.read_csv(\"./data/top_airports_basic_data.csv\", names=[\"full_name\", \"iata\", \"city\", \"country\", \"estimated_pax\"])\n",
    "print(len(data))\n",
    "data=data.dropna()\n",
    "print(len(data))\n",
    "data.head(n=11)"
   ]
  },
  {
   "cell_type": "markdown",
   "id": "5402836c",
   "metadata": {},
   "source": [
    "we now have obtain basic information for the top airports the the world. save the pdf"
   ]
  },
  {
   "cell_type": "code",
   "execution_count": null,
   "id": "885e5ac6",
   "metadata": {},
   "outputs": [],
   "source": [
    "data.to_csv(\"./data/top_airports_basic_data.csv\")"
   ]
  },
  {
   "cell_type": "markdown",
   "id": "7d03d3e2",
   "metadata": {},
   "source": [
    "#  Part 2:\n",
    "Get wikipedia urls for each iata code by using search api in wikipedia"
   ]
  },
  {
   "cell_type": "code",
   "execution_count": 21,
   "id": "c4e434bd",
   "metadata": {},
   "outputs": [
    {
     "data": {
      "text/plain": [
       "'https://en.wikipedia.org/wiki/San_Francisco_International_Airport'"
      ]
     },
     "execution_count": 21,
     "metadata": {},
     "output_type": "execute_result"
    }
   ],
   "source": [
    "#testing a function\n",
    "def get_wikipedia_url_from_iata(iata_code):\n",
    "    \"\"\"Search Wikipedia using IATA code and return the best-matching article title.\"\"\"\n",
    "    search_url = \"https://en.wikipedia.org/w/api.php\"\n",
    "    params = {\n",
    "        \"action\": \"query\",\n",
    "        \"list\": \"search\",\n",
    "        \"srsearch\": f\"{iata_code} airport\",\n",
    "        \"format\": \"json\"\n",
    "    }\n",
    "\n",
    "    response = requests.get(search_url, params=params)\n",
    "    data = response.json()\n",
    "    try:\n",
    "        raw_name = data['query']['search'][0]['title'] \n",
    "        raw_name = raw_name.replace(\" \", \"_\") #replace the raw name spaces with _\n",
    "\n",
    "        return \"https://en.wikipedia.org/wiki/\"+raw_name #format for english wiki\n",
    "    except (KeyError, IndexError):\n",
    "        return None\n",
    "    \n",
    "get_wikipedia_url_from_iata(\"LGA\")\n",
    "get_wikipedia_url_from_iata(\"DFW\")\n",
    "get_wikipedia_url_from_iata(\"LAX\")\n",
    "get_wikipedia_url_from_iata(\"SFO\")"
   ]
  },
  {
   "cell_type": "markdown",
   "id": "c190eaf8",
   "metadata": {},
   "source": [
    "now, run for all airports"
   ]
  },
  {
   "cell_type": "code",
   "execution_count": null,
   "id": "44a088ba",
   "metadata": {},
   "outputs": [],
   "source": [
    "data = pd.read_csv(\"./data/top_airports_basic_data.csv\")"
   ]
  },
  {
   "cell_type": "code",
   "execution_count": 29,
   "id": "ebcbc5c5",
   "metadata": {},
   "outputs": [
    {
     "name": "stdout",
     "output_type": "stream",
     "text": [
      "current index: 0\n"
     ]
    },
    {
     "name": "stderr",
     "output_type": "stream",
     "text": [
      "C:\\Users\\maxji\\AppData\\Local\\Temp\\ipykernel_40900\\1159726583.py:7: SettingWithCopyWarning: \n",
      "A value is trying to be set on a copy of a slice from a DataFrame\n",
      "\n",
      "See the caveats in the documentation: https://pandas.pydata.org/pandas-docs/stable/user_guide/indexing.html#returning-a-view-versus-a-copy\n",
      "  data[\"wiki_url\"][index] = url\n"
     ]
    },
    {
     "name": "stdout",
     "output_type": "stream",
     "text": [
      "current index: 1\n"
     ]
    },
    {
     "name": "stderr",
     "output_type": "stream",
     "text": [
      "C:\\Users\\maxji\\AppData\\Local\\Temp\\ipykernel_40900\\1159726583.py:7: SettingWithCopyWarning: \n",
      "A value is trying to be set on a copy of a slice from a DataFrame\n",
      "\n",
      "See the caveats in the documentation: https://pandas.pydata.org/pandas-docs/stable/user_guide/indexing.html#returning-a-view-versus-a-copy\n",
      "  data[\"wiki_url\"][index] = url\n"
     ]
    },
    {
     "name": "stdout",
     "output_type": "stream",
     "text": [
      "current index: 2\n"
     ]
    },
    {
     "name": "stderr",
     "output_type": "stream",
     "text": [
      "C:\\Users\\maxji\\AppData\\Local\\Temp\\ipykernel_40900\\1159726583.py:7: SettingWithCopyWarning: \n",
      "A value is trying to be set on a copy of a slice from a DataFrame\n",
      "\n",
      "See the caveats in the documentation: https://pandas.pydata.org/pandas-docs/stable/user_guide/indexing.html#returning-a-view-versus-a-copy\n",
      "  data[\"wiki_url\"][index] = url\n"
     ]
    },
    {
     "name": "stdout",
     "output_type": "stream",
     "text": [
      "current index: 3\n"
     ]
    },
    {
     "name": "stderr",
     "output_type": "stream",
     "text": [
      "C:\\Users\\maxji\\AppData\\Local\\Temp\\ipykernel_40900\\1159726583.py:7: SettingWithCopyWarning: \n",
      "A value is trying to be set on a copy of a slice from a DataFrame\n",
      "\n",
      "See the caveats in the documentation: https://pandas.pydata.org/pandas-docs/stable/user_guide/indexing.html#returning-a-view-versus-a-copy\n",
      "  data[\"wiki_url\"][index] = url\n"
     ]
    },
    {
     "name": "stdout",
     "output_type": "stream",
     "text": [
      "current index: 4\n"
     ]
    },
    {
     "name": "stderr",
     "output_type": "stream",
     "text": [
      "C:\\Users\\maxji\\AppData\\Local\\Temp\\ipykernel_40900\\1159726583.py:7: SettingWithCopyWarning: \n",
      "A value is trying to be set on a copy of a slice from a DataFrame\n",
      "\n",
      "See the caveats in the documentation: https://pandas.pydata.org/pandas-docs/stable/user_guide/indexing.html#returning-a-view-versus-a-copy\n",
      "  data[\"wiki_url\"][index] = url\n"
     ]
    },
    {
     "name": "stdout",
     "output_type": "stream",
     "text": [
      "current index: 5\n"
     ]
    },
    {
     "name": "stderr",
     "output_type": "stream",
     "text": [
      "C:\\Users\\maxji\\AppData\\Local\\Temp\\ipykernel_40900\\1159726583.py:7: SettingWithCopyWarning: \n",
      "A value is trying to be set on a copy of a slice from a DataFrame\n",
      "\n",
      "See the caveats in the documentation: https://pandas.pydata.org/pandas-docs/stable/user_guide/indexing.html#returning-a-view-versus-a-copy\n",
      "  data[\"wiki_url\"][index] = url\n"
     ]
    },
    {
     "name": "stdout",
     "output_type": "stream",
     "text": [
      "current index: 6\n"
     ]
    },
    {
     "name": "stderr",
     "output_type": "stream",
     "text": [
      "C:\\Users\\maxji\\AppData\\Local\\Temp\\ipykernel_40900\\1159726583.py:7: SettingWithCopyWarning: \n",
      "A value is trying to be set on a copy of a slice from a DataFrame\n",
      "\n",
      "See the caveats in the documentation: https://pandas.pydata.org/pandas-docs/stable/user_guide/indexing.html#returning-a-view-versus-a-copy\n",
      "  data[\"wiki_url\"][index] = url\n"
     ]
    },
    {
     "name": "stdout",
     "output_type": "stream",
     "text": [
      "current index: 7\n"
     ]
    },
    {
     "name": "stderr",
     "output_type": "stream",
     "text": [
      "C:\\Users\\maxji\\AppData\\Local\\Temp\\ipykernel_40900\\1159726583.py:7: SettingWithCopyWarning: \n",
      "A value is trying to be set on a copy of a slice from a DataFrame\n",
      "\n",
      "See the caveats in the documentation: https://pandas.pydata.org/pandas-docs/stable/user_guide/indexing.html#returning-a-view-versus-a-copy\n",
      "  data[\"wiki_url\"][index] = url\n"
     ]
    },
    {
     "name": "stdout",
     "output_type": "stream",
     "text": [
      "current index: 8\n"
     ]
    },
    {
     "name": "stderr",
     "output_type": "stream",
     "text": [
      "C:\\Users\\maxji\\AppData\\Local\\Temp\\ipykernel_40900\\1159726583.py:7: SettingWithCopyWarning: \n",
      "A value is trying to be set on a copy of a slice from a DataFrame\n",
      "\n",
      "See the caveats in the documentation: https://pandas.pydata.org/pandas-docs/stable/user_guide/indexing.html#returning-a-view-versus-a-copy\n",
      "  data[\"wiki_url\"][index] = url\n"
     ]
    },
    {
     "name": "stdout",
     "output_type": "stream",
     "text": [
      "current index: 9\n"
     ]
    },
    {
     "name": "stderr",
     "output_type": "stream",
     "text": [
      "C:\\Users\\maxji\\AppData\\Local\\Temp\\ipykernel_40900\\1159726583.py:7: SettingWithCopyWarning: \n",
      "A value is trying to be set on a copy of a slice from a DataFrame\n",
      "\n",
      "See the caveats in the documentation: https://pandas.pydata.org/pandas-docs/stable/user_guide/indexing.html#returning-a-view-versus-a-copy\n",
      "  data[\"wiki_url\"][index] = url\n"
     ]
    },
    {
     "name": "stdout",
     "output_type": "stream",
     "text": [
      "current index: 10\n"
     ]
    },
    {
     "name": "stderr",
     "output_type": "stream",
     "text": [
      "C:\\Users\\maxji\\AppData\\Local\\Temp\\ipykernel_40900\\1159726583.py:7: SettingWithCopyWarning: \n",
      "A value is trying to be set on a copy of a slice from a DataFrame\n",
      "\n",
      "See the caveats in the documentation: https://pandas.pydata.org/pandas-docs/stable/user_guide/indexing.html#returning-a-view-versus-a-copy\n",
      "  data[\"wiki_url\"][index] = url\n"
     ]
    },
    {
     "name": "stdout",
     "output_type": "stream",
     "text": [
      "current index: 11\n"
     ]
    },
    {
     "name": "stderr",
     "output_type": "stream",
     "text": [
      "C:\\Users\\maxji\\AppData\\Local\\Temp\\ipykernel_40900\\1159726583.py:7: SettingWithCopyWarning: \n",
      "A value is trying to be set on a copy of a slice from a DataFrame\n",
      "\n",
      "See the caveats in the documentation: https://pandas.pydata.org/pandas-docs/stable/user_guide/indexing.html#returning-a-view-versus-a-copy\n",
      "  data[\"wiki_url\"][index] = url\n"
     ]
    },
    {
     "name": "stdout",
     "output_type": "stream",
     "text": [
      "current index: 12\n"
     ]
    },
    {
     "name": "stderr",
     "output_type": "stream",
     "text": [
      "C:\\Users\\maxji\\AppData\\Local\\Temp\\ipykernel_40900\\1159726583.py:7: SettingWithCopyWarning: \n",
      "A value is trying to be set on a copy of a slice from a DataFrame\n",
      "\n",
      "See the caveats in the documentation: https://pandas.pydata.org/pandas-docs/stable/user_guide/indexing.html#returning-a-view-versus-a-copy\n",
      "  data[\"wiki_url\"][index] = url\n"
     ]
    },
    {
     "name": "stdout",
     "output_type": "stream",
     "text": [
      "current index: 13\n"
     ]
    },
    {
     "name": "stderr",
     "output_type": "stream",
     "text": [
      "C:\\Users\\maxji\\AppData\\Local\\Temp\\ipykernel_40900\\1159726583.py:7: SettingWithCopyWarning: \n",
      "A value is trying to be set on a copy of a slice from a DataFrame\n",
      "\n",
      "See the caveats in the documentation: https://pandas.pydata.org/pandas-docs/stable/user_guide/indexing.html#returning-a-view-versus-a-copy\n",
      "  data[\"wiki_url\"][index] = url\n"
     ]
    },
    {
     "name": "stdout",
     "output_type": "stream",
     "text": [
      "current index: 14\n"
     ]
    },
    {
     "name": "stderr",
     "output_type": "stream",
     "text": [
      "C:\\Users\\maxji\\AppData\\Local\\Temp\\ipykernel_40900\\1159726583.py:7: SettingWithCopyWarning: \n",
      "A value is trying to be set on a copy of a slice from a DataFrame\n",
      "\n",
      "See the caveats in the documentation: https://pandas.pydata.org/pandas-docs/stable/user_guide/indexing.html#returning-a-view-versus-a-copy\n",
      "  data[\"wiki_url\"][index] = url\n"
     ]
    },
    {
     "name": "stdout",
     "output_type": "stream",
     "text": [
      "current index: 15\n"
     ]
    },
    {
     "name": "stderr",
     "output_type": "stream",
     "text": [
      "C:\\Users\\maxji\\AppData\\Local\\Temp\\ipykernel_40900\\1159726583.py:7: SettingWithCopyWarning: \n",
      "A value is trying to be set on a copy of a slice from a DataFrame\n",
      "\n",
      "See the caveats in the documentation: https://pandas.pydata.org/pandas-docs/stable/user_guide/indexing.html#returning-a-view-versus-a-copy\n",
      "  data[\"wiki_url\"][index] = url\n"
     ]
    },
    {
     "name": "stdout",
     "output_type": "stream",
     "text": [
      "current index: 16\n"
     ]
    },
    {
     "name": "stderr",
     "output_type": "stream",
     "text": [
      "C:\\Users\\maxji\\AppData\\Local\\Temp\\ipykernel_40900\\1159726583.py:7: SettingWithCopyWarning: \n",
      "A value is trying to be set on a copy of a slice from a DataFrame\n",
      "\n",
      "See the caveats in the documentation: https://pandas.pydata.org/pandas-docs/stable/user_guide/indexing.html#returning-a-view-versus-a-copy\n",
      "  data[\"wiki_url\"][index] = url\n"
     ]
    },
    {
     "name": "stdout",
     "output_type": "stream",
     "text": [
      "current index: 17\n"
     ]
    },
    {
     "name": "stderr",
     "output_type": "stream",
     "text": [
      "C:\\Users\\maxji\\AppData\\Local\\Temp\\ipykernel_40900\\1159726583.py:7: SettingWithCopyWarning: \n",
      "A value is trying to be set on a copy of a slice from a DataFrame\n",
      "\n",
      "See the caveats in the documentation: https://pandas.pydata.org/pandas-docs/stable/user_guide/indexing.html#returning-a-view-versus-a-copy\n",
      "  data[\"wiki_url\"][index] = url\n"
     ]
    },
    {
     "name": "stdout",
     "output_type": "stream",
     "text": [
      "current index: 18\n"
     ]
    },
    {
     "name": "stderr",
     "output_type": "stream",
     "text": [
      "C:\\Users\\maxji\\AppData\\Local\\Temp\\ipykernel_40900\\1159726583.py:7: SettingWithCopyWarning: \n",
      "A value is trying to be set on a copy of a slice from a DataFrame\n",
      "\n",
      "See the caveats in the documentation: https://pandas.pydata.org/pandas-docs/stable/user_guide/indexing.html#returning-a-view-versus-a-copy\n",
      "  data[\"wiki_url\"][index] = url\n"
     ]
    },
    {
     "name": "stdout",
     "output_type": "stream",
     "text": [
      "current index: 19\n"
     ]
    },
    {
     "name": "stderr",
     "output_type": "stream",
     "text": [
      "C:\\Users\\maxji\\AppData\\Local\\Temp\\ipykernel_40900\\1159726583.py:7: SettingWithCopyWarning: \n",
      "A value is trying to be set on a copy of a slice from a DataFrame\n",
      "\n",
      "See the caveats in the documentation: https://pandas.pydata.org/pandas-docs/stable/user_guide/indexing.html#returning-a-view-versus-a-copy\n",
      "  data[\"wiki_url\"][index] = url\n"
     ]
    },
    {
     "name": "stdout",
     "output_type": "stream",
     "text": [
      "current index: 20\n"
     ]
    },
    {
     "name": "stderr",
     "output_type": "stream",
     "text": [
      "C:\\Users\\maxji\\AppData\\Local\\Temp\\ipykernel_40900\\1159726583.py:7: SettingWithCopyWarning: \n",
      "A value is trying to be set on a copy of a slice from a DataFrame\n",
      "\n",
      "See the caveats in the documentation: https://pandas.pydata.org/pandas-docs/stable/user_guide/indexing.html#returning-a-view-versus-a-copy\n",
      "  data[\"wiki_url\"][index] = url\n"
     ]
    },
    {
     "name": "stdout",
     "output_type": "stream",
     "text": [
      "current index: 21\n"
     ]
    },
    {
     "name": "stderr",
     "output_type": "stream",
     "text": [
      "C:\\Users\\maxji\\AppData\\Local\\Temp\\ipykernel_40900\\1159726583.py:7: SettingWithCopyWarning: \n",
      "A value is trying to be set on a copy of a slice from a DataFrame\n",
      "\n",
      "See the caveats in the documentation: https://pandas.pydata.org/pandas-docs/stable/user_guide/indexing.html#returning-a-view-versus-a-copy\n",
      "  data[\"wiki_url\"][index] = url\n"
     ]
    },
    {
     "name": "stdout",
     "output_type": "stream",
     "text": [
      "current index: 22\n"
     ]
    },
    {
     "name": "stderr",
     "output_type": "stream",
     "text": [
      "C:\\Users\\maxji\\AppData\\Local\\Temp\\ipykernel_40900\\1159726583.py:7: SettingWithCopyWarning: \n",
      "A value is trying to be set on a copy of a slice from a DataFrame\n",
      "\n",
      "See the caveats in the documentation: https://pandas.pydata.org/pandas-docs/stable/user_guide/indexing.html#returning-a-view-versus-a-copy\n",
      "  data[\"wiki_url\"][index] = url\n"
     ]
    },
    {
     "name": "stdout",
     "output_type": "stream",
     "text": [
      "current index: 23\n"
     ]
    },
    {
     "name": "stderr",
     "output_type": "stream",
     "text": [
      "C:\\Users\\maxji\\AppData\\Local\\Temp\\ipykernel_40900\\1159726583.py:7: SettingWithCopyWarning: \n",
      "A value is trying to be set on a copy of a slice from a DataFrame\n",
      "\n",
      "See the caveats in the documentation: https://pandas.pydata.org/pandas-docs/stable/user_guide/indexing.html#returning-a-view-versus-a-copy\n",
      "  data[\"wiki_url\"][index] = url\n"
     ]
    },
    {
     "name": "stdout",
     "output_type": "stream",
     "text": [
      "current index: 24\n"
     ]
    },
    {
     "name": "stderr",
     "output_type": "stream",
     "text": [
      "C:\\Users\\maxji\\AppData\\Local\\Temp\\ipykernel_40900\\1159726583.py:7: SettingWithCopyWarning: \n",
      "A value is trying to be set on a copy of a slice from a DataFrame\n",
      "\n",
      "See the caveats in the documentation: https://pandas.pydata.org/pandas-docs/stable/user_guide/indexing.html#returning-a-view-versus-a-copy\n",
      "  data[\"wiki_url\"][index] = url\n"
     ]
    },
    {
     "name": "stdout",
     "output_type": "stream",
     "text": [
      "current index: 25\n"
     ]
    },
    {
     "name": "stderr",
     "output_type": "stream",
     "text": [
      "C:\\Users\\maxji\\AppData\\Local\\Temp\\ipykernel_40900\\1159726583.py:7: SettingWithCopyWarning: \n",
      "A value is trying to be set on a copy of a slice from a DataFrame\n",
      "\n",
      "See the caveats in the documentation: https://pandas.pydata.org/pandas-docs/stable/user_guide/indexing.html#returning-a-view-versus-a-copy\n",
      "  data[\"wiki_url\"][index] = url\n"
     ]
    },
    {
     "name": "stdout",
     "output_type": "stream",
     "text": [
      "current index: 26\n"
     ]
    },
    {
     "name": "stderr",
     "output_type": "stream",
     "text": [
      "C:\\Users\\maxji\\AppData\\Local\\Temp\\ipykernel_40900\\1159726583.py:7: SettingWithCopyWarning: \n",
      "A value is trying to be set on a copy of a slice from a DataFrame\n",
      "\n",
      "See the caveats in the documentation: https://pandas.pydata.org/pandas-docs/stable/user_guide/indexing.html#returning-a-view-versus-a-copy\n",
      "  data[\"wiki_url\"][index] = url\n"
     ]
    },
    {
     "name": "stdout",
     "output_type": "stream",
     "text": [
      "current index: 27\n"
     ]
    },
    {
     "name": "stderr",
     "output_type": "stream",
     "text": [
      "C:\\Users\\maxji\\AppData\\Local\\Temp\\ipykernel_40900\\1159726583.py:7: SettingWithCopyWarning: \n",
      "A value is trying to be set on a copy of a slice from a DataFrame\n",
      "\n",
      "See the caveats in the documentation: https://pandas.pydata.org/pandas-docs/stable/user_guide/indexing.html#returning-a-view-versus-a-copy\n",
      "  data[\"wiki_url\"][index] = url\n"
     ]
    },
    {
     "name": "stdout",
     "output_type": "stream",
     "text": [
      "current index: 28\n"
     ]
    },
    {
     "name": "stderr",
     "output_type": "stream",
     "text": [
      "C:\\Users\\maxji\\AppData\\Local\\Temp\\ipykernel_40900\\1159726583.py:7: SettingWithCopyWarning: \n",
      "A value is trying to be set on a copy of a slice from a DataFrame\n",
      "\n",
      "See the caveats in the documentation: https://pandas.pydata.org/pandas-docs/stable/user_guide/indexing.html#returning-a-view-versus-a-copy\n",
      "  data[\"wiki_url\"][index] = url\n"
     ]
    },
    {
     "name": "stdout",
     "output_type": "stream",
     "text": [
      "current index: 29\n"
     ]
    },
    {
     "name": "stderr",
     "output_type": "stream",
     "text": [
      "C:\\Users\\maxji\\AppData\\Local\\Temp\\ipykernel_40900\\1159726583.py:7: SettingWithCopyWarning: \n",
      "A value is trying to be set on a copy of a slice from a DataFrame\n",
      "\n",
      "See the caveats in the documentation: https://pandas.pydata.org/pandas-docs/stable/user_guide/indexing.html#returning-a-view-versus-a-copy\n",
      "  data[\"wiki_url\"][index] = url\n"
     ]
    },
    {
     "name": "stdout",
     "output_type": "stream",
     "text": [
      "current index: 30\n"
     ]
    },
    {
     "name": "stderr",
     "output_type": "stream",
     "text": [
      "C:\\Users\\maxji\\AppData\\Local\\Temp\\ipykernel_40900\\1159726583.py:7: SettingWithCopyWarning: \n",
      "A value is trying to be set on a copy of a slice from a DataFrame\n",
      "\n",
      "See the caveats in the documentation: https://pandas.pydata.org/pandas-docs/stable/user_guide/indexing.html#returning-a-view-versus-a-copy\n",
      "  data[\"wiki_url\"][index] = url\n"
     ]
    },
    {
     "name": "stdout",
     "output_type": "stream",
     "text": [
      "current index: 31\n"
     ]
    },
    {
     "name": "stderr",
     "output_type": "stream",
     "text": [
      "C:\\Users\\maxji\\AppData\\Local\\Temp\\ipykernel_40900\\1159726583.py:7: SettingWithCopyWarning: \n",
      "A value is trying to be set on a copy of a slice from a DataFrame\n",
      "\n",
      "See the caveats in the documentation: https://pandas.pydata.org/pandas-docs/stable/user_guide/indexing.html#returning-a-view-versus-a-copy\n",
      "  data[\"wiki_url\"][index] = url\n"
     ]
    },
    {
     "name": "stdout",
     "output_type": "stream",
     "text": [
      "current index: 32\n"
     ]
    },
    {
     "name": "stderr",
     "output_type": "stream",
     "text": [
      "C:\\Users\\maxji\\AppData\\Local\\Temp\\ipykernel_40900\\1159726583.py:7: SettingWithCopyWarning: \n",
      "A value is trying to be set on a copy of a slice from a DataFrame\n",
      "\n",
      "See the caveats in the documentation: https://pandas.pydata.org/pandas-docs/stable/user_guide/indexing.html#returning-a-view-versus-a-copy\n",
      "  data[\"wiki_url\"][index] = url\n"
     ]
    },
    {
     "name": "stdout",
     "output_type": "stream",
     "text": [
      "current index: 33\n"
     ]
    },
    {
     "name": "stderr",
     "output_type": "stream",
     "text": [
      "C:\\Users\\maxji\\AppData\\Local\\Temp\\ipykernel_40900\\1159726583.py:7: SettingWithCopyWarning: \n",
      "A value is trying to be set on a copy of a slice from a DataFrame\n",
      "\n",
      "See the caveats in the documentation: https://pandas.pydata.org/pandas-docs/stable/user_guide/indexing.html#returning-a-view-versus-a-copy\n",
      "  data[\"wiki_url\"][index] = url\n"
     ]
    },
    {
     "name": "stdout",
     "output_type": "stream",
     "text": [
      "current index: 34\n"
     ]
    },
    {
     "name": "stderr",
     "output_type": "stream",
     "text": [
      "C:\\Users\\maxji\\AppData\\Local\\Temp\\ipykernel_40900\\1159726583.py:7: SettingWithCopyWarning: \n",
      "A value is trying to be set on a copy of a slice from a DataFrame\n",
      "\n",
      "See the caveats in the documentation: https://pandas.pydata.org/pandas-docs/stable/user_guide/indexing.html#returning-a-view-versus-a-copy\n",
      "  data[\"wiki_url\"][index] = url\n"
     ]
    },
    {
     "name": "stdout",
     "output_type": "stream",
     "text": [
      "current index: 35\n"
     ]
    },
    {
     "name": "stderr",
     "output_type": "stream",
     "text": [
      "C:\\Users\\maxji\\AppData\\Local\\Temp\\ipykernel_40900\\1159726583.py:7: SettingWithCopyWarning: \n",
      "A value is trying to be set on a copy of a slice from a DataFrame\n",
      "\n",
      "See the caveats in the documentation: https://pandas.pydata.org/pandas-docs/stable/user_guide/indexing.html#returning-a-view-versus-a-copy\n",
      "  data[\"wiki_url\"][index] = url\n"
     ]
    },
    {
     "name": "stdout",
     "output_type": "stream",
     "text": [
      "current index: 36\n"
     ]
    },
    {
     "name": "stderr",
     "output_type": "stream",
     "text": [
      "C:\\Users\\maxji\\AppData\\Local\\Temp\\ipykernel_40900\\1159726583.py:7: SettingWithCopyWarning: \n",
      "A value is trying to be set on a copy of a slice from a DataFrame\n",
      "\n",
      "See the caveats in the documentation: https://pandas.pydata.org/pandas-docs/stable/user_guide/indexing.html#returning-a-view-versus-a-copy\n",
      "  data[\"wiki_url\"][index] = url\n"
     ]
    },
    {
     "name": "stdout",
     "output_type": "stream",
     "text": [
      "current index: 37\n"
     ]
    },
    {
     "name": "stderr",
     "output_type": "stream",
     "text": [
      "C:\\Users\\maxji\\AppData\\Local\\Temp\\ipykernel_40900\\1159726583.py:7: SettingWithCopyWarning: \n",
      "A value is trying to be set on a copy of a slice from a DataFrame\n",
      "\n",
      "See the caveats in the documentation: https://pandas.pydata.org/pandas-docs/stable/user_guide/indexing.html#returning-a-view-versus-a-copy\n",
      "  data[\"wiki_url\"][index] = url\n"
     ]
    },
    {
     "name": "stdout",
     "output_type": "stream",
     "text": [
      "current index: 38\n"
     ]
    },
    {
     "name": "stderr",
     "output_type": "stream",
     "text": [
      "C:\\Users\\maxji\\AppData\\Local\\Temp\\ipykernel_40900\\1159726583.py:7: SettingWithCopyWarning: \n",
      "A value is trying to be set on a copy of a slice from a DataFrame\n",
      "\n",
      "See the caveats in the documentation: https://pandas.pydata.org/pandas-docs/stable/user_guide/indexing.html#returning-a-view-versus-a-copy\n",
      "  data[\"wiki_url\"][index] = url\n"
     ]
    },
    {
     "name": "stdout",
     "output_type": "stream",
     "text": [
      "current index: 39\n"
     ]
    },
    {
     "name": "stderr",
     "output_type": "stream",
     "text": [
      "C:\\Users\\maxji\\AppData\\Local\\Temp\\ipykernel_40900\\1159726583.py:7: SettingWithCopyWarning: \n",
      "A value is trying to be set on a copy of a slice from a DataFrame\n",
      "\n",
      "See the caveats in the documentation: https://pandas.pydata.org/pandas-docs/stable/user_guide/indexing.html#returning-a-view-versus-a-copy\n",
      "  data[\"wiki_url\"][index] = url\n"
     ]
    },
    {
     "name": "stdout",
     "output_type": "stream",
     "text": [
      "current index: 40\n"
     ]
    },
    {
     "name": "stderr",
     "output_type": "stream",
     "text": [
      "C:\\Users\\maxji\\AppData\\Local\\Temp\\ipykernel_40900\\1159726583.py:7: SettingWithCopyWarning: \n",
      "A value is trying to be set on a copy of a slice from a DataFrame\n",
      "\n",
      "See the caveats in the documentation: https://pandas.pydata.org/pandas-docs/stable/user_guide/indexing.html#returning-a-view-versus-a-copy\n",
      "  data[\"wiki_url\"][index] = url\n"
     ]
    },
    {
     "name": "stdout",
     "output_type": "stream",
     "text": [
      "current index: 41\n"
     ]
    },
    {
     "name": "stderr",
     "output_type": "stream",
     "text": [
      "C:\\Users\\maxji\\AppData\\Local\\Temp\\ipykernel_40900\\1159726583.py:7: SettingWithCopyWarning: \n",
      "A value is trying to be set on a copy of a slice from a DataFrame\n",
      "\n",
      "See the caveats in the documentation: https://pandas.pydata.org/pandas-docs/stable/user_guide/indexing.html#returning-a-view-versus-a-copy\n",
      "  data[\"wiki_url\"][index] = url\n"
     ]
    },
    {
     "name": "stdout",
     "output_type": "stream",
     "text": [
      "current index: 42\n"
     ]
    },
    {
     "name": "stderr",
     "output_type": "stream",
     "text": [
      "C:\\Users\\maxji\\AppData\\Local\\Temp\\ipykernel_40900\\1159726583.py:7: SettingWithCopyWarning: \n",
      "A value is trying to be set on a copy of a slice from a DataFrame\n",
      "\n",
      "See the caveats in the documentation: https://pandas.pydata.org/pandas-docs/stable/user_guide/indexing.html#returning-a-view-versus-a-copy\n",
      "  data[\"wiki_url\"][index] = url\n"
     ]
    },
    {
     "name": "stdout",
     "output_type": "stream",
     "text": [
      "current index: 43\n"
     ]
    },
    {
     "name": "stderr",
     "output_type": "stream",
     "text": [
      "C:\\Users\\maxji\\AppData\\Local\\Temp\\ipykernel_40900\\1159726583.py:7: SettingWithCopyWarning: \n",
      "A value is trying to be set on a copy of a slice from a DataFrame\n",
      "\n",
      "See the caveats in the documentation: https://pandas.pydata.org/pandas-docs/stable/user_guide/indexing.html#returning-a-view-versus-a-copy\n",
      "  data[\"wiki_url\"][index] = url\n"
     ]
    },
    {
     "name": "stdout",
     "output_type": "stream",
     "text": [
      "current index: 44\n"
     ]
    },
    {
     "name": "stderr",
     "output_type": "stream",
     "text": [
      "C:\\Users\\maxji\\AppData\\Local\\Temp\\ipykernel_40900\\1159726583.py:7: SettingWithCopyWarning: \n",
      "A value is trying to be set on a copy of a slice from a DataFrame\n",
      "\n",
      "See the caveats in the documentation: https://pandas.pydata.org/pandas-docs/stable/user_guide/indexing.html#returning-a-view-versus-a-copy\n",
      "  data[\"wiki_url\"][index] = url\n"
     ]
    },
    {
     "name": "stdout",
     "output_type": "stream",
     "text": [
      "current index: 45\n"
     ]
    },
    {
     "name": "stderr",
     "output_type": "stream",
     "text": [
      "C:\\Users\\maxji\\AppData\\Local\\Temp\\ipykernel_40900\\1159726583.py:7: SettingWithCopyWarning: \n",
      "A value is trying to be set on a copy of a slice from a DataFrame\n",
      "\n",
      "See the caveats in the documentation: https://pandas.pydata.org/pandas-docs/stable/user_guide/indexing.html#returning-a-view-versus-a-copy\n",
      "  data[\"wiki_url\"][index] = url\n"
     ]
    },
    {
     "name": "stdout",
     "output_type": "stream",
     "text": [
      "current index: 46\n"
     ]
    },
    {
     "name": "stderr",
     "output_type": "stream",
     "text": [
      "C:\\Users\\maxji\\AppData\\Local\\Temp\\ipykernel_40900\\1159726583.py:7: SettingWithCopyWarning: \n",
      "A value is trying to be set on a copy of a slice from a DataFrame\n",
      "\n",
      "See the caveats in the documentation: https://pandas.pydata.org/pandas-docs/stable/user_guide/indexing.html#returning-a-view-versus-a-copy\n",
      "  data[\"wiki_url\"][index] = url\n"
     ]
    },
    {
     "name": "stdout",
     "output_type": "stream",
     "text": [
      "current index: 47\n"
     ]
    },
    {
     "name": "stderr",
     "output_type": "stream",
     "text": [
      "C:\\Users\\maxji\\AppData\\Local\\Temp\\ipykernel_40900\\1159726583.py:7: SettingWithCopyWarning: \n",
      "A value is trying to be set on a copy of a slice from a DataFrame\n",
      "\n",
      "See the caveats in the documentation: https://pandas.pydata.org/pandas-docs/stable/user_guide/indexing.html#returning-a-view-versus-a-copy\n",
      "  data[\"wiki_url\"][index] = url\n"
     ]
    },
    {
     "name": "stdout",
     "output_type": "stream",
     "text": [
      "current index: 48\n"
     ]
    },
    {
     "name": "stderr",
     "output_type": "stream",
     "text": [
      "C:\\Users\\maxji\\AppData\\Local\\Temp\\ipykernel_40900\\1159726583.py:7: SettingWithCopyWarning: \n",
      "A value is trying to be set on a copy of a slice from a DataFrame\n",
      "\n",
      "See the caveats in the documentation: https://pandas.pydata.org/pandas-docs/stable/user_guide/indexing.html#returning-a-view-versus-a-copy\n",
      "  data[\"wiki_url\"][index] = url\n"
     ]
    },
    {
     "name": "stdout",
     "output_type": "stream",
     "text": [
      "current index: 49\n"
     ]
    },
    {
     "name": "stderr",
     "output_type": "stream",
     "text": [
      "C:\\Users\\maxji\\AppData\\Local\\Temp\\ipykernel_40900\\1159726583.py:7: SettingWithCopyWarning: \n",
      "A value is trying to be set on a copy of a slice from a DataFrame\n",
      "\n",
      "See the caveats in the documentation: https://pandas.pydata.org/pandas-docs/stable/user_guide/indexing.html#returning-a-view-versus-a-copy\n",
      "  data[\"wiki_url\"][index] = url\n"
     ]
    },
    {
     "name": "stdout",
     "output_type": "stream",
     "text": [
      "current index: 50\n"
     ]
    },
    {
     "name": "stderr",
     "output_type": "stream",
     "text": [
      "C:\\Users\\maxji\\AppData\\Local\\Temp\\ipykernel_40900\\1159726583.py:7: SettingWithCopyWarning: \n",
      "A value is trying to be set on a copy of a slice from a DataFrame\n",
      "\n",
      "See the caveats in the documentation: https://pandas.pydata.org/pandas-docs/stable/user_guide/indexing.html#returning-a-view-versus-a-copy\n",
      "  data[\"wiki_url\"][index] = url\n"
     ]
    },
    {
     "name": "stdout",
     "output_type": "stream",
     "text": [
      "current index: 51\n"
     ]
    },
    {
     "name": "stderr",
     "output_type": "stream",
     "text": [
      "C:\\Users\\maxji\\AppData\\Local\\Temp\\ipykernel_40900\\1159726583.py:7: SettingWithCopyWarning: \n",
      "A value is trying to be set on a copy of a slice from a DataFrame\n",
      "\n",
      "See the caveats in the documentation: https://pandas.pydata.org/pandas-docs/stable/user_guide/indexing.html#returning-a-view-versus-a-copy\n",
      "  data[\"wiki_url\"][index] = url\n"
     ]
    },
    {
     "name": "stdout",
     "output_type": "stream",
     "text": [
      "current index: 52\n"
     ]
    },
    {
     "name": "stderr",
     "output_type": "stream",
     "text": [
      "C:\\Users\\maxji\\AppData\\Local\\Temp\\ipykernel_40900\\1159726583.py:7: SettingWithCopyWarning: \n",
      "A value is trying to be set on a copy of a slice from a DataFrame\n",
      "\n",
      "See the caveats in the documentation: https://pandas.pydata.org/pandas-docs/stable/user_guide/indexing.html#returning-a-view-versus-a-copy\n",
      "  data[\"wiki_url\"][index] = url\n"
     ]
    },
    {
     "name": "stdout",
     "output_type": "stream",
     "text": [
      "current index: 53\n"
     ]
    },
    {
     "name": "stderr",
     "output_type": "stream",
     "text": [
      "C:\\Users\\maxji\\AppData\\Local\\Temp\\ipykernel_40900\\1159726583.py:7: SettingWithCopyWarning: \n",
      "A value is trying to be set on a copy of a slice from a DataFrame\n",
      "\n",
      "See the caveats in the documentation: https://pandas.pydata.org/pandas-docs/stable/user_guide/indexing.html#returning-a-view-versus-a-copy\n",
      "  data[\"wiki_url\"][index] = url\n"
     ]
    },
    {
     "name": "stdout",
     "output_type": "stream",
     "text": [
      "current index: 54\n"
     ]
    },
    {
     "name": "stderr",
     "output_type": "stream",
     "text": [
      "C:\\Users\\maxji\\AppData\\Local\\Temp\\ipykernel_40900\\1159726583.py:7: SettingWithCopyWarning: \n",
      "A value is trying to be set on a copy of a slice from a DataFrame\n",
      "\n",
      "See the caveats in the documentation: https://pandas.pydata.org/pandas-docs/stable/user_guide/indexing.html#returning-a-view-versus-a-copy\n",
      "  data[\"wiki_url\"][index] = url\n"
     ]
    },
    {
     "name": "stdout",
     "output_type": "stream",
     "text": [
      "current index: 55\n"
     ]
    },
    {
     "name": "stderr",
     "output_type": "stream",
     "text": [
      "C:\\Users\\maxji\\AppData\\Local\\Temp\\ipykernel_40900\\1159726583.py:7: SettingWithCopyWarning: \n",
      "A value is trying to be set on a copy of a slice from a DataFrame\n",
      "\n",
      "See the caveats in the documentation: https://pandas.pydata.org/pandas-docs/stable/user_guide/indexing.html#returning-a-view-versus-a-copy\n",
      "  data[\"wiki_url\"][index] = url\n"
     ]
    },
    {
     "name": "stdout",
     "output_type": "stream",
     "text": [
      "current index: 56\n"
     ]
    },
    {
     "name": "stderr",
     "output_type": "stream",
     "text": [
      "C:\\Users\\maxji\\AppData\\Local\\Temp\\ipykernel_40900\\1159726583.py:7: SettingWithCopyWarning: \n",
      "A value is trying to be set on a copy of a slice from a DataFrame\n",
      "\n",
      "See the caveats in the documentation: https://pandas.pydata.org/pandas-docs/stable/user_guide/indexing.html#returning-a-view-versus-a-copy\n",
      "  data[\"wiki_url\"][index] = url\n"
     ]
    },
    {
     "name": "stdout",
     "output_type": "stream",
     "text": [
      "current index: 57\n"
     ]
    },
    {
     "name": "stderr",
     "output_type": "stream",
     "text": [
      "C:\\Users\\maxji\\AppData\\Local\\Temp\\ipykernel_40900\\1159726583.py:7: SettingWithCopyWarning: \n",
      "A value is trying to be set on a copy of a slice from a DataFrame\n",
      "\n",
      "See the caveats in the documentation: https://pandas.pydata.org/pandas-docs/stable/user_guide/indexing.html#returning-a-view-versus-a-copy\n",
      "  data[\"wiki_url\"][index] = url\n"
     ]
    },
    {
     "name": "stdout",
     "output_type": "stream",
     "text": [
      "current index: 58\n"
     ]
    },
    {
     "name": "stderr",
     "output_type": "stream",
     "text": [
      "C:\\Users\\maxji\\AppData\\Local\\Temp\\ipykernel_40900\\1159726583.py:7: SettingWithCopyWarning: \n",
      "A value is trying to be set on a copy of a slice from a DataFrame\n",
      "\n",
      "See the caveats in the documentation: https://pandas.pydata.org/pandas-docs/stable/user_guide/indexing.html#returning-a-view-versus-a-copy\n",
      "  data[\"wiki_url\"][index] = url\n"
     ]
    },
    {
     "name": "stdout",
     "output_type": "stream",
     "text": [
      "current index: 59\n"
     ]
    },
    {
     "name": "stderr",
     "output_type": "stream",
     "text": [
      "C:\\Users\\maxji\\AppData\\Local\\Temp\\ipykernel_40900\\1159726583.py:7: SettingWithCopyWarning: \n",
      "A value is trying to be set on a copy of a slice from a DataFrame\n",
      "\n",
      "See the caveats in the documentation: https://pandas.pydata.org/pandas-docs/stable/user_guide/indexing.html#returning-a-view-versus-a-copy\n",
      "  data[\"wiki_url\"][index] = url\n"
     ]
    },
    {
     "name": "stdout",
     "output_type": "stream",
     "text": [
      "current index: 60\n"
     ]
    },
    {
     "name": "stderr",
     "output_type": "stream",
     "text": [
      "C:\\Users\\maxji\\AppData\\Local\\Temp\\ipykernel_40900\\1159726583.py:7: SettingWithCopyWarning: \n",
      "A value is trying to be set on a copy of a slice from a DataFrame\n",
      "\n",
      "See the caveats in the documentation: https://pandas.pydata.org/pandas-docs/stable/user_guide/indexing.html#returning-a-view-versus-a-copy\n",
      "  data[\"wiki_url\"][index] = url\n"
     ]
    },
    {
     "name": "stdout",
     "output_type": "stream",
     "text": [
      "current index: 61\n"
     ]
    },
    {
     "name": "stderr",
     "output_type": "stream",
     "text": [
      "C:\\Users\\maxji\\AppData\\Local\\Temp\\ipykernel_40900\\1159726583.py:7: SettingWithCopyWarning: \n",
      "A value is trying to be set on a copy of a slice from a DataFrame\n",
      "\n",
      "See the caveats in the documentation: https://pandas.pydata.org/pandas-docs/stable/user_guide/indexing.html#returning-a-view-versus-a-copy\n",
      "  data[\"wiki_url\"][index] = url\n"
     ]
    },
    {
     "name": "stdout",
     "output_type": "stream",
     "text": [
      "current index: 62\n"
     ]
    },
    {
     "name": "stderr",
     "output_type": "stream",
     "text": [
      "C:\\Users\\maxji\\AppData\\Local\\Temp\\ipykernel_40900\\1159726583.py:7: SettingWithCopyWarning: \n",
      "A value is trying to be set on a copy of a slice from a DataFrame\n",
      "\n",
      "See the caveats in the documentation: https://pandas.pydata.org/pandas-docs/stable/user_guide/indexing.html#returning-a-view-versus-a-copy\n",
      "  data[\"wiki_url\"][index] = url\n"
     ]
    },
    {
     "name": "stdout",
     "output_type": "stream",
     "text": [
      "current index: 63\n"
     ]
    },
    {
     "name": "stderr",
     "output_type": "stream",
     "text": [
      "C:\\Users\\maxji\\AppData\\Local\\Temp\\ipykernel_40900\\1159726583.py:7: SettingWithCopyWarning: \n",
      "A value is trying to be set on a copy of a slice from a DataFrame\n",
      "\n",
      "See the caveats in the documentation: https://pandas.pydata.org/pandas-docs/stable/user_guide/indexing.html#returning-a-view-versus-a-copy\n",
      "  data[\"wiki_url\"][index] = url\n"
     ]
    },
    {
     "name": "stdout",
     "output_type": "stream",
     "text": [
      "current index: 64\n"
     ]
    },
    {
     "name": "stderr",
     "output_type": "stream",
     "text": [
      "C:\\Users\\maxji\\AppData\\Local\\Temp\\ipykernel_40900\\1159726583.py:7: SettingWithCopyWarning: \n",
      "A value is trying to be set on a copy of a slice from a DataFrame\n",
      "\n",
      "See the caveats in the documentation: https://pandas.pydata.org/pandas-docs/stable/user_guide/indexing.html#returning-a-view-versus-a-copy\n",
      "  data[\"wiki_url\"][index] = url\n"
     ]
    },
    {
     "name": "stdout",
     "output_type": "stream",
     "text": [
      "current index: 65\n"
     ]
    },
    {
     "name": "stderr",
     "output_type": "stream",
     "text": [
      "C:\\Users\\maxji\\AppData\\Local\\Temp\\ipykernel_40900\\1159726583.py:7: SettingWithCopyWarning: \n",
      "A value is trying to be set on a copy of a slice from a DataFrame\n",
      "\n",
      "See the caveats in the documentation: https://pandas.pydata.org/pandas-docs/stable/user_guide/indexing.html#returning-a-view-versus-a-copy\n",
      "  data[\"wiki_url\"][index] = url\n"
     ]
    },
    {
     "name": "stdout",
     "output_type": "stream",
     "text": [
      "current index: 66\n"
     ]
    },
    {
     "name": "stderr",
     "output_type": "stream",
     "text": [
      "C:\\Users\\maxji\\AppData\\Local\\Temp\\ipykernel_40900\\1159726583.py:7: SettingWithCopyWarning: \n",
      "A value is trying to be set on a copy of a slice from a DataFrame\n",
      "\n",
      "See the caveats in the documentation: https://pandas.pydata.org/pandas-docs/stable/user_guide/indexing.html#returning-a-view-versus-a-copy\n",
      "  data[\"wiki_url\"][index] = url\n"
     ]
    },
    {
     "name": "stdout",
     "output_type": "stream",
     "text": [
      "current index: 67\n"
     ]
    },
    {
     "name": "stderr",
     "output_type": "stream",
     "text": [
      "C:\\Users\\maxji\\AppData\\Local\\Temp\\ipykernel_40900\\1159726583.py:7: SettingWithCopyWarning: \n",
      "A value is trying to be set on a copy of a slice from a DataFrame\n",
      "\n",
      "See the caveats in the documentation: https://pandas.pydata.org/pandas-docs/stable/user_guide/indexing.html#returning-a-view-versus-a-copy\n",
      "  data[\"wiki_url\"][index] = url\n"
     ]
    },
    {
     "name": "stdout",
     "output_type": "stream",
     "text": [
      "current index: 68\n"
     ]
    },
    {
     "name": "stderr",
     "output_type": "stream",
     "text": [
      "C:\\Users\\maxji\\AppData\\Local\\Temp\\ipykernel_40900\\1159726583.py:7: SettingWithCopyWarning: \n",
      "A value is trying to be set on a copy of a slice from a DataFrame\n",
      "\n",
      "See the caveats in the documentation: https://pandas.pydata.org/pandas-docs/stable/user_guide/indexing.html#returning-a-view-versus-a-copy\n",
      "  data[\"wiki_url\"][index] = url\n"
     ]
    },
    {
     "name": "stdout",
     "output_type": "stream",
     "text": [
      "current index: 69\n"
     ]
    },
    {
     "name": "stderr",
     "output_type": "stream",
     "text": [
      "C:\\Users\\maxji\\AppData\\Local\\Temp\\ipykernel_40900\\1159726583.py:7: SettingWithCopyWarning: \n",
      "A value is trying to be set on a copy of a slice from a DataFrame\n",
      "\n",
      "See the caveats in the documentation: https://pandas.pydata.org/pandas-docs/stable/user_guide/indexing.html#returning-a-view-versus-a-copy\n",
      "  data[\"wiki_url\"][index] = url\n"
     ]
    },
    {
     "name": "stdout",
     "output_type": "stream",
     "text": [
      "current index: 70\n"
     ]
    },
    {
     "name": "stderr",
     "output_type": "stream",
     "text": [
      "C:\\Users\\maxji\\AppData\\Local\\Temp\\ipykernel_40900\\1159726583.py:7: SettingWithCopyWarning: \n",
      "A value is trying to be set on a copy of a slice from a DataFrame\n",
      "\n",
      "See the caveats in the documentation: https://pandas.pydata.org/pandas-docs/stable/user_guide/indexing.html#returning-a-view-versus-a-copy\n",
      "  data[\"wiki_url\"][index] = url\n"
     ]
    },
    {
     "name": "stdout",
     "output_type": "stream",
     "text": [
      "current index: 71\n"
     ]
    },
    {
     "name": "stderr",
     "output_type": "stream",
     "text": [
      "C:\\Users\\maxji\\AppData\\Local\\Temp\\ipykernel_40900\\1159726583.py:7: SettingWithCopyWarning: \n",
      "A value is trying to be set on a copy of a slice from a DataFrame\n",
      "\n",
      "See the caveats in the documentation: https://pandas.pydata.org/pandas-docs/stable/user_guide/indexing.html#returning-a-view-versus-a-copy\n",
      "  data[\"wiki_url\"][index] = url\n"
     ]
    },
    {
     "name": "stdout",
     "output_type": "stream",
     "text": [
      "current index: 72\n"
     ]
    },
    {
     "name": "stderr",
     "output_type": "stream",
     "text": [
      "C:\\Users\\maxji\\AppData\\Local\\Temp\\ipykernel_40900\\1159726583.py:7: SettingWithCopyWarning: \n",
      "A value is trying to be set on a copy of a slice from a DataFrame\n",
      "\n",
      "See the caveats in the documentation: https://pandas.pydata.org/pandas-docs/stable/user_guide/indexing.html#returning-a-view-versus-a-copy\n",
      "  data[\"wiki_url\"][index] = url\n"
     ]
    },
    {
     "name": "stdout",
     "output_type": "stream",
     "text": [
      "current index: 73\n"
     ]
    },
    {
     "name": "stderr",
     "output_type": "stream",
     "text": [
      "C:\\Users\\maxji\\AppData\\Local\\Temp\\ipykernel_40900\\1159726583.py:7: SettingWithCopyWarning: \n",
      "A value is trying to be set on a copy of a slice from a DataFrame\n",
      "\n",
      "See the caveats in the documentation: https://pandas.pydata.org/pandas-docs/stable/user_guide/indexing.html#returning-a-view-versus-a-copy\n",
      "  data[\"wiki_url\"][index] = url\n"
     ]
    },
    {
     "name": "stdout",
     "output_type": "stream",
     "text": [
      "current index: 74\n"
     ]
    },
    {
     "name": "stderr",
     "output_type": "stream",
     "text": [
      "C:\\Users\\maxji\\AppData\\Local\\Temp\\ipykernel_40900\\1159726583.py:7: SettingWithCopyWarning: \n",
      "A value is trying to be set on a copy of a slice from a DataFrame\n",
      "\n",
      "See the caveats in the documentation: https://pandas.pydata.org/pandas-docs/stable/user_guide/indexing.html#returning-a-view-versus-a-copy\n",
      "  data[\"wiki_url\"][index] = url\n"
     ]
    },
    {
     "name": "stdout",
     "output_type": "stream",
     "text": [
      "current index: 75\n"
     ]
    },
    {
     "name": "stderr",
     "output_type": "stream",
     "text": [
      "C:\\Users\\maxji\\AppData\\Local\\Temp\\ipykernel_40900\\1159726583.py:7: SettingWithCopyWarning: \n",
      "A value is trying to be set on a copy of a slice from a DataFrame\n",
      "\n",
      "See the caveats in the documentation: https://pandas.pydata.org/pandas-docs/stable/user_guide/indexing.html#returning-a-view-versus-a-copy\n",
      "  data[\"wiki_url\"][index] = url\n"
     ]
    },
    {
     "name": "stdout",
     "output_type": "stream",
     "text": [
      "current index: 76\n"
     ]
    },
    {
     "name": "stderr",
     "output_type": "stream",
     "text": [
      "C:\\Users\\maxji\\AppData\\Local\\Temp\\ipykernel_40900\\1159726583.py:7: SettingWithCopyWarning: \n",
      "A value is trying to be set on a copy of a slice from a DataFrame\n",
      "\n",
      "See the caveats in the documentation: https://pandas.pydata.org/pandas-docs/stable/user_guide/indexing.html#returning-a-view-versus-a-copy\n",
      "  data[\"wiki_url\"][index] = url\n"
     ]
    },
    {
     "name": "stdout",
     "output_type": "stream",
     "text": [
      "current index: 77\n"
     ]
    },
    {
     "name": "stderr",
     "output_type": "stream",
     "text": [
      "C:\\Users\\maxji\\AppData\\Local\\Temp\\ipykernel_40900\\1159726583.py:7: SettingWithCopyWarning: \n",
      "A value is trying to be set on a copy of a slice from a DataFrame\n",
      "\n",
      "See the caveats in the documentation: https://pandas.pydata.org/pandas-docs/stable/user_guide/indexing.html#returning-a-view-versus-a-copy\n",
      "  data[\"wiki_url\"][index] = url\n"
     ]
    },
    {
     "name": "stdout",
     "output_type": "stream",
     "text": [
      "current index: 78\n"
     ]
    },
    {
     "name": "stderr",
     "output_type": "stream",
     "text": [
      "C:\\Users\\maxji\\AppData\\Local\\Temp\\ipykernel_40900\\1159726583.py:7: SettingWithCopyWarning: \n",
      "A value is trying to be set on a copy of a slice from a DataFrame\n",
      "\n",
      "See the caveats in the documentation: https://pandas.pydata.org/pandas-docs/stable/user_guide/indexing.html#returning-a-view-versus-a-copy\n",
      "  data[\"wiki_url\"][index] = url\n"
     ]
    },
    {
     "name": "stdout",
     "output_type": "stream",
     "text": [
      "current index: 79\n"
     ]
    },
    {
     "name": "stderr",
     "output_type": "stream",
     "text": [
      "C:\\Users\\maxji\\AppData\\Local\\Temp\\ipykernel_40900\\1159726583.py:7: SettingWithCopyWarning: \n",
      "A value is trying to be set on a copy of a slice from a DataFrame\n",
      "\n",
      "See the caveats in the documentation: https://pandas.pydata.org/pandas-docs/stable/user_guide/indexing.html#returning-a-view-versus-a-copy\n",
      "  data[\"wiki_url\"][index] = url\n"
     ]
    },
    {
     "name": "stdout",
     "output_type": "stream",
     "text": [
      "current index: 80\n"
     ]
    },
    {
     "name": "stderr",
     "output_type": "stream",
     "text": [
      "C:\\Users\\maxji\\AppData\\Local\\Temp\\ipykernel_40900\\1159726583.py:7: SettingWithCopyWarning: \n",
      "A value is trying to be set on a copy of a slice from a DataFrame\n",
      "\n",
      "See the caveats in the documentation: https://pandas.pydata.org/pandas-docs/stable/user_guide/indexing.html#returning-a-view-versus-a-copy\n",
      "  data[\"wiki_url\"][index] = url\n"
     ]
    },
    {
     "name": "stdout",
     "output_type": "stream",
     "text": [
      "current index: 81\n"
     ]
    },
    {
     "name": "stderr",
     "output_type": "stream",
     "text": [
      "C:\\Users\\maxji\\AppData\\Local\\Temp\\ipykernel_40900\\1159726583.py:7: SettingWithCopyWarning: \n",
      "A value is trying to be set on a copy of a slice from a DataFrame\n",
      "\n",
      "See the caveats in the documentation: https://pandas.pydata.org/pandas-docs/stable/user_guide/indexing.html#returning-a-view-versus-a-copy\n",
      "  data[\"wiki_url\"][index] = url\n"
     ]
    },
    {
     "name": "stdout",
     "output_type": "stream",
     "text": [
      "current index: 82\n"
     ]
    },
    {
     "name": "stderr",
     "output_type": "stream",
     "text": [
      "C:\\Users\\maxji\\AppData\\Local\\Temp\\ipykernel_40900\\1159726583.py:7: SettingWithCopyWarning: \n",
      "A value is trying to be set on a copy of a slice from a DataFrame\n",
      "\n",
      "See the caveats in the documentation: https://pandas.pydata.org/pandas-docs/stable/user_guide/indexing.html#returning-a-view-versus-a-copy\n",
      "  data[\"wiki_url\"][index] = url\n"
     ]
    },
    {
     "name": "stdout",
     "output_type": "stream",
     "text": [
      "current index: 83\n"
     ]
    },
    {
     "name": "stderr",
     "output_type": "stream",
     "text": [
      "C:\\Users\\maxji\\AppData\\Local\\Temp\\ipykernel_40900\\1159726583.py:7: SettingWithCopyWarning: \n",
      "A value is trying to be set on a copy of a slice from a DataFrame\n",
      "\n",
      "See the caveats in the documentation: https://pandas.pydata.org/pandas-docs/stable/user_guide/indexing.html#returning-a-view-versus-a-copy\n",
      "  data[\"wiki_url\"][index] = url\n"
     ]
    },
    {
     "name": "stdout",
     "output_type": "stream",
     "text": [
      "current index: 84\n"
     ]
    },
    {
     "name": "stderr",
     "output_type": "stream",
     "text": [
      "C:\\Users\\maxji\\AppData\\Local\\Temp\\ipykernel_40900\\1159726583.py:7: SettingWithCopyWarning: \n",
      "A value is trying to be set on a copy of a slice from a DataFrame\n",
      "\n",
      "See the caveats in the documentation: https://pandas.pydata.org/pandas-docs/stable/user_guide/indexing.html#returning-a-view-versus-a-copy\n",
      "  data[\"wiki_url\"][index] = url\n"
     ]
    },
    {
     "name": "stdout",
     "output_type": "stream",
     "text": [
      "current index: 85\n"
     ]
    },
    {
     "name": "stderr",
     "output_type": "stream",
     "text": [
      "C:\\Users\\maxji\\AppData\\Local\\Temp\\ipykernel_40900\\1159726583.py:7: SettingWithCopyWarning: \n",
      "A value is trying to be set on a copy of a slice from a DataFrame\n",
      "\n",
      "See the caveats in the documentation: https://pandas.pydata.org/pandas-docs/stable/user_guide/indexing.html#returning-a-view-versus-a-copy\n",
      "  data[\"wiki_url\"][index] = url\n"
     ]
    },
    {
     "name": "stdout",
     "output_type": "stream",
     "text": [
      "current index: 86\n"
     ]
    },
    {
     "name": "stderr",
     "output_type": "stream",
     "text": [
      "C:\\Users\\maxji\\AppData\\Local\\Temp\\ipykernel_40900\\1159726583.py:7: SettingWithCopyWarning: \n",
      "A value is trying to be set on a copy of a slice from a DataFrame\n",
      "\n",
      "See the caveats in the documentation: https://pandas.pydata.org/pandas-docs/stable/user_guide/indexing.html#returning-a-view-versus-a-copy\n",
      "  data[\"wiki_url\"][index] = url\n"
     ]
    },
    {
     "name": "stdout",
     "output_type": "stream",
     "text": [
      "current index: 87\n"
     ]
    },
    {
     "name": "stderr",
     "output_type": "stream",
     "text": [
      "C:\\Users\\maxji\\AppData\\Local\\Temp\\ipykernel_40900\\1159726583.py:7: SettingWithCopyWarning: \n",
      "A value is trying to be set on a copy of a slice from a DataFrame\n",
      "\n",
      "See the caveats in the documentation: https://pandas.pydata.org/pandas-docs/stable/user_guide/indexing.html#returning-a-view-versus-a-copy\n",
      "  data[\"wiki_url\"][index] = url\n"
     ]
    },
    {
     "name": "stdout",
     "output_type": "stream",
     "text": [
      "current index: 88\n"
     ]
    },
    {
     "name": "stderr",
     "output_type": "stream",
     "text": [
      "C:\\Users\\maxji\\AppData\\Local\\Temp\\ipykernel_40900\\1159726583.py:7: SettingWithCopyWarning: \n",
      "A value is trying to be set on a copy of a slice from a DataFrame\n",
      "\n",
      "See the caveats in the documentation: https://pandas.pydata.org/pandas-docs/stable/user_guide/indexing.html#returning-a-view-versus-a-copy\n",
      "  data[\"wiki_url\"][index] = url\n"
     ]
    },
    {
     "name": "stdout",
     "output_type": "stream",
     "text": [
      "current index: 89\n"
     ]
    },
    {
     "name": "stderr",
     "output_type": "stream",
     "text": [
      "C:\\Users\\maxji\\AppData\\Local\\Temp\\ipykernel_40900\\1159726583.py:7: SettingWithCopyWarning: \n",
      "A value is trying to be set on a copy of a slice from a DataFrame\n",
      "\n",
      "See the caveats in the documentation: https://pandas.pydata.org/pandas-docs/stable/user_guide/indexing.html#returning-a-view-versus-a-copy\n",
      "  data[\"wiki_url\"][index] = url\n"
     ]
    },
    {
     "name": "stdout",
     "output_type": "stream",
     "text": [
      "current index: 90\n"
     ]
    },
    {
     "name": "stderr",
     "output_type": "stream",
     "text": [
      "C:\\Users\\maxji\\AppData\\Local\\Temp\\ipykernel_40900\\1159726583.py:7: SettingWithCopyWarning: \n",
      "A value is trying to be set on a copy of a slice from a DataFrame\n",
      "\n",
      "See the caveats in the documentation: https://pandas.pydata.org/pandas-docs/stable/user_guide/indexing.html#returning-a-view-versus-a-copy\n",
      "  data[\"wiki_url\"][index] = url\n"
     ]
    },
    {
     "name": "stdout",
     "output_type": "stream",
     "text": [
      "current index: 91\n"
     ]
    },
    {
     "name": "stderr",
     "output_type": "stream",
     "text": [
      "C:\\Users\\maxji\\AppData\\Local\\Temp\\ipykernel_40900\\1159726583.py:7: SettingWithCopyWarning: \n",
      "A value is trying to be set on a copy of a slice from a DataFrame\n",
      "\n",
      "See the caveats in the documentation: https://pandas.pydata.org/pandas-docs/stable/user_guide/indexing.html#returning-a-view-versus-a-copy\n",
      "  data[\"wiki_url\"][index] = url\n"
     ]
    },
    {
     "name": "stdout",
     "output_type": "stream",
     "text": [
      "current index: 92\n"
     ]
    },
    {
     "name": "stderr",
     "output_type": "stream",
     "text": [
      "C:\\Users\\maxji\\AppData\\Local\\Temp\\ipykernel_40900\\1159726583.py:7: SettingWithCopyWarning: \n",
      "A value is trying to be set on a copy of a slice from a DataFrame\n",
      "\n",
      "See the caveats in the documentation: https://pandas.pydata.org/pandas-docs/stable/user_guide/indexing.html#returning-a-view-versus-a-copy\n",
      "  data[\"wiki_url\"][index] = url\n"
     ]
    },
    {
     "name": "stdout",
     "output_type": "stream",
     "text": [
      "current index: 93\n"
     ]
    },
    {
     "name": "stderr",
     "output_type": "stream",
     "text": [
      "C:\\Users\\maxji\\AppData\\Local\\Temp\\ipykernel_40900\\1159726583.py:7: SettingWithCopyWarning: \n",
      "A value is trying to be set on a copy of a slice from a DataFrame\n",
      "\n",
      "See the caveats in the documentation: https://pandas.pydata.org/pandas-docs/stable/user_guide/indexing.html#returning-a-view-versus-a-copy\n",
      "  data[\"wiki_url\"][index] = url\n"
     ]
    },
    {
     "name": "stdout",
     "output_type": "stream",
     "text": [
      "current index: 94\n"
     ]
    },
    {
     "name": "stderr",
     "output_type": "stream",
     "text": [
      "C:\\Users\\maxji\\AppData\\Local\\Temp\\ipykernel_40900\\1159726583.py:7: SettingWithCopyWarning: \n",
      "A value is trying to be set on a copy of a slice from a DataFrame\n",
      "\n",
      "See the caveats in the documentation: https://pandas.pydata.org/pandas-docs/stable/user_guide/indexing.html#returning-a-view-versus-a-copy\n",
      "  data[\"wiki_url\"][index] = url\n"
     ]
    },
    {
     "name": "stdout",
     "output_type": "stream",
     "text": [
      "current index: 95\n"
     ]
    },
    {
     "name": "stderr",
     "output_type": "stream",
     "text": [
      "C:\\Users\\maxji\\AppData\\Local\\Temp\\ipykernel_40900\\1159726583.py:7: SettingWithCopyWarning: \n",
      "A value is trying to be set on a copy of a slice from a DataFrame\n",
      "\n",
      "See the caveats in the documentation: https://pandas.pydata.org/pandas-docs/stable/user_guide/indexing.html#returning-a-view-versus-a-copy\n",
      "  data[\"wiki_url\"][index] = url\n"
     ]
    },
    {
     "name": "stdout",
     "output_type": "stream",
     "text": [
      "current index: 96\n"
     ]
    },
    {
     "name": "stderr",
     "output_type": "stream",
     "text": [
      "C:\\Users\\maxji\\AppData\\Local\\Temp\\ipykernel_40900\\1159726583.py:7: SettingWithCopyWarning: \n",
      "A value is trying to be set on a copy of a slice from a DataFrame\n",
      "\n",
      "See the caveats in the documentation: https://pandas.pydata.org/pandas-docs/stable/user_guide/indexing.html#returning-a-view-versus-a-copy\n",
      "  data[\"wiki_url\"][index] = url\n"
     ]
    },
    {
     "name": "stdout",
     "output_type": "stream",
     "text": [
      "current index: 97\n"
     ]
    },
    {
     "name": "stderr",
     "output_type": "stream",
     "text": [
      "C:\\Users\\maxji\\AppData\\Local\\Temp\\ipykernel_40900\\1159726583.py:7: SettingWithCopyWarning: \n",
      "A value is trying to be set on a copy of a slice from a DataFrame\n",
      "\n",
      "See the caveats in the documentation: https://pandas.pydata.org/pandas-docs/stable/user_guide/indexing.html#returning-a-view-versus-a-copy\n",
      "  data[\"wiki_url\"][index] = url\n"
     ]
    },
    {
     "name": "stdout",
     "output_type": "stream",
     "text": [
      "current index: 98\n"
     ]
    },
    {
     "name": "stderr",
     "output_type": "stream",
     "text": [
      "C:\\Users\\maxji\\AppData\\Local\\Temp\\ipykernel_40900\\1159726583.py:7: SettingWithCopyWarning: \n",
      "A value is trying to be set on a copy of a slice from a DataFrame\n",
      "\n",
      "See the caveats in the documentation: https://pandas.pydata.org/pandas-docs/stable/user_guide/indexing.html#returning-a-view-versus-a-copy\n",
      "  data[\"wiki_url\"][index] = url\n"
     ]
    },
    {
     "name": "stdout",
     "output_type": "stream",
     "text": [
      "current index: 99\n"
     ]
    },
    {
     "name": "stderr",
     "output_type": "stream",
     "text": [
      "C:\\Users\\maxji\\AppData\\Local\\Temp\\ipykernel_40900\\1159726583.py:7: SettingWithCopyWarning: \n",
      "A value is trying to be set on a copy of a slice from a DataFrame\n",
      "\n",
      "See the caveats in the documentation: https://pandas.pydata.org/pandas-docs/stable/user_guide/indexing.html#returning-a-view-versus-a-copy\n",
      "  data[\"wiki_url\"][index] = url\n"
     ]
    },
    {
     "name": "stdout",
     "output_type": "stream",
     "text": [
      "current index: 100\n"
     ]
    },
    {
     "name": "stderr",
     "output_type": "stream",
     "text": [
      "C:\\Users\\maxji\\AppData\\Local\\Temp\\ipykernel_40900\\1159726583.py:7: SettingWithCopyWarning: \n",
      "A value is trying to be set on a copy of a slice from a DataFrame\n",
      "\n",
      "See the caveats in the documentation: https://pandas.pydata.org/pandas-docs/stable/user_guide/indexing.html#returning-a-view-versus-a-copy\n",
      "  data[\"wiki_url\"][index] = url\n"
     ]
    },
    {
     "name": "stdout",
     "output_type": "stream",
     "text": [
      "current index: 101\n"
     ]
    },
    {
     "name": "stderr",
     "output_type": "stream",
     "text": [
      "C:\\Users\\maxji\\AppData\\Local\\Temp\\ipykernel_40900\\1159726583.py:7: SettingWithCopyWarning: \n",
      "A value is trying to be set on a copy of a slice from a DataFrame\n",
      "\n",
      "See the caveats in the documentation: https://pandas.pydata.org/pandas-docs/stable/user_guide/indexing.html#returning-a-view-versus-a-copy\n",
      "  data[\"wiki_url\"][index] = url\n"
     ]
    },
    {
     "name": "stdout",
     "output_type": "stream",
     "text": [
      "current index: 102\n"
     ]
    },
    {
     "name": "stderr",
     "output_type": "stream",
     "text": [
      "C:\\Users\\maxji\\AppData\\Local\\Temp\\ipykernel_40900\\1159726583.py:7: SettingWithCopyWarning: \n",
      "A value is trying to be set on a copy of a slice from a DataFrame\n",
      "\n",
      "See the caveats in the documentation: https://pandas.pydata.org/pandas-docs/stable/user_guide/indexing.html#returning-a-view-versus-a-copy\n",
      "  data[\"wiki_url\"][index] = url\n"
     ]
    },
    {
     "name": "stdout",
     "output_type": "stream",
     "text": [
      "current index: 103\n"
     ]
    },
    {
     "name": "stderr",
     "output_type": "stream",
     "text": [
      "C:\\Users\\maxji\\AppData\\Local\\Temp\\ipykernel_40900\\1159726583.py:7: SettingWithCopyWarning: \n",
      "A value is trying to be set on a copy of a slice from a DataFrame\n",
      "\n",
      "See the caveats in the documentation: https://pandas.pydata.org/pandas-docs/stable/user_guide/indexing.html#returning-a-view-versus-a-copy\n",
      "  data[\"wiki_url\"][index] = url\n"
     ]
    },
    {
     "name": "stdout",
     "output_type": "stream",
     "text": [
      "current index: 104\n"
     ]
    },
    {
     "name": "stderr",
     "output_type": "stream",
     "text": [
      "C:\\Users\\maxji\\AppData\\Local\\Temp\\ipykernel_40900\\1159726583.py:7: SettingWithCopyWarning: \n",
      "A value is trying to be set on a copy of a slice from a DataFrame\n",
      "\n",
      "See the caveats in the documentation: https://pandas.pydata.org/pandas-docs/stable/user_guide/indexing.html#returning-a-view-versus-a-copy\n",
      "  data[\"wiki_url\"][index] = url\n"
     ]
    },
    {
     "name": "stdout",
     "output_type": "stream",
     "text": [
      "current index: 105\n"
     ]
    },
    {
     "name": "stderr",
     "output_type": "stream",
     "text": [
      "C:\\Users\\maxji\\AppData\\Local\\Temp\\ipykernel_40900\\1159726583.py:7: SettingWithCopyWarning: \n",
      "A value is trying to be set on a copy of a slice from a DataFrame\n",
      "\n",
      "See the caveats in the documentation: https://pandas.pydata.org/pandas-docs/stable/user_guide/indexing.html#returning-a-view-versus-a-copy\n",
      "  data[\"wiki_url\"][index] = url\n"
     ]
    },
    {
     "name": "stdout",
     "output_type": "stream",
     "text": [
      "current index: 106\n"
     ]
    },
    {
     "name": "stderr",
     "output_type": "stream",
     "text": [
      "C:\\Users\\maxji\\AppData\\Local\\Temp\\ipykernel_40900\\1159726583.py:7: SettingWithCopyWarning: \n",
      "A value is trying to be set on a copy of a slice from a DataFrame\n",
      "\n",
      "See the caveats in the documentation: https://pandas.pydata.org/pandas-docs/stable/user_guide/indexing.html#returning-a-view-versus-a-copy\n",
      "  data[\"wiki_url\"][index] = url\n"
     ]
    },
    {
     "name": "stdout",
     "output_type": "stream",
     "text": [
      "current index: 107\n"
     ]
    },
    {
     "name": "stderr",
     "output_type": "stream",
     "text": [
      "C:\\Users\\maxji\\AppData\\Local\\Temp\\ipykernel_40900\\1159726583.py:7: SettingWithCopyWarning: \n",
      "A value is trying to be set on a copy of a slice from a DataFrame\n",
      "\n",
      "See the caveats in the documentation: https://pandas.pydata.org/pandas-docs/stable/user_guide/indexing.html#returning-a-view-versus-a-copy\n",
      "  data[\"wiki_url\"][index] = url\n"
     ]
    },
    {
     "name": "stdout",
     "output_type": "stream",
     "text": [
      "current index: 108\n"
     ]
    },
    {
     "name": "stderr",
     "output_type": "stream",
     "text": [
      "C:\\Users\\maxji\\AppData\\Local\\Temp\\ipykernel_40900\\1159726583.py:7: SettingWithCopyWarning: \n",
      "A value is trying to be set on a copy of a slice from a DataFrame\n",
      "\n",
      "See the caveats in the documentation: https://pandas.pydata.org/pandas-docs/stable/user_guide/indexing.html#returning-a-view-versus-a-copy\n",
      "  data[\"wiki_url\"][index] = url\n"
     ]
    },
    {
     "name": "stdout",
     "output_type": "stream",
     "text": [
      "current index: 109\n"
     ]
    },
    {
     "name": "stderr",
     "output_type": "stream",
     "text": [
      "C:\\Users\\maxji\\AppData\\Local\\Temp\\ipykernel_40900\\1159726583.py:7: SettingWithCopyWarning: \n",
      "A value is trying to be set on a copy of a slice from a DataFrame\n",
      "\n",
      "See the caveats in the documentation: https://pandas.pydata.org/pandas-docs/stable/user_guide/indexing.html#returning-a-view-versus-a-copy\n",
      "  data[\"wiki_url\"][index] = url\n"
     ]
    },
    {
     "name": "stdout",
     "output_type": "stream",
     "text": [
      "current index: 110\n"
     ]
    },
    {
     "name": "stderr",
     "output_type": "stream",
     "text": [
      "C:\\Users\\maxji\\AppData\\Local\\Temp\\ipykernel_40900\\1159726583.py:7: SettingWithCopyWarning: \n",
      "A value is trying to be set on a copy of a slice from a DataFrame\n",
      "\n",
      "See the caveats in the documentation: https://pandas.pydata.org/pandas-docs/stable/user_guide/indexing.html#returning-a-view-versus-a-copy\n",
      "  data[\"wiki_url\"][index] = url\n"
     ]
    },
    {
     "name": "stdout",
     "output_type": "stream",
     "text": [
      "current index: 111\n"
     ]
    },
    {
     "name": "stderr",
     "output_type": "stream",
     "text": [
      "C:\\Users\\maxji\\AppData\\Local\\Temp\\ipykernel_40900\\1159726583.py:7: SettingWithCopyWarning: \n",
      "A value is trying to be set on a copy of a slice from a DataFrame\n",
      "\n",
      "See the caveats in the documentation: https://pandas.pydata.org/pandas-docs/stable/user_guide/indexing.html#returning-a-view-versus-a-copy\n",
      "  data[\"wiki_url\"][index] = url\n"
     ]
    },
    {
     "name": "stdout",
     "output_type": "stream",
     "text": [
      "current index: 112\n"
     ]
    },
    {
     "name": "stderr",
     "output_type": "stream",
     "text": [
      "C:\\Users\\maxji\\AppData\\Local\\Temp\\ipykernel_40900\\1159726583.py:7: SettingWithCopyWarning: \n",
      "A value is trying to be set on a copy of a slice from a DataFrame\n",
      "\n",
      "See the caveats in the documentation: https://pandas.pydata.org/pandas-docs/stable/user_guide/indexing.html#returning-a-view-versus-a-copy\n",
      "  data[\"wiki_url\"][index] = url\n"
     ]
    },
    {
     "name": "stdout",
     "output_type": "stream",
     "text": [
      "current index: 113\n"
     ]
    },
    {
     "name": "stderr",
     "output_type": "stream",
     "text": [
      "C:\\Users\\maxji\\AppData\\Local\\Temp\\ipykernel_40900\\1159726583.py:7: SettingWithCopyWarning: \n",
      "A value is trying to be set on a copy of a slice from a DataFrame\n",
      "\n",
      "See the caveats in the documentation: https://pandas.pydata.org/pandas-docs/stable/user_guide/indexing.html#returning-a-view-versus-a-copy\n",
      "  data[\"wiki_url\"][index] = url\n"
     ]
    },
    {
     "name": "stdout",
     "output_type": "stream",
     "text": [
      "current index: 114\n"
     ]
    },
    {
     "name": "stderr",
     "output_type": "stream",
     "text": [
      "C:\\Users\\maxji\\AppData\\Local\\Temp\\ipykernel_40900\\1159726583.py:7: SettingWithCopyWarning: \n",
      "A value is trying to be set on a copy of a slice from a DataFrame\n",
      "\n",
      "See the caveats in the documentation: https://pandas.pydata.org/pandas-docs/stable/user_guide/indexing.html#returning-a-view-versus-a-copy\n",
      "  data[\"wiki_url\"][index] = url\n"
     ]
    },
    {
     "name": "stdout",
     "output_type": "stream",
     "text": [
      "current index: 115\n"
     ]
    },
    {
     "name": "stderr",
     "output_type": "stream",
     "text": [
      "C:\\Users\\maxji\\AppData\\Local\\Temp\\ipykernel_40900\\1159726583.py:7: SettingWithCopyWarning: \n",
      "A value is trying to be set on a copy of a slice from a DataFrame\n",
      "\n",
      "See the caveats in the documentation: https://pandas.pydata.org/pandas-docs/stable/user_guide/indexing.html#returning-a-view-versus-a-copy\n",
      "  data[\"wiki_url\"][index] = url\n"
     ]
    },
    {
     "name": "stdout",
     "output_type": "stream",
     "text": [
      "current index: 116\n"
     ]
    },
    {
     "name": "stderr",
     "output_type": "stream",
     "text": [
      "C:\\Users\\maxji\\AppData\\Local\\Temp\\ipykernel_40900\\1159726583.py:7: SettingWithCopyWarning: \n",
      "A value is trying to be set on a copy of a slice from a DataFrame\n",
      "\n",
      "See the caveats in the documentation: https://pandas.pydata.org/pandas-docs/stable/user_guide/indexing.html#returning-a-view-versus-a-copy\n",
      "  data[\"wiki_url\"][index] = url\n"
     ]
    },
    {
     "name": "stdout",
     "output_type": "stream",
     "text": [
      "current index: 117\n"
     ]
    },
    {
     "name": "stderr",
     "output_type": "stream",
     "text": [
      "C:\\Users\\maxji\\AppData\\Local\\Temp\\ipykernel_40900\\1159726583.py:7: SettingWithCopyWarning: \n",
      "A value is trying to be set on a copy of a slice from a DataFrame\n",
      "\n",
      "See the caveats in the documentation: https://pandas.pydata.org/pandas-docs/stable/user_guide/indexing.html#returning-a-view-versus-a-copy\n",
      "  data[\"wiki_url\"][index] = url\n"
     ]
    },
    {
     "name": "stdout",
     "output_type": "stream",
     "text": [
      "current index: 118\n"
     ]
    },
    {
     "name": "stderr",
     "output_type": "stream",
     "text": [
      "C:\\Users\\maxji\\AppData\\Local\\Temp\\ipykernel_40900\\1159726583.py:7: SettingWithCopyWarning: \n",
      "A value is trying to be set on a copy of a slice from a DataFrame\n",
      "\n",
      "See the caveats in the documentation: https://pandas.pydata.org/pandas-docs/stable/user_guide/indexing.html#returning-a-view-versus-a-copy\n",
      "  data[\"wiki_url\"][index] = url\n"
     ]
    },
    {
     "name": "stdout",
     "output_type": "stream",
     "text": [
      "current index: 119\n"
     ]
    },
    {
     "name": "stderr",
     "output_type": "stream",
     "text": [
      "C:\\Users\\maxji\\AppData\\Local\\Temp\\ipykernel_40900\\1159726583.py:7: SettingWithCopyWarning: \n",
      "A value is trying to be set on a copy of a slice from a DataFrame\n",
      "\n",
      "See the caveats in the documentation: https://pandas.pydata.org/pandas-docs/stable/user_guide/indexing.html#returning-a-view-versus-a-copy\n",
      "  data[\"wiki_url\"][index] = url\n"
     ]
    },
    {
     "name": "stdout",
     "output_type": "stream",
     "text": [
      "current index: 120\n"
     ]
    },
    {
     "name": "stderr",
     "output_type": "stream",
     "text": [
      "C:\\Users\\maxji\\AppData\\Local\\Temp\\ipykernel_40900\\1159726583.py:7: SettingWithCopyWarning: \n",
      "A value is trying to be set on a copy of a slice from a DataFrame\n",
      "\n",
      "See the caveats in the documentation: https://pandas.pydata.org/pandas-docs/stable/user_guide/indexing.html#returning-a-view-versus-a-copy\n",
      "  data[\"wiki_url\"][index] = url\n"
     ]
    },
    {
     "name": "stdout",
     "output_type": "stream",
     "text": [
      "current index: 121\n"
     ]
    },
    {
     "name": "stderr",
     "output_type": "stream",
     "text": [
      "C:\\Users\\maxji\\AppData\\Local\\Temp\\ipykernel_40900\\1159726583.py:7: SettingWithCopyWarning: \n",
      "A value is trying to be set on a copy of a slice from a DataFrame\n",
      "\n",
      "See the caveats in the documentation: https://pandas.pydata.org/pandas-docs/stable/user_guide/indexing.html#returning-a-view-versus-a-copy\n",
      "  data[\"wiki_url\"][index] = url\n"
     ]
    },
    {
     "name": "stdout",
     "output_type": "stream",
     "text": [
      "current index: 122\n"
     ]
    },
    {
     "name": "stderr",
     "output_type": "stream",
     "text": [
      "C:\\Users\\maxji\\AppData\\Local\\Temp\\ipykernel_40900\\1159726583.py:7: SettingWithCopyWarning: \n",
      "A value is trying to be set on a copy of a slice from a DataFrame\n",
      "\n",
      "See the caveats in the documentation: https://pandas.pydata.org/pandas-docs/stable/user_guide/indexing.html#returning-a-view-versus-a-copy\n",
      "  data[\"wiki_url\"][index] = url\n"
     ]
    },
    {
     "name": "stdout",
     "output_type": "stream",
     "text": [
      "current index: 123\n"
     ]
    },
    {
     "name": "stderr",
     "output_type": "stream",
     "text": [
      "C:\\Users\\maxji\\AppData\\Local\\Temp\\ipykernel_40900\\1159726583.py:7: SettingWithCopyWarning: \n",
      "A value is trying to be set on a copy of a slice from a DataFrame\n",
      "\n",
      "See the caveats in the documentation: https://pandas.pydata.org/pandas-docs/stable/user_guide/indexing.html#returning-a-view-versus-a-copy\n",
      "  data[\"wiki_url\"][index] = url\n"
     ]
    },
    {
     "name": "stdout",
     "output_type": "stream",
     "text": [
      "current index: 124\n"
     ]
    },
    {
     "name": "stderr",
     "output_type": "stream",
     "text": [
      "C:\\Users\\maxji\\AppData\\Local\\Temp\\ipykernel_40900\\1159726583.py:7: SettingWithCopyWarning: \n",
      "A value is trying to be set on a copy of a slice from a DataFrame\n",
      "\n",
      "See the caveats in the documentation: https://pandas.pydata.org/pandas-docs/stable/user_guide/indexing.html#returning-a-view-versus-a-copy\n",
      "  data[\"wiki_url\"][index] = url\n"
     ]
    },
    {
     "name": "stdout",
     "output_type": "stream",
     "text": [
      "current index: 125\n"
     ]
    },
    {
     "name": "stderr",
     "output_type": "stream",
     "text": [
      "C:\\Users\\maxji\\AppData\\Local\\Temp\\ipykernel_40900\\1159726583.py:7: SettingWithCopyWarning: \n",
      "A value is trying to be set on a copy of a slice from a DataFrame\n",
      "\n",
      "See the caveats in the documentation: https://pandas.pydata.org/pandas-docs/stable/user_guide/indexing.html#returning-a-view-versus-a-copy\n",
      "  data[\"wiki_url\"][index] = url\n"
     ]
    },
    {
     "name": "stdout",
     "output_type": "stream",
     "text": [
      "current index: 126\n"
     ]
    },
    {
     "name": "stderr",
     "output_type": "stream",
     "text": [
      "C:\\Users\\maxji\\AppData\\Local\\Temp\\ipykernel_40900\\1159726583.py:7: SettingWithCopyWarning: \n",
      "A value is trying to be set on a copy of a slice from a DataFrame\n",
      "\n",
      "See the caveats in the documentation: https://pandas.pydata.org/pandas-docs/stable/user_guide/indexing.html#returning-a-view-versus-a-copy\n",
      "  data[\"wiki_url\"][index] = url\n"
     ]
    },
    {
     "name": "stdout",
     "output_type": "stream",
     "text": [
      "current index: 127\n"
     ]
    },
    {
     "name": "stderr",
     "output_type": "stream",
     "text": [
      "C:\\Users\\maxji\\AppData\\Local\\Temp\\ipykernel_40900\\1159726583.py:7: SettingWithCopyWarning: \n",
      "A value is trying to be set on a copy of a slice from a DataFrame\n",
      "\n",
      "See the caveats in the documentation: https://pandas.pydata.org/pandas-docs/stable/user_guide/indexing.html#returning-a-view-versus-a-copy\n",
      "  data[\"wiki_url\"][index] = url\n"
     ]
    },
    {
     "name": "stdout",
     "output_type": "stream",
     "text": [
      "current index: 128\n"
     ]
    },
    {
     "name": "stderr",
     "output_type": "stream",
     "text": [
      "C:\\Users\\maxji\\AppData\\Local\\Temp\\ipykernel_40900\\1159726583.py:7: SettingWithCopyWarning: \n",
      "A value is trying to be set on a copy of a slice from a DataFrame\n",
      "\n",
      "See the caveats in the documentation: https://pandas.pydata.org/pandas-docs/stable/user_guide/indexing.html#returning-a-view-versus-a-copy\n",
      "  data[\"wiki_url\"][index] = url\n"
     ]
    },
    {
     "name": "stdout",
     "output_type": "stream",
     "text": [
      "current index: 129\n"
     ]
    },
    {
     "name": "stderr",
     "output_type": "stream",
     "text": [
      "C:\\Users\\maxji\\AppData\\Local\\Temp\\ipykernel_40900\\1159726583.py:7: SettingWithCopyWarning: \n",
      "A value is trying to be set on a copy of a slice from a DataFrame\n",
      "\n",
      "See the caveats in the documentation: https://pandas.pydata.org/pandas-docs/stable/user_guide/indexing.html#returning-a-view-versus-a-copy\n",
      "  data[\"wiki_url\"][index] = url\n"
     ]
    },
    {
     "name": "stdout",
     "output_type": "stream",
     "text": [
      "current index: 130\n"
     ]
    },
    {
     "name": "stderr",
     "output_type": "stream",
     "text": [
      "C:\\Users\\maxji\\AppData\\Local\\Temp\\ipykernel_40900\\1159726583.py:7: SettingWithCopyWarning: \n",
      "A value is trying to be set on a copy of a slice from a DataFrame\n",
      "\n",
      "See the caveats in the documentation: https://pandas.pydata.org/pandas-docs/stable/user_guide/indexing.html#returning-a-view-versus-a-copy\n",
      "  data[\"wiki_url\"][index] = url\n"
     ]
    },
    {
     "name": "stdout",
     "output_type": "stream",
     "text": [
      "current index: 131\n"
     ]
    },
    {
     "name": "stderr",
     "output_type": "stream",
     "text": [
      "C:\\Users\\maxji\\AppData\\Local\\Temp\\ipykernel_40900\\1159726583.py:7: SettingWithCopyWarning: \n",
      "A value is trying to be set on a copy of a slice from a DataFrame\n",
      "\n",
      "See the caveats in the documentation: https://pandas.pydata.org/pandas-docs/stable/user_guide/indexing.html#returning-a-view-versus-a-copy\n",
      "  data[\"wiki_url\"][index] = url\n"
     ]
    },
    {
     "name": "stdout",
     "output_type": "stream",
     "text": [
      "current index: 132\n"
     ]
    },
    {
     "name": "stderr",
     "output_type": "stream",
     "text": [
      "C:\\Users\\maxji\\AppData\\Local\\Temp\\ipykernel_40900\\1159726583.py:7: SettingWithCopyWarning: \n",
      "A value is trying to be set on a copy of a slice from a DataFrame\n",
      "\n",
      "See the caveats in the documentation: https://pandas.pydata.org/pandas-docs/stable/user_guide/indexing.html#returning-a-view-versus-a-copy\n",
      "  data[\"wiki_url\"][index] = url\n"
     ]
    },
    {
     "name": "stdout",
     "output_type": "stream",
     "text": [
      "current index: 133\n"
     ]
    },
    {
     "name": "stderr",
     "output_type": "stream",
     "text": [
      "C:\\Users\\maxji\\AppData\\Local\\Temp\\ipykernel_40900\\1159726583.py:7: SettingWithCopyWarning: \n",
      "A value is trying to be set on a copy of a slice from a DataFrame\n",
      "\n",
      "See the caveats in the documentation: https://pandas.pydata.org/pandas-docs/stable/user_guide/indexing.html#returning-a-view-versus-a-copy\n",
      "  data[\"wiki_url\"][index] = url\n"
     ]
    },
    {
     "name": "stdout",
     "output_type": "stream",
     "text": [
      "current index: 134\n"
     ]
    },
    {
     "name": "stderr",
     "output_type": "stream",
     "text": [
      "C:\\Users\\maxji\\AppData\\Local\\Temp\\ipykernel_40900\\1159726583.py:7: SettingWithCopyWarning: \n",
      "A value is trying to be set on a copy of a slice from a DataFrame\n",
      "\n",
      "See the caveats in the documentation: https://pandas.pydata.org/pandas-docs/stable/user_guide/indexing.html#returning-a-view-versus-a-copy\n",
      "  data[\"wiki_url\"][index] = url\n"
     ]
    },
    {
     "name": "stdout",
     "output_type": "stream",
     "text": [
      "current index: 135\n"
     ]
    },
    {
     "name": "stderr",
     "output_type": "stream",
     "text": [
      "C:\\Users\\maxji\\AppData\\Local\\Temp\\ipykernel_40900\\1159726583.py:7: SettingWithCopyWarning: \n",
      "A value is trying to be set on a copy of a slice from a DataFrame\n",
      "\n",
      "See the caveats in the documentation: https://pandas.pydata.org/pandas-docs/stable/user_guide/indexing.html#returning-a-view-versus-a-copy\n",
      "  data[\"wiki_url\"][index] = url\n"
     ]
    },
    {
     "name": "stdout",
     "output_type": "stream",
     "text": [
      "current index: 136\n"
     ]
    },
    {
     "name": "stderr",
     "output_type": "stream",
     "text": [
      "C:\\Users\\maxji\\AppData\\Local\\Temp\\ipykernel_40900\\1159726583.py:7: SettingWithCopyWarning: \n",
      "A value is trying to be set on a copy of a slice from a DataFrame\n",
      "\n",
      "See the caveats in the documentation: https://pandas.pydata.org/pandas-docs/stable/user_guide/indexing.html#returning-a-view-versus-a-copy\n",
      "  data[\"wiki_url\"][index] = url\n"
     ]
    },
    {
     "name": "stdout",
     "output_type": "stream",
     "text": [
      "current index: 137\n"
     ]
    },
    {
     "name": "stderr",
     "output_type": "stream",
     "text": [
      "C:\\Users\\maxji\\AppData\\Local\\Temp\\ipykernel_40900\\1159726583.py:7: SettingWithCopyWarning: \n",
      "A value is trying to be set on a copy of a slice from a DataFrame\n",
      "\n",
      "See the caveats in the documentation: https://pandas.pydata.org/pandas-docs/stable/user_guide/indexing.html#returning-a-view-versus-a-copy\n",
      "  data[\"wiki_url\"][index] = url\n"
     ]
    },
    {
     "name": "stdout",
     "output_type": "stream",
     "text": [
      "current index: 138\n"
     ]
    },
    {
     "name": "stderr",
     "output_type": "stream",
     "text": [
      "C:\\Users\\maxji\\AppData\\Local\\Temp\\ipykernel_40900\\1159726583.py:7: SettingWithCopyWarning: \n",
      "A value is trying to be set on a copy of a slice from a DataFrame\n",
      "\n",
      "See the caveats in the documentation: https://pandas.pydata.org/pandas-docs/stable/user_guide/indexing.html#returning-a-view-versus-a-copy\n",
      "  data[\"wiki_url\"][index] = url\n"
     ]
    },
    {
     "name": "stdout",
     "output_type": "stream",
     "text": [
      "current index: 139\n"
     ]
    },
    {
     "name": "stderr",
     "output_type": "stream",
     "text": [
      "C:\\Users\\maxji\\AppData\\Local\\Temp\\ipykernel_40900\\1159726583.py:7: SettingWithCopyWarning: \n",
      "A value is trying to be set on a copy of a slice from a DataFrame\n",
      "\n",
      "See the caveats in the documentation: https://pandas.pydata.org/pandas-docs/stable/user_guide/indexing.html#returning-a-view-versus-a-copy\n",
      "  data[\"wiki_url\"][index] = url\n"
     ]
    },
    {
     "name": "stdout",
     "output_type": "stream",
     "text": [
      "current index: 140\n"
     ]
    },
    {
     "name": "stderr",
     "output_type": "stream",
     "text": [
      "C:\\Users\\maxji\\AppData\\Local\\Temp\\ipykernel_40900\\1159726583.py:7: SettingWithCopyWarning: \n",
      "A value is trying to be set on a copy of a slice from a DataFrame\n",
      "\n",
      "See the caveats in the documentation: https://pandas.pydata.org/pandas-docs/stable/user_guide/indexing.html#returning-a-view-versus-a-copy\n",
      "  data[\"wiki_url\"][index] = url\n"
     ]
    },
    {
     "name": "stdout",
     "output_type": "stream",
     "text": [
      "current index: 141\n"
     ]
    },
    {
     "name": "stderr",
     "output_type": "stream",
     "text": [
      "C:\\Users\\maxji\\AppData\\Local\\Temp\\ipykernel_40900\\1159726583.py:7: SettingWithCopyWarning: \n",
      "A value is trying to be set on a copy of a slice from a DataFrame\n",
      "\n",
      "See the caveats in the documentation: https://pandas.pydata.org/pandas-docs/stable/user_guide/indexing.html#returning-a-view-versus-a-copy\n",
      "  data[\"wiki_url\"][index] = url\n"
     ]
    },
    {
     "name": "stdout",
     "output_type": "stream",
     "text": [
      "current index: 142\n"
     ]
    },
    {
     "name": "stderr",
     "output_type": "stream",
     "text": [
      "C:\\Users\\maxji\\AppData\\Local\\Temp\\ipykernel_40900\\1159726583.py:7: SettingWithCopyWarning: \n",
      "A value is trying to be set on a copy of a slice from a DataFrame\n",
      "\n",
      "See the caveats in the documentation: https://pandas.pydata.org/pandas-docs/stable/user_guide/indexing.html#returning-a-view-versus-a-copy\n",
      "  data[\"wiki_url\"][index] = url\n"
     ]
    },
    {
     "name": "stdout",
     "output_type": "stream",
     "text": [
      "current index: 143\n"
     ]
    },
    {
     "name": "stderr",
     "output_type": "stream",
     "text": [
      "C:\\Users\\maxji\\AppData\\Local\\Temp\\ipykernel_40900\\1159726583.py:7: SettingWithCopyWarning: \n",
      "A value is trying to be set on a copy of a slice from a DataFrame\n",
      "\n",
      "See the caveats in the documentation: https://pandas.pydata.org/pandas-docs/stable/user_guide/indexing.html#returning-a-view-versus-a-copy\n",
      "  data[\"wiki_url\"][index] = url\n"
     ]
    },
    {
     "name": "stdout",
     "output_type": "stream",
     "text": [
      "current index: 144\n"
     ]
    },
    {
     "name": "stderr",
     "output_type": "stream",
     "text": [
      "C:\\Users\\maxji\\AppData\\Local\\Temp\\ipykernel_40900\\1159726583.py:7: SettingWithCopyWarning: \n",
      "A value is trying to be set on a copy of a slice from a DataFrame\n",
      "\n",
      "See the caveats in the documentation: https://pandas.pydata.org/pandas-docs/stable/user_guide/indexing.html#returning-a-view-versus-a-copy\n",
      "  data[\"wiki_url\"][index] = url\n"
     ]
    },
    {
     "name": "stdout",
     "output_type": "stream",
     "text": [
      "current index: 145\n"
     ]
    },
    {
     "name": "stderr",
     "output_type": "stream",
     "text": [
      "C:\\Users\\maxji\\AppData\\Local\\Temp\\ipykernel_40900\\1159726583.py:7: SettingWithCopyWarning: \n",
      "A value is trying to be set on a copy of a slice from a DataFrame\n",
      "\n",
      "See the caveats in the documentation: https://pandas.pydata.org/pandas-docs/stable/user_guide/indexing.html#returning-a-view-versus-a-copy\n",
      "  data[\"wiki_url\"][index] = url\n"
     ]
    },
    {
     "name": "stdout",
     "output_type": "stream",
     "text": [
      "current index: 146\n"
     ]
    },
    {
     "name": "stderr",
     "output_type": "stream",
     "text": [
      "C:\\Users\\maxji\\AppData\\Local\\Temp\\ipykernel_40900\\1159726583.py:7: SettingWithCopyWarning: \n",
      "A value is trying to be set on a copy of a slice from a DataFrame\n",
      "\n",
      "See the caveats in the documentation: https://pandas.pydata.org/pandas-docs/stable/user_guide/indexing.html#returning-a-view-versus-a-copy\n",
      "  data[\"wiki_url\"][index] = url\n"
     ]
    },
    {
     "name": "stdout",
     "output_type": "stream",
     "text": [
      "current index: 147\n"
     ]
    },
    {
     "name": "stderr",
     "output_type": "stream",
     "text": [
      "C:\\Users\\maxji\\AppData\\Local\\Temp\\ipykernel_40900\\1159726583.py:7: SettingWithCopyWarning: \n",
      "A value is trying to be set on a copy of a slice from a DataFrame\n",
      "\n",
      "See the caveats in the documentation: https://pandas.pydata.org/pandas-docs/stable/user_guide/indexing.html#returning-a-view-versus-a-copy\n",
      "  data[\"wiki_url\"][index] = url\n"
     ]
    },
    {
     "name": "stdout",
     "output_type": "stream",
     "text": [
      "current index: 148\n"
     ]
    },
    {
     "name": "stderr",
     "output_type": "stream",
     "text": [
      "C:\\Users\\maxji\\AppData\\Local\\Temp\\ipykernel_40900\\1159726583.py:7: SettingWithCopyWarning: \n",
      "A value is trying to be set on a copy of a slice from a DataFrame\n",
      "\n",
      "See the caveats in the documentation: https://pandas.pydata.org/pandas-docs/stable/user_guide/indexing.html#returning-a-view-versus-a-copy\n",
      "  data[\"wiki_url\"][index] = url\n"
     ]
    },
    {
     "name": "stdout",
     "output_type": "stream",
     "text": [
      "current index: 149\n"
     ]
    },
    {
     "name": "stderr",
     "output_type": "stream",
     "text": [
      "C:\\Users\\maxji\\AppData\\Local\\Temp\\ipykernel_40900\\1159726583.py:7: SettingWithCopyWarning: \n",
      "A value is trying to be set on a copy of a slice from a DataFrame\n",
      "\n",
      "See the caveats in the documentation: https://pandas.pydata.org/pandas-docs/stable/user_guide/indexing.html#returning-a-view-versus-a-copy\n",
      "  data[\"wiki_url\"][index] = url\n"
     ]
    },
    {
     "name": "stdout",
     "output_type": "stream",
     "text": [
      "current index: 150\n"
     ]
    },
    {
     "name": "stderr",
     "output_type": "stream",
     "text": [
      "C:\\Users\\maxji\\AppData\\Local\\Temp\\ipykernel_40900\\1159726583.py:7: SettingWithCopyWarning: \n",
      "A value is trying to be set on a copy of a slice from a DataFrame\n",
      "\n",
      "See the caveats in the documentation: https://pandas.pydata.org/pandas-docs/stable/user_guide/indexing.html#returning-a-view-versus-a-copy\n",
      "  data[\"wiki_url\"][index] = url\n"
     ]
    },
    {
     "name": "stdout",
     "output_type": "stream",
     "text": [
      "current index: 151\n"
     ]
    },
    {
     "name": "stderr",
     "output_type": "stream",
     "text": [
      "C:\\Users\\maxji\\AppData\\Local\\Temp\\ipykernel_40900\\1159726583.py:7: SettingWithCopyWarning: \n",
      "A value is trying to be set on a copy of a slice from a DataFrame\n",
      "\n",
      "See the caveats in the documentation: https://pandas.pydata.org/pandas-docs/stable/user_guide/indexing.html#returning-a-view-versus-a-copy\n",
      "  data[\"wiki_url\"][index] = url\n"
     ]
    },
    {
     "name": "stdout",
     "output_type": "stream",
     "text": [
      "current index: 152\n"
     ]
    },
    {
     "name": "stderr",
     "output_type": "stream",
     "text": [
      "C:\\Users\\maxji\\AppData\\Local\\Temp\\ipykernel_40900\\1159726583.py:7: SettingWithCopyWarning: \n",
      "A value is trying to be set on a copy of a slice from a DataFrame\n",
      "\n",
      "See the caveats in the documentation: https://pandas.pydata.org/pandas-docs/stable/user_guide/indexing.html#returning-a-view-versus-a-copy\n",
      "  data[\"wiki_url\"][index] = url\n"
     ]
    },
    {
     "name": "stdout",
     "output_type": "stream",
     "text": [
      "current index: 153\n"
     ]
    },
    {
     "name": "stderr",
     "output_type": "stream",
     "text": [
      "C:\\Users\\maxji\\AppData\\Local\\Temp\\ipykernel_40900\\1159726583.py:7: SettingWithCopyWarning: \n",
      "A value is trying to be set on a copy of a slice from a DataFrame\n",
      "\n",
      "See the caveats in the documentation: https://pandas.pydata.org/pandas-docs/stable/user_guide/indexing.html#returning-a-view-versus-a-copy\n",
      "  data[\"wiki_url\"][index] = url\n"
     ]
    },
    {
     "name": "stdout",
     "output_type": "stream",
     "text": [
      "current index: 154\n"
     ]
    },
    {
     "name": "stderr",
     "output_type": "stream",
     "text": [
      "C:\\Users\\maxji\\AppData\\Local\\Temp\\ipykernel_40900\\1159726583.py:7: SettingWithCopyWarning: \n",
      "A value is trying to be set on a copy of a slice from a DataFrame\n",
      "\n",
      "See the caveats in the documentation: https://pandas.pydata.org/pandas-docs/stable/user_guide/indexing.html#returning-a-view-versus-a-copy\n",
      "  data[\"wiki_url\"][index] = url\n"
     ]
    },
    {
     "name": "stdout",
     "output_type": "stream",
     "text": [
      "current index: 155\n"
     ]
    },
    {
     "name": "stderr",
     "output_type": "stream",
     "text": [
      "C:\\Users\\maxji\\AppData\\Local\\Temp\\ipykernel_40900\\1159726583.py:7: SettingWithCopyWarning: \n",
      "A value is trying to be set on a copy of a slice from a DataFrame\n",
      "\n",
      "See the caveats in the documentation: https://pandas.pydata.org/pandas-docs/stable/user_guide/indexing.html#returning-a-view-versus-a-copy\n",
      "  data[\"wiki_url\"][index] = url\n"
     ]
    },
    {
     "name": "stdout",
     "output_type": "stream",
     "text": [
      "current index: 156\n"
     ]
    },
    {
     "name": "stderr",
     "output_type": "stream",
     "text": [
      "C:\\Users\\maxji\\AppData\\Local\\Temp\\ipykernel_40900\\1159726583.py:7: SettingWithCopyWarning: \n",
      "A value is trying to be set on a copy of a slice from a DataFrame\n",
      "\n",
      "See the caveats in the documentation: https://pandas.pydata.org/pandas-docs/stable/user_guide/indexing.html#returning-a-view-versus-a-copy\n",
      "  data[\"wiki_url\"][index] = url\n"
     ]
    },
    {
     "name": "stdout",
     "output_type": "stream",
     "text": [
      "current index: 157\n"
     ]
    },
    {
     "name": "stderr",
     "output_type": "stream",
     "text": [
      "C:\\Users\\maxji\\AppData\\Local\\Temp\\ipykernel_40900\\1159726583.py:7: SettingWithCopyWarning: \n",
      "A value is trying to be set on a copy of a slice from a DataFrame\n",
      "\n",
      "See the caveats in the documentation: https://pandas.pydata.org/pandas-docs/stable/user_guide/indexing.html#returning-a-view-versus-a-copy\n",
      "  data[\"wiki_url\"][index] = url\n"
     ]
    },
    {
     "name": "stdout",
     "output_type": "stream",
     "text": [
      "current index: 158\n"
     ]
    },
    {
     "name": "stderr",
     "output_type": "stream",
     "text": [
      "C:\\Users\\maxji\\AppData\\Local\\Temp\\ipykernel_40900\\1159726583.py:7: SettingWithCopyWarning: \n",
      "A value is trying to be set on a copy of a slice from a DataFrame\n",
      "\n",
      "See the caveats in the documentation: https://pandas.pydata.org/pandas-docs/stable/user_guide/indexing.html#returning-a-view-versus-a-copy\n",
      "  data[\"wiki_url\"][index] = url\n"
     ]
    },
    {
     "name": "stdout",
     "output_type": "stream",
     "text": [
      "current index: 159\n"
     ]
    },
    {
     "name": "stderr",
     "output_type": "stream",
     "text": [
      "C:\\Users\\maxji\\AppData\\Local\\Temp\\ipykernel_40900\\1159726583.py:7: SettingWithCopyWarning: \n",
      "A value is trying to be set on a copy of a slice from a DataFrame\n",
      "\n",
      "See the caveats in the documentation: https://pandas.pydata.org/pandas-docs/stable/user_guide/indexing.html#returning-a-view-versus-a-copy\n",
      "  data[\"wiki_url\"][index] = url\n"
     ]
    },
    {
     "name": "stdout",
     "output_type": "stream",
     "text": [
      "current index: 160\n"
     ]
    },
    {
     "name": "stderr",
     "output_type": "stream",
     "text": [
      "C:\\Users\\maxji\\AppData\\Local\\Temp\\ipykernel_40900\\1159726583.py:7: SettingWithCopyWarning: \n",
      "A value is trying to be set on a copy of a slice from a DataFrame\n",
      "\n",
      "See the caveats in the documentation: https://pandas.pydata.org/pandas-docs/stable/user_guide/indexing.html#returning-a-view-versus-a-copy\n",
      "  data[\"wiki_url\"][index] = url\n"
     ]
    },
    {
     "name": "stdout",
     "output_type": "stream",
     "text": [
      "current index: 161\n"
     ]
    },
    {
     "name": "stderr",
     "output_type": "stream",
     "text": [
      "C:\\Users\\maxji\\AppData\\Local\\Temp\\ipykernel_40900\\1159726583.py:7: SettingWithCopyWarning: \n",
      "A value is trying to be set on a copy of a slice from a DataFrame\n",
      "\n",
      "See the caveats in the documentation: https://pandas.pydata.org/pandas-docs/stable/user_guide/indexing.html#returning-a-view-versus-a-copy\n",
      "  data[\"wiki_url\"][index] = url\n"
     ]
    },
    {
     "name": "stdout",
     "output_type": "stream",
     "text": [
      "current index: 162\n"
     ]
    },
    {
     "name": "stderr",
     "output_type": "stream",
     "text": [
      "C:\\Users\\maxji\\AppData\\Local\\Temp\\ipykernel_40900\\1159726583.py:7: SettingWithCopyWarning: \n",
      "A value is trying to be set on a copy of a slice from a DataFrame\n",
      "\n",
      "See the caveats in the documentation: https://pandas.pydata.org/pandas-docs/stable/user_guide/indexing.html#returning-a-view-versus-a-copy\n",
      "  data[\"wiki_url\"][index] = url\n"
     ]
    },
    {
     "name": "stdout",
     "output_type": "stream",
     "text": [
      "current index: 163\n"
     ]
    },
    {
     "name": "stderr",
     "output_type": "stream",
     "text": [
      "C:\\Users\\maxji\\AppData\\Local\\Temp\\ipykernel_40900\\1159726583.py:7: SettingWithCopyWarning: \n",
      "A value is trying to be set on a copy of a slice from a DataFrame\n",
      "\n",
      "See the caveats in the documentation: https://pandas.pydata.org/pandas-docs/stable/user_guide/indexing.html#returning-a-view-versus-a-copy\n",
      "  data[\"wiki_url\"][index] = url\n"
     ]
    },
    {
     "name": "stdout",
     "output_type": "stream",
     "text": [
      "current index: 164\n"
     ]
    },
    {
     "name": "stderr",
     "output_type": "stream",
     "text": [
      "C:\\Users\\maxji\\AppData\\Local\\Temp\\ipykernel_40900\\1159726583.py:7: SettingWithCopyWarning: \n",
      "A value is trying to be set on a copy of a slice from a DataFrame\n",
      "\n",
      "See the caveats in the documentation: https://pandas.pydata.org/pandas-docs/stable/user_guide/indexing.html#returning-a-view-versus-a-copy\n",
      "  data[\"wiki_url\"][index] = url\n"
     ]
    },
    {
     "name": "stdout",
     "output_type": "stream",
     "text": [
      "current index: 165\n"
     ]
    },
    {
     "name": "stderr",
     "output_type": "stream",
     "text": [
      "C:\\Users\\maxji\\AppData\\Local\\Temp\\ipykernel_40900\\1159726583.py:7: SettingWithCopyWarning: \n",
      "A value is trying to be set on a copy of a slice from a DataFrame\n",
      "\n",
      "See the caveats in the documentation: https://pandas.pydata.org/pandas-docs/stable/user_guide/indexing.html#returning-a-view-versus-a-copy\n",
      "  data[\"wiki_url\"][index] = url\n"
     ]
    },
    {
     "name": "stdout",
     "output_type": "stream",
     "text": [
      "current index: 166\n"
     ]
    },
    {
     "name": "stderr",
     "output_type": "stream",
     "text": [
      "C:\\Users\\maxji\\AppData\\Local\\Temp\\ipykernel_40900\\1159726583.py:7: SettingWithCopyWarning: \n",
      "A value is trying to be set on a copy of a slice from a DataFrame\n",
      "\n",
      "See the caveats in the documentation: https://pandas.pydata.org/pandas-docs/stable/user_guide/indexing.html#returning-a-view-versus-a-copy\n",
      "  data[\"wiki_url\"][index] = url\n"
     ]
    },
    {
     "name": "stdout",
     "output_type": "stream",
     "text": [
      "current index: 167\n"
     ]
    },
    {
     "name": "stderr",
     "output_type": "stream",
     "text": [
      "C:\\Users\\maxji\\AppData\\Local\\Temp\\ipykernel_40900\\1159726583.py:7: SettingWithCopyWarning: \n",
      "A value is trying to be set on a copy of a slice from a DataFrame\n",
      "\n",
      "See the caveats in the documentation: https://pandas.pydata.org/pandas-docs/stable/user_guide/indexing.html#returning-a-view-versus-a-copy\n",
      "  data[\"wiki_url\"][index] = url\n"
     ]
    },
    {
     "name": "stdout",
     "output_type": "stream",
     "text": [
      "current index: 168\n"
     ]
    },
    {
     "name": "stderr",
     "output_type": "stream",
     "text": [
      "C:\\Users\\maxji\\AppData\\Local\\Temp\\ipykernel_40900\\1159726583.py:7: SettingWithCopyWarning: \n",
      "A value is trying to be set on a copy of a slice from a DataFrame\n",
      "\n",
      "See the caveats in the documentation: https://pandas.pydata.org/pandas-docs/stable/user_guide/indexing.html#returning-a-view-versus-a-copy\n",
      "  data[\"wiki_url\"][index] = url\n"
     ]
    },
    {
     "name": "stdout",
     "output_type": "stream",
     "text": [
      "current index: 169\n"
     ]
    },
    {
     "name": "stderr",
     "output_type": "stream",
     "text": [
      "C:\\Users\\maxji\\AppData\\Local\\Temp\\ipykernel_40900\\1159726583.py:7: SettingWithCopyWarning: \n",
      "A value is trying to be set on a copy of a slice from a DataFrame\n",
      "\n",
      "See the caveats in the documentation: https://pandas.pydata.org/pandas-docs/stable/user_guide/indexing.html#returning-a-view-versus-a-copy\n",
      "  data[\"wiki_url\"][index] = url\n"
     ]
    },
    {
     "name": "stdout",
     "output_type": "stream",
     "text": [
      "current index: 170\n"
     ]
    },
    {
     "name": "stderr",
     "output_type": "stream",
     "text": [
      "C:\\Users\\maxji\\AppData\\Local\\Temp\\ipykernel_40900\\1159726583.py:7: SettingWithCopyWarning: \n",
      "A value is trying to be set on a copy of a slice from a DataFrame\n",
      "\n",
      "See the caveats in the documentation: https://pandas.pydata.org/pandas-docs/stable/user_guide/indexing.html#returning-a-view-versus-a-copy\n",
      "  data[\"wiki_url\"][index] = url\n"
     ]
    },
    {
     "name": "stdout",
     "output_type": "stream",
     "text": [
      "current index: 171\n"
     ]
    },
    {
     "name": "stderr",
     "output_type": "stream",
     "text": [
      "C:\\Users\\maxji\\AppData\\Local\\Temp\\ipykernel_40900\\1159726583.py:7: SettingWithCopyWarning: \n",
      "A value is trying to be set on a copy of a slice from a DataFrame\n",
      "\n",
      "See the caveats in the documentation: https://pandas.pydata.org/pandas-docs/stable/user_guide/indexing.html#returning-a-view-versus-a-copy\n",
      "  data[\"wiki_url\"][index] = url\n"
     ]
    },
    {
     "name": "stdout",
     "output_type": "stream",
     "text": [
      "current index: 172\n"
     ]
    },
    {
     "name": "stderr",
     "output_type": "stream",
     "text": [
      "C:\\Users\\maxji\\AppData\\Local\\Temp\\ipykernel_40900\\1159726583.py:7: SettingWithCopyWarning: \n",
      "A value is trying to be set on a copy of a slice from a DataFrame\n",
      "\n",
      "See the caveats in the documentation: https://pandas.pydata.org/pandas-docs/stable/user_guide/indexing.html#returning-a-view-versus-a-copy\n",
      "  data[\"wiki_url\"][index] = url\n"
     ]
    },
    {
     "name": "stdout",
     "output_type": "stream",
     "text": [
      "current index: 173\n"
     ]
    },
    {
     "name": "stderr",
     "output_type": "stream",
     "text": [
      "C:\\Users\\maxji\\AppData\\Local\\Temp\\ipykernel_40900\\1159726583.py:7: SettingWithCopyWarning: \n",
      "A value is trying to be set on a copy of a slice from a DataFrame\n",
      "\n",
      "See the caveats in the documentation: https://pandas.pydata.org/pandas-docs/stable/user_guide/indexing.html#returning-a-view-versus-a-copy\n",
      "  data[\"wiki_url\"][index] = url\n"
     ]
    },
    {
     "name": "stdout",
     "output_type": "stream",
     "text": [
      "current index: 174\n"
     ]
    },
    {
     "name": "stderr",
     "output_type": "stream",
     "text": [
      "C:\\Users\\maxji\\AppData\\Local\\Temp\\ipykernel_40900\\1159726583.py:7: SettingWithCopyWarning: \n",
      "A value is trying to be set on a copy of a slice from a DataFrame\n",
      "\n",
      "See the caveats in the documentation: https://pandas.pydata.org/pandas-docs/stable/user_guide/indexing.html#returning-a-view-versus-a-copy\n",
      "  data[\"wiki_url\"][index] = url\n"
     ]
    },
    {
     "name": "stdout",
     "output_type": "stream",
     "text": [
      "current index: 175\n"
     ]
    },
    {
     "name": "stderr",
     "output_type": "stream",
     "text": [
      "C:\\Users\\maxji\\AppData\\Local\\Temp\\ipykernel_40900\\1159726583.py:7: SettingWithCopyWarning: \n",
      "A value is trying to be set on a copy of a slice from a DataFrame\n",
      "\n",
      "See the caveats in the documentation: https://pandas.pydata.org/pandas-docs/stable/user_guide/indexing.html#returning-a-view-versus-a-copy\n",
      "  data[\"wiki_url\"][index] = url\n"
     ]
    },
    {
     "name": "stdout",
     "output_type": "stream",
     "text": [
      "current index: 176\n"
     ]
    },
    {
     "name": "stderr",
     "output_type": "stream",
     "text": [
      "C:\\Users\\maxji\\AppData\\Local\\Temp\\ipykernel_40900\\1159726583.py:7: SettingWithCopyWarning: \n",
      "A value is trying to be set on a copy of a slice from a DataFrame\n",
      "\n",
      "See the caveats in the documentation: https://pandas.pydata.org/pandas-docs/stable/user_guide/indexing.html#returning-a-view-versus-a-copy\n",
      "  data[\"wiki_url\"][index] = url\n"
     ]
    },
    {
     "name": "stdout",
     "output_type": "stream",
     "text": [
      "current index: 177\n"
     ]
    },
    {
     "name": "stderr",
     "output_type": "stream",
     "text": [
      "C:\\Users\\maxji\\AppData\\Local\\Temp\\ipykernel_40900\\1159726583.py:7: SettingWithCopyWarning: \n",
      "A value is trying to be set on a copy of a slice from a DataFrame\n",
      "\n",
      "See the caveats in the documentation: https://pandas.pydata.org/pandas-docs/stable/user_guide/indexing.html#returning-a-view-versus-a-copy\n",
      "  data[\"wiki_url\"][index] = url\n"
     ]
    },
    {
     "name": "stdout",
     "output_type": "stream",
     "text": [
      "current index: 178\n"
     ]
    },
    {
     "name": "stderr",
     "output_type": "stream",
     "text": [
      "C:\\Users\\maxji\\AppData\\Local\\Temp\\ipykernel_40900\\1159726583.py:7: SettingWithCopyWarning: \n",
      "A value is trying to be set on a copy of a slice from a DataFrame\n",
      "\n",
      "See the caveats in the documentation: https://pandas.pydata.org/pandas-docs/stable/user_guide/indexing.html#returning-a-view-versus-a-copy\n",
      "  data[\"wiki_url\"][index] = url\n"
     ]
    },
    {
     "name": "stdout",
     "output_type": "stream",
     "text": [
      "current index: 179\n"
     ]
    },
    {
     "name": "stderr",
     "output_type": "stream",
     "text": [
      "C:\\Users\\maxji\\AppData\\Local\\Temp\\ipykernel_40900\\1159726583.py:7: SettingWithCopyWarning: \n",
      "A value is trying to be set on a copy of a slice from a DataFrame\n",
      "\n",
      "See the caveats in the documentation: https://pandas.pydata.org/pandas-docs/stable/user_guide/indexing.html#returning-a-view-versus-a-copy\n",
      "  data[\"wiki_url\"][index] = url\n"
     ]
    },
    {
     "name": "stdout",
     "output_type": "stream",
     "text": [
      "current index: 180\n"
     ]
    },
    {
     "name": "stderr",
     "output_type": "stream",
     "text": [
      "C:\\Users\\maxji\\AppData\\Local\\Temp\\ipykernel_40900\\1159726583.py:7: SettingWithCopyWarning: \n",
      "A value is trying to be set on a copy of a slice from a DataFrame\n",
      "\n",
      "See the caveats in the documentation: https://pandas.pydata.org/pandas-docs/stable/user_guide/indexing.html#returning-a-view-versus-a-copy\n",
      "  data[\"wiki_url\"][index] = url\n"
     ]
    },
    {
     "name": "stdout",
     "output_type": "stream",
     "text": [
      "current index: 181\n"
     ]
    },
    {
     "name": "stderr",
     "output_type": "stream",
     "text": [
      "C:\\Users\\maxji\\AppData\\Local\\Temp\\ipykernel_40900\\1159726583.py:7: SettingWithCopyWarning: \n",
      "A value is trying to be set on a copy of a slice from a DataFrame\n",
      "\n",
      "See the caveats in the documentation: https://pandas.pydata.org/pandas-docs/stable/user_guide/indexing.html#returning-a-view-versus-a-copy\n",
      "  data[\"wiki_url\"][index] = url\n"
     ]
    },
    {
     "name": "stdout",
     "output_type": "stream",
     "text": [
      "current index: 182\n"
     ]
    },
    {
     "name": "stderr",
     "output_type": "stream",
     "text": [
      "C:\\Users\\maxji\\AppData\\Local\\Temp\\ipykernel_40900\\1159726583.py:7: SettingWithCopyWarning: \n",
      "A value is trying to be set on a copy of a slice from a DataFrame\n",
      "\n",
      "See the caveats in the documentation: https://pandas.pydata.org/pandas-docs/stable/user_guide/indexing.html#returning-a-view-versus-a-copy\n",
      "  data[\"wiki_url\"][index] = url\n"
     ]
    },
    {
     "name": "stdout",
     "output_type": "stream",
     "text": [
      "current index: 183\n"
     ]
    },
    {
     "name": "stderr",
     "output_type": "stream",
     "text": [
      "C:\\Users\\maxji\\AppData\\Local\\Temp\\ipykernel_40900\\1159726583.py:7: SettingWithCopyWarning: \n",
      "A value is trying to be set on a copy of a slice from a DataFrame\n",
      "\n",
      "See the caveats in the documentation: https://pandas.pydata.org/pandas-docs/stable/user_guide/indexing.html#returning-a-view-versus-a-copy\n",
      "  data[\"wiki_url\"][index] = url\n"
     ]
    },
    {
     "name": "stdout",
     "output_type": "stream",
     "text": [
      "current index: 184\n"
     ]
    },
    {
     "name": "stderr",
     "output_type": "stream",
     "text": [
      "C:\\Users\\maxji\\AppData\\Local\\Temp\\ipykernel_40900\\1159726583.py:7: SettingWithCopyWarning: \n",
      "A value is trying to be set on a copy of a slice from a DataFrame\n",
      "\n",
      "See the caveats in the documentation: https://pandas.pydata.org/pandas-docs/stable/user_guide/indexing.html#returning-a-view-versus-a-copy\n",
      "  data[\"wiki_url\"][index] = url\n"
     ]
    },
    {
     "name": "stdout",
     "output_type": "stream",
     "text": [
      "current index: 185\n"
     ]
    },
    {
     "name": "stderr",
     "output_type": "stream",
     "text": [
      "C:\\Users\\maxji\\AppData\\Local\\Temp\\ipykernel_40900\\1159726583.py:7: SettingWithCopyWarning: \n",
      "A value is trying to be set on a copy of a slice from a DataFrame\n",
      "\n",
      "See the caveats in the documentation: https://pandas.pydata.org/pandas-docs/stable/user_guide/indexing.html#returning-a-view-versus-a-copy\n",
      "  data[\"wiki_url\"][index] = url\n"
     ]
    },
    {
     "name": "stdout",
     "output_type": "stream",
     "text": [
      "current index: 186\n"
     ]
    },
    {
     "name": "stderr",
     "output_type": "stream",
     "text": [
      "C:\\Users\\maxji\\AppData\\Local\\Temp\\ipykernel_40900\\1159726583.py:7: SettingWithCopyWarning: \n",
      "A value is trying to be set on a copy of a slice from a DataFrame\n",
      "\n",
      "See the caveats in the documentation: https://pandas.pydata.org/pandas-docs/stable/user_guide/indexing.html#returning-a-view-versus-a-copy\n",
      "  data[\"wiki_url\"][index] = url\n"
     ]
    },
    {
     "name": "stdout",
     "output_type": "stream",
     "text": [
      "current index: 187\n"
     ]
    },
    {
     "name": "stderr",
     "output_type": "stream",
     "text": [
      "C:\\Users\\maxji\\AppData\\Local\\Temp\\ipykernel_40900\\1159726583.py:7: SettingWithCopyWarning: \n",
      "A value is trying to be set on a copy of a slice from a DataFrame\n",
      "\n",
      "See the caveats in the documentation: https://pandas.pydata.org/pandas-docs/stable/user_guide/indexing.html#returning-a-view-versus-a-copy\n",
      "  data[\"wiki_url\"][index] = url\n"
     ]
    },
    {
     "name": "stdout",
     "output_type": "stream",
     "text": [
      "current index: 188\n"
     ]
    },
    {
     "name": "stderr",
     "output_type": "stream",
     "text": [
      "C:\\Users\\maxji\\AppData\\Local\\Temp\\ipykernel_40900\\1159726583.py:7: SettingWithCopyWarning: \n",
      "A value is trying to be set on a copy of a slice from a DataFrame\n",
      "\n",
      "See the caveats in the documentation: https://pandas.pydata.org/pandas-docs/stable/user_guide/indexing.html#returning-a-view-versus-a-copy\n",
      "  data[\"wiki_url\"][index] = url\n"
     ]
    },
    {
     "name": "stdout",
     "output_type": "stream",
     "text": [
      "current index: 189\n"
     ]
    },
    {
     "name": "stderr",
     "output_type": "stream",
     "text": [
      "C:\\Users\\maxji\\AppData\\Local\\Temp\\ipykernel_40900\\1159726583.py:7: SettingWithCopyWarning: \n",
      "A value is trying to be set on a copy of a slice from a DataFrame\n",
      "\n",
      "See the caveats in the documentation: https://pandas.pydata.org/pandas-docs/stable/user_guide/indexing.html#returning-a-view-versus-a-copy\n",
      "  data[\"wiki_url\"][index] = url\n"
     ]
    },
    {
     "name": "stdout",
     "output_type": "stream",
     "text": [
      "current index: 190\n"
     ]
    },
    {
     "name": "stderr",
     "output_type": "stream",
     "text": [
      "C:\\Users\\maxji\\AppData\\Local\\Temp\\ipykernel_40900\\1159726583.py:7: SettingWithCopyWarning: \n",
      "A value is trying to be set on a copy of a slice from a DataFrame\n",
      "\n",
      "See the caveats in the documentation: https://pandas.pydata.org/pandas-docs/stable/user_guide/indexing.html#returning-a-view-versus-a-copy\n",
      "  data[\"wiki_url\"][index] = url\n"
     ]
    },
    {
     "name": "stdout",
     "output_type": "stream",
     "text": [
      "current index: 191\n"
     ]
    },
    {
     "name": "stderr",
     "output_type": "stream",
     "text": [
      "C:\\Users\\maxji\\AppData\\Local\\Temp\\ipykernel_40900\\1159726583.py:7: SettingWithCopyWarning: \n",
      "A value is trying to be set on a copy of a slice from a DataFrame\n",
      "\n",
      "See the caveats in the documentation: https://pandas.pydata.org/pandas-docs/stable/user_guide/indexing.html#returning-a-view-versus-a-copy\n",
      "  data[\"wiki_url\"][index] = url\n"
     ]
    },
    {
     "name": "stdout",
     "output_type": "stream",
     "text": [
      "current index: 192\n"
     ]
    },
    {
     "name": "stderr",
     "output_type": "stream",
     "text": [
      "C:\\Users\\maxji\\AppData\\Local\\Temp\\ipykernel_40900\\1159726583.py:7: SettingWithCopyWarning: \n",
      "A value is trying to be set on a copy of a slice from a DataFrame\n",
      "\n",
      "See the caveats in the documentation: https://pandas.pydata.org/pandas-docs/stable/user_guide/indexing.html#returning-a-view-versus-a-copy\n",
      "  data[\"wiki_url\"][index] = url\n"
     ]
    },
    {
     "name": "stdout",
     "output_type": "stream",
     "text": [
      "current index: 193\n"
     ]
    },
    {
     "name": "stderr",
     "output_type": "stream",
     "text": [
      "C:\\Users\\maxji\\AppData\\Local\\Temp\\ipykernel_40900\\1159726583.py:7: SettingWithCopyWarning: \n",
      "A value is trying to be set on a copy of a slice from a DataFrame\n",
      "\n",
      "See the caveats in the documentation: https://pandas.pydata.org/pandas-docs/stable/user_guide/indexing.html#returning-a-view-versus-a-copy\n",
      "  data[\"wiki_url\"][index] = url\n"
     ]
    },
    {
     "name": "stdout",
     "output_type": "stream",
     "text": [
      "current index: 194\n"
     ]
    },
    {
     "name": "stderr",
     "output_type": "stream",
     "text": [
      "C:\\Users\\maxji\\AppData\\Local\\Temp\\ipykernel_40900\\1159726583.py:7: SettingWithCopyWarning: \n",
      "A value is trying to be set on a copy of a slice from a DataFrame\n",
      "\n",
      "See the caveats in the documentation: https://pandas.pydata.org/pandas-docs/stable/user_guide/indexing.html#returning-a-view-versus-a-copy\n",
      "  data[\"wiki_url\"][index] = url\n"
     ]
    },
    {
     "name": "stdout",
     "output_type": "stream",
     "text": [
      "current index: 195\n"
     ]
    },
    {
     "name": "stderr",
     "output_type": "stream",
     "text": [
      "C:\\Users\\maxji\\AppData\\Local\\Temp\\ipykernel_40900\\1159726583.py:7: SettingWithCopyWarning: \n",
      "A value is trying to be set on a copy of a slice from a DataFrame\n",
      "\n",
      "See the caveats in the documentation: https://pandas.pydata.org/pandas-docs/stable/user_guide/indexing.html#returning-a-view-versus-a-copy\n",
      "  data[\"wiki_url\"][index] = url\n"
     ]
    },
    {
     "name": "stdout",
     "output_type": "stream",
     "text": [
      "current index: 196\n"
     ]
    },
    {
     "name": "stderr",
     "output_type": "stream",
     "text": [
      "C:\\Users\\maxji\\AppData\\Local\\Temp\\ipykernel_40900\\1159726583.py:7: SettingWithCopyWarning: \n",
      "A value is trying to be set on a copy of a slice from a DataFrame\n",
      "\n",
      "See the caveats in the documentation: https://pandas.pydata.org/pandas-docs/stable/user_guide/indexing.html#returning-a-view-versus-a-copy\n",
      "  data[\"wiki_url\"][index] = url\n"
     ]
    },
    {
     "name": "stdout",
     "output_type": "stream",
     "text": [
      "current index: 197\n"
     ]
    },
    {
     "name": "stderr",
     "output_type": "stream",
     "text": [
      "C:\\Users\\maxji\\AppData\\Local\\Temp\\ipykernel_40900\\1159726583.py:7: SettingWithCopyWarning: \n",
      "A value is trying to be set on a copy of a slice from a DataFrame\n",
      "\n",
      "See the caveats in the documentation: https://pandas.pydata.org/pandas-docs/stable/user_guide/indexing.html#returning-a-view-versus-a-copy\n",
      "  data[\"wiki_url\"][index] = url\n"
     ]
    },
    {
     "name": "stdout",
     "output_type": "stream",
     "text": [
      "current index: 198\n"
     ]
    },
    {
     "name": "stderr",
     "output_type": "stream",
     "text": [
      "C:\\Users\\maxji\\AppData\\Local\\Temp\\ipykernel_40900\\1159726583.py:7: SettingWithCopyWarning: \n",
      "A value is trying to be set on a copy of a slice from a DataFrame\n",
      "\n",
      "See the caveats in the documentation: https://pandas.pydata.org/pandas-docs/stable/user_guide/indexing.html#returning-a-view-versus-a-copy\n",
      "  data[\"wiki_url\"][index] = url\n"
     ]
    },
    {
     "name": "stdout",
     "output_type": "stream",
     "text": [
      "current index: 199\n"
     ]
    },
    {
     "name": "stderr",
     "output_type": "stream",
     "text": [
      "C:\\Users\\maxji\\AppData\\Local\\Temp\\ipykernel_40900\\1159726583.py:7: SettingWithCopyWarning: \n",
      "A value is trying to be set on a copy of a slice from a DataFrame\n",
      "\n",
      "See the caveats in the documentation: https://pandas.pydata.org/pandas-docs/stable/user_guide/indexing.html#returning-a-view-versus-a-copy\n",
      "  data[\"wiki_url\"][index] = url\n"
     ]
    },
    {
     "name": "stdout",
     "output_type": "stream",
     "text": [
      "current index: 200\n"
     ]
    },
    {
     "name": "stderr",
     "output_type": "stream",
     "text": [
      "C:\\Users\\maxji\\AppData\\Local\\Temp\\ipykernel_40900\\1159726583.py:7: SettingWithCopyWarning: \n",
      "A value is trying to be set on a copy of a slice from a DataFrame\n",
      "\n",
      "See the caveats in the documentation: https://pandas.pydata.org/pandas-docs/stable/user_guide/indexing.html#returning-a-view-versus-a-copy\n",
      "  data[\"wiki_url\"][index] = url\n"
     ]
    },
    {
     "name": "stdout",
     "output_type": "stream",
     "text": [
      "current index: 201\n"
     ]
    },
    {
     "name": "stderr",
     "output_type": "stream",
     "text": [
      "C:\\Users\\maxji\\AppData\\Local\\Temp\\ipykernel_40900\\1159726583.py:7: SettingWithCopyWarning: \n",
      "A value is trying to be set on a copy of a slice from a DataFrame\n",
      "\n",
      "See the caveats in the documentation: https://pandas.pydata.org/pandas-docs/stable/user_guide/indexing.html#returning-a-view-versus-a-copy\n",
      "  data[\"wiki_url\"][index] = url\n"
     ]
    },
    {
     "name": "stdout",
     "output_type": "stream",
     "text": [
      "current index: 202\n"
     ]
    },
    {
     "name": "stderr",
     "output_type": "stream",
     "text": [
      "C:\\Users\\maxji\\AppData\\Local\\Temp\\ipykernel_40900\\1159726583.py:7: SettingWithCopyWarning: \n",
      "A value is trying to be set on a copy of a slice from a DataFrame\n",
      "\n",
      "See the caveats in the documentation: https://pandas.pydata.org/pandas-docs/stable/user_guide/indexing.html#returning-a-view-versus-a-copy\n",
      "  data[\"wiki_url\"][index] = url\n"
     ]
    },
    {
     "name": "stdout",
     "output_type": "stream",
     "text": [
      "current index: 203\n"
     ]
    },
    {
     "name": "stderr",
     "output_type": "stream",
     "text": [
      "C:\\Users\\maxji\\AppData\\Local\\Temp\\ipykernel_40900\\1159726583.py:7: SettingWithCopyWarning: \n",
      "A value is trying to be set on a copy of a slice from a DataFrame\n",
      "\n",
      "See the caveats in the documentation: https://pandas.pydata.org/pandas-docs/stable/user_guide/indexing.html#returning-a-view-versus-a-copy\n",
      "  data[\"wiki_url\"][index] = url\n"
     ]
    },
    {
     "name": "stdout",
     "output_type": "stream",
     "text": [
      "current index: 204\n"
     ]
    },
    {
     "name": "stderr",
     "output_type": "stream",
     "text": [
      "C:\\Users\\maxji\\AppData\\Local\\Temp\\ipykernel_40900\\1159726583.py:7: SettingWithCopyWarning: \n",
      "A value is trying to be set on a copy of a slice from a DataFrame\n",
      "\n",
      "See the caveats in the documentation: https://pandas.pydata.org/pandas-docs/stable/user_guide/indexing.html#returning-a-view-versus-a-copy\n",
      "  data[\"wiki_url\"][index] = url\n"
     ]
    },
    {
     "name": "stdout",
     "output_type": "stream",
     "text": [
      "current index: 205\n"
     ]
    },
    {
     "name": "stderr",
     "output_type": "stream",
     "text": [
      "C:\\Users\\maxji\\AppData\\Local\\Temp\\ipykernel_40900\\1159726583.py:7: SettingWithCopyWarning: \n",
      "A value is trying to be set on a copy of a slice from a DataFrame\n",
      "\n",
      "See the caveats in the documentation: https://pandas.pydata.org/pandas-docs/stable/user_guide/indexing.html#returning-a-view-versus-a-copy\n",
      "  data[\"wiki_url\"][index] = url\n"
     ]
    },
    {
     "name": "stdout",
     "output_type": "stream",
     "text": [
      "current index: 206\n"
     ]
    },
    {
     "name": "stderr",
     "output_type": "stream",
     "text": [
      "C:\\Users\\maxji\\AppData\\Local\\Temp\\ipykernel_40900\\1159726583.py:7: SettingWithCopyWarning: \n",
      "A value is trying to be set on a copy of a slice from a DataFrame\n",
      "\n",
      "See the caveats in the documentation: https://pandas.pydata.org/pandas-docs/stable/user_guide/indexing.html#returning-a-view-versus-a-copy\n",
      "  data[\"wiki_url\"][index] = url\n"
     ]
    },
    {
     "name": "stdout",
     "output_type": "stream",
     "text": [
      "current index: 207\n"
     ]
    },
    {
     "name": "stderr",
     "output_type": "stream",
     "text": [
      "C:\\Users\\maxji\\AppData\\Local\\Temp\\ipykernel_40900\\1159726583.py:7: SettingWithCopyWarning: \n",
      "A value is trying to be set on a copy of a slice from a DataFrame\n",
      "\n",
      "See the caveats in the documentation: https://pandas.pydata.org/pandas-docs/stable/user_guide/indexing.html#returning-a-view-versus-a-copy\n",
      "  data[\"wiki_url\"][index] = url\n"
     ]
    },
    {
     "name": "stdout",
     "output_type": "stream",
     "text": [
      "current index: 208\n"
     ]
    },
    {
     "name": "stderr",
     "output_type": "stream",
     "text": [
      "C:\\Users\\maxji\\AppData\\Local\\Temp\\ipykernel_40900\\1159726583.py:7: SettingWithCopyWarning: \n",
      "A value is trying to be set on a copy of a slice from a DataFrame\n",
      "\n",
      "See the caveats in the documentation: https://pandas.pydata.org/pandas-docs/stable/user_guide/indexing.html#returning-a-view-versus-a-copy\n",
      "  data[\"wiki_url\"][index] = url\n"
     ]
    },
    {
     "name": "stdout",
     "output_type": "stream",
     "text": [
      "current index: 209\n"
     ]
    },
    {
     "name": "stderr",
     "output_type": "stream",
     "text": [
      "C:\\Users\\maxji\\AppData\\Local\\Temp\\ipykernel_40900\\1159726583.py:7: SettingWithCopyWarning: \n",
      "A value is trying to be set on a copy of a slice from a DataFrame\n",
      "\n",
      "See the caveats in the documentation: https://pandas.pydata.org/pandas-docs/stable/user_guide/indexing.html#returning-a-view-versus-a-copy\n",
      "  data[\"wiki_url\"][index] = url\n"
     ]
    },
    {
     "name": "stdout",
     "output_type": "stream",
     "text": [
      "current index: 210\n"
     ]
    },
    {
     "name": "stderr",
     "output_type": "stream",
     "text": [
      "C:\\Users\\maxji\\AppData\\Local\\Temp\\ipykernel_40900\\1159726583.py:7: SettingWithCopyWarning: \n",
      "A value is trying to be set on a copy of a slice from a DataFrame\n",
      "\n",
      "See the caveats in the documentation: https://pandas.pydata.org/pandas-docs/stable/user_guide/indexing.html#returning-a-view-versus-a-copy\n",
      "  data[\"wiki_url\"][index] = url\n"
     ]
    },
    {
     "name": "stdout",
     "output_type": "stream",
     "text": [
      "current index: 211\n"
     ]
    },
    {
     "name": "stderr",
     "output_type": "stream",
     "text": [
      "C:\\Users\\maxji\\AppData\\Local\\Temp\\ipykernel_40900\\1159726583.py:7: SettingWithCopyWarning: \n",
      "A value is trying to be set on a copy of a slice from a DataFrame\n",
      "\n",
      "See the caveats in the documentation: https://pandas.pydata.org/pandas-docs/stable/user_guide/indexing.html#returning-a-view-versus-a-copy\n",
      "  data[\"wiki_url\"][index] = url\n"
     ]
    },
    {
     "name": "stdout",
     "output_type": "stream",
     "text": [
      "current index: 212\n"
     ]
    },
    {
     "name": "stderr",
     "output_type": "stream",
     "text": [
      "C:\\Users\\maxji\\AppData\\Local\\Temp\\ipykernel_40900\\1159726583.py:7: SettingWithCopyWarning: \n",
      "A value is trying to be set on a copy of a slice from a DataFrame\n",
      "\n",
      "See the caveats in the documentation: https://pandas.pydata.org/pandas-docs/stable/user_guide/indexing.html#returning-a-view-versus-a-copy\n",
      "  data[\"wiki_url\"][index] = url\n"
     ]
    },
    {
     "name": "stdout",
     "output_type": "stream",
     "text": [
      "current index: 213\n"
     ]
    },
    {
     "name": "stderr",
     "output_type": "stream",
     "text": [
      "C:\\Users\\maxji\\AppData\\Local\\Temp\\ipykernel_40900\\1159726583.py:7: SettingWithCopyWarning: \n",
      "A value is trying to be set on a copy of a slice from a DataFrame\n",
      "\n",
      "See the caveats in the documentation: https://pandas.pydata.org/pandas-docs/stable/user_guide/indexing.html#returning-a-view-versus-a-copy\n",
      "  data[\"wiki_url\"][index] = url\n"
     ]
    },
    {
     "name": "stdout",
     "output_type": "stream",
     "text": [
      "current index: 214\n"
     ]
    },
    {
     "name": "stderr",
     "output_type": "stream",
     "text": [
      "C:\\Users\\maxji\\AppData\\Local\\Temp\\ipykernel_40900\\1159726583.py:7: SettingWithCopyWarning: \n",
      "A value is trying to be set on a copy of a slice from a DataFrame\n",
      "\n",
      "See the caveats in the documentation: https://pandas.pydata.org/pandas-docs/stable/user_guide/indexing.html#returning-a-view-versus-a-copy\n",
      "  data[\"wiki_url\"][index] = url\n"
     ]
    },
    {
     "name": "stdout",
     "output_type": "stream",
     "text": [
      "current index: 215\n"
     ]
    },
    {
     "name": "stderr",
     "output_type": "stream",
     "text": [
      "C:\\Users\\maxji\\AppData\\Local\\Temp\\ipykernel_40900\\1159726583.py:7: SettingWithCopyWarning: \n",
      "A value is trying to be set on a copy of a slice from a DataFrame\n",
      "\n",
      "See the caveats in the documentation: https://pandas.pydata.org/pandas-docs/stable/user_guide/indexing.html#returning-a-view-versus-a-copy\n",
      "  data[\"wiki_url\"][index] = url\n"
     ]
    },
    {
     "name": "stdout",
     "output_type": "stream",
     "text": [
      "current index: 216\n"
     ]
    },
    {
     "name": "stderr",
     "output_type": "stream",
     "text": [
      "C:\\Users\\maxji\\AppData\\Local\\Temp\\ipykernel_40900\\1159726583.py:7: SettingWithCopyWarning: \n",
      "A value is trying to be set on a copy of a slice from a DataFrame\n",
      "\n",
      "See the caveats in the documentation: https://pandas.pydata.org/pandas-docs/stable/user_guide/indexing.html#returning-a-view-versus-a-copy\n",
      "  data[\"wiki_url\"][index] = url\n"
     ]
    },
    {
     "name": "stdout",
     "output_type": "stream",
     "text": [
      "current index: 217\n"
     ]
    },
    {
     "name": "stderr",
     "output_type": "stream",
     "text": [
      "C:\\Users\\maxji\\AppData\\Local\\Temp\\ipykernel_40900\\1159726583.py:7: SettingWithCopyWarning: \n",
      "A value is trying to be set on a copy of a slice from a DataFrame\n",
      "\n",
      "See the caveats in the documentation: https://pandas.pydata.org/pandas-docs/stable/user_guide/indexing.html#returning-a-view-versus-a-copy\n",
      "  data[\"wiki_url\"][index] = url\n"
     ]
    },
    {
     "name": "stdout",
     "output_type": "stream",
     "text": [
      "current index: 218\n"
     ]
    },
    {
     "name": "stderr",
     "output_type": "stream",
     "text": [
      "C:\\Users\\maxji\\AppData\\Local\\Temp\\ipykernel_40900\\1159726583.py:7: SettingWithCopyWarning: \n",
      "A value is trying to be set on a copy of a slice from a DataFrame\n",
      "\n",
      "See the caveats in the documentation: https://pandas.pydata.org/pandas-docs/stable/user_guide/indexing.html#returning-a-view-versus-a-copy\n",
      "  data[\"wiki_url\"][index] = url\n"
     ]
    },
    {
     "name": "stdout",
     "output_type": "stream",
     "text": [
      "current index: 219\n"
     ]
    },
    {
     "name": "stderr",
     "output_type": "stream",
     "text": [
      "C:\\Users\\maxji\\AppData\\Local\\Temp\\ipykernel_40900\\1159726583.py:7: SettingWithCopyWarning: \n",
      "A value is trying to be set on a copy of a slice from a DataFrame\n",
      "\n",
      "See the caveats in the documentation: https://pandas.pydata.org/pandas-docs/stable/user_guide/indexing.html#returning-a-view-versus-a-copy\n",
      "  data[\"wiki_url\"][index] = url\n"
     ]
    },
    {
     "name": "stdout",
     "output_type": "stream",
     "text": [
      "current index: 220\n"
     ]
    },
    {
     "name": "stderr",
     "output_type": "stream",
     "text": [
      "C:\\Users\\maxji\\AppData\\Local\\Temp\\ipykernel_40900\\1159726583.py:7: SettingWithCopyWarning: \n",
      "A value is trying to be set on a copy of a slice from a DataFrame\n",
      "\n",
      "See the caveats in the documentation: https://pandas.pydata.org/pandas-docs/stable/user_guide/indexing.html#returning-a-view-versus-a-copy\n",
      "  data[\"wiki_url\"][index] = url\n"
     ]
    },
    {
     "name": "stdout",
     "output_type": "stream",
     "text": [
      "current index: 221\n"
     ]
    },
    {
     "name": "stderr",
     "output_type": "stream",
     "text": [
      "C:\\Users\\maxji\\AppData\\Local\\Temp\\ipykernel_40900\\1159726583.py:7: SettingWithCopyWarning: \n",
      "A value is trying to be set on a copy of a slice from a DataFrame\n",
      "\n",
      "See the caveats in the documentation: https://pandas.pydata.org/pandas-docs/stable/user_guide/indexing.html#returning-a-view-versus-a-copy\n",
      "  data[\"wiki_url\"][index] = url\n"
     ]
    },
    {
     "name": "stdout",
     "output_type": "stream",
     "text": [
      "current index: 222\n"
     ]
    },
    {
     "name": "stderr",
     "output_type": "stream",
     "text": [
      "C:\\Users\\maxji\\AppData\\Local\\Temp\\ipykernel_40900\\1159726583.py:7: SettingWithCopyWarning: \n",
      "A value is trying to be set on a copy of a slice from a DataFrame\n",
      "\n",
      "See the caveats in the documentation: https://pandas.pydata.org/pandas-docs/stable/user_guide/indexing.html#returning-a-view-versus-a-copy\n",
      "  data[\"wiki_url\"][index] = url\n"
     ]
    },
    {
     "name": "stdout",
     "output_type": "stream",
     "text": [
      "current index: 223\n"
     ]
    },
    {
     "name": "stderr",
     "output_type": "stream",
     "text": [
      "C:\\Users\\maxji\\AppData\\Local\\Temp\\ipykernel_40900\\1159726583.py:7: SettingWithCopyWarning: \n",
      "A value is trying to be set on a copy of a slice from a DataFrame\n",
      "\n",
      "See the caveats in the documentation: https://pandas.pydata.org/pandas-docs/stable/user_guide/indexing.html#returning-a-view-versus-a-copy\n",
      "  data[\"wiki_url\"][index] = url\n"
     ]
    },
    {
     "name": "stdout",
     "output_type": "stream",
     "text": [
      "current index: 224\n"
     ]
    },
    {
     "name": "stderr",
     "output_type": "stream",
     "text": [
      "C:\\Users\\maxji\\AppData\\Local\\Temp\\ipykernel_40900\\1159726583.py:7: SettingWithCopyWarning: \n",
      "A value is trying to be set on a copy of a slice from a DataFrame\n",
      "\n",
      "See the caveats in the documentation: https://pandas.pydata.org/pandas-docs/stable/user_guide/indexing.html#returning-a-view-versus-a-copy\n",
      "  data[\"wiki_url\"][index] = url\n"
     ]
    },
    {
     "name": "stdout",
     "output_type": "stream",
     "text": [
      "current index: 225\n"
     ]
    },
    {
     "name": "stderr",
     "output_type": "stream",
     "text": [
      "C:\\Users\\maxji\\AppData\\Local\\Temp\\ipykernel_40900\\1159726583.py:7: SettingWithCopyWarning: \n",
      "A value is trying to be set on a copy of a slice from a DataFrame\n",
      "\n",
      "See the caveats in the documentation: https://pandas.pydata.org/pandas-docs/stable/user_guide/indexing.html#returning-a-view-versus-a-copy\n",
      "  data[\"wiki_url\"][index] = url\n"
     ]
    },
    {
     "name": "stdout",
     "output_type": "stream",
     "text": [
      "current index: 226\n"
     ]
    },
    {
     "name": "stderr",
     "output_type": "stream",
     "text": [
      "C:\\Users\\maxji\\AppData\\Local\\Temp\\ipykernel_40900\\1159726583.py:7: SettingWithCopyWarning: \n",
      "A value is trying to be set on a copy of a slice from a DataFrame\n",
      "\n",
      "See the caveats in the documentation: https://pandas.pydata.org/pandas-docs/stable/user_guide/indexing.html#returning-a-view-versus-a-copy\n",
      "  data[\"wiki_url\"][index] = url\n"
     ]
    },
    {
     "name": "stdout",
     "output_type": "stream",
     "text": [
      "current index: 227\n"
     ]
    },
    {
     "name": "stderr",
     "output_type": "stream",
     "text": [
      "C:\\Users\\maxji\\AppData\\Local\\Temp\\ipykernel_40900\\1159726583.py:7: SettingWithCopyWarning: \n",
      "A value is trying to be set on a copy of a slice from a DataFrame\n",
      "\n",
      "See the caveats in the documentation: https://pandas.pydata.org/pandas-docs/stable/user_guide/indexing.html#returning-a-view-versus-a-copy\n",
      "  data[\"wiki_url\"][index] = url\n"
     ]
    },
    {
     "name": "stdout",
     "output_type": "stream",
     "text": [
      "current index: 228\n"
     ]
    },
    {
     "name": "stderr",
     "output_type": "stream",
     "text": [
      "C:\\Users\\maxji\\AppData\\Local\\Temp\\ipykernel_40900\\1159726583.py:7: SettingWithCopyWarning: \n",
      "A value is trying to be set on a copy of a slice from a DataFrame\n",
      "\n",
      "See the caveats in the documentation: https://pandas.pydata.org/pandas-docs/stable/user_guide/indexing.html#returning-a-view-versus-a-copy\n",
      "  data[\"wiki_url\"][index] = url\n"
     ]
    },
    {
     "name": "stdout",
     "output_type": "stream",
     "text": [
      "current index: 229\n"
     ]
    },
    {
     "name": "stderr",
     "output_type": "stream",
     "text": [
      "C:\\Users\\maxji\\AppData\\Local\\Temp\\ipykernel_40900\\1159726583.py:7: SettingWithCopyWarning: \n",
      "A value is trying to be set on a copy of a slice from a DataFrame\n",
      "\n",
      "See the caveats in the documentation: https://pandas.pydata.org/pandas-docs/stable/user_guide/indexing.html#returning-a-view-versus-a-copy\n",
      "  data[\"wiki_url\"][index] = url\n"
     ]
    },
    {
     "name": "stdout",
     "output_type": "stream",
     "text": [
      "current index: 230\n"
     ]
    },
    {
     "name": "stderr",
     "output_type": "stream",
     "text": [
      "C:\\Users\\maxji\\AppData\\Local\\Temp\\ipykernel_40900\\1159726583.py:7: SettingWithCopyWarning: \n",
      "A value is trying to be set on a copy of a slice from a DataFrame\n",
      "\n",
      "See the caveats in the documentation: https://pandas.pydata.org/pandas-docs/stable/user_guide/indexing.html#returning-a-view-versus-a-copy\n",
      "  data[\"wiki_url\"][index] = url\n"
     ]
    },
    {
     "name": "stdout",
     "output_type": "stream",
     "text": [
      "current index: 231\n"
     ]
    },
    {
     "name": "stderr",
     "output_type": "stream",
     "text": [
      "C:\\Users\\maxji\\AppData\\Local\\Temp\\ipykernel_40900\\1159726583.py:7: SettingWithCopyWarning: \n",
      "A value is trying to be set on a copy of a slice from a DataFrame\n",
      "\n",
      "See the caveats in the documentation: https://pandas.pydata.org/pandas-docs/stable/user_guide/indexing.html#returning-a-view-versus-a-copy\n",
      "  data[\"wiki_url\"][index] = url\n"
     ]
    },
    {
     "name": "stdout",
     "output_type": "stream",
     "text": [
      "current index: 232\n"
     ]
    },
    {
     "name": "stderr",
     "output_type": "stream",
     "text": [
      "C:\\Users\\maxji\\AppData\\Local\\Temp\\ipykernel_40900\\1159726583.py:7: SettingWithCopyWarning: \n",
      "A value is trying to be set on a copy of a slice from a DataFrame\n",
      "\n",
      "See the caveats in the documentation: https://pandas.pydata.org/pandas-docs/stable/user_guide/indexing.html#returning-a-view-versus-a-copy\n",
      "  data[\"wiki_url\"][index] = url\n"
     ]
    },
    {
     "name": "stdout",
     "output_type": "stream",
     "text": [
      "current index: 233\n"
     ]
    },
    {
     "name": "stderr",
     "output_type": "stream",
     "text": [
      "C:\\Users\\maxji\\AppData\\Local\\Temp\\ipykernel_40900\\1159726583.py:7: SettingWithCopyWarning: \n",
      "A value is trying to be set on a copy of a slice from a DataFrame\n",
      "\n",
      "See the caveats in the documentation: https://pandas.pydata.org/pandas-docs/stable/user_guide/indexing.html#returning-a-view-versus-a-copy\n",
      "  data[\"wiki_url\"][index] = url\n"
     ]
    },
    {
     "name": "stdout",
     "output_type": "stream",
     "text": [
      "current index: 234\n"
     ]
    },
    {
     "name": "stderr",
     "output_type": "stream",
     "text": [
      "C:\\Users\\maxji\\AppData\\Local\\Temp\\ipykernel_40900\\1159726583.py:7: SettingWithCopyWarning: \n",
      "A value is trying to be set on a copy of a slice from a DataFrame\n",
      "\n",
      "See the caveats in the documentation: https://pandas.pydata.org/pandas-docs/stable/user_guide/indexing.html#returning-a-view-versus-a-copy\n",
      "  data[\"wiki_url\"][index] = url\n"
     ]
    },
    {
     "name": "stdout",
     "output_type": "stream",
     "text": [
      "current index: 235\n"
     ]
    },
    {
     "name": "stderr",
     "output_type": "stream",
     "text": [
      "C:\\Users\\maxji\\AppData\\Local\\Temp\\ipykernel_40900\\1159726583.py:7: SettingWithCopyWarning: \n",
      "A value is trying to be set on a copy of a slice from a DataFrame\n",
      "\n",
      "See the caveats in the documentation: https://pandas.pydata.org/pandas-docs/stable/user_guide/indexing.html#returning-a-view-versus-a-copy\n",
      "  data[\"wiki_url\"][index] = url\n"
     ]
    },
    {
     "name": "stdout",
     "output_type": "stream",
     "text": [
      "current index: 236\n"
     ]
    },
    {
     "name": "stderr",
     "output_type": "stream",
     "text": [
      "C:\\Users\\maxji\\AppData\\Local\\Temp\\ipykernel_40900\\1159726583.py:7: SettingWithCopyWarning: \n",
      "A value is trying to be set on a copy of a slice from a DataFrame\n",
      "\n",
      "See the caveats in the documentation: https://pandas.pydata.org/pandas-docs/stable/user_guide/indexing.html#returning-a-view-versus-a-copy\n",
      "  data[\"wiki_url\"][index] = url\n"
     ]
    },
    {
     "name": "stdout",
     "output_type": "stream",
     "text": [
      "current index: 237\n"
     ]
    },
    {
     "name": "stderr",
     "output_type": "stream",
     "text": [
      "C:\\Users\\maxji\\AppData\\Local\\Temp\\ipykernel_40900\\1159726583.py:7: SettingWithCopyWarning: \n",
      "A value is trying to be set on a copy of a slice from a DataFrame\n",
      "\n",
      "See the caveats in the documentation: https://pandas.pydata.org/pandas-docs/stable/user_guide/indexing.html#returning-a-view-versus-a-copy\n",
      "  data[\"wiki_url\"][index] = url\n"
     ]
    },
    {
     "name": "stdout",
     "output_type": "stream",
     "text": [
      "current index: 238\n"
     ]
    },
    {
     "name": "stderr",
     "output_type": "stream",
     "text": [
      "C:\\Users\\maxji\\AppData\\Local\\Temp\\ipykernel_40900\\1159726583.py:7: SettingWithCopyWarning: \n",
      "A value is trying to be set on a copy of a slice from a DataFrame\n",
      "\n",
      "See the caveats in the documentation: https://pandas.pydata.org/pandas-docs/stable/user_guide/indexing.html#returning-a-view-versus-a-copy\n",
      "  data[\"wiki_url\"][index] = url\n"
     ]
    },
    {
     "name": "stdout",
     "output_type": "stream",
     "text": [
      "current index: 239\n"
     ]
    },
    {
     "name": "stderr",
     "output_type": "stream",
     "text": [
      "C:\\Users\\maxji\\AppData\\Local\\Temp\\ipykernel_40900\\1159726583.py:7: SettingWithCopyWarning: \n",
      "A value is trying to be set on a copy of a slice from a DataFrame\n",
      "\n",
      "See the caveats in the documentation: https://pandas.pydata.org/pandas-docs/stable/user_guide/indexing.html#returning-a-view-versus-a-copy\n",
      "  data[\"wiki_url\"][index] = url\n"
     ]
    },
    {
     "name": "stdout",
     "output_type": "stream",
     "text": [
      "current index: 240\n"
     ]
    },
    {
     "name": "stderr",
     "output_type": "stream",
     "text": [
      "C:\\Users\\maxji\\AppData\\Local\\Temp\\ipykernel_40900\\1159726583.py:7: SettingWithCopyWarning: \n",
      "A value is trying to be set on a copy of a slice from a DataFrame\n",
      "\n",
      "See the caveats in the documentation: https://pandas.pydata.org/pandas-docs/stable/user_guide/indexing.html#returning-a-view-versus-a-copy\n",
      "  data[\"wiki_url\"][index] = url\n"
     ]
    },
    {
     "name": "stdout",
     "output_type": "stream",
     "text": [
      "current index: 241\n"
     ]
    },
    {
     "name": "stderr",
     "output_type": "stream",
     "text": [
      "C:\\Users\\maxji\\AppData\\Local\\Temp\\ipykernel_40900\\1159726583.py:7: SettingWithCopyWarning: \n",
      "A value is trying to be set on a copy of a slice from a DataFrame\n",
      "\n",
      "See the caveats in the documentation: https://pandas.pydata.org/pandas-docs/stable/user_guide/indexing.html#returning-a-view-versus-a-copy\n",
      "  data[\"wiki_url\"][index] = url\n"
     ]
    },
    {
     "name": "stdout",
     "output_type": "stream",
     "text": [
      "current index: 242\n"
     ]
    },
    {
     "name": "stderr",
     "output_type": "stream",
     "text": [
      "C:\\Users\\maxji\\AppData\\Local\\Temp\\ipykernel_40900\\1159726583.py:7: SettingWithCopyWarning: \n",
      "A value is trying to be set on a copy of a slice from a DataFrame\n",
      "\n",
      "See the caveats in the documentation: https://pandas.pydata.org/pandas-docs/stable/user_guide/indexing.html#returning-a-view-versus-a-copy\n",
      "  data[\"wiki_url\"][index] = url\n"
     ]
    },
    {
     "name": "stdout",
     "output_type": "stream",
     "text": [
      "current index: 243\n"
     ]
    },
    {
     "name": "stderr",
     "output_type": "stream",
     "text": [
      "C:\\Users\\maxji\\AppData\\Local\\Temp\\ipykernel_40900\\1159726583.py:7: SettingWithCopyWarning: \n",
      "A value is trying to be set on a copy of a slice from a DataFrame\n",
      "\n",
      "See the caveats in the documentation: https://pandas.pydata.org/pandas-docs/stable/user_guide/indexing.html#returning-a-view-versus-a-copy\n",
      "  data[\"wiki_url\"][index] = url\n"
     ]
    },
    {
     "name": "stdout",
     "output_type": "stream",
     "text": [
      "current index: 244\n"
     ]
    },
    {
     "name": "stderr",
     "output_type": "stream",
     "text": [
      "C:\\Users\\maxji\\AppData\\Local\\Temp\\ipykernel_40900\\1159726583.py:7: SettingWithCopyWarning: \n",
      "A value is trying to be set on a copy of a slice from a DataFrame\n",
      "\n",
      "See the caveats in the documentation: https://pandas.pydata.org/pandas-docs/stable/user_guide/indexing.html#returning-a-view-versus-a-copy\n",
      "  data[\"wiki_url\"][index] = url\n"
     ]
    },
    {
     "name": "stdout",
     "output_type": "stream",
     "text": [
      "current index: 245\n"
     ]
    },
    {
     "name": "stderr",
     "output_type": "stream",
     "text": [
      "C:\\Users\\maxji\\AppData\\Local\\Temp\\ipykernel_40900\\1159726583.py:7: SettingWithCopyWarning: \n",
      "A value is trying to be set on a copy of a slice from a DataFrame\n",
      "\n",
      "See the caveats in the documentation: https://pandas.pydata.org/pandas-docs/stable/user_guide/indexing.html#returning-a-view-versus-a-copy\n",
      "  data[\"wiki_url\"][index] = url\n"
     ]
    },
    {
     "name": "stdout",
     "output_type": "stream",
     "text": [
      "current index: 246\n"
     ]
    },
    {
     "name": "stderr",
     "output_type": "stream",
     "text": [
      "C:\\Users\\maxji\\AppData\\Local\\Temp\\ipykernel_40900\\1159726583.py:7: SettingWithCopyWarning: \n",
      "A value is trying to be set on a copy of a slice from a DataFrame\n",
      "\n",
      "See the caveats in the documentation: https://pandas.pydata.org/pandas-docs/stable/user_guide/indexing.html#returning-a-view-versus-a-copy\n",
      "  data[\"wiki_url\"][index] = url\n"
     ]
    },
    {
     "name": "stdout",
     "output_type": "stream",
     "text": [
      "current index: 247\n"
     ]
    },
    {
     "name": "stderr",
     "output_type": "stream",
     "text": [
      "C:\\Users\\maxji\\AppData\\Local\\Temp\\ipykernel_40900\\1159726583.py:7: SettingWithCopyWarning: \n",
      "A value is trying to be set on a copy of a slice from a DataFrame\n",
      "\n",
      "See the caveats in the documentation: https://pandas.pydata.org/pandas-docs/stable/user_guide/indexing.html#returning-a-view-versus-a-copy\n",
      "  data[\"wiki_url\"][index] = url\n"
     ]
    },
    {
     "name": "stdout",
     "output_type": "stream",
     "text": [
      "current index: 248\n"
     ]
    },
    {
     "name": "stderr",
     "output_type": "stream",
     "text": [
      "C:\\Users\\maxji\\AppData\\Local\\Temp\\ipykernel_40900\\1159726583.py:7: SettingWithCopyWarning: \n",
      "A value is trying to be set on a copy of a slice from a DataFrame\n",
      "\n",
      "See the caveats in the documentation: https://pandas.pydata.org/pandas-docs/stable/user_guide/indexing.html#returning-a-view-versus-a-copy\n",
      "  data[\"wiki_url\"][index] = url\n"
     ]
    },
    {
     "name": "stdout",
     "output_type": "stream",
     "text": [
      "current index: 249\n"
     ]
    },
    {
     "name": "stderr",
     "output_type": "stream",
     "text": [
      "C:\\Users\\maxji\\AppData\\Local\\Temp\\ipykernel_40900\\1159726583.py:7: SettingWithCopyWarning: \n",
      "A value is trying to be set on a copy of a slice from a DataFrame\n",
      "\n",
      "See the caveats in the documentation: https://pandas.pydata.org/pandas-docs/stable/user_guide/indexing.html#returning-a-view-versus-a-copy\n",
      "  data[\"wiki_url\"][index] = url\n"
     ]
    },
    {
     "name": "stdout",
     "output_type": "stream",
     "text": [
      "current index: 250\n"
     ]
    },
    {
     "name": "stderr",
     "output_type": "stream",
     "text": [
      "C:\\Users\\maxji\\AppData\\Local\\Temp\\ipykernel_40900\\1159726583.py:7: SettingWithCopyWarning: \n",
      "A value is trying to be set on a copy of a slice from a DataFrame\n",
      "\n",
      "See the caveats in the documentation: https://pandas.pydata.org/pandas-docs/stable/user_guide/indexing.html#returning-a-view-versus-a-copy\n",
      "  data[\"wiki_url\"][index] = url\n"
     ]
    },
    {
     "name": "stdout",
     "output_type": "stream",
     "text": [
      "current index: 251\n"
     ]
    },
    {
     "name": "stderr",
     "output_type": "stream",
     "text": [
      "C:\\Users\\maxji\\AppData\\Local\\Temp\\ipykernel_40900\\1159726583.py:7: SettingWithCopyWarning: \n",
      "A value is trying to be set on a copy of a slice from a DataFrame\n",
      "\n",
      "See the caveats in the documentation: https://pandas.pydata.org/pandas-docs/stable/user_guide/indexing.html#returning-a-view-versus-a-copy\n",
      "  data[\"wiki_url\"][index] = url\n"
     ]
    },
    {
     "name": "stdout",
     "output_type": "stream",
     "text": [
      "current index: 252\n"
     ]
    },
    {
     "name": "stderr",
     "output_type": "stream",
     "text": [
      "C:\\Users\\maxji\\AppData\\Local\\Temp\\ipykernel_40900\\1159726583.py:7: SettingWithCopyWarning: \n",
      "A value is trying to be set on a copy of a slice from a DataFrame\n",
      "\n",
      "See the caveats in the documentation: https://pandas.pydata.org/pandas-docs/stable/user_guide/indexing.html#returning-a-view-versus-a-copy\n",
      "  data[\"wiki_url\"][index] = url\n"
     ]
    },
    {
     "name": "stdout",
     "output_type": "stream",
     "text": [
      "current index: 253\n"
     ]
    },
    {
     "name": "stderr",
     "output_type": "stream",
     "text": [
      "C:\\Users\\maxji\\AppData\\Local\\Temp\\ipykernel_40900\\1159726583.py:7: SettingWithCopyWarning: \n",
      "A value is trying to be set on a copy of a slice from a DataFrame\n",
      "\n",
      "See the caveats in the documentation: https://pandas.pydata.org/pandas-docs/stable/user_guide/indexing.html#returning-a-view-versus-a-copy\n",
      "  data[\"wiki_url\"][index] = url\n"
     ]
    },
    {
     "name": "stdout",
     "output_type": "stream",
     "text": [
      "current index: 254\n"
     ]
    },
    {
     "name": "stderr",
     "output_type": "stream",
     "text": [
      "C:\\Users\\maxji\\AppData\\Local\\Temp\\ipykernel_40900\\1159726583.py:7: SettingWithCopyWarning: \n",
      "A value is trying to be set on a copy of a slice from a DataFrame\n",
      "\n",
      "See the caveats in the documentation: https://pandas.pydata.org/pandas-docs/stable/user_guide/indexing.html#returning-a-view-versus-a-copy\n",
      "  data[\"wiki_url\"][index] = url\n"
     ]
    },
    {
     "name": "stdout",
     "output_type": "stream",
     "text": [
      "current index: 255\n"
     ]
    },
    {
     "name": "stderr",
     "output_type": "stream",
     "text": [
      "C:\\Users\\maxji\\AppData\\Local\\Temp\\ipykernel_40900\\1159726583.py:7: SettingWithCopyWarning: \n",
      "A value is trying to be set on a copy of a slice from a DataFrame\n",
      "\n",
      "See the caveats in the documentation: https://pandas.pydata.org/pandas-docs/stable/user_guide/indexing.html#returning-a-view-versus-a-copy\n",
      "  data[\"wiki_url\"][index] = url\n"
     ]
    },
    {
     "name": "stdout",
     "output_type": "stream",
     "text": [
      "current index: 256\n"
     ]
    },
    {
     "name": "stderr",
     "output_type": "stream",
     "text": [
      "C:\\Users\\maxji\\AppData\\Local\\Temp\\ipykernel_40900\\1159726583.py:7: SettingWithCopyWarning: \n",
      "A value is trying to be set on a copy of a slice from a DataFrame\n",
      "\n",
      "See the caveats in the documentation: https://pandas.pydata.org/pandas-docs/stable/user_guide/indexing.html#returning-a-view-versus-a-copy\n",
      "  data[\"wiki_url\"][index] = url\n"
     ]
    },
    {
     "name": "stdout",
     "output_type": "stream",
     "text": [
      "current index: 257\n"
     ]
    },
    {
     "name": "stderr",
     "output_type": "stream",
     "text": [
      "C:\\Users\\maxji\\AppData\\Local\\Temp\\ipykernel_40900\\1159726583.py:7: SettingWithCopyWarning: \n",
      "A value is trying to be set on a copy of a slice from a DataFrame\n",
      "\n",
      "See the caveats in the documentation: https://pandas.pydata.org/pandas-docs/stable/user_guide/indexing.html#returning-a-view-versus-a-copy\n",
      "  data[\"wiki_url\"][index] = url\n"
     ]
    },
    {
     "name": "stdout",
     "output_type": "stream",
     "text": [
      "current index: 258\n"
     ]
    },
    {
     "name": "stderr",
     "output_type": "stream",
     "text": [
      "C:\\Users\\maxji\\AppData\\Local\\Temp\\ipykernel_40900\\1159726583.py:7: SettingWithCopyWarning: \n",
      "A value is trying to be set on a copy of a slice from a DataFrame\n",
      "\n",
      "See the caveats in the documentation: https://pandas.pydata.org/pandas-docs/stable/user_guide/indexing.html#returning-a-view-versus-a-copy\n",
      "  data[\"wiki_url\"][index] = url\n"
     ]
    },
    {
     "name": "stdout",
     "output_type": "stream",
     "text": [
      "current index: 259\n"
     ]
    },
    {
     "name": "stderr",
     "output_type": "stream",
     "text": [
      "C:\\Users\\maxji\\AppData\\Local\\Temp\\ipykernel_40900\\1159726583.py:7: SettingWithCopyWarning: \n",
      "A value is trying to be set on a copy of a slice from a DataFrame\n",
      "\n",
      "See the caveats in the documentation: https://pandas.pydata.org/pandas-docs/stable/user_guide/indexing.html#returning-a-view-versus-a-copy\n",
      "  data[\"wiki_url\"][index] = url\n"
     ]
    },
    {
     "name": "stdout",
     "output_type": "stream",
     "text": [
      "current index: 260\n"
     ]
    },
    {
     "name": "stderr",
     "output_type": "stream",
     "text": [
      "C:\\Users\\maxji\\AppData\\Local\\Temp\\ipykernel_40900\\1159726583.py:7: SettingWithCopyWarning: \n",
      "A value is trying to be set on a copy of a slice from a DataFrame\n",
      "\n",
      "See the caveats in the documentation: https://pandas.pydata.org/pandas-docs/stable/user_guide/indexing.html#returning-a-view-versus-a-copy\n",
      "  data[\"wiki_url\"][index] = url\n"
     ]
    },
    {
     "name": "stdout",
     "output_type": "stream",
     "text": [
      "current index: 261\n"
     ]
    },
    {
     "name": "stderr",
     "output_type": "stream",
     "text": [
      "C:\\Users\\maxji\\AppData\\Local\\Temp\\ipykernel_40900\\1159726583.py:7: SettingWithCopyWarning: \n",
      "A value is trying to be set on a copy of a slice from a DataFrame\n",
      "\n",
      "See the caveats in the documentation: https://pandas.pydata.org/pandas-docs/stable/user_guide/indexing.html#returning-a-view-versus-a-copy\n",
      "  data[\"wiki_url\"][index] = url\n"
     ]
    },
    {
     "name": "stdout",
     "output_type": "stream",
     "text": [
      "current index: 262\n"
     ]
    },
    {
     "name": "stderr",
     "output_type": "stream",
     "text": [
      "C:\\Users\\maxji\\AppData\\Local\\Temp\\ipykernel_40900\\1159726583.py:7: SettingWithCopyWarning: \n",
      "A value is trying to be set on a copy of a slice from a DataFrame\n",
      "\n",
      "See the caveats in the documentation: https://pandas.pydata.org/pandas-docs/stable/user_guide/indexing.html#returning-a-view-versus-a-copy\n",
      "  data[\"wiki_url\"][index] = url\n"
     ]
    },
    {
     "name": "stdout",
     "output_type": "stream",
     "text": [
      "current index: 263\n"
     ]
    },
    {
     "name": "stderr",
     "output_type": "stream",
     "text": [
      "C:\\Users\\maxji\\AppData\\Local\\Temp\\ipykernel_40900\\1159726583.py:7: SettingWithCopyWarning: \n",
      "A value is trying to be set on a copy of a slice from a DataFrame\n",
      "\n",
      "See the caveats in the documentation: https://pandas.pydata.org/pandas-docs/stable/user_guide/indexing.html#returning-a-view-versus-a-copy\n",
      "  data[\"wiki_url\"][index] = url\n"
     ]
    },
    {
     "name": "stdout",
     "output_type": "stream",
     "text": [
      "current index: 264\n"
     ]
    },
    {
     "name": "stderr",
     "output_type": "stream",
     "text": [
      "C:\\Users\\maxji\\AppData\\Local\\Temp\\ipykernel_40900\\1159726583.py:7: SettingWithCopyWarning: \n",
      "A value is trying to be set on a copy of a slice from a DataFrame\n",
      "\n",
      "See the caveats in the documentation: https://pandas.pydata.org/pandas-docs/stable/user_guide/indexing.html#returning-a-view-versus-a-copy\n",
      "  data[\"wiki_url\"][index] = url\n"
     ]
    },
    {
     "name": "stdout",
     "output_type": "stream",
     "text": [
      "current index: 265\n"
     ]
    },
    {
     "name": "stderr",
     "output_type": "stream",
     "text": [
      "C:\\Users\\maxji\\AppData\\Local\\Temp\\ipykernel_40900\\1159726583.py:7: SettingWithCopyWarning: \n",
      "A value is trying to be set on a copy of a slice from a DataFrame\n",
      "\n",
      "See the caveats in the documentation: https://pandas.pydata.org/pandas-docs/stable/user_guide/indexing.html#returning-a-view-versus-a-copy\n",
      "  data[\"wiki_url\"][index] = url\n"
     ]
    },
    {
     "name": "stdout",
     "output_type": "stream",
     "text": [
      "current index: 266\n"
     ]
    },
    {
     "name": "stderr",
     "output_type": "stream",
     "text": [
      "C:\\Users\\maxji\\AppData\\Local\\Temp\\ipykernel_40900\\1159726583.py:7: SettingWithCopyWarning: \n",
      "A value is trying to be set on a copy of a slice from a DataFrame\n",
      "\n",
      "See the caveats in the documentation: https://pandas.pydata.org/pandas-docs/stable/user_guide/indexing.html#returning-a-view-versus-a-copy\n",
      "  data[\"wiki_url\"][index] = url\n"
     ]
    },
    {
     "name": "stdout",
     "output_type": "stream",
     "text": [
      "current index: 267\n"
     ]
    },
    {
     "name": "stderr",
     "output_type": "stream",
     "text": [
      "C:\\Users\\maxji\\AppData\\Local\\Temp\\ipykernel_40900\\1159726583.py:7: SettingWithCopyWarning: \n",
      "A value is trying to be set on a copy of a slice from a DataFrame\n",
      "\n",
      "See the caveats in the documentation: https://pandas.pydata.org/pandas-docs/stable/user_guide/indexing.html#returning-a-view-versus-a-copy\n",
      "  data[\"wiki_url\"][index] = url\n"
     ]
    },
    {
     "name": "stdout",
     "output_type": "stream",
     "text": [
      "current index: 268\n"
     ]
    },
    {
     "name": "stderr",
     "output_type": "stream",
     "text": [
      "C:\\Users\\maxji\\AppData\\Local\\Temp\\ipykernel_40900\\1159726583.py:7: SettingWithCopyWarning: \n",
      "A value is trying to be set on a copy of a slice from a DataFrame\n",
      "\n",
      "See the caveats in the documentation: https://pandas.pydata.org/pandas-docs/stable/user_guide/indexing.html#returning-a-view-versus-a-copy\n",
      "  data[\"wiki_url\"][index] = url\n"
     ]
    },
    {
     "name": "stdout",
     "output_type": "stream",
     "text": [
      "current index: 269\n"
     ]
    },
    {
     "name": "stderr",
     "output_type": "stream",
     "text": [
      "C:\\Users\\maxji\\AppData\\Local\\Temp\\ipykernel_40900\\1159726583.py:7: SettingWithCopyWarning: \n",
      "A value is trying to be set on a copy of a slice from a DataFrame\n",
      "\n",
      "See the caveats in the documentation: https://pandas.pydata.org/pandas-docs/stable/user_guide/indexing.html#returning-a-view-versus-a-copy\n",
      "  data[\"wiki_url\"][index] = url\n"
     ]
    },
    {
     "name": "stdout",
     "output_type": "stream",
     "text": [
      "current index: 270\n"
     ]
    },
    {
     "name": "stderr",
     "output_type": "stream",
     "text": [
      "C:\\Users\\maxji\\AppData\\Local\\Temp\\ipykernel_40900\\1159726583.py:7: SettingWithCopyWarning: \n",
      "A value is trying to be set on a copy of a slice from a DataFrame\n",
      "\n",
      "See the caveats in the documentation: https://pandas.pydata.org/pandas-docs/stable/user_guide/indexing.html#returning-a-view-versus-a-copy\n",
      "  data[\"wiki_url\"][index] = url\n"
     ]
    },
    {
     "name": "stdout",
     "output_type": "stream",
     "text": [
      "current index: 271\n"
     ]
    },
    {
     "name": "stderr",
     "output_type": "stream",
     "text": [
      "C:\\Users\\maxji\\AppData\\Local\\Temp\\ipykernel_40900\\1159726583.py:7: SettingWithCopyWarning: \n",
      "A value is trying to be set on a copy of a slice from a DataFrame\n",
      "\n",
      "See the caveats in the documentation: https://pandas.pydata.org/pandas-docs/stable/user_guide/indexing.html#returning-a-view-versus-a-copy\n",
      "  data[\"wiki_url\"][index] = url\n"
     ]
    },
    {
     "name": "stdout",
     "output_type": "stream",
     "text": [
      "current index: 272\n"
     ]
    },
    {
     "name": "stderr",
     "output_type": "stream",
     "text": [
      "C:\\Users\\maxji\\AppData\\Local\\Temp\\ipykernel_40900\\1159726583.py:7: SettingWithCopyWarning: \n",
      "A value is trying to be set on a copy of a slice from a DataFrame\n",
      "\n",
      "See the caveats in the documentation: https://pandas.pydata.org/pandas-docs/stable/user_guide/indexing.html#returning-a-view-versus-a-copy\n",
      "  data[\"wiki_url\"][index] = url\n"
     ]
    },
    {
     "name": "stdout",
     "output_type": "stream",
     "text": [
      "current index: 273\n"
     ]
    },
    {
     "name": "stderr",
     "output_type": "stream",
     "text": [
      "C:\\Users\\maxji\\AppData\\Local\\Temp\\ipykernel_40900\\1159726583.py:7: SettingWithCopyWarning: \n",
      "A value is trying to be set on a copy of a slice from a DataFrame\n",
      "\n",
      "See the caveats in the documentation: https://pandas.pydata.org/pandas-docs/stable/user_guide/indexing.html#returning-a-view-versus-a-copy\n",
      "  data[\"wiki_url\"][index] = url\n"
     ]
    },
    {
     "name": "stdout",
     "output_type": "stream",
     "text": [
      "current index: 274\n"
     ]
    },
    {
     "name": "stderr",
     "output_type": "stream",
     "text": [
      "C:\\Users\\maxji\\AppData\\Local\\Temp\\ipykernel_40900\\1159726583.py:7: SettingWithCopyWarning: \n",
      "A value is trying to be set on a copy of a slice from a DataFrame\n",
      "\n",
      "See the caveats in the documentation: https://pandas.pydata.org/pandas-docs/stable/user_guide/indexing.html#returning-a-view-versus-a-copy\n",
      "  data[\"wiki_url\"][index] = url\n"
     ]
    },
    {
     "name": "stdout",
     "output_type": "stream",
     "text": [
      "current index: 275\n"
     ]
    },
    {
     "name": "stderr",
     "output_type": "stream",
     "text": [
      "C:\\Users\\maxji\\AppData\\Local\\Temp\\ipykernel_40900\\1159726583.py:7: SettingWithCopyWarning: \n",
      "A value is trying to be set on a copy of a slice from a DataFrame\n",
      "\n",
      "See the caveats in the documentation: https://pandas.pydata.org/pandas-docs/stable/user_guide/indexing.html#returning-a-view-versus-a-copy\n",
      "  data[\"wiki_url\"][index] = url\n"
     ]
    },
    {
     "name": "stdout",
     "output_type": "stream",
     "text": [
      "current index: 276\n"
     ]
    },
    {
     "name": "stderr",
     "output_type": "stream",
     "text": [
      "C:\\Users\\maxji\\AppData\\Local\\Temp\\ipykernel_40900\\1159726583.py:7: SettingWithCopyWarning: \n",
      "A value is trying to be set on a copy of a slice from a DataFrame\n",
      "\n",
      "See the caveats in the documentation: https://pandas.pydata.org/pandas-docs/stable/user_guide/indexing.html#returning-a-view-versus-a-copy\n",
      "  data[\"wiki_url\"][index] = url\n"
     ]
    },
    {
     "name": "stdout",
     "output_type": "stream",
     "text": [
      "current index: 277\n"
     ]
    },
    {
     "name": "stderr",
     "output_type": "stream",
     "text": [
      "C:\\Users\\maxji\\AppData\\Local\\Temp\\ipykernel_40900\\1159726583.py:7: SettingWithCopyWarning: \n",
      "A value is trying to be set on a copy of a slice from a DataFrame\n",
      "\n",
      "See the caveats in the documentation: https://pandas.pydata.org/pandas-docs/stable/user_guide/indexing.html#returning-a-view-versus-a-copy\n",
      "  data[\"wiki_url\"][index] = url\n"
     ]
    },
    {
     "name": "stdout",
     "output_type": "stream",
     "text": [
      "current index: 278\n"
     ]
    },
    {
     "name": "stderr",
     "output_type": "stream",
     "text": [
      "C:\\Users\\maxji\\AppData\\Local\\Temp\\ipykernel_40900\\1159726583.py:7: SettingWithCopyWarning: \n",
      "A value is trying to be set on a copy of a slice from a DataFrame\n",
      "\n",
      "See the caveats in the documentation: https://pandas.pydata.org/pandas-docs/stable/user_guide/indexing.html#returning-a-view-versus-a-copy\n",
      "  data[\"wiki_url\"][index] = url\n"
     ]
    },
    {
     "name": "stdout",
     "output_type": "stream",
     "text": [
      "current index: 279\n"
     ]
    },
    {
     "name": "stderr",
     "output_type": "stream",
     "text": [
      "C:\\Users\\maxji\\AppData\\Local\\Temp\\ipykernel_40900\\1159726583.py:7: SettingWithCopyWarning: \n",
      "A value is trying to be set on a copy of a slice from a DataFrame\n",
      "\n",
      "See the caveats in the documentation: https://pandas.pydata.org/pandas-docs/stable/user_guide/indexing.html#returning-a-view-versus-a-copy\n",
      "  data[\"wiki_url\"][index] = url\n"
     ]
    },
    {
     "name": "stdout",
     "output_type": "stream",
     "text": [
      "current index: 280\n"
     ]
    },
    {
     "name": "stderr",
     "output_type": "stream",
     "text": [
      "C:\\Users\\maxji\\AppData\\Local\\Temp\\ipykernel_40900\\1159726583.py:7: SettingWithCopyWarning: \n",
      "A value is trying to be set on a copy of a slice from a DataFrame\n",
      "\n",
      "See the caveats in the documentation: https://pandas.pydata.org/pandas-docs/stable/user_guide/indexing.html#returning-a-view-versus-a-copy\n",
      "  data[\"wiki_url\"][index] = url\n"
     ]
    },
    {
     "name": "stdout",
     "output_type": "stream",
     "text": [
      "current index: 281\n"
     ]
    },
    {
     "name": "stderr",
     "output_type": "stream",
     "text": [
      "C:\\Users\\maxji\\AppData\\Local\\Temp\\ipykernel_40900\\1159726583.py:7: SettingWithCopyWarning: \n",
      "A value is trying to be set on a copy of a slice from a DataFrame\n",
      "\n",
      "See the caveats in the documentation: https://pandas.pydata.org/pandas-docs/stable/user_guide/indexing.html#returning-a-view-versus-a-copy\n",
      "  data[\"wiki_url\"][index] = url\n"
     ]
    },
    {
     "name": "stdout",
     "output_type": "stream",
     "text": [
      "current index: 282\n"
     ]
    },
    {
     "name": "stderr",
     "output_type": "stream",
     "text": [
      "C:\\Users\\maxji\\AppData\\Local\\Temp\\ipykernel_40900\\1159726583.py:7: SettingWithCopyWarning: \n",
      "A value is trying to be set on a copy of a slice from a DataFrame\n",
      "\n",
      "See the caveats in the documentation: https://pandas.pydata.org/pandas-docs/stable/user_guide/indexing.html#returning-a-view-versus-a-copy\n",
      "  data[\"wiki_url\"][index] = url\n"
     ]
    },
    {
     "name": "stdout",
     "output_type": "stream",
     "text": [
      "current index: 283\n"
     ]
    },
    {
     "name": "stderr",
     "output_type": "stream",
     "text": [
      "C:\\Users\\maxji\\AppData\\Local\\Temp\\ipykernel_40900\\1159726583.py:7: SettingWithCopyWarning: \n",
      "A value is trying to be set on a copy of a slice from a DataFrame\n",
      "\n",
      "See the caveats in the documentation: https://pandas.pydata.org/pandas-docs/stable/user_guide/indexing.html#returning-a-view-versus-a-copy\n",
      "  data[\"wiki_url\"][index] = url\n"
     ]
    },
    {
     "name": "stdout",
     "output_type": "stream",
     "text": [
      "current index: 284\n"
     ]
    },
    {
     "name": "stderr",
     "output_type": "stream",
     "text": [
      "C:\\Users\\maxji\\AppData\\Local\\Temp\\ipykernel_40900\\1159726583.py:7: SettingWithCopyWarning: \n",
      "A value is trying to be set on a copy of a slice from a DataFrame\n",
      "\n",
      "See the caveats in the documentation: https://pandas.pydata.org/pandas-docs/stable/user_guide/indexing.html#returning-a-view-versus-a-copy\n",
      "  data[\"wiki_url\"][index] = url\n"
     ]
    },
    {
     "name": "stdout",
     "output_type": "stream",
     "text": [
      "current index: 285\n"
     ]
    },
    {
     "name": "stderr",
     "output_type": "stream",
     "text": [
      "C:\\Users\\maxji\\AppData\\Local\\Temp\\ipykernel_40900\\1159726583.py:7: SettingWithCopyWarning: \n",
      "A value is trying to be set on a copy of a slice from a DataFrame\n",
      "\n",
      "See the caveats in the documentation: https://pandas.pydata.org/pandas-docs/stable/user_guide/indexing.html#returning-a-view-versus-a-copy\n",
      "  data[\"wiki_url\"][index] = url\n"
     ]
    },
    {
     "name": "stdout",
     "output_type": "stream",
     "text": [
      "current index: 286\n"
     ]
    },
    {
     "name": "stderr",
     "output_type": "stream",
     "text": [
      "C:\\Users\\maxji\\AppData\\Local\\Temp\\ipykernel_40900\\1159726583.py:7: SettingWithCopyWarning: \n",
      "A value is trying to be set on a copy of a slice from a DataFrame\n",
      "\n",
      "See the caveats in the documentation: https://pandas.pydata.org/pandas-docs/stable/user_guide/indexing.html#returning-a-view-versus-a-copy\n",
      "  data[\"wiki_url\"][index] = url\n"
     ]
    },
    {
     "name": "stdout",
     "output_type": "stream",
     "text": [
      "current index: 287\n"
     ]
    },
    {
     "name": "stderr",
     "output_type": "stream",
     "text": [
      "C:\\Users\\maxji\\AppData\\Local\\Temp\\ipykernel_40900\\1159726583.py:7: SettingWithCopyWarning: \n",
      "A value is trying to be set on a copy of a slice from a DataFrame\n",
      "\n",
      "See the caveats in the documentation: https://pandas.pydata.org/pandas-docs/stable/user_guide/indexing.html#returning-a-view-versus-a-copy\n",
      "  data[\"wiki_url\"][index] = url\n"
     ]
    },
    {
     "name": "stdout",
     "output_type": "stream",
     "text": [
      "current index: 288\n"
     ]
    },
    {
     "name": "stderr",
     "output_type": "stream",
     "text": [
      "C:\\Users\\maxji\\AppData\\Local\\Temp\\ipykernel_40900\\1159726583.py:7: SettingWithCopyWarning: \n",
      "A value is trying to be set on a copy of a slice from a DataFrame\n",
      "\n",
      "See the caveats in the documentation: https://pandas.pydata.org/pandas-docs/stable/user_guide/indexing.html#returning-a-view-versus-a-copy\n",
      "  data[\"wiki_url\"][index] = url\n"
     ]
    },
    {
     "name": "stdout",
     "output_type": "stream",
     "text": [
      "current index: 289\n"
     ]
    },
    {
     "name": "stderr",
     "output_type": "stream",
     "text": [
      "C:\\Users\\maxji\\AppData\\Local\\Temp\\ipykernel_40900\\1159726583.py:7: SettingWithCopyWarning: \n",
      "A value is trying to be set on a copy of a slice from a DataFrame\n",
      "\n",
      "See the caveats in the documentation: https://pandas.pydata.org/pandas-docs/stable/user_guide/indexing.html#returning-a-view-versus-a-copy\n",
      "  data[\"wiki_url\"][index] = url\n"
     ]
    },
    {
     "name": "stdout",
     "output_type": "stream",
     "text": [
      "current index: 290\n"
     ]
    },
    {
     "name": "stderr",
     "output_type": "stream",
     "text": [
      "C:\\Users\\maxji\\AppData\\Local\\Temp\\ipykernel_40900\\1159726583.py:7: SettingWithCopyWarning: \n",
      "A value is trying to be set on a copy of a slice from a DataFrame\n",
      "\n",
      "See the caveats in the documentation: https://pandas.pydata.org/pandas-docs/stable/user_guide/indexing.html#returning-a-view-versus-a-copy\n",
      "  data[\"wiki_url\"][index] = url\n"
     ]
    },
    {
     "name": "stdout",
     "output_type": "stream",
     "text": [
      "current index: 291\n"
     ]
    },
    {
     "name": "stderr",
     "output_type": "stream",
     "text": [
      "C:\\Users\\maxji\\AppData\\Local\\Temp\\ipykernel_40900\\1159726583.py:7: SettingWithCopyWarning: \n",
      "A value is trying to be set on a copy of a slice from a DataFrame\n",
      "\n",
      "See the caveats in the documentation: https://pandas.pydata.org/pandas-docs/stable/user_guide/indexing.html#returning-a-view-versus-a-copy\n",
      "  data[\"wiki_url\"][index] = url\n"
     ]
    },
    {
     "name": "stdout",
     "output_type": "stream",
     "text": [
      "current index: 292\n"
     ]
    },
    {
     "name": "stderr",
     "output_type": "stream",
     "text": [
      "C:\\Users\\maxji\\AppData\\Local\\Temp\\ipykernel_40900\\1159726583.py:7: SettingWithCopyWarning: \n",
      "A value is trying to be set on a copy of a slice from a DataFrame\n",
      "\n",
      "See the caveats in the documentation: https://pandas.pydata.org/pandas-docs/stable/user_guide/indexing.html#returning-a-view-versus-a-copy\n",
      "  data[\"wiki_url\"][index] = url\n"
     ]
    },
    {
     "name": "stdout",
     "output_type": "stream",
     "text": [
      "current index: 293\n"
     ]
    },
    {
     "name": "stderr",
     "output_type": "stream",
     "text": [
      "C:\\Users\\maxji\\AppData\\Local\\Temp\\ipykernel_40900\\1159726583.py:7: SettingWithCopyWarning: \n",
      "A value is trying to be set on a copy of a slice from a DataFrame\n",
      "\n",
      "See the caveats in the documentation: https://pandas.pydata.org/pandas-docs/stable/user_guide/indexing.html#returning-a-view-versus-a-copy\n",
      "  data[\"wiki_url\"][index] = url\n"
     ]
    },
    {
     "name": "stdout",
     "output_type": "stream",
     "text": [
      "current index: 294\n"
     ]
    },
    {
     "name": "stderr",
     "output_type": "stream",
     "text": [
      "C:\\Users\\maxji\\AppData\\Local\\Temp\\ipykernel_40900\\1159726583.py:7: SettingWithCopyWarning: \n",
      "A value is trying to be set on a copy of a slice from a DataFrame\n",
      "\n",
      "See the caveats in the documentation: https://pandas.pydata.org/pandas-docs/stable/user_guide/indexing.html#returning-a-view-versus-a-copy\n",
      "  data[\"wiki_url\"][index] = url\n"
     ]
    },
    {
     "name": "stdout",
     "output_type": "stream",
     "text": [
      "current index: 295\n"
     ]
    },
    {
     "name": "stderr",
     "output_type": "stream",
     "text": [
      "C:\\Users\\maxji\\AppData\\Local\\Temp\\ipykernel_40900\\1159726583.py:7: SettingWithCopyWarning: \n",
      "A value is trying to be set on a copy of a slice from a DataFrame\n",
      "\n",
      "See the caveats in the documentation: https://pandas.pydata.org/pandas-docs/stable/user_guide/indexing.html#returning-a-view-versus-a-copy\n",
      "  data[\"wiki_url\"][index] = url\n"
     ]
    },
    {
     "name": "stdout",
     "output_type": "stream",
     "text": [
      "current index: 296\n"
     ]
    },
    {
     "name": "stderr",
     "output_type": "stream",
     "text": [
      "C:\\Users\\maxji\\AppData\\Local\\Temp\\ipykernel_40900\\1159726583.py:7: SettingWithCopyWarning: \n",
      "A value is trying to be set on a copy of a slice from a DataFrame\n",
      "\n",
      "See the caveats in the documentation: https://pandas.pydata.org/pandas-docs/stable/user_guide/indexing.html#returning-a-view-versus-a-copy\n",
      "  data[\"wiki_url\"][index] = url\n"
     ]
    },
    {
     "name": "stdout",
     "output_type": "stream",
     "text": [
      "current index: 297\n"
     ]
    },
    {
     "name": "stderr",
     "output_type": "stream",
     "text": [
      "C:\\Users\\maxji\\AppData\\Local\\Temp\\ipykernel_40900\\1159726583.py:7: SettingWithCopyWarning: \n",
      "A value is trying to be set on a copy of a slice from a DataFrame\n",
      "\n",
      "See the caveats in the documentation: https://pandas.pydata.org/pandas-docs/stable/user_guide/indexing.html#returning-a-view-versus-a-copy\n",
      "  data[\"wiki_url\"][index] = url\n"
     ]
    },
    {
     "name": "stdout",
     "output_type": "stream",
     "text": [
      "current index: 298\n"
     ]
    },
    {
     "name": "stderr",
     "output_type": "stream",
     "text": [
      "C:\\Users\\maxji\\AppData\\Local\\Temp\\ipykernel_40900\\1159726583.py:7: SettingWithCopyWarning: \n",
      "A value is trying to be set on a copy of a slice from a DataFrame\n",
      "\n",
      "See the caveats in the documentation: https://pandas.pydata.org/pandas-docs/stable/user_guide/indexing.html#returning-a-view-versus-a-copy\n",
      "  data[\"wiki_url\"][index] = url\n"
     ]
    },
    {
     "name": "stdout",
     "output_type": "stream",
     "text": [
      "current index: 299\n"
     ]
    },
    {
     "name": "stderr",
     "output_type": "stream",
     "text": [
      "C:\\Users\\maxji\\AppData\\Local\\Temp\\ipykernel_40900\\1159726583.py:7: SettingWithCopyWarning: \n",
      "A value is trying to be set on a copy of a slice from a DataFrame\n",
      "\n",
      "See the caveats in the documentation: https://pandas.pydata.org/pandas-docs/stable/user_guide/indexing.html#returning-a-view-versus-a-copy\n",
      "  data[\"wiki_url\"][index] = url\n"
     ]
    },
    {
     "name": "stdout",
     "output_type": "stream",
     "text": [
      "current index: 300\n"
     ]
    },
    {
     "name": "stderr",
     "output_type": "stream",
     "text": [
      "C:\\Users\\maxji\\AppData\\Local\\Temp\\ipykernel_40900\\1159726583.py:7: SettingWithCopyWarning: \n",
      "A value is trying to be set on a copy of a slice from a DataFrame\n",
      "\n",
      "See the caveats in the documentation: https://pandas.pydata.org/pandas-docs/stable/user_guide/indexing.html#returning-a-view-versus-a-copy\n",
      "  data[\"wiki_url\"][index] = url\n"
     ]
    },
    {
     "name": "stdout",
     "output_type": "stream",
     "text": [
      "current index: 301\n"
     ]
    },
    {
     "name": "stderr",
     "output_type": "stream",
     "text": [
      "C:\\Users\\maxji\\AppData\\Local\\Temp\\ipykernel_40900\\1159726583.py:7: SettingWithCopyWarning: \n",
      "A value is trying to be set on a copy of a slice from a DataFrame\n",
      "\n",
      "See the caveats in the documentation: https://pandas.pydata.org/pandas-docs/stable/user_guide/indexing.html#returning-a-view-versus-a-copy\n",
      "  data[\"wiki_url\"][index] = url\n"
     ]
    },
    {
     "name": "stdout",
     "output_type": "stream",
     "text": [
      "current index: 302\n"
     ]
    },
    {
     "name": "stderr",
     "output_type": "stream",
     "text": [
      "C:\\Users\\maxji\\AppData\\Local\\Temp\\ipykernel_40900\\1159726583.py:7: SettingWithCopyWarning: \n",
      "A value is trying to be set on a copy of a slice from a DataFrame\n",
      "\n",
      "See the caveats in the documentation: https://pandas.pydata.org/pandas-docs/stable/user_guide/indexing.html#returning-a-view-versus-a-copy\n",
      "  data[\"wiki_url\"][index] = url\n"
     ]
    },
    {
     "name": "stdout",
     "output_type": "stream",
     "text": [
      "current index: 303\n"
     ]
    },
    {
     "name": "stderr",
     "output_type": "stream",
     "text": [
      "C:\\Users\\maxji\\AppData\\Local\\Temp\\ipykernel_40900\\1159726583.py:7: SettingWithCopyWarning: \n",
      "A value is trying to be set on a copy of a slice from a DataFrame\n",
      "\n",
      "See the caveats in the documentation: https://pandas.pydata.org/pandas-docs/stable/user_guide/indexing.html#returning-a-view-versus-a-copy\n",
      "  data[\"wiki_url\"][index] = url\n"
     ]
    },
    {
     "name": "stdout",
     "output_type": "stream",
     "text": [
      "current index: 304\n"
     ]
    },
    {
     "name": "stderr",
     "output_type": "stream",
     "text": [
      "C:\\Users\\maxji\\AppData\\Local\\Temp\\ipykernel_40900\\1159726583.py:7: SettingWithCopyWarning: \n",
      "A value is trying to be set on a copy of a slice from a DataFrame\n",
      "\n",
      "See the caveats in the documentation: https://pandas.pydata.org/pandas-docs/stable/user_guide/indexing.html#returning-a-view-versus-a-copy\n",
      "  data[\"wiki_url\"][index] = url\n"
     ]
    },
    {
     "name": "stdout",
     "output_type": "stream",
     "text": [
      "current index: 305\n"
     ]
    },
    {
     "name": "stderr",
     "output_type": "stream",
     "text": [
      "C:\\Users\\maxji\\AppData\\Local\\Temp\\ipykernel_40900\\1159726583.py:7: SettingWithCopyWarning: \n",
      "A value is trying to be set on a copy of a slice from a DataFrame\n",
      "\n",
      "See the caveats in the documentation: https://pandas.pydata.org/pandas-docs/stable/user_guide/indexing.html#returning-a-view-versus-a-copy\n",
      "  data[\"wiki_url\"][index] = url\n"
     ]
    },
    {
     "name": "stdout",
     "output_type": "stream",
     "text": [
      "current index: 306\n"
     ]
    },
    {
     "name": "stderr",
     "output_type": "stream",
     "text": [
      "C:\\Users\\maxji\\AppData\\Local\\Temp\\ipykernel_40900\\1159726583.py:7: SettingWithCopyWarning: \n",
      "A value is trying to be set on a copy of a slice from a DataFrame\n",
      "\n",
      "See the caveats in the documentation: https://pandas.pydata.org/pandas-docs/stable/user_guide/indexing.html#returning-a-view-versus-a-copy\n",
      "  data[\"wiki_url\"][index] = url\n"
     ]
    },
    {
     "name": "stdout",
     "output_type": "stream",
     "text": [
      "current index: 307\n"
     ]
    },
    {
     "name": "stderr",
     "output_type": "stream",
     "text": [
      "C:\\Users\\maxji\\AppData\\Local\\Temp\\ipykernel_40900\\1159726583.py:7: SettingWithCopyWarning: \n",
      "A value is trying to be set on a copy of a slice from a DataFrame\n",
      "\n",
      "See the caveats in the documentation: https://pandas.pydata.org/pandas-docs/stable/user_guide/indexing.html#returning-a-view-versus-a-copy\n",
      "  data[\"wiki_url\"][index] = url\n"
     ]
    },
    {
     "name": "stdout",
     "output_type": "stream",
     "text": [
      "current index: 308\n"
     ]
    },
    {
     "name": "stderr",
     "output_type": "stream",
     "text": [
      "C:\\Users\\maxji\\AppData\\Local\\Temp\\ipykernel_40900\\1159726583.py:7: SettingWithCopyWarning: \n",
      "A value is trying to be set on a copy of a slice from a DataFrame\n",
      "\n",
      "See the caveats in the documentation: https://pandas.pydata.org/pandas-docs/stable/user_guide/indexing.html#returning-a-view-versus-a-copy\n",
      "  data[\"wiki_url\"][index] = url\n"
     ]
    },
    {
     "name": "stdout",
     "output_type": "stream",
     "text": [
      "current index: 309\n"
     ]
    },
    {
     "name": "stderr",
     "output_type": "stream",
     "text": [
      "C:\\Users\\maxji\\AppData\\Local\\Temp\\ipykernel_40900\\1159726583.py:7: SettingWithCopyWarning: \n",
      "A value is trying to be set on a copy of a slice from a DataFrame\n",
      "\n",
      "See the caveats in the documentation: https://pandas.pydata.org/pandas-docs/stable/user_guide/indexing.html#returning-a-view-versus-a-copy\n",
      "  data[\"wiki_url\"][index] = url\n"
     ]
    },
    {
     "name": "stdout",
     "output_type": "stream",
     "text": [
      "current index: 310\n"
     ]
    },
    {
     "name": "stderr",
     "output_type": "stream",
     "text": [
      "C:\\Users\\maxji\\AppData\\Local\\Temp\\ipykernel_40900\\1159726583.py:7: SettingWithCopyWarning: \n",
      "A value is trying to be set on a copy of a slice from a DataFrame\n",
      "\n",
      "See the caveats in the documentation: https://pandas.pydata.org/pandas-docs/stable/user_guide/indexing.html#returning-a-view-versus-a-copy\n",
      "  data[\"wiki_url\"][index] = url\n"
     ]
    },
    {
     "name": "stdout",
     "output_type": "stream",
     "text": [
      "current index: 311\n"
     ]
    },
    {
     "name": "stderr",
     "output_type": "stream",
     "text": [
      "C:\\Users\\maxji\\AppData\\Local\\Temp\\ipykernel_40900\\1159726583.py:7: SettingWithCopyWarning: \n",
      "A value is trying to be set on a copy of a slice from a DataFrame\n",
      "\n",
      "See the caveats in the documentation: https://pandas.pydata.org/pandas-docs/stable/user_guide/indexing.html#returning-a-view-versus-a-copy\n",
      "  data[\"wiki_url\"][index] = url\n"
     ]
    },
    {
     "name": "stdout",
     "output_type": "stream",
     "text": [
      "current index: 312\n"
     ]
    },
    {
     "name": "stderr",
     "output_type": "stream",
     "text": [
      "C:\\Users\\maxji\\AppData\\Local\\Temp\\ipykernel_40900\\1159726583.py:7: SettingWithCopyWarning: \n",
      "A value is trying to be set on a copy of a slice from a DataFrame\n",
      "\n",
      "See the caveats in the documentation: https://pandas.pydata.org/pandas-docs/stable/user_guide/indexing.html#returning-a-view-versus-a-copy\n",
      "  data[\"wiki_url\"][index] = url\n"
     ]
    },
    {
     "name": "stdout",
     "output_type": "stream",
     "text": [
      "current index: 313\n"
     ]
    },
    {
     "name": "stderr",
     "output_type": "stream",
     "text": [
      "C:\\Users\\maxji\\AppData\\Local\\Temp\\ipykernel_40900\\1159726583.py:7: SettingWithCopyWarning: \n",
      "A value is trying to be set on a copy of a slice from a DataFrame\n",
      "\n",
      "See the caveats in the documentation: https://pandas.pydata.org/pandas-docs/stable/user_guide/indexing.html#returning-a-view-versus-a-copy\n",
      "  data[\"wiki_url\"][index] = url\n"
     ]
    },
    {
     "name": "stdout",
     "output_type": "stream",
     "text": [
      "current index: 314\n"
     ]
    },
    {
     "name": "stderr",
     "output_type": "stream",
     "text": [
      "C:\\Users\\maxji\\AppData\\Local\\Temp\\ipykernel_40900\\1159726583.py:7: SettingWithCopyWarning: \n",
      "A value is trying to be set on a copy of a slice from a DataFrame\n",
      "\n",
      "See the caveats in the documentation: https://pandas.pydata.org/pandas-docs/stable/user_guide/indexing.html#returning-a-view-versus-a-copy\n",
      "  data[\"wiki_url\"][index] = url\n"
     ]
    },
    {
     "name": "stdout",
     "output_type": "stream",
     "text": [
      "current index: 315\n"
     ]
    },
    {
     "name": "stderr",
     "output_type": "stream",
     "text": [
      "C:\\Users\\maxji\\AppData\\Local\\Temp\\ipykernel_40900\\1159726583.py:7: SettingWithCopyWarning: \n",
      "A value is trying to be set on a copy of a slice from a DataFrame\n",
      "\n",
      "See the caveats in the documentation: https://pandas.pydata.org/pandas-docs/stable/user_guide/indexing.html#returning-a-view-versus-a-copy\n",
      "  data[\"wiki_url\"][index] = url\n"
     ]
    },
    {
     "name": "stdout",
     "output_type": "stream",
     "text": [
      "current index: 316\n"
     ]
    },
    {
     "name": "stderr",
     "output_type": "stream",
     "text": [
      "C:\\Users\\maxji\\AppData\\Local\\Temp\\ipykernel_40900\\1159726583.py:7: SettingWithCopyWarning: \n",
      "A value is trying to be set on a copy of a slice from a DataFrame\n",
      "\n",
      "See the caveats in the documentation: https://pandas.pydata.org/pandas-docs/stable/user_guide/indexing.html#returning-a-view-versus-a-copy\n",
      "  data[\"wiki_url\"][index] = url\n"
     ]
    },
    {
     "name": "stdout",
     "output_type": "stream",
     "text": [
      "current index: 317\n"
     ]
    },
    {
     "name": "stderr",
     "output_type": "stream",
     "text": [
      "C:\\Users\\maxji\\AppData\\Local\\Temp\\ipykernel_40900\\1159726583.py:7: SettingWithCopyWarning: \n",
      "A value is trying to be set on a copy of a slice from a DataFrame\n",
      "\n",
      "See the caveats in the documentation: https://pandas.pydata.org/pandas-docs/stable/user_guide/indexing.html#returning-a-view-versus-a-copy\n",
      "  data[\"wiki_url\"][index] = url\n"
     ]
    },
    {
     "name": "stdout",
     "output_type": "stream",
     "text": [
      "current index: 318\n"
     ]
    },
    {
     "name": "stderr",
     "output_type": "stream",
     "text": [
      "C:\\Users\\maxji\\AppData\\Local\\Temp\\ipykernel_40900\\1159726583.py:7: SettingWithCopyWarning: \n",
      "A value is trying to be set on a copy of a slice from a DataFrame\n",
      "\n",
      "See the caveats in the documentation: https://pandas.pydata.org/pandas-docs/stable/user_guide/indexing.html#returning-a-view-versus-a-copy\n",
      "  data[\"wiki_url\"][index] = url\n"
     ]
    },
    {
     "name": "stdout",
     "output_type": "stream",
     "text": [
      "current index: 319\n"
     ]
    },
    {
     "name": "stderr",
     "output_type": "stream",
     "text": [
      "C:\\Users\\maxji\\AppData\\Local\\Temp\\ipykernel_40900\\1159726583.py:7: SettingWithCopyWarning: \n",
      "A value is trying to be set on a copy of a slice from a DataFrame\n",
      "\n",
      "See the caveats in the documentation: https://pandas.pydata.org/pandas-docs/stable/user_guide/indexing.html#returning-a-view-versus-a-copy\n",
      "  data[\"wiki_url\"][index] = url\n"
     ]
    },
    {
     "name": "stdout",
     "output_type": "stream",
     "text": [
      "current index: 320\n"
     ]
    },
    {
     "name": "stderr",
     "output_type": "stream",
     "text": [
      "C:\\Users\\maxji\\AppData\\Local\\Temp\\ipykernel_40900\\1159726583.py:7: SettingWithCopyWarning: \n",
      "A value is trying to be set on a copy of a slice from a DataFrame\n",
      "\n",
      "See the caveats in the documentation: https://pandas.pydata.org/pandas-docs/stable/user_guide/indexing.html#returning-a-view-versus-a-copy\n",
      "  data[\"wiki_url\"][index] = url\n"
     ]
    },
    {
     "name": "stdout",
     "output_type": "stream",
     "text": [
      "current index: 321\n"
     ]
    },
    {
     "name": "stderr",
     "output_type": "stream",
     "text": [
      "C:\\Users\\maxji\\AppData\\Local\\Temp\\ipykernel_40900\\1159726583.py:7: SettingWithCopyWarning: \n",
      "A value is trying to be set on a copy of a slice from a DataFrame\n",
      "\n",
      "See the caveats in the documentation: https://pandas.pydata.org/pandas-docs/stable/user_guide/indexing.html#returning-a-view-versus-a-copy\n",
      "  data[\"wiki_url\"][index] = url\n"
     ]
    },
    {
     "name": "stdout",
     "output_type": "stream",
     "text": [
      "current index: 322\n"
     ]
    },
    {
     "name": "stderr",
     "output_type": "stream",
     "text": [
      "C:\\Users\\maxji\\AppData\\Local\\Temp\\ipykernel_40900\\1159726583.py:7: SettingWithCopyWarning: \n",
      "A value is trying to be set on a copy of a slice from a DataFrame\n",
      "\n",
      "See the caveats in the documentation: https://pandas.pydata.org/pandas-docs/stable/user_guide/indexing.html#returning-a-view-versus-a-copy\n",
      "  data[\"wiki_url\"][index] = url\n"
     ]
    },
    {
     "name": "stdout",
     "output_type": "stream",
     "text": [
      "current index: 323\n"
     ]
    },
    {
     "name": "stderr",
     "output_type": "stream",
     "text": [
      "C:\\Users\\maxji\\AppData\\Local\\Temp\\ipykernel_40900\\1159726583.py:7: SettingWithCopyWarning: \n",
      "A value is trying to be set on a copy of a slice from a DataFrame\n",
      "\n",
      "See the caveats in the documentation: https://pandas.pydata.org/pandas-docs/stable/user_guide/indexing.html#returning-a-view-versus-a-copy\n",
      "  data[\"wiki_url\"][index] = url\n"
     ]
    },
    {
     "name": "stdout",
     "output_type": "stream",
     "text": [
      "current index: 324\n"
     ]
    },
    {
     "name": "stderr",
     "output_type": "stream",
     "text": [
      "C:\\Users\\maxji\\AppData\\Local\\Temp\\ipykernel_40900\\1159726583.py:7: SettingWithCopyWarning: \n",
      "A value is trying to be set on a copy of a slice from a DataFrame\n",
      "\n",
      "See the caveats in the documentation: https://pandas.pydata.org/pandas-docs/stable/user_guide/indexing.html#returning-a-view-versus-a-copy\n",
      "  data[\"wiki_url\"][index] = url\n"
     ]
    },
    {
     "name": "stdout",
     "output_type": "stream",
     "text": [
      "current index: 325\n"
     ]
    },
    {
     "name": "stderr",
     "output_type": "stream",
     "text": [
      "C:\\Users\\maxji\\AppData\\Local\\Temp\\ipykernel_40900\\1159726583.py:7: SettingWithCopyWarning: \n",
      "A value is trying to be set on a copy of a slice from a DataFrame\n",
      "\n",
      "See the caveats in the documentation: https://pandas.pydata.org/pandas-docs/stable/user_guide/indexing.html#returning-a-view-versus-a-copy\n",
      "  data[\"wiki_url\"][index] = url\n"
     ]
    },
    {
     "name": "stdout",
     "output_type": "stream",
     "text": [
      "current index: 326\n"
     ]
    },
    {
     "name": "stderr",
     "output_type": "stream",
     "text": [
      "C:\\Users\\maxji\\AppData\\Local\\Temp\\ipykernel_40900\\1159726583.py:7: SettingWithCopyWarning: \n",
      "A value is trying to be set on a copy of a slice from a DataFrame\n",
      "\n",
      "See the caveats in the documentation: https://pandas.pydata.org/pandas-docs/stable/user_guide/indexing.html#returning-a-view-versus-a-copy\n",
      "  data[\"wiki_url\"][index] = url\n"
     ]
    },
    {
     "name": "stdout",
     "output_type": "stream",
     "text": [
      "current index: 327\n"
     ]
    },
    {
     "name": "stderr",
     "output_type": "stream",
     "text": [
      "C:\\Users\\maxji\\AppData\\Local\\Temp\\ipykernel_40900\\1159726583.py:7: SettingWithCopyWarning: \n",
      "A value is trying to be set on a copy of a slice from a DataFrame\n",
      "\n",
      "See the caveats in the documentation: https://pandas.pydata.org/pandas-docs/stable/user_guide/indexing.html#returning-a-view-versus-a-copy\n",
      "  data[\"wiki_url\"][index] = url\n"
     ]
    },
    {
     "name": "stdout",
     "output_type": "stream",
     "text": [
      "current index: 328\n"
     ]
    },
    {
     "name": "stderr",
     "output_type": "stream",
     "text": [
      "C:\\Users\\maxji\\AppData\\Local\\Temp\\ipykernel_40900\\1159726583.py:7: SettingWithCopyWarning: \n",
      "A value is trying to be set on a copy of a slice from a DataFrame\n",
      "\n",
      "See the caveats in the documentation: https://pandas.pydata.org/pandas-docs/stable/user_guide/indexing.html#returning-a-view-versus-a-copy\n",
      "  data[\"wiki_url\"][index] = url\n"
     ]
    },
    {
     "name": "stdout",
     "output_type": "stream",
     "text": [
      "current index: 329\n"
     ]
    },
    {
     "name": "stderr",
     "output_type": "stream",
     "text": [
      "C:\\Users\\maxji\\AppData\\Local\\Temp\\ipykernel_40900\\1159726583.py:7: SettingWithCopyWarning: \n",
      "A value is trying to be set on a copy of a slice from a DataFrame\n",
      "\n",
      "See the caveats in the documentation: https://pandas.pydata.org/pandas-docs/stable/user_guide/indexing.html#returning-a-view-versus-a-copy\n",
      "  data[\"wiki_url\"][index] = url\n"
     ]
    },
    {
     "name": "stdout",
     "output_type": "stream",
     "text": [
      "current index: 330\n"
     ]
    },
    {
     "name": "stderr",
     "output_type": "stream",
     "text": [
      "C:\\Users\\maxji\\AppData\\Local\\Temp\\ipykernel_40900\\1159726583.py:7: SettingWithCopyWarning: \n",
      "A value is trying to be set on a copy of a slice from a DataFrame\n",
      "\n",
      "See the caveats in the documentation: https://pandas.pydata.org/pandas-docs/stable/user_guide/indexing.html#returning-a-view-versus-a-copy\n",
      "  data[\"wiki_url\"][index] = url\n"
     ]
    },
    {
     "name": "stdout",
     "output_type": "stream",
     "text": [
      "current index: 331\n"
     ]
    },
    {
     "name": "stderr",
     "output_type": "stream",
     "text": [
      "C:\\Users\\maxji\\AppData\\Local\\Temp\\ipykernel_40900\\1159726583.py:7: SettingWithCopyWarning: \n",
      "A value is trying to be set on a copy of a slice from a DataFrame\n",
      "\n",
      "See the caveats in the documentation: https://pandas.pydata.org/pandas-docs/stable/user_guide/indexing.html#returning-a-view-versus-a-copy\n",
      "  data[\"wiki_url\"][index] = url\n"
     ]
    },
    {
     "name": "stdout",
     "output_type": "stream",
     "text": [
      "current index: 332\n"
     ]
    },
    {
     "name": "stderr",
     "output_type": "stream",
     "text": [
      "C:\\Users\\maxji\\AppData\\Local\\Temp\\ipykernel_40900\\1159726583.py:7: SettingWithCopyWarning: \n",
      "A value is trying to be set on a copy of a slice from a DataFrame\n",
      "\n",
      "See the caveats in the documentation: https://pandas.pydata.org/pandas-docs/stable/user_guide/indexing.html#returning-a-view-versus-a-copy\n",
      "  data[\"wiki_url\"][index] = url\n"
     ]
    },
    {
     "name": "stdout",
     "output_type": "stream",
     "text": [
      "current index: 333\n"
     ]
    },
    {
     "name": "stderr",
     "output_type": "stream",
     "text": [
      "C:\\Users\\maxji\\AppData\\Local\\Temp\\ipykernel_40900\\1159726583.py:7: SettingWithCopyWarning: \n",
      "A value is trying to be set on a copy of a slice from a DataFrame\n",
      "\n",
      "See the caveats in the documentation: https://pandas.pydata.org/pandas-docs/stable/user_guide/indexing.html#returning-a-view-versus-a-copy\n",
      "  data[\"wiki_url\"][index] = url\n"
     ]
    },
    {
     "name": "stdout",
     "output_type": "stream",
     "text": [
      "current index: 334\n"
     ]
    },
    {
     "name": "stderr",
     "output_type": "stream",
     "text": [
      "C:\\Users\\maxji\\AppData\\Local\\Temp\\ipykernel_40900\\1159726583.py:7: SettingWithCopyWarning: \n",
      "A value is trying to be set on a copy of a slice from a DataFrame\n",
      "\n",
      "See the caveats in the documentation: https://pandas.pydata.org/pandas-docs/stable/user_guide/indexing.html#returning-a-view-versus-a-copy\n",
      "  data[\"wiki_url\"][index] = url\n"
     ]
    },
    {
     "name": "stdout",
     "output_type": "stream",
     "text": [
      "current index: 335\n"
     ]
    },
    {
     "name": "stderr",
     "output_type": "stream",
     "text": [
      "C:\\Users\\maxji\\AppData\\Local\\Temp\\ipykernel_40900\\1159726583.py:7: SettingWithCopyWarning: \n",
      "A value is trying to be set on a copy of a slice from a DataFrame\n",
      "\n",
      "See the caveats in the documentation: https://pandas.pydata.org/pandas-docs/stable/user_guide/indexing.html#returning-a-view-versus-a-copy\n",
      "  data[\"wiki_url\"][index] = url\n"
     ]
    },
    {
     "name": "stdout",
     "output_type": "stream",
     "text": [
      "current index: 336\n"
     ]
    },
    {
     "name": "stderr",
     "output_type": "stream",
     "text": [
      "C:\\Users\\maxji\\AppData\\Local\\Temp\\ipykernel_40900\\1159726583.py:7: SettingWithCopyWarning: \n",
      "A value is trying to be set on a copy of a slice from a DataFrame\n",
      "\n",
      "See the caveats in the documentation: https://pandas.pydata.org/pandas-docs/stable/user_guide/indexing.html#returning-a-view-versus-a-copy\n",
      "  data[\"wiki_url\"][index] = url\n"
     ]
    },
    {
     "name": "stdout",
     "output_type": "stream",
     "text": [
      "current index: 337\n"
     ]
    },
    {
     "name": "stderr",
     "output_type": "stream",
     "text": [
      "C:\\Users\\maxji\\AppData\\Local\\Temp\\ipykernel_40900\\1159726583.py:7: SettingWithCopyWarning: \n",
      "A value is trying to be set on a copy of a slice from a DataFrame\n",
      "\n",
      "See the caveats in the documentation: https://pandas.pydata.org/pandas-docs/stable/user_guide/indexing.html#returning-a-view-versus-a-copy\n",
      "  data[\"wiki_url\"][index] = url\n"
     ]
    },
    {
     "name": "stdout",
     "output_type": "stream",
     "text": [
      "current index: 338\n"
     ]
    },
    {
     "name": "stderr",
     "output_type": "stream",
     "text": [
      "C:\\Users\\maxji\\AppData\\Local\\Temp\\ipykernel_40900\\1159726583.py:7: SettingWithCopyWarning: \n",
      "A value is trying to be set on a copy of a slice from a DataFrame\n",
      "\n",
      "See the caveats in the documentation: https://pandas.pydata.org/pandas-docs/stable/user_guide/indexing.html#returning-a-view-versus-a-copy\n",
      "  data[\"wiki_url\"][index] = url\n"
     ]
    },
    {
     "name": "stdout",
     "output_type": "stream",
     "text": [
      "current index: 339\n"
     ]
    },
    {
     "name": "stderr",
     "output_type": "stream",
     "text": [
      "C:\\Users\\maxji\\AppData\\Local\\Temp\\ipykernel_40900\\1159726583.py:7: SettingWithCopyWarning: \n",
      "A value is trying to be set on a copy of a slice from a DataFrame\n",
      "\n",
      "See the caveats in the documentation: https://pandas.pydata.org/pandas-docs/stable/user_guide/indexing.html#returning-a-view-versus-a-copy\n",
      "  data[\"wiki_url\"][index] = url\n"
     ]
    },
    {
     "name": "stdout",
     "output_type": "stream",
     "text": [
      "current index: 340\n"
     ]
    },
    {
     "name": "stderr",
     "output_type": "stream",
     "text": [
      "C:\\Users\\maxji\\AppData\\Local\\Temp\\ipykernel_40900\\1159726583.py:7: SettingWithCopyWarning: \n",
      "A value is trying to be set on a copy of a slice from a DataFrame\n",
      "\n",
      "See the caveats in the documentation: https://pandas.pydata.org/pandas-docs/stable/user_guide/indexing.html#returning-a-view-versus-a-copy\n",
      "  data[\"wiki_url\"][index] = url\n"
     ]
    },
    {
     "name": "stdout",
     "output_type": "stream",
     "text": [
      "current index: 341\n"
     ]
    },
    {
     "name": "stderr",
     "output_type": "stream",
     "text": [
      "C:\\Users\\maxji\\AppData\\Local\\Temp\\ipykernel_40900\\1159726583.py:7: SettingWithCopyWarning: \n",
      "A value is trying to be set on a copy of a slice from a DataFrame\n",
      "\n",
      "See the caveats in the documentation: https://pandas.pydata.org/pandas-docs/stable/user_guide/indexing.html#returning-a-view-versus-a-copy\n",
      "  data[\"wiki_url\"][index] = url\n"
     ]
    },
    {
     "name": "stdout",
     "output_type": "stream",
     "text": [
      "current index: 342\n"
     ]
    },
    {
     "name": "stderr",
     "output_type": "stream",
     "text": [
      "C:\\Users\\maxji\\AppData\\Local\\Temp\\ipykernel_40900\\1159726583.py:7: SettingWithCopyWarning: \n",
      "A value is trying to be set on a copy of a slice from a DataFrame\n",
      "\n",
      "See the caveats in the documentation: https://pandas.pydata.org/pandas-docs/stable/user_guide/indexing.html#returning-a-view-versus-a-copy\n",
      "  data[\"wiki_url\"][index] = url\n"
     ]
    },
    {
     "name": "stdout",
     "output_type": "stream",
     "text": [
      "current index: 343\n"
     ]
    },
    {
     "name": "stderr",
     "output_type": "stream",
     "text": [
      "C:\\Users\\maxji\\AppData\\Local\\Temp\\ipykernel_40900\\1159726583.py:7: SettingWithCopyWarning: \n",
      "A value is trying to be set on a copy of a slice from a DataFrame\n",
      "\n",
      "See the caveats in the documentation: https://pandas.pydata.org/pandas-docs/stable/user_guide/indexing.html#returning-a-view-versus-a-copy\n",
      "  data[\"wiki_url\"][index] = url\n"
     ]
    },
    {
     "name": "stdout",
     "output_type": "stream",
     "text": [
      "current index: 344\n"
     ]
    },
    {
     "name": "stderr",
     "output_type": "stream",
     "text": [
      "C:\\Users\\maxji\\AppData\\Local\\Temp\\ipykernel_40900\\1159726583.py:7: SettingWithCopyWarning: \n",
      "A value is trying to be set on a copy of a slice from a DataFrame\n",
      "\n",
      "See the caveats in the documentation: https://pandas.pydata.org/pandas-docs/stable/user_guide/indexing.html#returning-a-view-versus-a-copy\n",
      "  data[\"wiki_url\"][index] = url\n"
     ]
    },
    {
     "name": "stdout",
     "output_type": "stream",
     "text": [
      "current index: 345\n"
     ]
    },
    {
     "name": "stderr",
     "output_type": "stream",
     "text": [
      "C:\\Users\\maxji\\AppData\\Local\\Temp\\ipykernel_40900\\1159726583.py:7: SettingWithCopyWarning: \n",
      "A value is trying to be set on a copy of a slice from a DataFrame\n",
      "\n",
      "See the caveats in the documentation: https://pandas.pydata.org/pandas-docs/stable/user_guide/indexing.html#returning-a-view-versus-a-copy\n",
      "  data[\"wiki_url\"][index] = url\n"
     ]
    },
    {
     "name": "stdout",
     "output_type": "stream",
     "text": [
      "current index: 346\n"
     ]
    },
    {
     "name": "stderr",
     "output_type": "stream",
     "text": [
      "C:\\Users\\maxji\\AppData\\Local\\Temp\\ipykernel_40900\\1159726583.py:7: SettingWithCopyWarning: \n",
      "A value is trying to be set on a copy of a slice from a DataFrame\n",
      "\n",
      "See the caveats in the documentation: https://pandas.pydata.org/pandas-docs/stable/user_guide/indexing.html#returning-a-view-versus-a-copy\n",
      "  data[\"wiki_url\"][index] = url\n"
     ]
    },
    {
     "name": "stdout",
     "output_type": "stream",
     "text": [
      "current index: 347\n"
     ]
    },
    {
     "name": "stderr",
     "output_type": "stream",
     "text": [
      "C:\\Users\\maxji\\AppData\\Local\\Temp\\ipykernel_40900\\1159726583.py:7: SettingWithCopyWarning: \n",
      "A value is trying to be set on a copy of a slice from a DataFrame\n",
      "\n",
      "See the caveats in the documentation: https://pandas.pydata.org/pandas-docs/stable/user_guide/indexing.html#returning-a-view-versus-a-copy\n",
      "  data[\"wiki_url\"][index] = url\n"
     ]
    },
    {
     "name": "stdout",
     "output_type": "stream",
     "text": [
      "current index: 348\n"
     ]
    },
    {
     "name": "stderr",
     "output_type": "stream",
     "text": [
      "C:\\Users\\maxji\\AppData\\Local\\Temp\\ipykernel_40900\\1159726583.py:7: SettingWithCopyWarning: \n",
      "A value is trying to be set on a copy of a slice from a DataFrame\n",
      "\n",
      "See the caveats in the documentation: https://pandas.pydata.org/pandas-docs/stable/user_guide/indexing.html#returning-a-view-versus-a-copy\n",
      "  data[\"wiki_url\"][index] = url\n"
     ]
    },
    {
     "name": "stdout",
     "output_type": "stream",
     "text": [
      "current index: 349\n"
     ]
    },
    {
     "name": "stderr",
     "output_type": "stream",
     "text": [
      "C:\\Users\\maxji\\AppData\\Local\\Temp\\ipykernel_40900\\1159726583.py:7: SettingWithCopyWarning: \n",
      "A value is trying to be set on a copy of a slice from a DataFrame\n",
      "\n",
      "See the caveats in the documentation: https://pandas.pydata.org/pandas-docs/stable/user_guide/indexing.html#returning-a-view-versus-a-copy\n",
      "  data[\"wiki_url\"][index] = url\n"
     ]
    },
    {
     "name": "stdout",
     "output_type": "stream",
     "text": [
      "current index: 350\n"
     ]
    },
    {
     "name": "stderr",
     "output_type": "stream",
     "text": [
      "C:\\Users\\maxji\\AppData\\Local\\Temp\\ipykernel_40900\\1159726583.py:7: SettingWithCopyWarning: \n",
      "A value is trying to be set on a copy of a slice from a DataFrame\n",
      "\n",
      "See the caveats in the documentation: https://pandas.pydata.org/pandas-docs/stable/user_guide/indexing.html#returning-a-view-versus-a-copy\n",
      "  data[\"wiki_url\"][index] = url\n"
     ]
    },
    {
     "name": "stdout",
     "output_type": "stream",
     "text": [
      "current index: 351\n"
     ]
    },
    {
     "name": "stderr",
     "output_type": "stream",
     "text": [
      "C:\\Users\\maxji\\AppData\\Local\\Temp\\ipykernel_40900\\1159726583.py:7: SettingWithCopyWarning: \n",
      "A value is trying to be set on a copy of a slice from a DataFrame\n",
      "\n",
      "See the caveats in the documentation: https://pandas.pydata.org/pandas-docs/stable/user_guide/indexing.html#returning-a-view-versus-a-copy\n",
      "  data[\"wiki_url\"][index] = url\n"
     ]
    },
    {
     "name": "stdout",
     "output_type": "stream",
     "text": [
      "current index: 352\n"
     ]
    },
    {
     "name": "stderr",
     "output_type": "stream",
     "text": [
      "C:\\Users\\maxji\\AppData\\Local\\Temp\\ipykernel_40900\\1159726583.py:7: SettingWithCopyWarning: \n",
      "A value is trying to be set on a copy of a slice from a DataFrame\n",
      "\n",
      "See the caveats in the documentation: https://pandas.pydata.org/pandas-docs/stable/user_guide/indexing.html#returning-a-view-versus-a-copy\n",
      "  data[\"wiki_url\"][index] = url\n"
     ]
    },
    {
     "name": "stdout",
     "output_type": "stream",
     "text": [
      "current index: 353\n"
     ]
    },
    {
     "name": "stderr",
     "output_type": "stream",
     "text": [
      "C:\\Users\\maxji\\AppData\\Local\\Temp\\ipykernel_40900\\1159726583.py:7: SettingWithCopyWarning: \n",
      "A value is trying to be set on a copy of a slice from a DataFrame\n",
      "\n",
      "See the caveats in the documentation: https://pandas.pydata.org/pandas-docs/stable/user_guide/indexing.html#returning-a-view-versus-a-copy\n",
      "  data[\"wiki_url\"][index] = url\n"
     ]
    },
    {
     "name": "stdout",
     "output_type": "stream",
     "text": [
      "current index: 354\n"
     ]
    },
    {
     "name": "stderr",
     "output_type": "stream",
     "text": [
      "C:\\Users\\maxji\\AppData\\Local\\Temp\\ipykernel_40900\\1159726583.py:7: SettingWithCopyWarning: \n",
      "A value is trying to be set on a copy of a slice from a DataFrame\n",
      "\n",
      "See the caveats in the documentation: https://pandas.pydata.org/pandas-docs/stable/user_guide/indexing.html#returning-a-view-versus-a-copy\n",
      "  data[\"wiki_url\"][index] = url\n"
     ]
    },
    {
     "name": "stdout",
     "output_type": "stream",
     "text": [
      "current index: 355\n"
     ]
    },
    {
     "name": "stderr",
     "output_type": "stream",
     "text": [
      "C:\\Users\\maxji\\AppData\\Local\\Temp\\ipykernel_40900\\1159726583.py:7: SettingWithCopyWarning: \n",
      "A value is trying to be set on a copy of a slice from a DataFrame\n",
      "\n",
      "See the caveats in the documentation: https://pandas.pydata.org/pandas-docs/stable/user_guide/indexing.html#returning-a-view-versus-a-copy\n",
      "  data[\"wiki_url\"][index] = url\n"
     ]
    },
    {
     "name": "stdout",
     "output_type": "stream",
     "text": [
      "current index: 356\n"
     ]
    },
    {
     "name": "stderr",
     "output_type": "stream",
     "text": [
      "C:\\Users\\maxji\\AppData\\Local\\Temp\\ipykernel_40900\\1159726583.py:7: SettingWithCopyWarning: \n",
      "A value is trying to be set on a copy of a slice from a DataFrame\n",
      "\n",
      "See the caveats in the documentation: https://pandas.pydata.org/pandas-docs/stable/user_guide/indexing.html#returning-a-view-versus-a-copy\n",
      "  data[\"wiki_url\"][index] = url\n"
     ]
    },
    {
     "name": "stdout",
     "output_type": "stream",
     "text": [
      "current index: 357\n"
     ]
    },
    {
     "name": "stderr",
     "output_type": "stream",
     "text": [
      "C:\\Users\\maxji\\AppData\\Local\\Temp\\ipykernel_40900\\1159726583.py:7: SettingWithCopyWarning: \n",
      "A value is trying to be set on a copy of a slice from a DataFrame\n",
      "\n",
      "See the caveats in the documentation: https://pandas.pydata.org/pandas-docs/stable/user_guide/indexing.html#returning-a-view-versus-a-copy\n",
      "  data[\"wiki_url\"][index] = url\n"
     ]
    },
    {
     "name": "stdout",
     "output_type": "stream",
     "text": [
      "current index: 358\n"
     ]
    },
    {
     "name": "stderr",
     "output_type": "stream",
     "text": [
      "C:\\Users\\maxji\\AppData\\Local\\Temp\\ipykernel_40900\\1159726583.py:7: SettingWithCopyWarning: \n",
      "A value is trying to be set on a copy of a slice from a DataFrame\n",
      "\n",
      "See the caveats in the documentation: https://pandas.pydata.org/pandas-docs/stable/user_guide/indexing.html#returning-a-view-versus-a-copy\n",
      "  data[\"wiki_url\"][index] = url\n"
     ]
    },
    {
     "name": "stdout",
     "output_type": "stream",
     "text": [
      "current index: 359\n"
     ]
    },
    {
     "name": "stderr",
     "output_type": "stream",
     "text": [
      "C:\\Users\\maxji\\AppData\\Local\\Temp\\ipykernel_40900\\1159726583.py:7: SettingWithCopyWarning: \n",
      "A value is trying to be set on a copy of a slice from a DataFrame\n",
      "\n",
      "See the caveats in the documentation: https://pandas.pydata.org/pandas-docs/stable/user_guide/indexing.html#returning-a-view-versus-a-copy\n",
      "  data[\"wiki_url\"][index] = url\n"
     ]
    },
    {
     "name": "stdout",
     "output_type": "stream",
     "text": [
      "current index: 360\n"
     ]
    },
    {
     "name": "stderr",
     "output_type": "stream",
     "text": [
      "C:\\Users\\maxji\\AppData\\Local\\Temp\\ipykernel_40900\\1159726583.py:7: SettingWithCopyWarning: \n",
      "A value is trying to be set on a copy of a slice from a DataFrame\n",
      "\n",
      "See the caveats in the documentation: https://pandas.pydata.org/pandas-docs/stable/user_guide/indexing.html#returning-a-view-versus-a-copy\n",
      "  data[\"wiki_url\"][index] = url\n"
     ]
    },
    {
     "name": "stdout",
     "output_type": "stream",
     "text": [
      "current index: 361\n"
     ]
    },
    {
     "name": "stderr",
     "output_type": "stream",
     "text": [
      "C:\\Users\\maxji\\AppData\\Local\\Temp\\ipykernel_40900\\1159726583.py:7: SettingWithCopyWarning: \n",
      "A value is trying to be set on a copy of a slice from a DataFrame\n",
      "\n",
      "See the caveats in the documentation: https://pandas.pydata.org/pandas-docs/stable/user_guide/indexing.html#returning-a-view-versus-a-copy\n",
      "  data[\"wiki_url\"][index] = url\n"
     ]
    },
    {
     "name": "stdout",
     "output_type": "stream",
     "text": [
      "current index: 362\n"
     ]
    },
    {
     "name": "stderr",
     "output_type": "stream",
     "text": [
      "C:\\Users\\maxji\\AppData\\Local\\Temp\\ipykernel_40900\\1159726583.py:7: SettingWithCopyWarning: \n",
      "A value is trying to be set on a copy of a slice from a DataFrame\n",
      "\n",
      "See the caveats in the documentation: https://pandas.pydata.org/pandas-docs/stable/user_guide/indexing.html#returning-a-view-versus-a-copy\n",
      "  data[\"wiki_url\"][index] = url\n"
     ]
    },
    {
     "name": "stdout",
     "output_type": "stream",
     "text": [
      "current index: 363\n"
     ]
    },
    {
     "name": "stderr",
     "output_type": "stream",
     "text": [
      "C:\\Users\\maxji\\AppData\\Local\\Temp\\ipykernel_40900\\1159726583.py:7: SettingWithCopyWarning: \n",
      "A value is trying to be set on a copy of a slice from a DataFrame\n",
      "\n",
      "See the caveats in the documentation: https://pandas.pydata.org/pandas-docs/stable/user_guide/indexing.html#returning-a-view-versus-a-copy\n",
      "  data[\"wiki_url\"][index] = url\n"
     ]
    },
    {
     "name": "stdout",
     "output_type": "stream",
     "text": [
      "current index: 364\n"
     ]
    },
    {
     "name": "stderr",
     "output_type": "stream",
     "text": [
      "C:\\Users\\maxji\\AppData\\Local\\Temp\\ipykernel_40900\\1159726583.py:7: SettingWithCopyWarning: \n",
      "A value is trying to be set on a copy of a slice from a DataFrame\n",
      "\n",
      "See the caveats in the documentation: https://pandas.pydata.org/pandas-docs/stable/user_guide/indexing.html#returning-a-view-versus-a-copy\n",
      "  data[\"wiki_url\"][index] = url\n"
     ]
    },
    {
     "name": "stdout",
     "output_type": "stream",
     "text": [
      "current index: 365\n"
     ]
    },
    {
     "name": "stderr",
     "output_type": "stream",
     "text": [
      "C:\\Users\\maxji\\AppData\\Local\\Temp\\ipykernel_40900\\1159726583.py:7: SettingWithCopyWarning: \n",
      "A value is trying to be set on a copy of a slice from a DataFrame\n",
      "\n",
      "See the caveats in the documentation: https://pandas.pydata.org/pandas-docs/stable/user_guide/indexing.html#returning-a-view-versus-a-copy\n",
      "  data[\"wiki_url\"][index] = url\n"
     ]
    },
    {
     "name": "stdout",
     "output_type": "stream",
     "text": [
      "current index: 366\n"
     ]
    },
    {
     "name": "stderr",
     "output_type": "stream",
     "text": [
      "C:\\Users\\maxji\\AppData\\Local\\Temp\\ipykernel_40900\\1159726583.py:7: SettingWithCopyWarning: \n",
      "A value is trying to be set on a copy of a slice from a DataFrame\n",
      "\n",
      "See the caveats in the documentation: https://pandas.pydata.org/pandas-docs/stable/user_guide/indexing.html#returning-a-view-versus-a-copy\n",
      "  data[\"wiki_url\"][index] = url\n"
     ]
    },
    {
     "name": "stdout",
     "output_type": "stream",
     "text": [
      "current index: 367\n"
     ]
    },
    {
     "name": "stderr",
     "output_type": "stream",
     "text": [
      "C:\\Users\\maxji\\AppData\\Local\\Temp\\ipykernel_40900\\1159726583.py:7: SettingWithCopyWarning: \n",
      "A value is trying to be set on a copy of a slice from a DataFrame\n",
      "\n",
      "See the caveats in the documentation: https://pandas.pydata.org/pandas-docs/stable/user_guide/indexing.html#returning-a-view-versus-a-copy\n",
      "  data[\"wiki_url\"][index] = url\n"
     ]
    },
    {
     "name": "stdout",
     "output_type": "stream",
     "text": [
      "current index: 368\n"
     ]
    },
    {
     "name": "stderr",
     "output_type": "stream",
     "text": [
      "C:\\Users\\maxji\\AppData\\Local\\Temp\\ipykernel_40900\\1159726583.py:7: SettingWithCopyWarning: \n",
      "A value is trying to be set on a copy of a slice from a DataFrame\n",
      "\n",
      "See the caveats in the documentation: https://pandas.pydata.org/pandas-docs/stable/user_guide/indexing.html#returning-a-view-versus-a-copy\n",
      "  data[\"wiki_url\"][index] = url\n"
     ]
    },
    {
     "name": "stdout",
     "output_type": "stream",
     "text": [
      "current index: 369\n"
     ]
    },
    {
     "name": "stderr",
     "output_type": "stream",
     "text": [
      "C:\\Users\\maxji\\AppData\\Local\\Temp\\ipykernel_40900\\1159726583.py:7: SettingWithCopyWarning: \n",
      "A value is trying to be set on a copy of a slice from a DataFrame\n",
      "\n",
      "See the caveats in the documentation: https://pandas.pydata.org/pandas-docs/stable/user_guide/indexing.html#returning-a-view-versus-a-copy\n",
      "  data[\"wiki_url\"][index] = url\n"
     ]
    },
    {
     "name": "stdout",
     "output_type": "stream",
     "text": [
      "current index: 370\n"
     ]
    },
    {
     "name": "stderr",
     "output_type": "stream",
     "text": [
      "C:\\Users\\maxji\\AppData\\Local\\Temp\\ipykernel_40900\\1159726583.py:7: SettingWithCopyWarning: \n",
      "A value is trying to be set on a copy of a slice from a DataFrame\n",
      "\n",
      "See the caveats in the documentation: https://pandas.pydata.org/pandas-docs/stable/user_guide/indexing.html#returning-a-view-versus-a-copy\n",
      "  data[\"wiki_url\"][index] = url\n"
     ]
    },
    {
     "name": "stdout",
     "output_type": "stream",
     "text": [
      "current index: 371\n"
     ]
    },
    {
     "name": "stderr",
     "output_type": "stream",
     "text": [
      "C:\\Users\\maxji\\AppData\\Local\\Temp\\ipykernel_40900\\1159726583.py:7: SettingWithCopyWarning: \n",
      "A value is trying to be set on a copy of a slice from a DataFrame\n",
      "\n",
      "See the caveats in the documentation: https://pandas.pydata.org/pandas-docs/stable/user_guide/indexing.html#returning-a-view-versus-a-copy\n",
      "  data[\"wiki_url\"][index] = url\n"
     ]
    },
    {
     "name": "stdout",
     "output_type": "stream",
     "text": [
      "current index: 372\n"
     ]
    },
    {
     "name": "stderr",
     "output_type": "stream",
     "text": [
      "C:\\Users\\maxji\\AppData\\Local\\Temp\\ipykernel_40900\\1159726583.py:7: SettingWithCopyWarning: \n",
      "A value is trying to be set on a copy of a slice from a DataFrame\n",
      "\n",
      "See the caveats in the documentation: https://pandas.pydata.org/pandas-docs/stable/user_guide/indexing.html#returning-a-view-versus-a-copy\n",
      "  data[\"wiki_url\"][index] = url\n"
     ]
    },
    {
     "name": "stdout",
     "output_type": "stream",
     "text": [
      "current index: 373\n"
     ]
    },
    {
     "name": "stderr",
     "output_type": "stream",
     "text": [
      "C:\\Users\\maxji\\AppData\\Local\\Temp\\ipykernel_40900\\1159726583.py:7: SettingWithCopyWarning: \n",
      "A value is trying to be set on a copy of a slice from a DataFrame\n",
      "\n",
      "See the caveats in the documentation: https://pandas.pydata.org/pandas-docs/stable/user_guide/indexing.html#returning-a-view-versus-a-copy\n",
      "  data[\"wiki_url\"][index] = url\n"
     ]
    },
    {
     "name": "stdout",
     "output_type": "stream",
     "text": [
      "current index: 374\n"
     ]
    },
    {
     "name": "stderr",
     "output_type": "stream",
     "text": [
      "C:\\Users\\maxji\\AppData\\Local\\Temp\\ipykernel_40900\\1159726583.py:7: SettingWithCopyWarning: \n",
      "A value is trying to be set on a copy of a slice from a DataFrame\n",
      "\n",
      "See the caveats in the documentation: https://pandas.pydata.org/pandas-docs/stable/user_guide/indexing.html#returning-a-view-versus-a-copy\n",
      "  data[\"wiki_url\"][index] = url\n"
     ]
    },
    {
     "name": "stdout",
     "output_type": "stream",
     "text": [
      "current index: 375\n"
     ]
    },
    {
     "name": "stderr",
     "output_type": "stream",
     "text": [
      "C:\\Users\\maxji\\AppData\\Local\\Temp\\ipykernel_40900\\1159726583.py:7: SettingWithCopyWarning: \n",
      "A value is trying to be set on a copy of a slice from a DataFrame\n",
      "\n",
      "See the caveats in the documentation: https://pandas.pydata.org/pandas-docs/stable/user_guide/indexing.html#returning-a-view-versus-a-copy\n",
      "  data[\"wiki_url\"][index] = url\n"
     ]
    },
    {
     "name": "stdout",
     "output_type": "stream",
     "text": [
      "current index: 376\n"
     ]
    },
    {
     "name": "stderr",
     "output_type": "stream",
     "text": [
      "C:\\Users\\maxji\\AppData\\Local\\Temp\\ipykernel_40900\\1159726583.py:7: SettingWithCopyWarning: \n",
      "A value is trying to be set on a copy of a slice from a DataFrame\n",
      "\n",
      "See the caveats in the documentation: https://pandas.pydata.org/pandas-docs/stable/user_guide/indexing.html#returning-a-view-versus-a-copy\n",
      "  data[\"wiki_url\"][index] = url\n"
     ]
    },
    {
     "name": "stdout",
     "output_type": "stream",
     "text": [
      "current index: 377\n"
     ]
    },
    {
     "name": "stderr",
     "output_type": "stream",
     "text": [
      "C:\\Users\\maxji\\AppData\\Local\\Temp\\ipykernel_40900\\1159726583.py:7: SettingWithCopyWarning: \n",
      "A value is trying to be set on a copy of a slice from a DataFrame\n",
      "\n",
      "See the caveats in the documentation: https://pandas.pydata.org/pandas-docs/stable/user_guide/indexing.html#returning-a-view-versus-a-copy\n",
      "  data[\"wiki_url\"][index] = url\n"
     ]
    },
    {
     "name": "stdout",
     "output_type": "stream",
     "text": [
      "current index: 378\n"
     ]
    },
    {
     "name": "stderr",
     "output_type": "stream",
     "text": [
      "C:\\Users\\maxji\\AppData\\Local\\Temp\\ipykernel_40900\\1159726583.py:7: SettingWithCopyWarning: \n",
      "A value is trying to be set on a copy of a slice from a DataFrame\n",
      "\n",
      "See the caveats in the documentation: https://pandas.pydata.org/pandas-docs/stable/user_guide/indexing.html#returning-a-view-versus-a-copy\n",
      "  data[\"wiki_url\"][index] = url\n"
     ]
    },
    {
     "name": "stdout",
     "output_type": "stream",
     "text": [
      "current index: 379\n"
     ]
    },
    {
     "name": "stderr",
     "output_type": "stream",
     "text": [
      "C:\\Users\\maxji\\AppData\\Local\\Temp\\ipykernel_40900\\1159726583.py:7: SettingWithCopyWarning: \n",
      "A value is trying to be set on a copy of a slice from a DataFrame\n",
      "\n",
      "See the caveats in the documentation: https://pandas.pydata.org/pandas-docs/stable/user_guide/indexing.html#returning-a-view-versus-a-copy\n",
      "  data[\"wiki_url\"][index] = url\n"
     ]
    },
    {
     "name": "stdout",
     "output_type": "stream",
     "text": [
      "current index: 380\n"
     ]
    },
    {
     "name": "stderr",
     "output_type": "stream",
     "text": [
      "C:\\Users\\maxji\\AppData\\Local\\Temp\\ipykernel_40900\\1159726583.py:7: SettingWithCopyWarning: \n",
      "A value is trying to be set on a copy of a slice from a DataFrame\n",
      "\n",
      "See the caveats in the documentation: https://pandas.pydata.org/pandas-docs/stable/user_guide/indexing.html#returning-a-view-versus-a-copy\n",
      "  data[\"wiki_url\"][index] = url\n"
     ]
    },
    {
     "name": "stdout",
     "output_type": "stream",
     "text": [
      "current index: 381\n"
     ]
    },
    {
     "name": "stderr",
     "output_type": "stream",
     "text": [
      "C:\\Users\\maxji\\AppData\\Local\\Temp\\ipykernel_40900\\1159726583.py:7: SettingWithCopyWarning: \n",
      "A value is trying to be set on a copy of a slice from a DataFrame\n",
      "\n",
      "See the caveats in the documentation: https://pandas.pydata.org/pandas-docs/stable/user_guide/indexing.html#returning-a-view-versus-a-copy\n",
      "  data[\"wiki_url\"][index] = url\n"
     ]
    },
    {
     "name": "stdout",
     "output_type": "stream",
     "text": [
      "current index: 382\n"
     ]
    },
    {
     "name": "stderr",
     "output_type": "stream",
     "text": [
      "C:\\Users\\maxji\\AppData\\Local\\Temp\\ipykernel_40900\\1159726583.py:7: SettingWithCopyWarning: \n",
      "A value is trying to be set on a copy of a slice from a DataFrame\n",
      "\n",
      "See the caveats in the documentation: https://pandas.pydata.org/pandas-docs/stable/user_guide/indexing.html#returning-a-view-versus-a-copy\n",
      "  data[\"wiki_url\"][index] = url\n"
     ]
    },
    {
     "name": "stdout",
     "output_type": "stream",
     "text": [
      "current index: 383\n"
     ]
    },
    {
     "name": "stderr",
     "output_type": "stream",
     "text": [
      "C:\\Users\\maxji\\AppData\\Local\\Temp\\ipykernel_40900\\1159726583.py:7: SettingWithCopyWarning: \n",
      "A value is trying to be set on a copy of a slice from a DataFrame\n",
      "\n",
      "See the caveats in the documentation: https://pandas.pydata.org/pandas-docs/stable/user_guide/indexing.html#returning-a-view-versus-a-copy\n",
      "  data[\"wiki_url\"][index] = url\n"
     ]
    },
    {
     "name": "stdout",
     "output_type": "stream",
     "text": [
      "current index: 384\n"
     ]
    },
    {
     "name": "stderr",
     "output_type": "stream",
     "text": [
      "C:\\Users\\maxji\\AppData\\Local\\Temp\\ipykernel_40900\\1159726583.py:7: SettingWithCopyWarning: \n",
      "A value is trying to be set on a copy of a slice from a DataFrame\n",
      "\n",
      "See the caveats in the documentation: https://pandas.pydata.org/pandas-docs/stable/user_guide/indexing.html#returning-a-view-versus-a-copy\n",
      "  data[\"wiki_url\"][index] = url\n"
     ]
    },
    {
     "name": "stdout",
     "output_type": "stream",
     "text": [
      "current index: 385\n"
     ]
    },
    {
     "name": "stderr",
     "output_type": "stream",
     "text": [
      "C:\\Users\\maxji\\AppData\\Local\\Temp\\ipykernel_40900\\1159726583.py:7: SettingWithCopyWarning: \n",
      "A value is trying to be set on a copy of a slice from a DataFrame\n",
      "\n",
      "See the caveats in the documentation: https://pandas.pydata.org/pandas-docs/stable/user_guide/indexing.html#returning-a-view-versus-a-copy\n",
      "  data[\"wiki_url\"][index] = url\n"
     ]
    },
    {
     "name": "stdout",
     "output_type": "stream",
     "text": [
      "current index: 386\n"
     ]
    },
    {
     "name": "stderr",
     "output_type": "stream",
     "text": [
      "C:\\Users\\maxji\\AppData\\Local\\Temp\\ipykernel_40900\\1159726583.py:7: SettingWithCopyWarning: \n",
      "A value is trying to be set on a copy of a slice from a DataFrame\n",
      "\n",
      "See the caveats in the documentation: https://pandas.pydata.org/pandas-docs/stable/user_guide/indexing.html#returning-a-view-versus-a-copy\n",
      "  data[\"wiki_url\"][index] = url\n"
     ]
    },
    {
     "name": "stdout",
     "output_type": "stream",
     "text": [
      "current index: 387\n"
     ]
    },
    {
     "name": "stderr",
     "output_type": "stream",
     "text": [
      "C:\\Users\\maxji\\AppData\\Local\\Temp\\ipykernel_40900\\1159726583.py:7: SettingWithCopyWarning: \n",
      "A value is trying to be set on a copy of a slice from a DataFrame\n",
      "\n",
      "See the caveats in the documentation: https://pandas.pydata.org/pandas-docs/stable/user_guide/indexing.html#returning-a-view-versus-a-copy\n",
      "  data[\"wiki_url\"][index] = url\n"
     ]
    },
    {
     "name": "stdout",
     "output_type": "stream",
     "text": [
      "current index: 388\n"
     ]
    },
    {
     "name": "stderr",
     "output_type": "stream",
     "text": [
      "C:\\Users\\maxji\\AppData\\Local\\Temp\\ipykernel_40900\\1159726583.py:7: SettingWithCopyWarning: \n",
      "A value is trying to be set on a copy of a slice from a DataFrame\n",
      "\n",
      "See the caveats in the documentation: https://pandas.pydata.org/pandas-docs/stable/user_guide/indexing.html#returning-a-view-versus-a-copy\n",
      "  data[\"wiki_url\"][index] = url\n"
     ]
    },
    {
     "name": "stdout",
     "output_type": "stream",
     "text": [
      "current index: 389\n"
     ]
    },
    {
     "name": "stderr",
     "output_type": "stream",
     "text": [
      "C:\\Users\\maxji\\AppData\\Local\\Temp\\ipykernel_40900\\1159726583.py:7: SettingWithCopyWarning: \n",
      "A value is trying to be set on a copy of a slice from a DataFrame\n",
      "\n",
      "See the caveats in the documentation: https://pandas.pydata.org/pandas-docs/stable/user_guide/indexing.html#returning-a-view-versus-a-copy\n",
      "  data[\"wiki_url\"][index] = url\n"
     ]
    },
    {
     "name": "stdout",
     "output_type": "stream",
     "text": [
      "current index: 390\n"
     ]
    },
    {
     "name": "stderr",
     "output_type": "stream",
     "text": [
      "C:\\Users\\maxji\\AppData\\Local\\Temp\\ipykernel_40900\\1159726583.py:7: SettingWithCopyWarning: \n",
      "A value is trying to be set on a copy of a slice from a DataFrame\n",
      "\n",
      "See the caveats in the documentation: https://pandas.pydata.org/pandas-docs/stable/user_guide/indexing.html#returning-a-view-versus-a-copy\n",
      "  data[\"wiki_url\"][index] = url\n"
     ]
    },
    {
     "name": "stdout",
     "output_type": "stream",
     "text": [
      "current index: 391\n"
     ]
    },
    {
     "name": "stderr",
     "output_type": "stream",
     "text": [
      "C:\\Users\\maxji\\AppData\\Local\\Temp\\ipykernel_40900\\1159726583.py:7: SettingWithCopyWarning: \n",
      "A value is trying to be set on a copy of a slice from a DataFrame\n",
      "\n",
      "See the caveats in the documentation: https://pandas.pydata.org/pandas-docs/stable/user_guide/indexing.html#returning-a-view-versus-a-copy\n",
      "  data[\"wiki_url\"][index] = url\n"
     ]
    },
    {
     "name": "stdout",
     "output_type": "stream",
     "text": [
      "current index: 392\n"
     ]
    },
    {
     "name": "stderr",
     "output_type": "stream",
     "text": [
      "C:\\Users\\maxji\\AppData\\Local\\Temp\\ipykernel_40900\\1159726583.py:7: SettingWithCopyWarning: \n",
      "A value is trying to be set on a copy of a slice from a DataFrame\n",
      "\n",
      "See the caveats in the documentation: https://pandas.pydata.org/pandas-docs/stable/user_guide/indexing.html#returning-a-view-versus-a-copy\n",
      "  data[\"wiki_url\"][index] = url\n"
     ]
    },
    {
     "name": "stdout",
     "output_type": "stream",
     "text": [
      "current index: 393\n"
     ]
    },
    {
     "name": "stderr",
     "output_type": "stream",
     "text": [
      "C:\\Users\\maxji\\AppData\\Local\\Temp\\ipykernel_40900\\1159726583.py:7: SettingWithCopyWarning: \n",
      "A value is trying to be set on a copy of a slice from a DataFrame\n",
      "\n",
      "See the caveats in the documentation: https://pandas.pydata.org/pandas-docs/stable/user_guide/indexing.html#returning-a-view-versus-a-copy\n",
      "  data[\"wiki_url\"][index] = url\n"
     ]
    },
    {
     "name": "stdout",
     "output_type": "stream",
     "text": [
      "current index: 394\n"
     ]
    },
    {
     "name": "stderr",
     "output_type": "stream",
     "text": [
      "C:\\Users\\maxji\\AppData\\Local\\Temp\\ipykernel_40900\\1159726583.py:7: SettingWithCopyWarning: \n",
      "A value is trying to be set on a copy of a slice from a DataFrame\n",
      "\n",
      "See the caveats in the documentation: https://pandas.pydata.org/pandas-docs/stable/user_guide/indexing.html#returning-a-view-versus-a-copy\n",
      "  data[\"wiki_url\"][index] = url\n"
     ]
    },
    {
     "name": "stdout",
     "output_type": "stream",
     "text": [
      "current index: 395\n"
     ]
    },
    {
     "name": "stderr",
     "output_type": "stream",
     "text": [
      "C:\\Users\\maxji\\AppData\\Local\\Temp\\ipykernel_40900\\1159726583.py:7: SettingWithCopyWarning: \n",
      "A value is trying to be set on a copy of a slice from a DataFrame\n",
      "\n",
      "See the caveats in the documentation: https://pandas.pydata.org/pandas-docs/stable/user_guide/indexing.html#returning-a-view-versus-a-copy\n",
      "  data[\"wiki_url\"][index] = url\n"
     ]
    },
    {
     "name": "stdout",
     "output_type": "stream",
     "text": [
      "current index: 396\n"
     ]
    },
    {
     "name": "stderr",
     "output_type": "stream",
     "text": [
      "C:\\Users\\maxji\\AppData\\Local\\Temp\\ipykernel_40900\\1159726583.py:7: SettingWithCopyWarning: \n",
      "A value is trying to be set on a copy of a slice from a DataFrame\n",
      "\n",
      "See the caveats in the documentation: https://pandas.pydata.org/pandas-docs/stable/user_guide/indexing.html#returning-a-view-versus-a-copy\n",
      "  data[\"wiki_url\"][index] = url\n"
     ]
    },
    {
     "name": "stdout",
     "output_type": "stream",
     "text": [
      "current index: 397\n"
     ]
    },
    {
     "name": "stderr",
     "output_type": "stream",
     "text": [
      "C:\\Users\\maxji\\AppData\\Local\\Temp\\ipykernel_40900\\1159726583.py:7: SettingWithCopyWarning: \n",
      "A value is trying to be set on a copy of a slice from a DataFrame\n",
      "\n",
      "See the caveats in the documentation: https://pandas.pydata.org/pandas-docs/stable/user_guide/indexing.html#returning-a-view-versus-a-copy\n",
      "  data[\"wiki_url\"][index] = url\n"
     ]
    },
    {
     "name": "stdout",
     "output_type": "stream",
     "text": [
      "current index: 398\n"
     ]
    },
    {
     "name": "stderr",
     "output_type": "stream",
     "text": [
      "C:\\Users\\maxji\\AppData\\Local\\Temp\\ipykernel_40900\\1159726583.py:7: SettingWithCopyWarning: \n",
      "A value is trying to be set on a copy of a slice from a DataFrame\n",
      "\n",
      "See the caveats in the documentation: https://pandas.pydata.org/pandas-docs/stable/user_guide/indexing.html#returning-a-view-versus-a-copy\n",
      "  data[\"wiki_url\"][index] = url\n"
     ]
    },
    {
     "name": "stdout",
     "output_type": "stream",
     "text": [
      "current index: 399\n"
     ]
    },
    {
     "name": "stderr",
     "output_type": "stream",
     "text": [
      "C:\\Users\\maxji\\AppData\\Local\\Temp\\ipykernel_40900\\1159726583.py:7: SettingWithCopyWarning: \n",
      "A value is trying to be set on a copy of a slice from a DataFrame\n",
      "\n",
      "See the caveats in the documentation: https://pandas.pydata.org/pandas-docs/stable/user_guide/indexing.html#returning-a-view-versus-a-copy\n",
      "  data[\"wiki_url\"][index] = url\n"
     ]
    },
    {
     "name": "stdout",
     "output_type": "stream",
     "text": [
      "current index: 400\n"
     ]
    },
    {
     "name": "stderr",
     "output_type": "stream",
     "text": [
      "C:\\Users\\maxji\\AppData\\Local\\Temp\\ipykernel_40900\\1159726583.py:7: SettingWithCopyWarning: \n",
      "A value is trying to be set on a copy of a slice from a DataFrame\n",
      "\n",
      "See the caveats in the documentation: https://pandas.pydata.org/pandas-docs/stable/user_guide/indexing.html#returning-a-view-versus-a-copy\n",
      "  data[\"wiki_url\"][index] = url\n"
     ]
    },
    {
     "name": "stdout",
     "output_type": "stream",
     "text": [
      "current index: 401\n"
     ]
    },
    {
     "name": "stderr",
     "output_type": "stream",
     "text": [
      "C:\\Users\\maxji\\AppData\\Local\\Temp\\ipykernel_40900\\1159726583.py:7: SettingWithCopyWarning: \n",
      "A value is trying to be set on a copy of a slice from a DataFrame\n",
      "\n",
      "See the caveats in the documentation: https://pandas.pydata.org/pandas-docs/stable/user_guide/indexing.html#returning-a-view-versus-a-copy\n",
      "  data[\"wiki_url\"][index] = url\n"
     ]
    },
    {
     "name": "stdout",
     "output_type": "stream",
     "text": [
      "current index: 402\n"
     ]
    },
    {
     "name": "stderr",
     "output_type": "stream",
     "text": [
      "C:\\Users\\maxji\\AppData\\Local\\Temp\\ipykernel_40900\\1159726583.py:7: SettingWithCopyWarning: \n",
      "A value is trying to be set on a copy of a slice from a DataFrame\n",
      "\n",
      "See the caveats in the documentation: https://pandas.pydata.org/pandas-docs/stable/user_guide/indexing.html#returning-a-view-versus-a-copy\n",
      "  data[\"wiki_url\"][index] = url\n"
     ]
    },
    {
     "name": "stdout",
     "output_type": "stream",
     "text": [
      "current index: 403\n"
     ]
    },
    {
     "name": "stderr",
     "output_type": "stream",
     "text": [
      "C:\\Users\\maxji\\AppData\\Local\\Temp\\ipykernel_40900\\1159726583.py:7: SettingWithCopyWarning: \n",
      "A value is trying to be set on a copy of a slice from a DataFrame\n",
      "\n",
      "See the caveats in the documentation: https://pandas.pydata.org/pandas-docs/stable/user_guide/indexing.html#returning-a-view-versus-a-copy\n",
      "  data[\"wiki_url\"][index] = url\n"
     ]
    },
    {
     "name": "stdout",
     "output_type": "stream",
     "text": [
      "current index: 404\n"
     ]
    },
    {
     "name": "stderr",
     "output_type": "stream",
     "text": [
      "C:\\Users\\maxji\\AppData\\Local\\Temp\\ipykernel_40900\\1159726583.py:7: SettingWithCopyWarning: \n",
      "A value is trying to be set on a copy of a slice from a DataFrame\n",
      "\n",
      "See the caveats in the documentation: https://pandas.pydata.org/pandas-docs/stable/user_guide/indexing.html#returning-a-view-versus-a-copy\n",
      "  data[\"wiki_url\"][index] = url\n"
     ]
    },
    {
     "name": "stdout",
     "output_type": "stream",
     "text": [
      "current index: 405\n"
     ]
    },
    {
     "name": "stderr",
     "output_type": "stream",
     "text": [
      "C:\\Users\\maxji\\AppData\\Local\\Temp\\ipykernel_40900\\1159726583.py:7: SettingWithCopyWarning: \n",
      "A value is trying to be set on a copy of a slice from a DataFrame\n",
      "\n",
      "See the caveats in the documentation: https://pandas.pydata.org/pandas-docs/stable/user_guide/indexing.html#returning-a-view-versus-a-copy\n",
      "  data[\"wiki_url\"][index] = url\n"
     ]
    },
    {
     "name": "stdout",
     "output_type": "stream",
     "text": [
      "current index: 406\n"
     ]
    },
    {
     "name": "stderr",
     "output_type": "stream",
     "text": [
      "C:\\Users\\maxji\\AppData\\Local\\Temp\\ipykernel_40900\\1159726583.py:7: SettingWithCopyWarning: \n",
      "A value is trying to be set on a copy of a slice from a DataFrame\n",
      "\n",
      "See the caveats in the documentation: https://pandas.pydata.org/pandas-docs/stable/user_guide/indexing.html#returning-a-view-versus-a-copy\n",
      "  data[\"wiki_url\"][index] = url\n"
     ]
    },
    {
     "name": "stdout",
     "output_type": "stream",
     "text": [
      "current index: 407\n"
     ]
    },
    {
     "name": "stderr",
     "output_type": "stream",
     "text": [
      "C:\\Users\\maxji\\AppData\\Local\\Temp\\ipykernel_40900\\1159726583.py:7: SettingWithCopyWarning: \n",
      "A value is trying to be set on a copy of a slice from a DataFrame\n",
      "\n",
      "See the caveats in the documentation: https://pandas.pydata.org/pandas-docs/stable/user_guide/indexing.html#returning-a-view-versus-a-copy\n",
      "  data[\"wiki_url\"][index] = url\n"
     ]
    },
    {
     "name": "stdout",
     "output_type": "stream",
     "text": [
      "current index: 408\n"
     ]
    },
    {
     "name": "stderr",
     "output_type": "stream",
     "text": [
      "C:\\Users\\maxji\\AppData\\Local\\Temp\\ipykernel_40900\\1159726583.py:7: SettingWithCopyWarning: \n",
      "A value is trying to be set on a copy of a slice from a DataFrame\n",
      "\n",
      "See the caveats in the documentation: https://pandas.pydata.org/pandas-docs/stable/user_guide/indexing.html#returning-a-view-versus-a-copy\n",
      "  data[\"wiki_url\"][index] = url\n"
     ]
    },
    {
     "name": "stdout",
     "output_type": "stream",
     "text": [
      "current index: 409\n"
     ]
    },
    {
     "name": "stderr",
     "output_type": "stream",
     "text": [
      "C:\\Users\\maxji\\AppData\\Local\\Temp\\ipykernel_40900\\1159726583.py:7: SettingWithCopyWarning: \n",
      "A value is trying to be set on a copy of a slice from a DataFrame\n",
      "\n",
      "See the caveats in the documentation: https://pandas.pydata.org/pandas-docs/stable/user_guide/indexing.html#returning-a-view-versus-a-copy\n",
      "  data[\"wiki_url\"][index] = url\n"
     ]
    },
    {
     "name": "stdout",
     "output_type": "stream",
     "text": [
      "current index: 410\n"
     ]
    },
    {
     "name": "stderr",
     "output_type": "stream",
     "text": [
      "C:\\Users\\maxji\\AppData\\Local\\Temp\\ipykernel_40900\\1159726583.py:7: SettingWithCopyWarning: \n",
      "A value is trying to be set on a copy of a slice from a DataFrame\n",
      "\n",
      "See the caveats in the documentation: https://pandas.pydata.org/pandas-docs/stable/user_guide/indexing.html#returning-a-view-versus-a-copy\n",
      "  data[\"wiki_url\"][index] = url\n"
     ]
    },
    {
     "name": "stdout",
     "output_type": "stream",
     "text": [
      "current index: 411\n"
     ]
    },
    {
     "name": "stderr",
     "output_type": "stream",
     "text": [
      "C:\\Users\\maxji\\AppData\\Local\\Temp\\ipykernel_40900\\1159726583.py:7: SettingWithCopyWarning: \n",
      "A value is trying to be set on a copy of a slice from a DataFrame\n",
      "\n",
      "See the caveats in the documentation: https://pandas.pydata.org/pandas-docs/stable/user_guide/indexing.html#returning-a-view-versus-a-copy\n",
      "  data[\"wiki_url\"][index] = url\n"
     ]
    },
    {
     "name": "stdout",
     "output_type": "stream",
     "text": [
      "current index: 412\n"
     ]
    },
    {
     "name": "stderr",
     "output_type": "stream",
     "text": [
      "C:\\Users\\maxji\\AppData\\Local\\Temp\\ipykernel_40900\\1159726583.py:7: SettingWithCopyWarning: \n",
      "A value is trying to be set on a copy of a slice from a DataFrame\n",
      "\n",
      "See the caveats in the documentation: https://pandas.pydata.org/pandas-docs/stable/user_guide/indexing.html#returning-a-view-versus-a-copy\n",
      "  data[\"wiki_url\"][index] = url\n"
     ]
    },
    {
     "name": "stdout",
     "output_type": "stream",
     "text": [
      "current index: 413\n"
     ]
    },
    {
     "name": "stderr",
     "output_type": "stream",
     "text": [
      "C:\\Users\\maxji\\AppData\\Local\\Temp\\ipykernel_40900\\1159726583.py:7: SettingWithCopyWarning: \n",
      "A value is trying to be set on a copy of a slice from a DataFrame\n",
      "\n",
      "See the caveats in the documentation: https://pandas.pydata.org/pandas-docs/stable/user_guide/indexing.html#returning-a-view-versus-a-copy\n",
      "  data[\"wiki_url\"][index] = url\n"
     ]
    },
    {
     "name": "stdout",
     "output_type": "stream",
     "text": [
      "current index: 414\n"
     ]
    },
    {
     "name": "stderr",
     "output_type": "stream",
     "text": [
      "C:\\Users\\maxji\\AppData\\Local\\Temp\\ipykernel_40900\\1159726583.py:7: SettingWithCopyWarning: \n",
      "A value is trying to be set on a copy of a slice from a DataFrame\n",
      "\n",
      "See the caveats in the documentation: https://pandas.pydata.org/pandas-docs/stable/user_guide/indexing.html#returning-a-view-versus-a-copy\n",
      "  data[\"wiki_url\"][index] = url\n"
     ]
    },
    {
     "name": "stdout",
     "output_type": "stream",
     "text": [
      "current index: 415\n"
     ]
    },
    {
     "name": "stderr",
     "output_type": "stream",
     "text": [
      "C:\\Users\\maxji\\AppData\\Local\\Temp\\ipykernel_40900\\1159726583.py:7: SettingWithCopyWarning: \n",
      "A value is trying to be set on a copy of a slice from a DataFrame\n",
      "\n",
      "See the caveats in the documentation: https://pandas.pydata.org/pandas-docs/stable/user_guide/indexing.html#returning-a-view-versus-a-copy\n",
      "  data[\"wiki_url\"][index] = url\n"
     ]
    },
    {
     "name": "stdout",
     "output_type": "stream",
     "text": [
      "current index: 416\n"
     ]
    },
    {
     "name": "stderr",
     "output_type": "stream",
     "text": [
      "C:\\Users\\maxji\\AppData\\Local\\Temp\\ipykernel_40900\\1159726583.py:7: SettingWithCopyWarning: \n",
      "A value is trying to be set on a copy of a slice from a DataFrame\n",
      "\n",
      "See the caveats in the documentation: https://pandas.pydata.org/pandas-docs/stable/user_guide/indexing.html#returning-a-view-versus-a-copy\n",
      "  data[\"wiki_url\"][index] = url\n"
     ]
    },
    {
     "name": "stdout",
     "output_type": "stream",
     "text": [
      "current index: 417\n"
     ]
    },
    {
     "name": "stderr",
     "output_type": "stream",
     "text": [
      "C:\\Users\\maxji\\AppData\\Local\\Temp\\ipykernel_40900\\1159726583.py:7: SettingWithCopyWarning: \n",
      "A value is trying to be set on a copy of a slice from a DataFrame\n",
      "\n",
      "See the caveats in the documentation: https://pandas.pydata.org/pandas-docs/stable/user_guide/indexing.html#returning-a-view-versus-a-copy\n",
      "  data[\"wiki_url\"][index] = url\n"
     ]
    },
    {
     "name": "stdout",
     "output_type": "stream",
     "text": [
      "current index: 418\n"
     ]
    },
    {
     "name": "stderr",
     "output_type": "stream",
     "text": [
      "C:\\Users\\maxji\\AppData\\Local\\Temp\\ipykernel_40900\\1159726583.py:7: SettingWithCopyWarning: \n",
      "A value is trying to be set on a copy of a slice from a DataFrame\n",
      "\n",
      "See the caveats in the documentation: https://pandas.pydata.org/pandas-docs/stable/user_guide/indexing.html#returning-a-view-versus-a-copy\n",
      "  data[\"wiki_url\"][index] = url\n"
     ]
    },
    {
     "name": "stdout",
     "output_type": "stream",
     "text": [
      "current index: 419\n"
     ]
    },
    {
     "name": "stderr",
     "output_type": "stream",
     "text": [
      "C:\\Users\\maxji\\AppData\\Local\\Temp\\ipykernel_40900\\1159726583.py:7: SettingWithCopyWarning: \n",
      "A value is trying to be set on a copy of a slice from a DataFrame\n",
      "\n",
      "See the caveats in the documentation: https://pandas.pydata.org/pandas-docs/stable/user_guide/indexing.html#returning-a-view-versus-a-copy\n",
      "  data[\"wiki_url\"][index] = url\n"
     ]
    },
    {
     "name": "stdout",
     "output_type": "stream",
     "text": [
      "current index: 420\n"
     ]
    },
    {
     "name": "stderr",
     "output_type": "stream",
     "text": [
      "C:\\Users\\maxji\\AppData\\Local\\Temp\\ipykernel_40900\\1159726583.py:7: SettingWithCopyWarning: \n",
      "A value is trying to be set on a copy of a slice from a DataFrame\n",
      "\n",
      "See the caveats in the documentation: https://pandas.pydata.org/pandas-docs/stable/user_guide/indexing.html#returning-a-view-versus-a-copy\n",
      "  data[\"wiki_url\"][index] = url\n"
     ]
    },
    {
     "name": "stdout",
     "output_type": "stream",
     "text": [
      "current index: 421\n"
     ]
    },
    {
     "name": "stderr",
     "output_type": "stream",
     "text": [
      "C:\\Users\\maxji\\AppData\\Local\\Temp\\ipykernel_40900\\1159726583.py:7: SettingWithCopyWarning: \n",
      "A value is trying to be set on a copy of a slice from a DataFrame\n",
      "\n",
      "See the caveats in the documentation: https://pandas.pydata.org/pandas-docs/stable/user_guide/indexing.html#returning-a-view-versus-a-copy\n",
      "  data[\"wiki_url\"][index] = url\n"
     ]
    },
    {
     "name": "stdout",
     "output_type": "stream",
     "text": [
      "current index: 422\n"
     ]
    },
    {
     "name": "stderr",
     "output_type": "stream",
     "text": [
      "C:\\Users\\maxji\\AppData\\Local\\Temp\\ipykernel_40900\\1159726583.py:7: SettingWithCopyWarning: \n",
      "A value is trying to be set on a copy of a slice from a DataFrame\n",
      "\n",
      "See the caveats in the documentation: https://pandas.pydata.org/pandas-docs/stable/user_guide/indexing.html#returning-a-view-versus-a-copy\n",
      "  data[\"wiki_url\"][index] = url\n"
     ]
    },
    {
     "name": "stdout",
     "output_type": "stream",
     "text": [
      "current index: 423\n"
     ]
    },
    {
     "name": "stderr",
     "output_type": "stream",
     "text": [
      "C:\\Users\\maxji\\AppData\\Local\\Temp\\ipykernel_40900\\1159726583.py:7: SettingWithCopyWarning: \n",
      "A value is trying to be set on a copy of a slice from a DataFrame\n",
      "\n",
      "See the caveats in the documentation: https://pandas.pydata.org/pandas-docs/stable/user_guide/indexing.html#returning-a-view-versus-a-copy\n",
      "  data[\"wiki_url\"][index] = url\n"
     ]
    },
    {
     "name": "stdout",
     "output_type": "stream",
     "text": [
      "current index: 424\n"
     ]
    },
    {
     "name": "stderr",
     "output_type": "stream",
     "text": [
      "C:\\Users\\maxji\\AppData\\Local\\Temp\\ipykernel_40900\\1159726583.py:7: SettingWithCopyWarning: \n",
      "A value is trying to be set on a copy of a slice from a DataFrame\n",
      "\n",
      "See the caveats in the documentation: https://pandas.pydata.org/pandas-docs/stable/user_guide/indexing.html#returning-a-view-versus-a-copy\n",
      "  data[\"wiki_url\"][index] = url\n"
     ]
    },
    {
     "name": "stdout",
     "output_type": "stream",
     "text": [
      "current index: 425\n"
     ]
    },
    {
     "name": "stderr",
     "output_type": "stream",
     "text": [
      "C:\\Users\\maxji\\AppData\\Local\\Temp\\ipykernel_40900\\1159726583.py:7: SettingWithCopyWarning: \n",
      "A value is trying to be set on a copy of a slice from a DataFrame\n",
      "\n",
      "See the caveats in the documentation: https://pandas.pydata.org/pandas-docs/stable/user_guide/indexing.html#returning-a-view-versus-a-copy\n",
      "  data[\"wiki_url\"][index] = url\n"
     ]
    },
    {
     "name": "stdout",
     "output_type": "stream",
     "text": [
      "current index: 426\n"
     ]
    },
    {
     "name": "stderr",
     "output_type": "stream",
     "text": [
      "C:\\Users\\maxji\\AppData\\Local\\Temp\\ipykernel_40900\\1159726583.py:7: SettingWithCopyWarning: \n",
      "A value is trying to be set on a copy of a slice from a DataFrame\n",
      "\n",
      "See the caveats in the documentation: https://pandas.pydata.org/pandas-docs/stable/user_guide/indexing.html#returning-a-view-versus-a-copy\n",
      "  data[\"wiki_url\"][index] = url\n"
     ]
    },
    {
     "name": "stdout",
     "output_type": "stream",
     "text": [
      "current index: 427\n"
     ]
    },
    {
     "name": "stderr",
     "output_type": "stream",
     "text": [
      "C:\\Users\\maxji\\AppData\\Local\\Temp\\ipykernel_40900\\1159726583.py:7: SettingWithCopyWarning: \n",
      "A value is trying to be set on a copy of a slice from a DataFrame\n",
      "\n",
      "See the caveats in the documentation: https://pandas.pydata.org/pandas-docs/stable/user_guide/indexing.html#returning-a-view-versus-a-copy\n",
      "  data[\"wiki_url\"][index] = url\n"
     ]
    },
    {
     "name": "stdout",
     "output_type": "stream",
     "text": [
      "current index: 428\n"
     ]
    },
    {
     "name": "stderr",
     "output_type": "stream",
     "text": [
      "C:\\Users\\maxji\\AppData\\Local\\Temp\\ipykernel_40900\\1159726583.py:7: SettingWithCopyWarning: \n",
      "A value is trying to be set on a copy of a slice from a DataFrame\n",
      "\n",
      "See the caveats in the documentation: https://pandas.pydata.org/pandas-docs/stable/user_guide/indexing.html#returning-a-view-versus-a-copy\n",
      "  data[\"wiki_url\"][index] = url\n"
     ]
    },
    {
     "name": "stdout",
     "output_type": "stream",
     "text": [
      "current index: 429\n"
     ]
    },
    {
     "name": "stderr",
     "output_type": "stream",
     "text": [
      "C:\\Users\\maxji\\AppData\\Local\\Temp\\ipykernel_40900\\1159726583.py:7: SettingWithCopyWarning: \n",
      "A value is trying to be set on a copy of a slice from a DataFrame\n",
      "\n",
      "See the caveats in the documentation: https://pandas.pydata.org/pandas-docs/stable/user_guide/indexing.html#returning-a-view-versus-a-copy\n",
      "  data[\"wiki_url\"][index] = url\n"
     ]
    },
    {
     "name": "stdout",
     "output_type": "stream",
     "text": [
      "current index: 430\n"
     ]
    },
    {
     "name": "stderr",
     "output_type": "stream",
     "text": [
      "C:\\Users\\maxji\\AppData\\Local\\Temp\\ipykernel_40900\\1159726583.py:7: SettingWithCopyWarning: \n",
      "A value is trying to be set on a copy of a slice from a DataFrame\n",
      "\n",
      "See the caveats in the documentation: https://pandas.pydata.org/pandas-docs/stable/user_guide/indexing.html#returning-a-view-versus-a-copy\n",
      "  data[\"wiki_url\"][index] = url\n"
     ]
    },
    {
     "name": "stdout",
     "output_type": "stream",
     "text": [
      "current index: 431\n"
     ]
    },
    {
     "name": "stderr",
     "output_type": "stream",
     "text": [
      "C:\\Users\\maxji\\AppData\\Local\\Temp\\ipykernel_40900\\1159726583.py:7: SettingWithCopyWarning: \n",
      "A value is trying to be set on a copy of a slice from a DataFrame\n",
      "\n",
      "See the caveats in the documentation: https://pandas.pydata.org/pandas-docs/stable/user_guide/indexing.html#returning-a-view-versus-a-copy\n",
      "  data[\"wiki_url\"][index] = url\n"
     ]
    },
    {
     "name": "stdout",
     "output_type": "stream",
     "text": [
      "current index: 432\n"
     ]
    },
    {
     "name": "stderr",
     "output_type": "stream",
     "text": [
      "C:\\Users\\maxji\\AppData\\Local\\Temp\\ipykernel_40900\\1159726583.py:7: SettingWithCopyWarning: \n",
      "A value is trying to be set on a copy of a slice from a DataFrame\n",
      "\n",
      "See the caveats in the documentation: https://pandas.pydata.org/pandas-docs/stable/user_guide/indexing.html#returning-a-view-versus-a-copy\n",
      "  data[\"wiki_url\"][index] = url\n"
     ]
    },
    {
     "name": "stdout",
     "output_type": "stream",
     "text": [
      "current index: 433\n"
     ]
    },
    {
     "name": "stderr",
     "output_type": "stream",
     "text": [
      "C:\\Users\\maxji\\AppData\\Local\\Temp\\ipykernel_40900\\1159726583.py:7: SettingWithCopyWarning: \n",
      "A value is trying to be set on a copy of a slice from a DataFrame\n",
      "\n",
      "See the caveats in the documentation: https://pandas.pydata.org/pandas-docs/stable/user_guide/indexing.html#returning-a-view-versus-a-copy\n",
      "  data[\"wiki_url\"][index] = url\n"
     ]
    },
    {
     "name": "stdout",
     "output_type": "stream",
     "text": [
      "current index: 434\n"
     ]
    },
    {
     "name": "stderr",
     "output_type": "stream",
     "text": [
      "C:\\Users\\maxji\\AppData\\Local\\Temp\\ipykernel_40900\\1159726583.py:7: SettingWithCopyWarning: \n",
      "A value is trying to be set on a copy of a slice from a DataFrame\n",
      "\n",
      "See the caveats in the documentation: https://pandas.pydata.org/pandas-docs/stable/user_guide/indexing.html#returning-a-view-versus-a-copy\n",
      "  data[\"wiki_url\"][index] = url\n"
     ]
    },
    {
     "name": "stdout",
     "output_type": "stream",
     "text": [
      "current index: 435\n"
     ]
    },
    {
     "name": "stderr",
     "output_type": "stream",
     "text": [
      "C:\\Users\\maxji\\AppData\\Local\\Temp\\ipykernel_40900\\1159726583.py:7: SettingWithCopyWarning: \n",
      "A value is trying to be set on a copy of a slice from a DataFrame\n",
      "\n",
      "See the caveats in the documentation: https://pandas.pydata.org/pandas-docs/stable/user_guide/indexing.html#returning-a-view-versus-a-copy\n",
      "  data[\"wiki_url\"][index] = url\n"
     ]
    },
    {
     "name": "stdout",
     "output_type": "stream",
     "text": [
      "current index: 436\n"
     ]
    },
    {
     "name": "stderr",
     "output_type": "stream",
     "text": [
      "C:\\Users\\maxji\\AppData\\Local\\Temp\\ipykernel_40900\\1159726583.py:7: SettingWithCopyWarning: \n",
      "A value is trying to be set on a copy of a slice from a DataFrame\n",
      "\n",
      "See the caveats in the documentation: https://pandas.pydata.org/pandas-docs/stable/user_guide/indexing.html#returning-a-view-versus-a-copy\n",
      "  data[\"wiki_url\"][index] = url\n"
     ]
    },
    {
     "name": "stdout",
     "output_type": "stream",
     "text": [
      "current index: 437\n"
     ]
    },
    {
     "name": "stderr",
     "output_type": "stream",
     "text": [
      "C:\\Users\\maxji\\AppData\\Local\\Temp\\ipykernel_40900\\1159726583.py:7: SettingWithCopyWarning: \n",
      "A value is trying to be set on a copy of a slice from a DataFrame\n",
      "\n",
      "See the caveats in the documentation: https://pandas.pydata.org/pandas-docs/stable/user_guide/indexing.html#returning-a-view-versus-a-copy\n",
      "  data[\"wiki_url\"][index] = url\n"
     ]
    },
    {
     "name": "stdout",
     "output_type": "stream",
     "text": [
      "current index: 438\n"
     ]
    },
    {
     "name": "stderr",
     "output_type": "stream",
     "text": [
      "C:\\Users\\maxji\\AppData\\Local\\Temp\\ipykernel_40900\\1159726583.py:7: SettingWithCopyWarning: \n",
      "A value is trying to be set on a copy of a slice from a DataFrame\n",
      "\n",
      "See the caveats in the documentation: https://pandas.pydata.org/pandas-docs/stable/user_guide/indexing.html#returning-a-view-versus-a-copy\n",
      "  data[\"wiki_url\"][index] = url\n"
     ]
    },
    {
     "name": "stdout",
     "output_type": "stream",
     "text": [
      "current index: 439\n"
     ]
    },
    {
     "name": "stderr",
     "output_type": "stream",
     "text": [
      "C:\\Users\\maxji\\AppData\\Local\\Temp\\ipykernel_40900\\1159726583.py:7: SettingWithCopyWarning: \n",
      "A value is trying to be set on a copy of a slice from a DataFrame\n",
      "\n",
      "See the caveats in the documentation: https://pandas.pydata.org/pandas-docs/stable/user_guide/indexing.html#returning-a-view-versus-a-copy\n",
      "  data[\"wiki_url\"][index] = url\n"
     ]
    },
    {
     "name": "stdout",
     "output_type": "stream",
     "text": [
      "current index: 440\n"
     ]
    },
    {
     "name": "stderr",
     "output_type": "stream",
     "text": [
      "C:\\Users\\maxji\\AppData\\Local\\Temp\\ipykernel_40900\\1159726583.py:7: SettingWithCopyWarning: \n",
      "A value is trying to be set on a copy of a slice from a DataFrame\n",
      "\n",
      "See the caveats in the documentation: https://pandas.pydata.org/pandas-docs/stable/user_guide/indexing.html#returning-a-view-versus-a-copy\n",
      "  data[\"wiki_url\"][index] = url\n"
     ]
    },
    {
     "name": "stdout",
     "output_type": "stream",
     "text": [
      "current index: 441\n"
     ]
    },
    {
     "name": "stderr",
     "output_type": "stream",
     "text": [
      "C:\\Users\\maxji\\AppData\\Local\\Temp\\ipykernel_40900\\1159726583.py:7: SettingWithCopyWarning: \n",
      "A value is trying to be set on a copy of a slice from a DataFrame\n",
      "\n",
      "See the caveats in the documentation: https://pandas.pydata.org/pandas-docs/stable/user_guide/indexing.html#returning-a-view-versus-a-copy\n",
      "  data[\"wiki_url\"][index] = url\n"
     ]
    },
    {
     "name": "stdout",
     "output_type": "stream",
     "text": [
      "current index: 442\n"
     ]
    },
    {
     "name": "stderr",
     "output_type": "stream",
     "text": [
      "C:\\Users\\maxji\\AppData\\Local\\Temp\\ipykernel_40900\\1159726583.py:7: SettingWithCopyWarning: \n",
      "A value is trying to be set on a copy of a slice from a DataFrame\n",
      "\n",
      "See the caveats in the documentation: https://pandas.pydata.org/pandas-docs/stable/user_guide/indexing.html#returning-a-view-versus-a-copy\n",
      "  data[\"wiki_url\"][index] = url\n"
     ]
    },
    {
     "name": "stdout",
     "output_type": "stream",
     "text": [
      "current index: 443\n"
     ]
    },
    {
     "name": "stderr",
     "output_type": "stream",
     "text": [
      "C:\\Users\\maxji\\AppData\\Local\\Temp\\ipykernel_40900\\1159726583.py:7: SettingWithCopyWarning: \n",
      "A value is trying to be set on a copy of a slice from a DataFrame\n",
      "\n",
      "See the caveats in the documentation: https://pandas.pydata.org/pandas-docs/stable/user_guide/indexing.html#returning-a-view-versus-a-copy\n",
      "  data[\"wiki_url\"][index] = url\n"
     ]
    },
    {
     "name": "stdout",
     "output_type": "stream",
     "text": [
      "current index: 444\n"
     ]
    },
    {
     "name": "stderr",
     "output_type": "stream",
     "text": [
      "C:\\Users\\maxji\\AppData\\Local\\Temp\\ipykernel_40900\\1159726583.py:7: SettingWithCopyWarning: \n",
      "A value is trying to be set on a copy of a slice from a DataFrame\n",
      "\n",
      "See the caveats in the documentation: https://pandas.pydata.org/pandas-docs/stable/user_guide/indexing.html#returning-a-view-versus-a-copy\n",
      "  data[\"wiki_url\"][index] = url\n"
     ]
    },
    {
     "name": "stdout",
     "output_type": "stream",
     "text": [
      "current index: 445\n"
     ]
    },
    {
     "name": "stderr",
     "output_type": "stream",
     "text": [
      "C:\\Users\\maxji\\AppData\\Local\\Temp\\ipykernel_40900\\1159726583.py:7: SettingWithCopyWarning: \n",
      "A value is trying to be set on a copy of a slice from a DataFrame\n",
      "\n",
      "See the caveats in the documentation: https://pandas.pydata.org/pandas-docs/stable/user_guide/indexing.html#returning-a-view-versus-a-copy\n",
      "  data[\"wiki_url\"][index] = url\n"
     ]
    },
    {
     "name": "stdout",
     "output_type": "stream",
     "text": [
      "current index: 446\n"
     ]
    },
    {
     "name": "stderr",
     "output_type": "stream",
     "text": [
      "C:\\Users\\maxji\\AppData\\Local\\Temp\\ipykernel_40900\\1159726583.py:7: SettingWithCopyWarning: \n",
      "A value is trying to be set on a copy of a slice from a DataFrame\n",
      "\n",
      "See the caveats in the documentation: https://pandas.pydata.org/pandas-docs/stable/user_guide/indexing.html#returning-a-view-versus-a-copy\n",
      "  data[\"wiki_url\"][index] = url\n"
     ]
    },
    {
     "name": "stdout",
     "output_type": "stream",
     "text": [
      "current index: 447\n"
     ]
    },
    {
     "name": "stderr",
     "output_type": "stream",
     "text": [
      "C:\\Users\\maxji\\AppData\\Local\\Temp\\ipykernel_40900\\1159726583.py:7: SettingWithCopyWarning: \n",
      "A value is trying to be set on a copy of a slice from a DataFrame\n",
      "\n",
      "See the caveats in the documentation: https://pandas.pydata.org/pandas-docs/stable/user_guide/indexing.html#returning-a-view-versus-a-copy\n",
      "  data[\"wiki_url\"][index] = url\n"
     ]
    },
    {
     "name": "stdout",
     "output_type": "stream",
     "text": [
      "current index: 448\n"
     ]
    },
    {
     "name": "stderr",
     "output_type": "stream",
     "text": [
      "C:\\Users\\maxji\\AppData\\Local\\Temp\\ipykernel_40900\\1159726583.py:7: SettingWithCopyWarning: \n",
      "A value is trying to be set on a copy of a slice from a DataFrame\n",
      "\n",
      "See the caveats in the documentation: https://pandas.pydata.org/pandas-docs/stable/user_guide/indexing.html#returning-a-view-versus-a-copy\n",
      "  data[\"wiki_url\"][index] = url\n"
     ]
    },
    {
     "name": "stdout",
     "output_type": "stream",
     "text": [
      "current index: 449\n"
     ]
    },
    {
     "name": "stderr",
     "output_type": "stream",
     "text": [
      "C:\\Users\\maxji\\AppData\\Local\\Temp\\ipykernel_40900\\1159726583.py:7: SettingWithCopyWarning: \n",
      "A value is trying to be set on a copy of a slice from a DataFrame\n",
      "\n",
      "See the caveats in the documentation: https://pandas.pydata.org/pandas-docs/stable/user_guide/indexing.html#returning-a-view-versus-a-copy\n",
      "  data[\"wiki_url\"][index] = url\n"
     ]
    },
    {
     "name": "stdout",
     "output_type": "stream",
     "text": [
      "current index: 450\n"
     ]
    },
    {
     "name": "stderr",
     "output_type": "stream",
     "text": [
      "C:\\Users\\maxji\\AppData\\Local\\Temp\\ipykernel_40900\\1159726583.py:7: SettingWithCopyWarning: \n",
      "A value is trying to be set on a copy of a slice from a DataFrame\n",
      "\n",
      "See the caveats in the documentation: https://pandas.pydata.org/pandas-docs/stable/user_guide/indexing.html#returning-a-view-versus-a-copy\n",
      "  data[\"wiki_url\"][index] = url\n"
     ]
    },
    {
     "name": "stdout",
     "output_type": "stream",
     "text": [
      "current index: 451\n"
     ]
    },
    {
     "name": "stderr",
     "output_type": "stream",
     "text": [
      "C:\\Users\\maxji\\AppData\\Local\\Temp\\ipykernel_40900\\1159726583.py:7: SettingWithCopyWarning: \n",
      "A value is trying to be set on a copy of a slice from a DataFrame\n",
      "\n",
      "See the caveats in the documentation: https://pandas.pydata.org/pandas-docs/stable/user_guide/indexing.html#returning-a-view-versus-a-copy\n",
      "  data[\"wiki_url\"][index] = url\n"
     ]
    },
    {
     "name": "stdout",
     "output_type": "stream",
     "text": [
      "current index: 452\n"
     ]
    },
    {
     "name": "stderr",
     "output_type": "stream",
     "text": [
      "C:\\Users\\maxji\\AppData\\Local\\Temp\\ipykernel_40900\\1159726583.py:7: SettingWithCopyWarning: \n",
      "A value is trying to be set on a copy of a slice from a DataFrame\n",
      "\n",
      "See the caveats in the documentation: https://pandas.pydata.org/pandas-docs/stable/user_guide/indexing.html#returning-a-view-versus-a-copy\n",
      "  data[\"wiki_url\"][index] = url\n"
     ]
    },
    {
     "name": "stdout",
     "output_type": "stream",
     "text": [
      "current index: 453\n"
     ]
    },
    {
     "name": "stderr",
     "output_type": "stream",
     "text": [
      "C:\\Users\\maxji\\AppData\\Local\\Temp\\ipykernel_40900\\1159726583.py:7: SettingWithCopyWarning: \n",
      "A value is trying to be set on a copy of a slice from a DataFrame\n",
      "\n",
      "See the caveats in the documentation: https://pandas.pydata.org/pandas-docs/stable/user_guide/indexing.html#returning-a-view-versus-a-copy\n",
      "  data[\"wiki_url\"][index] = url\n"
     ]
    },
    {
     "name": "stdout",
     "output_type": "stream",
     "text": [
      "current index: 454\n"
     ]
    },
    {
     "name": "stderr",
     "output_type": "stream",
     "text": [
      "C:\\Users\\maxji\\AppData\\Local\\Temp\\ipykernel_40900\\1159726583.py:7: SettingWithCopyWarning: \n",
      "A value is trying to be set on a copy of a slice from a DataFrame\n",
      "\n",
      "See the caveats in the documentation: https://pandas.pydata.org/pandas-docs/stable/user_guide/indexing.html#returning-a-view-versus-a-copy\n",
      "  data[\"wiki_url\"][index] = url\n"
     ]
    },
    {
     "name": "stdout",
     "output_type": "stream",
     "text": [
      "current index: 455\n"
     ]
    },
    {
     "name": "stderr",
     "output_type": "stream",
     "text": [
      "C:\\Users\\maxji\\AppData\\Local\\Temp\\ipykernel_40900\\1159726583.py:7: SettingWithCopyWarning: \n",
      "A value is trying to be set on a copy of a slice from a DataFrame\n",
      "\n",
      "See the caveats in the documentation: https://pandas.pydata.org/pandas-docs/stable/user_guide/indexing.html#returning-a-view-versus-a-copy\n",
      "  data[\"wiki_url\"][index] = url\n"
     ]
    },
    {
     "name": "stdout",
     "output_type": "stream",
     "text": [
      "current index: 456\n"
     ]
    },
    {
     "name": "stderr",
     "output_type": "stream",
     "text": [
      "C:\\Users\\maxji\\AppData\\Local\\Temp\\ipykernel_40900\\1159726583.py:7: SettingWithCopyWarning: \n",
      "A value is trying to be set on a copy of a slice from a DataFrame\n",
      "\n",
      "See the caveats in the documentation: https://pandas.pydata.org/pandas-docs/stable/user_guide/indexing.html#returning-a-view-versus-a-copy\n",
      "  data[\"wiki_url\"][index] = url\n"
     ]
    },
    {
     "name": "stdout",
     "output_type": "stream",
     "text": [
      "current index: 457\n"
     ]
    },
    {
     "name": "stderr",
     "output_type": "stream",
     "text": [
      "C:\\Users\\maxji\\AppData\\Local\\Temp\\ipykernel_40900\\1159726583.py:7: SettingWithCopyWarning: \n",
      "A value is trying to be set on a copy of a slice from a DataFrame\n",
      "\n",
      "See the caveats in the documentation: https://pandas.pydata.org/pandas-docs/stable/user_guide/indexing.html#returning-a-view-versus-a-copy\n",
      "  data[\"wiki_url\"][index] = url\n"
     ]
    },
    {
     "name": "stdout",
     "output_type": "stream",
     "text": [
      "current index: 458\n"
     ]
    },
    {
     "name": "stderr",
     "output_type": "stream",
     "text": [
      "C:\\Users\\maxji\\AppData\\Local\\Temp\\ipykernel_40900\\1159726583.py:7: SettingWithCopyWarning: \n",
      "A value is trying to be set on a copy of a slice from a DataFrame\n",
      "\n",
      "See the caveats in the documentation: https://pandas.pydata.org/pandas-docs/stable/user_guide/indexing.html#returning-a-view-versus-a-copy\n",
      "  data[\"wiki_url\"][index] = url\n"
     ]
    },
    {
     "name": "stdout",
     "output_type": "stream",
     "text": [
      "current index: 459\n"
     ]
    },
    {
     "name": "stderr",
     "output_type": "stream",
     "text": [
      "C:\\Users\\maxji\\AppData\\Local\\Temp\\ipykernel_40900\\1159726583.py:7: SettingWithCopyWarning: \n",
      "A value is trying to be set on a copy of a slice from a DataFrame\n",
      "\n",
      "See the caveats in the documentation: https://pandas.pydata.org/pandas-docs/stable/user_guide/indexing.html#returning-a-view-versus-a-copy\n",
      "  data[\"wiki_url\"][index] = url\n"
     ]
    },
    {
     "name": "stdout",
     "output_type": "stream",
     "text": [
      "current index: 460\n"
     ]
    },
    {
     "name": "stderr",
     "output_type": "stream",
     "text": [
      "C:\\Users\\maxji\\AppData\\Local\\Temp\\ipykernel_40900\\1159726583.py:7: SettingWithCopyWarning: \n",
      "A value is trying to be set on a copy of a slice from a DataFrame\n",
      "\n",
      "See the caveats in the documentation: https://pandas.pydata.org/pandas-docs/stable/user_guide/indexing.html#returning-a-view-versus-a-copy\n",
      "  data[\"wiki_url\"][index] = url\n"
     ]
    },
    {
     "name": "stdout",
     "output_type": "stream",
     "text": [
      "current index: 461\n"
     ]
    },
    {
     "name": "stderr",
     "output_type": "stream",
     "text": [
      "C:\\Users\\maxji\\AppData\\Local\\Temp\\ipykernel_40900\\1159726583.py:7: SettingWithCopyWarning: \n",
      "A value is trying to be set on a copy of a slice from a DataFrame\n",
      "\n",
      "See the caveats in the documentation: https://pandas.pydata.org/pandas-docs/stable/user_guide/indexing.html#returning-a-view-versus-a-copy\n",
      "  data[\"wiki_url\"][index] = url\n"
     ]
    },
    {
     "name": "stdout",
     "output_type": "stream",
     "text": [
      "current index: 462\n"
     ]
    },
    {
     "name": "stderr",
     "output_type": "stream",
     "text": [
      "C:\\Users\\maxji\\AppData\\Local\\Temp\\ipykernel_40900\\1159726583.py:7: SettingWithCopyWarning: \n",
      "A value is trying to be set on a copy of a slice from a DataFrame\n",
      "\n",
      "See the caveats in the documentation: https://pandas.pydata.org/pandas-docs/stable/user_guide/indexing.html#returning-a-view-versus-a-copy\n",
      "  data[\"wiki_url\"][index] = url\n"
     ]
    },
    {
     "name": "stdout",
     "output_type": "stream",
     "text": [
      "current index: 463\n"
     ]
    },
    {
     "name": "stderr",
     "output_type": "stream",
     "text": [
      "C:\\Users\\maxji\\AppData\\Local\\Temp\\ipykernel_40900\\1159726583.py:7: SettingWithCopyWarning: \n",
      "A value is trying to be set on a copy of a slice from a DataFrame\n",
      "\n",
      "See the caveats in the documentation: https://pandas.pydata.org/pandas-docs/stable/user_guide/indexing.html#returning-a-view-versus-a-copy\n",
      "  data[\"wiki_url\"][index] = url\n"
     ]
    },
    {
     "name": "stdout",
     "output_type": "stream",
     "text": [
      "current index: 464\n"
     ]
    },
    {
     "name": "stderr",
     "output_type": "stream",
     "text": [
      "C:\\Users\\maxji\\AppData\\Local\\Temp\\ipykernel_40900\\1159726583.py:7: SettingWithCopyWarning: \n",
      "A value is trying to be set on a copy of a slice from a DataFrame\n",
      "\n",
      "See the caveats in the documentation: https://pandas.pydata.org/pandas-docs/stable/user_guide/indexing.html#returning-a-view-versus-a-copy\n",
      "  data[\"wiki_url\"][index] = url\n"
     ]
    },
    {
     "name": "stdout",
     "output_type": "stream",
     "text": [
      "current index: 465\n"
     ]
    },
    {
     "name": "stderr",
     "output_type": "stream",
     "text": [
      "C:\\Users\\maxji\\AppData\\Local\\Temp\\ipykernel_40900\\1159726583.py:9: SettingWithCopyWarning: \n",
      "A value is trying to be set on a copy of a slice from a DataFrame\n",
      "\n",
      "See the caveats in the documentation: https://pandas.pydata.org/pandas-docs/stable/user_guide/indexing.html#returning-a-view-versus-a-copy\n",
      "  data[\"wiki_url\"][index] = None\n"
     ]
    },
    {
     "name": "stdout",
     "output_type": "stream",
     "text": [
      "current index: 466\n"
     ]
    },
    {
     "name": "stderr",
     "output_type": "stream",
     "text": [
      "C:\\Users\\maxji\\AppData\\Local\\Temp\\ipykernel_40900\\1159726583.py:7: SettingWithCopyWarning: \n",
      "A value is trying to be set on a copy of a slice from a DataFrame\n",
      "\n",
      "See the caveats in the documentation: https://pandas.pydata.org/pandas-docs/stable/user_guide/indexing.html#returning-a-view-versus-a-copy\n",
      "  data[\"wiki_url\"][index] = url\n"
     ]
    },
    {
     "name": "stdout",
     "output_type": "stream",
     "text": [
      "current index: 467\n"
     ]
    },
    {
     "name": "stderr",
     "output_type": "stream",
     "text": [
      "C:\\Users\\maxji\\AppData\\Local\\Temp\\ipykernel_40900\\1159726583.py:7: SettingWithCopyWarning: \n",
      "A value is trying to be set on a copy of a slice from a DataFrame\n",
      "\n",
      "See the caveats in the documentation: https://pandas.pydata.org/pandas-docs/stable/user_guide/indexing.html#returning-a-view-versus-a-copy\n",
      "  data[\"wiki_url\"][index] = url\n"
     ]
    },
    {
     "name": "stdout",
     "output_type": "stream",
     "text": [
      "current index: 468\n"
     ]
    },
    {
     "name": "stderr",
     "output_type": "stream",
     "text": [
      "C:\\Users\\maxji\\AppData\\Local\\Temp\\ipykernel_40900\\1159726583.py:7: SettingWithCopyWarning: \n",
      "A value is trying to be set on a copy of a slice from a DataFrame\n",
      "\n",
      "See the caveats in the documentation: https://pandas.pydata.org/pandas-docs/stable/user_guide/indexing.html#returning-a-view-versus-a-copy\n",
      "  data[\"wiki_url\"][index] = url\n"
     ]
    },
    {
     "name": "stdout",
     "output_type": "stream",
     "text": [
      "current index: 469\n"
     ]
    },
    {
     "name": "stderr",
     "output_type": "stream",
     "text": [
      "C:\\Users\\maxji\\AppData\\Local\\Temp\\ipykernel_40900\\1159726583.py:7: SettingWithCopyWarning: \n",
      "A value is trying to be set on a copy of a slice from a DataFrame\n",
      "\n",
      "See the caveats in the documentation: https://pandas.pydata.org/pandas-docs/stable/user_guide/indexing.html#returning-a-view-versus-a-copy\n",
      "  data[\"wiki_url\"][index] = url\n"
     ]
    },
    {
     "name": "stdout",
     "output_type": "stream",
     "text": [
      "current index: 470\n"
     ]
    },
    {
     "name": "stderr",
     "output_type": "stream",
     "text": [
      "C:\\Users\\maxji\\AppData\\Local\\Temp\\ipykernel_40900\\1159726583.py:7: SettingWithCopyWarning: \n",
      "A value is trying to be set on a copy of a slice from a DataFrame\n",
      "\n",
      "See the caveats in the documentation: https://pandas.pydata.org/pandas-docs/stable/user_guide/indexing.html#returning-a-view-versus-a-copy\n",
      "  data[\"wiki_url\"][index] = url\n"
     ]
    },
    {
     "name": "stdout",
     "output_type": "stream",
     "text": [
      "current index: 471\n"
     ]
    },
    {
     "name": "stderr",
     "output_type": "stream",
     "text": [
      "C:\\Users\\maxji\\AppData\\Local\\Temp\\ipykernel_40900\\1159726583.py:7: SettingWithCopyWarning: \n",
      "A value is trying to be set on a copy of a slice from a DataFrame\n",
      "\n",
      "See the caveats in the documentation: https://pandas.pydata.org/pandas-docs/stable/user_guide/indexing.html#returning-a-view-versus-a-copy\n",
      "  data[\"wiki_url\"][index] = url\n"
     ]
    },
    {
     "name": "stdout",
     "output_type": "stream",
     "text": [
      "current index: 472\n"
     ]
    },
    {
     "name": "stderr",
     "output_type": "stream",
     "text": [
      "C:\\Users\\maxji\\AppData\\Local\\Temp\\ipykernel_40900\\1159726583.py:7: SettingWithCopyWarning: \n",
      "A value is trying to be set on a copy of a slice from a DataFrame\n",
      "\n",
      "See the caveats in the documentation: https://pandas.pydata.org/pandas-docs/stable/user_guide/indexing.html#returning-a-view-versus-a-copy\n",
      "  data[\"wiki_url\"][index] = url\n"
     ]
    },
    {
     "name": "stdout",
     "output_type": "stream",
     "text": [
      "current index: 473\n"
     ]
    },
    {
     "name": "stderr",
     "output_type": "stream",
     "text": [
      "C:\\Users\\maxji\\AppData\\Local\\Temp\\ipykernel_40900\\1159726583.py:7: SettingWithCopyWarning: \n",
      "A value is trying to be set on a copy of a slice from a DataFrame\n",
      "\n",
      "See the caveats in the documentation: https://pandas.pydata.org/pandas-docs/stable/user_guide/indexing.html#returning-a-view-versus-a-copy\n",
      "  data[\"wiki_url\"][index] = url\n"
     ]
    },
    {
     "name": "stdout",
     "output_type": "stream",
     "text": [
      "current index: 474\n"
     ]
    },
    {
     "name": "stderr",
     "output_type": "stream",
     "text": [
      "C:\\Users\\maxji\\AppData\\Local\\Temp\\ipykernel_40900\\1159726583.py:7: SettingWithCopyWarning: \n",
      "A value is trying to be set on a copy of a slice from a DataFrame\n",
      "\n",
      "See the caveats in the documentation: https://pandas.pydata.org/pandas-docs/stable/user_guide/indexing.html#returning-a-view-versus-a-copy\n",
      "  data[\"wiki_url\"][index] = url\n"
     ]
    },
    {
     "name": "stdout",
     "output_type": "stream",
     "text": [
      "current index: 475\n"
     ]
    },
    {
     "name": "stderr",
     "output_type": "stream",
     "text": [
      "C:\\Users\\maxji\\AppData\\Local\\Temp\\ipykernel_40900\\1159726583.py:7: SettingWithCopyWarning: \n",
      "A value is trying to be set on a copy of a slice from a DataFrame\n",
      "\n",
      "See the caveats in the documentation: https://pandas.pydata.org/pandas-docs/stable/user_guide/indexing.html#returning-a-view-versus-a-copy\n",
      "  data[\"wiki_url\"][index] = url\n"
     ]
    },
    {
     "name": "stdout",
     "output_type": "stream",
     "text": [
      "current index: 476\n"
     ]
    },
    {
     "name": "stderr",
     "output_type": "stream",
     "text": [
      "C:\\Users\\maxji\\AppData\\Local\\Temp\\ipykernel_40900\\1159726583.py:7: SettingWithCopyWarning: \n",
      "A value is trying to be set on a copy of a slice from a DataFrame\n",
      "\n",
      "See the caveats in the documentation: https://pandas.pydata.org/pandas-docs/stable/user_guide/indexing.html#returning-a-view-versus-a-copy\n",
      "  data[\"wiki_url\"][index] = url\n"
     ]
    },
    {
     "name": "stdout",
     "output_type": "stream",
     "text": [
      "current index: 477\n"
     ]
    },
    {
     "name": "stderr",
     "output_type": "stream",
     "text": [
      "C:\\Users\\maxji\\AppData\\Local\\Temp\\ipykernel_40900\\1159726583.py:7: SettingWithCopyWarning: \n",
      "A value is trying to be set on a copy of a slice from a DataFrame\n",
      "\n",
      "See the caveats in the documentation: https://pandas.pydata.org/pandas-docs/stable/user_guide/indexing.html#returning-a-view-versus-a-copy\n",
      "  data[\"wiki_url\"][index] = url\n"
     ]
    },
    {
     "name": "stdout",
     "output_type": "stream",
     "text": [
      "current index: 478\n"
     ]
    },
    {
     "name": "stderr",
     "output_type": "stream",
     "text": [
      "C:\\Users\\maxji\\AppData\\Local\\Temp\\ipykernel_40900\\1159726583.py:7: SettingWithCopyWarning: \n",
      "A value is trying to be set on a copy of a slice from a DataFrame\n",
      "\n",
      "See the caveats in the documentation: https://pandas.pydata.org/pandas-docs/stable/user_guide/indexing.html#returning-a-view-versus-a-copy\n",
      "  data[\"wiki_url\"][index] = url\n"
     ]
    },
    {
     "name": "stdout",
     "output_type": "stream",
     "text": [
      "current index: 479\n"
     ]
    },
    {
     "name": "stderr",
     "output_type": "stream",
     "text": [
      "C:\\Users\\maxji\\AppData\\Local\\Temp\\ipykernel_40900\\1159726583.py:7: SettingWithCopyWarning: \n",
      "A value is trying to be set on a copy of a slice from a DataFrame\n",
      "\n",
      "See the caveats in the documentation: https://pandas.pydata.org/pandas-docs/stable/user_guide/indexing.html#returning-a-view-versus-a-copy\n",
      "  data[\"wiki_url\"][index] = url\n"
     ]
    },
    {
     "name": "stdout",
     "output_type": "stream",
     "text": [
      "current index: 480\n"
     ]
    },
    {
     "name": "stderr",
     "output_type": "stream",
     "text": [
      "C:\\Users\\maxji\\AppData\\Local\\Temp\\ipykernel_40900\\1159726583.py:7: SettingWithCopyWarning: \n",
      "A value is trying to be set on a copy of a slice from a DataFrame\n",
      "\n",
      "See the caveats in the documentation: https://pandas.pydata.org/pandas-docs/stable/user_guide/indexing.html#returning-a-view-versus-a-copy\n",
      "  data[\"wiki_url\"][index] = url\n"
     ]
    },
    {
     "name": "stdout",
     "output_type": "stream",
     "text": [
      "current index: 481\n"
     ]
    },
    {
     "name": "stderr",
     "output_type": "stream",
     "text": [
      "C:\\Users\\maxji\\AppData\\Local\\Temp\\ipykernel_40900\\1159726583.py:7: SettingWithCopyWarning: \n",
      "A value is trying to be set on a copy of a slice from a DataFrame\n",
      "\n",
      "See the caveats in the documentation: https://pandas.pydata.org/pandas-docs/stable/user_guide/indexing.html#returning-a-view-versus-a-copy\n",
      "  data[\"wiki_url\"][index] = url\n"
     ]
    },
    {
     "name": "stdout",
     "output_type": "stream",
     "text": [
      "current index: 482\n"
     ]
    },
    {
     "name": "stderr",
     "output_type": "stream",
     "text": [
      "C:\\Users\\maxji\\AppData\\Local\\Temp\\ipykernel_40900\\1159726583.py:7: SettingWithCopyWarning: \n",
      "A value is trying to be set on a copy of a slice from a DataFrame\n",
      "\n",
      "See the caveats in the documentation: https://pandas.pydata.org/pandas-docs/stable/user_guide/indexing.html#returning-a-view-versus-a-copy\n",
      "  data[\"wiki_url\"][index] = url\n"
     ]
    },
    {
     "name": "stdout",
     "output_type": "stream",
     "text": [
      "current index: 483\n"
     ]
    },
    {
     "name": "stderr",
     "output_type": "stream",
     "text": [
      "C:\\Users\\maxji\\AppData\\Local\\Temp\\ipykernel_40900\\1159726583.py:7: SettingWithCopyWarning: \n",
      "A value is trying to be set on a copy of a slice from a DataFrame\n",
      "\n",
      "See the caveats in the documentation: https://pandas.pydata.org/pandas-docs/stable/user_guide/indexing.html#returning-a-view-versus-a-copy\n",
      "  data[\"wiki_url\"][index] = url\n"
     ]
    },
    {
     "name": "stdout",
     "output_type": "stream",
     "text": [
      "current index: 484\n"
     ]
    },
    {
     "name": "stderr",
     "output_type": "stream",
     "text": [
      "C:\\Users\\maxji\\AppData\\Local\\Temp\\ipykernel_40900\\1159726583.py:7: SettingWithCopyWarning: \n",
      "A value is trying to be set on a copy of a slice from a DataFrame\n",
      "\n",
      "See the caveats in the documentation: https://pandas.pydata.org/pandas-docs/stable/user_guide/indexing.html#returning-a-view-versus-a-copy\n",
      "  data[\"wiki_url\"][index] = url\n"
     ]
    },
    {
     "name": "stdout",
     "output_type": "stream",
     "text": [
      "current index: 485\n"
     ]
    },
    {
     "name": "stderr",
     "output_type": "stream",
     "text": [
      "C:\\Users\\maxji\\AppData\\Local\\Temp\\ipykernel_40900\\1159726583.py:7: SettingWithCopyWarning: \n",
      "A value is trying to be set on a copy of a slice from a DataFrame\n",
      "\n",
      "See the caveats in the documentation: https://pandas.pydata.org/pandas-docs/stable/user_guide/indexing.html#returning-a-view-versus-a-copy\n",
      "  data[\"wiki_url\"][index] = url\n"
     ]
    },
    {
     "name": "stdout",
     "output_type": "stream",
     "text": [
      "current index: 486\n"
     ]
    },
    {
     "name": "stderr",
     "output_type": "stream",
     "text": [
      "C:\\Users\\maxji\\AppData\\Local\\Temp\\ipykernel_40900\\1159726583.py:7: SettingWithCopyWarning: \n",
      "A value is trying to be set on a copy of a slice from a DataFrame\n",
      "\n",
      "See the caveats in the documentation: https://pandas.pydata.org/pandas-docs/stable/user_guide/indexing.html#returning-a-view-versus-a-copy\n",
      "  data[\"wiki_url\"][index] = url\n"
     ]
    },
    {
     "name": "stdout",
     "output_type": "stream",
     "text": [
      "current index: 487\n"
     ]
    },
    {
     "name": "stderr",
     "output_type": "stream",
     "text": [
      "C:\\Users\\maxji\\AppData\\Local\\Temp\\ipykernel_40900\\1159726583.py:7: SettingWithCopyWarning: \n",
      "A value is trying to be set on a copy of a slice from a DataFrame\n",
      "\n",
      "See the caveats in the documentation: https://pandas.pydata.org/pandas-docs/stable/user_guide/indexing.html#returning-a-view-versus-a-copy\n",
      "  data[\"wiki_url\"][index] = url\n"
     ]
    },
    {
     "name": "stdout",
     "output_type": "stream",
     "text": [
      "current index: 488\n"
     ]
    },
    {
     "name": "stderr",
     "output_type": "stream",
     "text": [
      "C:\\Users\\maxji\\AppData\\Local\\Temp\\ipykernel_40900\\1159726583.py:7: SettingWithCopyWarning: \n",
      "A value is trying to be set on a copy of a slice from a DataFrame\n",
      "\n",
      "See the caveats in the documentation: https://pandas.pydata.org/pandas-docs/stable/user_guide/indexing.html#returning-a-view-versus-a-copy\n",
      "  data[\"wiki_url\"][index] = url\n"
     ]
    },
    {
     "name": "stdout",
     "output_type": "stream",
     "text": [
      "current index: 489\n"
     ]
    },
    {
     "name": "stderr",
     "output_type": "stream",
     "text": [
      "C:\\Users\\maxji\\AppData\\Local\\Temp\\ipykernel_40900\\1159726583.py:7: SettingWithCopyWarning: \n",
      "A value is trying to be set on a copy of a slice from a DataFrame\n",
      "\n",
      "See the caveats in the documentation: https://pandas.pydata.org/pandas-docs/stable/user_guide/indexing.html#returning-a-view-versus-a-copy\n",
      "  data[\"wiki_url\"][index] = url\n"
     ]
    },
    {
     "name": "stdout",
     "output_type": "stream",
     "text": [
      "current index: 490\n"
     ]
    },
    {
     "name": "stderr",
     "output_type": "stream",
     "text": [
      "C:\\Users\\maxji\\AppData\\Local\\Temp\\ipykernel_40900\\1159726583.py:7: SettingWithCopyWarning: \n",
      "A value is trying to be set on a copy of a slice from a DataFrame\n",
      "\n",
      "See the caveats in the documentation: https://pandas.pydata.org/pandas-docs/stable/user_guide/indexing.html#returning-a-view-versus-a-copy\n",
      "  data[\"wiki_url\"][index] = url\n"
     ]
    },
    {
     "name": "stdout",
     "output_type": "stream",
     "text": [
      "current index: 491\n"
     ]
    },
    {
     "name": "stderr",
     "output_type": "stream",
     "text": [
      "C:\\Users\\maxji\\AppData\\Local\\Temp\\ipykernel_40900\\1159726583.py:7: SettingWithCopyWarning: \n",
      "A value is trying to be set on a copy of a slice from a DataFrame\n",
      "\n",
      "See the caveats in the documentation: https://pandas.pydata.org/pandas-docs/stable/user_guide/indexing.html#returning-a-view-versus-a-copy\n",
      "  data[\"wiki_url\"][index] = url\n"
     ]
    },
    {
     "name": "stdout",
     "output_type": "stream",
     "text": [
      "current index: 492\n"
     ]
    },
    {
     "name": "stderr",
     "output_type": "stream",
     "text": [
      "C:\\Users\\maxji\\AppData\\Local\\Temp\\ipykernel_40900\\1159726583.py:7: SettingWithCopyWarning: \n",
      "A value is trying to be set on a copy of a slice from a DataFrame\n",
      "\n",
      "See the caveats in the documentation: https://pandas.pydata.org/pandas-docs/stable/user_guide/indexing.html#returning-a-view-versus-a-copy\n",
      "  data[\"wiki_url\"][index] = url\n"
     ]
    },
    {
     "name": "stdout",
     "output_type": "stream",
     "text": [
      "current index: 493\n"
     ]
    },
    {
     "name": "stderr",
     "output_type": "stream",
     "text": [
      "C:\\Users\\maxji\\AppData\\Local\\Temp\\ipykernel_40900\\1159726583.py:7: SettingWithCopyWarning: \n",
      "A value is trying to be set on a copy of a slice from a DataFrame\n",
      "\n",
      "See the caveats in the documentation: https://pandas.pydata.org/pandas-docs/stable/user_guide/indexing.html#returning-a-view-versus-a-copy\n",
      "  data[\"wiki_url\"][index] = url\n"
     ]
    },
    {
     "name": "stdout",
     "output_type": "stream",
     "text": [
      "current index: 494\n"
     ]
    },
    {
     "name": "stderr",
     "output_type": "stream",
     "text": [
      "C:\\Users\\maxji\\AppData\\Local\\Temp\\ipykernel_40900\\1159726583.py:7: SettingWithCopyWarning: \n",
      "A value is trying to be set on a copy of a slice from a DataFrame\n",
      "\n",
      "See the caveats in the documentation: https://pandas.pydata.org/pandas-docs/stable/user_guide/indexing.html#returning-a-view-versus-a-copy\n",
      "  data[\"wiki_url\"][index] = url\n"
     ]
    },
    {
     "name": "stdout",
     "output_type": "stream",
     "text": [
      "current index: 495\n"
     ]
    },
    {
     "name": "stderr",
     "output_type": "stream",
     "text": [
      "C:\\Users\\maxji\\AppData\\Local\\Temp\\ipykernel_40900\\1159726583.py:7: SettingWithCopyWarning: \n",
      "A value is trying to be set on a copy of a slice from a DataFrame\n",
      "\n",
      "See the caveats in the documentation: https://pandas.pydata.org/pandas-docs/stable/user_guide/indexing.html#returning-a-view-versus-a-copy\n",
      "  data[\"wiki_url\"][index] = url\n"
     ]
    },
    {
     "name": "stdout",
     "output_type": "stream",
     "text": [
      "current index: 496\n"
     ]
    },
    {
     "name": "stderr",
     "output_type": "stream",
     "text": [
      "C:\\Users\\maxji\\AppData\\Local\\Temp\\ipykernel_40900\\1159726583.py:7: SettingWithCopyWarning: \n",
      "A value is trying to be set on a copy of a slice from a DataFrame\n",
      "\n",
      "See the caveats in the documentation: https://pandas.pydata.org/pandas-docs/stable/user_guide/indexing.html#returning-a-view-versus-a-copy\n",
      "  data[\"wiki_url\"][index] = url\n"
     ]
    },
    {
     "name": "stdout",
     "output_type": "stream",
     "text": [
      "current index: 497\n"
     ]
    },
    {
     "name": "stderr",
     "output_type": "stream",
     "text": [
      "C:\\Users\\maxji\\AppData\\Local\\Temp\\ipykernel_40900\\1159726583.py:7: SettingWithCopyWarning: \n",
      "A value is trying to be set on a copy of a slice from a DataFrame\n",
      "\n",
      "See the caveats in the documentation: https://pandas.pydata.org/pandas-docs/stable/user_guide/indexing.html#returning-a-view-versus-a-copy\n",
      "  data[\"wiki_url\"][index] = url\n"
     ]
    },
    {
     "name": "stdout",
     "output_type": "stream",
     "text": [
      "current index: 498\n"
     ]
    },
    {
     "name": "stderr",
     "output_type": "stream",
     "text": [
      "C:\\Users\\maxji\\AppData\\Local\\Temp\\ipykernel_40900\\1159726583.py:7: SettingWithCopyWarning: \n",
      "A value is trying to be set on a copy of a slice from a DataFrame\n",
      "\n",
      "See the caveats in the documentation: https://pandas.pydata.org/pandas-docs/stable/user_guide/indexing.html#returning-a-view-versus-a-copy\n",
      "  data[\"wiki_url\"][index] = url\n"
     ]
    },
    {
     "name": "stdout",
     "output_type": "stream",
     "text": [
      "current index: 499\n"
     ]
    },
    {
     "name": "stderr",
     "output_type": "stream",
     "text": [
      "C:\\Users\\maxji\\AppData\\Local\\Temp\\ipykernel_40900\\1159726583.py:7: SettingWithCopyWarning: \n",
      "A value is trying to be set on a copy of a slice from a DataFrame\n",
      "\n",
      "See the caveats in the documentation: https://pandas.pydata.org/pandas-docs/stable/user_guide/indexing.html#returning-a-view-versus-a-copy\n",
      "  data[\"wiki_url\"][index] = url\n"
     ]
    },
    {
     "name": "stdout",
     "output_type": "stream",
     "text": [
      "current index: 500\n"
     ]
    },
    {
     "name": "stderr",
     "output_type": "stream",
     "text": [
      "C:\\Users\\maxji\\AppData\\Local\\Temp\\ipykernel_40900\\1159726583.py:7: SettingWithCopyWarning: \n",
      "A value is trying to be set on a copy of a slice from a DataFrame\n",
      "\n",
      "See the caveats in the documentation: https://pandas.pydata.org/pandas-docs/stable/user_guide/indexing.html#returning-a-view-versus-a-copy\n",
      "  data[\"wiki_url\"][index] = url\n"
     ]
    },
    {
     "name": "stdout",
     "output_type": "stream",
     "text": [
      "current index: 501\n"
     ]
    },
    {
     "name": "stderr",
     "output_type": "stream",
     "text": [
      "C:\\Users\\maxji\\AppData\\Local\\Temp\\ipykernel_40900\\1159726583.py:7: SettingWithCopyWarning: \n",
      "A value is trying to be set on a copy of a slice from a DataFrame\n",
      "\n",
      "See the caveats in the documentation: https://pandas.pydata.org/pandas-docs/stable/user_guide/indexing.html#returning-a-view-versus-a-copy\n",
      "  data[\"wiki_url\"][index] = url\n"
     ]
    },
    {
     "name": "stdout",
     "output_type": "stream",
     "text": [
      "current index: 502\n"
     ]
    },
    {
     "name": "stderr",
     "output_type": "stream",
     "text": [
      "C:\\Users\\maxji\\AppData\\Local\\Temp\\ipykernel_40900\\1159726583.py:7: SettingWithCopyWarning: \n",
      "A value is trying to be set on a copy of a slice from a DataFrame\n",
      "\n",
      "See the caveats in the documentation: https://pandas.pydata.org/pandas-docs/stable/user_guide/indexing.html#returning-a-view-versus-a-copy\n",
      "  data[\"wiki_url\"][index] = url\n"
     ]
    },
    {
     "name": "stdout",
     "output_type": "stream",
     "text": [
      "current index: 503\n"
     ]
    },
    {
     "name": "stderr",
     "output_type": "stream",
     "text": [
      "C:\\Users\\maxji\\AppData\\Local\\Temp\\ipykernel_40900\\1159726583.py:7: SettingWithCopyWarning: \n",
      "A value is trying to be set on a copy of a slice from a DataFrame\n",
      "\n",
      "See the caveats in the documentation: https://pandas.pydata.org/pandas-docs/stable/user_guide/indexing.html#returning-a-view-versus-a-copy\n",
      "  data[\"wiki_url\"][index] = url\n"
     ]
    },
    {
     "name": "stdout",
     "output_type": "stream",
     "text": [
      "current index: 504\n"
     ]
    },
    {
     "name": "stderr",
     "output_type": "stream",
     "text": [
      "C:\\Users\\maxji\\AppData\\Local\\Temp\\ipykernel_40900\\1159726583.py:7: SettingWithCopyWarning: \n",
      "A value is trying to be set on a copy of a slice from a DataFrame\n",
      "\n",
      "See the caveats in the documentation: https://pandas.pydata.org/pandas-docs/stable/user_guide/indexing.html#returning-a-view-versus-a-copy\n",
      "  data[\"wiki_url\"][index] = url\n"
     ]
    },
    {
     "name": "stdout",
     "output_type": "stream",
     "text": [
      "current index: 505\n"
     ]
    },
    {
     "name": "stderr",
     "output_type": "stream",
     "text": [
      "C:\\Users\\maxji\\AppData\\Local\\Temp\\ipykernel_40900\\1159726583.py:7: SettingWithCopyWarning: \n",
      "A value is trying to be set on a copy of a slice from a DataFrame\n",
      "\n",
      "See the caveats in the documentation: https://pandas.pydata.org/pandas-docs/stable/user_guide/indexing.html#returning-a-view-versus-a-copy\n",
      "  data[\"wiki_url\"][index] = url\n"
     ]
    },
    {
     "name": "stdout",
     "output_type": "stream",
     "text": [
      "current index: 506\n"
     ]
    },
    {
     "name": "stderr",
     "output_type": "stream",
     "text": [
      "C:\\Users\\maxji\\AppData\\Local\\Temp\\ipykernel_40900\\1159726583.py:7: SettingWithCopyWarning: \n",
      "A value is trying to be set on a copy of a slice from a DataFrame\n",
      "\n",
      "See the caveats in the documentation: https://pandas.pydata.org/pandas-docs/stable/user_guide/indexing.html#returning-a-view-versus-a-copy\n",
      "  data[\"wiki_url\"][index] = url\n"
     ]
    },
    {
     "name": "stdout",
     "output_type": "stream",
     "text": [
      "current index: 507\n"
     ]
    },
    {
     "name": "stderr",
     "output_type": "stream",
     "text": [
      "C:\\Users\\maxji\\AppData\\Local\\Temp\\ipykernel_40900\\1159726583.py:7: SettingWithCopyWarning: \n",
      "A value is trying to be set on a copy of a slice from a DataFrame\n",
      "\n",
      "See the caveats in the documentation: https://pandas.pydata.org/pandas-docs/stable/user_guide/indexing.html#returning-a-view-versus-a-copy\n",
      "  data[\"wiki_url\"][index] = url\n"
     ]
    },
    {
     "name": "stdout",
     "output_type": "stream",
     "text": [
      "current index: 508\n"
     ]
    },
    {
     "name": "stderr",
     "output_type": "stream",
     "text": [
      "C:\\Users\\maxji\\AppData\\Local\\Temp\\ipykernel_40900\\1159726583.py:7: SettingWithCopyWarning: \n",
      "A value is trying to be set on a copy of a slice from a DataFrame\n",
      "\n",
      "See the caveats in the documentation: https://pandas.pydata.org/pandas-docs/stable/user_guide/indexing.html#returning-a-view-versus-a-copy\n",
      "  data[\"wiki_url\"][index] = url\n"
     ]
    },
    {
     "name": "stdout",
     "output_type": "stream",
     "text": [
      "current index: 509\n"
     ]
    },
    {
     "name": "stderr",
     "output_type": "stream",
     "text": [
      "C:\\Users\\maxji\\AppData\\Local\\Temp\\ipykernel_40900\\1159726583.py:7: SettingWithCopyWarning: \n",
      "A value is trying to be set on a copy of a slice from a DataFrame\n",
      "\n",
      "See the caveats in the documentation: https://pandas.pydata.org/pandas-docs/stable/user_guide/indexing.html#returning-a-view-versus-a-copy\n",
      "  data[\"wiki_url\"][index] = url\n"
     ]
    },
    {
     "name": "stdout",
     "output_type": "stream",
     "text": [
      "current index: 510\n"
     ]
    },
    {
     "name": "stderr",
     "output_type": "stream",
     "text": [
      "C:\\Users\\maxji\\AppData\\Local\\Temp\\ipykernel_40900\\1159726583.py:7: SettingWithCopyWarning: \n",
      "A value is trying to be set on a copy of a slice from a DataFrame\n",
      "\n",
      "See the caveats in the documentation: https://pandas.pydata.org/pandas-docs/stable/user_guide/indexing.html#returning-a-view-versus-a-copy\n",
      "  data[\"wiki_url\"][index] = url\n"
     ]
    },
    {
     "name": "stdout",
     "output_type": "stream",
     "text": [
      "current index: 511\n"
     ]
    },
    {
     "name": "stderr",
     "output_type": "stream",
     "text": [
      "C:\\Users\\maxji\\AppData\\Local\\Temp\\ipykernel_40900\\1159726583.py:7: SettingWithCopyWarning: \n",
      "A value is trying to be set on a copy of a slice from a DataFrame\n",
      "\n",
      "See the caveats in the documentation: https://pandas.pydata.org/pandas-docs/stable/user_guide/indexing.html#returning-a-view-versus-a-copy\n",
      "  data[\"wiki_url\"][index] = url\n"
     ]
    },
    {
     "name": "stdout",
     "output_type": "stream",
     "text": [
      "current index: 512\n"
     ]
    },
    {
     "name": "stderr",
     "output_type": "stream",
     "text": [
      "C:\\Users\\maxji\\AppData\\Local\\Temp\\ipykernel_40900\\1159726583.py:7: SettingWithCopyWarning: \n",
      "A value is trying to be set on a copy of a slice from a DataFrame\n",
      "\n",
      "See the caveats in the documentation: https://pandas.pydata.org/pandas-docs/stable/user_guide/indexing.html#returning-a-view-versus-a-copy\n",
      "  data[\"wiki_url\"][index] = url\n"
     ]
    },
    {
     "name": "stdout",
     "output_type": "stream",
     "text": [
      "current index: 513\n"
     ]
    },
    {
     "name": "stderr",
     "output_type": "stream",
     "text": [
      "C:\\Users\\maxji\\AppData\\Local\\Temp\\ipykernel_40900\\1159726583.py:7: SettingWithCopyWarning: \n",
      "A value is trying to be set on a copy of a slice from a DataFrame\n",
      "\n",
      "See the caveats in the documentation: https://pandas.pydata.org/pandas-docs/stable/user_guide/indexing.html#returning-a-view-versus-a-copy\n",
      "  data[\"wiki_url\"][index] = url\n"
     ]
    },
    {
     "name": "stdout",
     "output_type": "stream",
     "text": [
      "current index: 514\n"
     ]
    },
    {
     "name": "stderr",
     "output_type": "stream",
     "text": [
      "C:\\Users\\maxji\\AppData\\Local\\Temp\\ipykernel_40900\\1159726583.py:7: SettingWithCopyWarning: \n",
      "A value is trying to be set on a copy of a slice from a DataFrame\n",
      "\n",
      "See the caveats in the documentation: https://pandas.pydata.org/pandas-docs/stable/user_guide/indexing.html#returning-a-view-versus-a-copy\n",
      "  data[\"wiki_url\"][index] = url\n"
     ]
    },
    {
     "name": "stdout",
     "output_type": "stream",
     "text": [
      "current index: 515\n"
     ]
    },
    {
     "name": "stderr",
     "output_type": "stream",
     "text": [
      "C:\\Users\\maxji\\AppData\\Local\\Temp\\ipykernel_40900\\1159726583.py:7: SettingWithCopyWarning: \n",
      "A value is trying to be set on a copy of a slice from a DataFrame\n",
      "\n",
      "See the caveats in the documentation: https://pandas.pydata.org/pandas-docs/stable/user_guide/indexing.html#returning-a-view-versus-a-copy\n",
      "  data[\"wiki_url\"][index] = url\n"
     ]
    },
    {
     "name": "stdout",
     "output_type": "stream",
     "text": [
      "current index: 516\n"
     ]
    },
    {
     "name": "stderr",
     "output_type": "stream",
     "text": [
      "C:\\Users\\maxji\\AppData\\Local\\Temp\\ipykernel_40900\\1159726583.py:7: SettingWithCopyWarning: \n",
      "A value is trying to be set on a copy of a slice from a DataFrame\n",
      "\n",
      "See the caveats in the documentation: https://pandas.pydata.org/pandas-docs/stable/user_guide/indexing.html#returning-a-view-versus-a-copy\n",
      "  data[\"wiki_url\"][index] = url\n"
     ]
    },
    {
     "name": "stdout",
     "output_type": "stream",
     "text": [
      "current index: 517\n"
     ]
    },
    {
     "name": "stderr",
     "output_type": "stream",
     "text": [
      "C:\\Users\\maxji\\AppData\\Local\\Temp\\ipykernel_40900\\1159726583.py:7: SettingWithCopyWarning: \n",
      "A value is trying to be set on a copy of a slice from a DataFrame\n",
      "\n",
      "See the caveats in the documentation: https://pandas.pydata.org/pandas-docs/stable/user_guide/indexing.html#returning-a-view-versus-a-copy\n",
      "  data[\"wiki_url\"][index] = url\n"
     ]
    },
    {
     "name": "stdout",
     "output_type": "stream",
     "text": [
      "current index: 518\n"
     ]
    },
    {
     "name": "stderr",
     "output_type": "stream",
     "text": [
      "C:\\Users\\maxji\\AppData\\Local\\Temp\\ipykernel_40900\\1159726583.py:7: SettingWithCopyWarning: \n",
      "A value is trying to be set on a copy of a slice from a DataFrame\n",
      "\n",
      "See the caveats in the documentation: https://pandas.pydata.org/pandas-docs/stable/user_guide/indexing.html#returning-a-view-versus-a-copy\n",
      "  data[\"wiki_url\"][index] = url\n"
     ]
    },
    {
     "name": "stdout",
     "output_type": "stream",
     "text": [
      "current index: 519\n"
     ]
    },
    {
     "name": "stderr",
     "output_type": "stream",
     "text": [
      "C:\\Users\\maxji\\AppData\\Local\\Temp\\ipykernel_40900\\1159726583.py:7: SettingWithCopyWarning: \n",
      "A value is trying to be set on a copy of a slice from a DataFrame\n",
      "\n",
      "See the caveats in the documentation: https://pandas.pydata.org/pandas-docs/stable/user_guide/indexing.html#returning-a-view-versus-a-copy\n",
      "  data[\"wiki_url\"][index] = url\n"
     ]
    },
    {
     "name": "stdout",
     "output_type": "stream",
     "text": [
      "current index: 520\n"
     ]
    },
    {
     "name": "stderr",
     "output_type": "stream",
     "text": [
      "C:\\Users\\maxji\\AppData\\Local\\Temp\\ipykernel_40900\\1159726583.py:7: SettingWithCopyWarning: \n",
      "A value is trying to be set on a copy of a slice from a DataFrame\n",
      "\n",
      "See the caveats in the documentation: https://pandas.pydata.org/pandas-docs/stable/user_guide/indexing.html#returning-a-view-versus-a-copy\n",
      "  data[\"wiki_url\"][index] = url\n"
     ]
    },
    {
     "name": "stdout",
     "output_type": "stream",
     "text": [
      "current index: 521\n"
     ]
    },
    {
     "name": "stderr",
     "output_type": "stream",
     "text": [
      "C:\\Users\\maxji\\AppData\\Local\\Temp\\ipykernel_40900\\1159726583.py:7: SettingWithCopyWarning: \n",
      "A value is trying to be set on a copy of a slice from a DataFrame\n",
      "\n",
      "See the caveats in the documentation: https://pandas.pydata.org/pandas-docs/stable/user_guide/indexing.html#returning-a-view-versus-a-copy\n",
      "  data[\"wiki_url\"][index] = url\n"
     ]
    },
    {
     "name": "stdout",
     "output_type": "stream",
     "text": [
      "current index: 522\n"
     ]
    },
    {
     "name": "stderr",
     "output_type": "stream",
     "text": [
      "C:\\Users\\maxji\\AppData\\Local\\Temp\\ipykernel_40900\\1159726583.py:7: SettingWithCopyWarning: \n",
      "A value is trying to be set on a copy of a slice from a DataFrame\n",
      "\n",
      "See the caveats in the documentation: https://pandas.pydata.org/pandas-docs/stable/user_guide/indexing.html#returning-a-view-versus-a-copy\n",
      "  data[\"wiki_url\"][index] = url\n"
     ]
    },
    {
     "name": "stdout",
     "output_type": "stream",
     "text": [
      "current index: 523\n"
     ]
    },
    {
     "name": "stderr",
     "output_type": "stream",
     "text": [
      "C:\\Users\\maxji\\AppData\\Local\\Temp\\ipykernel_40900\\1159726583.py:7: SettingWithCopyWarning: \n",
      "A value is trying to be set on a copy of a slice from a DataFrame\n",
      "\n",
      "See the caveats in the documentation: https://pandas.pydata.org/pandas-docs/stable/user_guide/indexing.html#returning-a-view-versus-a-copy\n",
      "  data[\"wiki_url\"][index] = url\n"
     ]
    },
    {
     "name": "stdout",
     "output_type": "stream",
     "text": [
      "current index: 524\n"
     ]
    },
    {
     "name": "stderr",
     "output_type": "stream",
     "text": [
      "C:\\Users\\maxji\\AppData\\Local\\Temp\\ipykernel_40900\\1159726583.py:7: SettingWithCopyWarning: \n",
      "A value is trying to be set on a copy of a slice from a DataFrame\n",
      "\n",
      "See the caveats in the documentation: https://pandas.pydata.org/pandas-docs/stable/user_guide/indexing.html#returning-a-view-versus-a-copy\n",
      "  data[\"wiki_url\"][index] = url\n"
     ]
    },
    {
     "name": "stdout",
     "output_type": "stream",
     "text": [
      "current index: 525\n"
     ]
    },
    {
     "name": "stderr",
     "output_type": "stream",
     "text": [
      "C:\\Users\\maxji\\AppData\\Local\\Temp\\ipykernel_40900\\1159726583.py:7: SettingWithCopyWarning: \n",
      "A value is trying to be set on a copy of a slice from a DataFrame\n",
      "\n",
      "See the caveats in the documentation: https://pandas.pydata.org/pandas-docs/stable/user_guide/indexing.html#returning-a-view-versus-a-copy\n",
      "  data[\"wiki_url\"][index] = url\n"
     ]
    },
    {
     "name": "stdout",
     "output_type": "stream",
     "text": [
      "current index: 526\n"
     ]
    },
    {
     "name": "stderr",
     "output_type": "stream",
     "text": [
      "C:\\Users\\maxji\\AppData\\Local\\Temp\\ipykernel_40900\\1159726583.py:7: SettingWithCopyWarning: \n",
      "A value is trying to be set on a copy of a slice from a DataFrame\n",
      "\n",
      "See the caveats in the documentation: https://pandas.pydata.org/pandas-docs/stable/user_guide/indexing.html#returning-a-view-versus-a-copy\n",
      "  data[\"wiki_url\"][index] = url\n"
     ]
    },
    {
     "name": "stdout",
     "output_type": "stream",
     "text": [
      "current index: 527\n"
     ]
    },
    {
     "name": "stderr",
     "output_type": "stream",
     "text": [
      "C:\\Users\\maxji\\AppData\\Local\\Temp\\ipykernel_40900\\1159726583.py:7: SettingWithCopyWarning: \n",
      "A value is trying to be set on a copy of a slice from a DataFrame\n",
      "\n",
      "See the caveats in the documentation: https://pandas.pydata.org/pandas-docs/stable/user_guide/indexing.html#returning-a-view-versus-a-copy\n",
      "  data[\"wiki_url\"][index] = url\n"
     ]
    },
    {
     "name": "stdout",
     "output_type": "stream",
     "text": [
      "current index: 528\n"
     ]
    },
    {
     "name": "stderr",
     "output_type": "stream",
     "text": [
      "C:\\Users\\maxji\\AppData\\Local\\Temp\\ipykernel_40900\\1159726583.py:7: SettingWithCopyWarning: \n",
      "A value is trying to be set on a copy of a slice from a DataFrame\n",
      "\n",
      "See the caveats in the documentation: https://pandas.pydata.org/pandas-docs/stable/user_guide/indexing.html#returning-a-view-versus-a-copy\n",
      "  data[\"wiki_url\"][index] = url\n"
     ]
    },
    {
     "name": "stdout",
     "output_type": "stream",
     "text": [
      "current index: 529\n"
     ]
    },
    {
     "name": "stderr",
     "output_type": "stream",
     "text": [
      "C:\\Users\\maxji\\AppData\\Local\\Temp\\ipykernel_40900\\1159726583.py:7: SettingWithCopyWarning: \n",
      "A value is trying to be set on a copy of a slice from a DataFrame\n",
      "\n",
      "See the caveats in the documentation: https://pandas.pydata.org/pandas-docs/stable/user_guide/indexing.html#returning-a-view-versus-a-copy\n",
      "  data[\"wiki_url\"][index] = url\n"
     ]
    },
    {
     "name": "stdout",
     "output_type": "stream",
     "text": [
      "current index: 530\n"
     ]
    },
    {
     "name": "stderr",
     "output_type": "stream",
     "text": [
      "C:\\Users\\maxji\\AppData\\Local\\Temp\\ipykernel_40900\\1159726583.py:7: SettingWithCopyWarning: \n",
      "A value is trying to be set on a copy of a slice from a DataFrame\n",
      "\n",
      "See the caveats in the documentation: https://pandas.pydata.org/pandas-docs/stable/user_guide/indexing.html#returning-a-view-versus-a-copy\n",
      "  data[\"wiki_url\"][index] = url\n"
     ]
    },
    {
     "name": "stdout",
     "output_type": "stream",
     "text": [
      "current index: 531\n"
     ]
    },
    {
     "name": "stderr",
     "output_type": "stream",
     "text": [
      "C:\\Users\\maxji\\AppData\\Local\\Temp\\ipykernel_40900\\1159726583.py:7: SettingWithCopyWarning: \n",
      "A value is trying to be set on a copy of a slice from a DataFrame\n",
      "\n",
      "See the caveats in the documentation: https://pandas.pydata.org/pandas-docs/stable/user_guide/indexing.html#returning-a-view-versus-a-copy\n",
      "  data[\"wiki_url\"][index] = url\n"
     ]
    },
    {
     "name": "stdout",
     "output_type": "stream",
     "text": [
      "current index: 532\n"
     ]
    },
    {
     "name": "stderr",
     "output_type": "stream",
     "text": [
      "C:\\Users\\maxji\\AppData\\Local\\Temp\\ipykernel_40900\\1159726583.py:7: SettingWithCopyWarning: \n",
      "A value is trying to be set on a copy of a slice from a DataFrame\n",
      "\n",
      "See the caveats in the documentation: https://pandas.pydata.org/pandas-docs/stable/user_guide/indexing.html#returning-a-view-versus-a-copy\n",
      "  data[\"wiki_url\"][index] = url\n"
     ]
    },
    {
     "name": "stdout",
     "output_type": "stream",
     "text": [
      "current index: 533\n"
     ]
    },
    {
     "name": "stderr",
     "output_type": "stream",
     "text": [
      "C:\\Users\\maxji\\AppData\\Local\\Temp\\ipykernel_40900\\1159726583.py:7: SettingWithCopyWarning: \n",
      "A value is trying to be set on a copy of a slice from a DataFrame\n",
      "\n",
      "See the caveats in the documentation: https://pandas.pydata.org/pandas-docs/stable/user_guide/indexing.html#returning-a-view-versus-a-copy\n",
      "  data[\"wiki_url\"][index] = url\n"
     ]
    },
    {
     "name": "stdout",
     "output_type": "stream",
     "text": [
      "current index: 534\n"
     ]
    },
    {
     "name": "stderr",
     "output_type": "stream",
     "text": [
      "C:\\Users\\maxji\\AppData\\Local\\Temp\\ipykernel_40900\\1159726583.py:7: SettingWithCopyWarning: \n",
      "A value is trying to be set on a copy of a slice from a DataFrame\n",
      "\n",
      "See the caveats in the documentation: https://pandas.pydata.org/pandas-docs/stable/user_guide/indexing.html#returning-a-view-versus-a-copy\n",
      "  data[\"wiki_url\"][index] = url\n"
     ]
    },
    {
     "name": "stdout",
     "output_type": "stream",
     "text": [
      "current index: 535\n"
     ]
    },
    {
     "name": "stderr",
     "output_type": "stream",
     "text": [
      "C:\\Users\\maxji\\AppData\\Local\\Temp\\ipykernel_40900\\1159726583.py:7: SettingWithCopyWarning: \n",
      "A value is trying to be set on a copy of a slice from a DataFrame\n",
      "\n",
      "See the caveats in the documentation: https://pandas.pydata.org/pandas-docs/stable/user_guide/indexing.html#returning-a-view-versus-a-copy\n",
      "  data[\"wiki_url\"][index] = url\n"
     ]
    },
    {
     "name": "stdout",
     "output_type": "stream",
     "text": [
      "current index: 536\n"
     ]
    },
    {
     "name": "stderr",
     "output_type": "stream",
     "text": [
      "C:\\Users\\maxji\\AppData\\Local\\Temp\\ipykernel_40900\\1159726583.py:7: SettingWithCopyWarning: \n",
      "A value is trying to be set on a copy of a slice from a DataFrame\n",
      "\n",
      "See the caveats in the documentation: https://pandas.pydata.org/pandas-docs/stable/user_guide/indexing.html#returning-a-view-versus-a-copy\n",
      "  data[\"wiki_url\"][index] = url\n"
     ]
    },
    {
     "name": "stdout",
     "output_type": "stream",
     "text": [
      "current index: 537\n"
     ]
    },
    {
     "name": "stderr",
     "output_type": "stream",
     "text": [
      "C:\\Users\\maxji\\AppData\\Local\\Temp\\ipykernel_40900\\1159726583.py:7: SettingWithCopyWarning: \n",
      "A value is trying to be set on a copy of a slice from a DataFrame\n",
      "\n",
      "See the caveats in the documentation: https://pandas.pydata.org/pandas-docs/stable/user_guide/indexing.html#returning-a-view-versus-a-copy\n",
      "  data[\"wiki_url\"][index] = url\n"
     ]
    },
    {
     "name": "stdout",
     "output_type": "stream",
     "text": [
      "current index: 538\n"
     ]
    },
    {
     "name": "stderr",
     "output_type": "stream",
     "text": [
      "C:\\Users\\maxji\\AppData\\Local\\Temp\\ipykernel_40900\\1159726583.py:7: SettingWithCopyWarning: \n",
      "A value is trying to be set on a copy of a slice from a DataFrame\n",
      "\n",
      "See the caveats in the documentation: https://pandas.pydata.org/pandas-docs/stable/user_guide/indexing.html#returning-a-view-versus-a-copy\n",
      "  data[\"wiki_url\"][index] = url\n"
     ]
    },
    {
     "name": "stdout",
     "output_type": "stream",
     "text": [
      "current index: 539\n"
     ]
    },
    {
     "name": "stderr",
     "output_type": "stream",
     "text": [
      "C:\\Users\\maxji\\AppData\\Local\\Temp\\ipykernel_40900\\1159726583.py:7: SettingWithCopyWarning: \n",
      "A value is trying to be set on a copy of a slice from a DataFrame\n",
      "\n",
      "See the caveats in the documentation: https://pandas.pydata.org/pandas-docs/stable/user_guide/indexing.html#returning-a-view-versus-a-copy\n",
      "  data[\"wiki_url\"][index] = url\n"
     ]
    },
    {
     "name": "stdout",
     "output_type": "stream",
     "text": [
      "current index: 540\n"
     ]
    },
    {
     "name": "stderr",
     "output_type": "stream",
     "text": [
      "C:\\Users\\maxji\\AppData\\Local\\Temp\\ipykernel_40900\\1159726583.py:7: SettingWithCopyWarning: \n",
      "A value is trying to be set on a copy of a slice from a DataFrame\n",
      "\n",
      "See the caveats in the documentation: https://pandas.pydata.org/pandas-docs/stable/user_guide/indexing.html#returning-a-view-versus-a-copy\n",
      "  data[\"wiki_url\"][index] = url\n"
     ]
    },
    {
     "name": "stdout",
     "output_type": "stream",
     "text": [
      "current index: 541\n"
     ]
    },
    {
     "name": "stderr",
     "output_type": "stream",
     "text": [
      "C:\\Users\\maxji\\AppData\\Local\\Temp\\ipykernel_40900\\1159726583.py:7: SettingWithCopyWarning: \n",
      "A value is trying to be set on a copy of a slice from a DataFrame\n",
      "\n",
      "See the caveats in the documentation: https://pandas.pydata.org/pandas-docs/stable/user_guide/indexing.html#returning-a-view-versus-a-copy\n",
      "  data[\"wiki_url\"][index] = url\n"
     ]
    },
    {
     "name": "stdout",
     "output_type": "stream",
     "text": [
      "current index: 542\n"
     ]
    },
    {
     "name": "stderr",
     "output_type": "stream",
     "text": [
      "C:\\Users\\maxji\\AppData\\Local\\Temp\\ipykernel_40900\\1159726583.py:7: SettingWithCopyWarning: \n",
      "A value is trying to be set on a copy of a slice from a DataFrame\n",
      "\n",
      "See the caveats in the documentation: https://pandas.pydata.org/pandas-docs/stable/user_guide/indexing.html#returning-a-view-versus-a-copy\n",
      "  data[\"wiki_url\"][index] = url\n"
     ]
    },
    {
     "name": "stdout",
     "output_type": "stream",
     "text": [
      "current index: 543\n"
     ]
    },
    {
     "name": "stderr",
     "output_type": "stream",
     "text": [
      "C:\\Users\\maxji\\AppData\\Local\\Temp\\ipykernel_40900\\1159726583.py:7: SettingWithCopyWarning: \n",
      "A value is trying to be set on a copy of a slice from a DataFrame\n",
      "\n",
      "See the caveats in the documentation: https://pandas.pydata.org/pandas-docs/stable/user_guide/indexing.html#returning-a-view-versus-a-copy\n",
      "  data[\"wiki_url\"][index] = url\n"
     ]
    },
    {
     "name": "stdout",
     "output_type": "stream",
     "text": [
      "current index: 544\n"
     ]
    },
    {
     "name": "stderr",
     "output_type": "stream",
     "text": [
      "C:\\Users\\maxji\\AppData\\Local\\Temp\\ipykernel_40900\\1159726583.py:7: SettingWithCopyWarning: \n",
      "A value is trying to be set on a copy of a slice from a DataFrame\n",
      "\n",
      "See the caveats in the documentation: https://pandas.pydata.org/pandas-docs/stable/user_guide/indexing.html#returning-a-view-versus-a-copy\n",
      "  data[\"wiki_url\"][index] = url\n"
     ]
    },
    {
     "name": "stdout",
     "output_type": "stream",
     "text": [
      "current index: 545\n"
     ]
    },
    {
     "name": "stderr",
     "output_type": "stream",
     "text": [
      "C:\\Users\\maxji\\AppData\\Local\\Temp\\ipykernel_40900\\1159726583.py:7: SettingWithCopyWarning: \n",
      "A value is trying to be set on a copy of a slice from a DataFrame\n",
      "\n",
      "See the caveats in the documentation: https://pandas.pydata.org/pandas-docs/stable/user_guide/indexing.html#returning-a-view-versus-a-copy\n",
      "  data[\"wiki_url\"][index] = url\n"
     ]
    },
    {
     "name": "stdout",
     "output_type": "stream",
     "text": [
      "current index: 546\n"
     ]
    },
    {
     "name": "stderr",
     "output_type": "stream",
     "text": [
      "C:\\Users\\maxji\\AppData\\Local\\Temp\\ipykernel_40900\\1159726583.py:7: SettingWithCopyWarning: \n",
      "A value is trying to be set on a copy of a slice from a DataFrame\n",
      "\n",
      "See the caveats in the documentation: https://pandas.pydata.org/pandas-docs/stable/user_guide/indexing.html#returning-a-view-versus-a-copy\n",
      "  data[\"wiki_url\"][index] = url\n"
     ]
    },
    {
     "name": "stdout",
     "output_type": "stream",
     "text": [
      "current index: 547\n"
     ]
    },
    {
     "name": "stderr",
     "output_type": "stream",
     "text": [
      "C:\\Users\\maxji\\AppData\\Local\\Temp\\ipykernel_40900\\1159726583.py:7: SettingWithCopyWarning: \n",
      "A value is trying to be set on a copy of a slice from a DataFrame\n",
      "\n",
      "See the caveats in the documentation: https://pandas.pydata.org/pandas-docs/stable/user_guide/indexing.html#returning-a-view-versus-a-copy\n",
      "  data[\"wiki_url\"][index] = url\n"
     ]
    },
    {
     "name": "stdout",
     "output_type": "stream",
     "text": [
      "current index: 548\n"
     ]
    },
    {
     "name": "stderr",
     "output_type": "stream",
     "text": [
      "C:\\Users\\maxji\\AppData\\Local\\Temp\\ipykernel_40900\\1159726583.py:7: SettingWithCopyWarning: \n",
      "A value is trying to be set on a copy of a slice from a DataFrame\n",
      "\n",
      "See the caveats in the documentation: https://pandas.pydata.org/pandas-docs/stable/user_guide/indexing.html#returning-a-view-versus-a-copy\n",
      "  data[\"wiki_url\"][index] = url\n"
     ]
    },
    {
     "name": "stdout",
     "output_type": "stream",
     "text": [
      "current index: 549\n"
     ]
    },
    {
     "name": "stderr",
     "output_type": "stream",
     "text": [
      "C:\\Users\\maxji\\AppData\\Local\\Temp\\ipykernel_40900\\1159726583.py:7: SettingWithCopyWarning: \n",
      "A value is trying to be set on a copy of a slice from a DataFrame\n",
      "\n",
      "See the caveats in the documentation: https://pandas.pydata.org/pandas-docs/stable/user_guide/indexing.html#returning-a-view-versus-a-copy\n",
      "  data[\"wiki_url\"][index] = url\n"
     ]
    },
    {
     "name": "stdout",
     "output_type": "stream",
     "text": [
      "current index: 550\n"
     ]
    },
    {
     "name": "stderr",
     "output_type": "stream",
     "text": [
      "C:\\Users\\maxji\\AppData\\Local\\Temp\\ipykernel_40900\\1159726583.py:7: SettingWithCopyWarning: \n",
      "A value is trying to be set on a copy of a slice from a DataFrame\n",
      "\n",
      "See the caveats in the documentation: https://pandas.pydata.org/pandas-docs/stable/user_guide/indexing.html#returning-a-view-versus-a-copy\n",
      "  data[\"wiki_url\"][index] = url\n"
     ]
    },
    {
     "name": "stdout",
     "output_type": "stream",
     "text": [
      "current index: 551\n"
     ]
    },
    {
     "name": "stderr",
     "output_type": "stream",
     "text": [
      "C:\\Users\\maxji\\AppData\\Local\\Temp\\ipykernel_40900\\1159726583.py:7: SettingWithCopyWarning: \n",
      "A value is trying to be set on a copy of a slice from a DataFrame\n",
      "\n",
      "See the caveats in the documentation: https://pandas.pydata.org/pandas-docs/stable/user_guide/indexing.html#returning-a-view-versus-a-copy\n",
      "  data[\"wiki_url\"][index] = url\n"
     ]
    },
    {
     "name": "stdout",
     "output_type": "stream",
     "text": [
      "current index: 552\n"
     ]
    },
    {
     "name": "stderr",
     "output_type": "stream",
     "text": [
      "C:\\Users\\maxji\\AppData\\Local\\Temp\\ipykernel_40900\\1159726583.py:7: SettingWithCopyWarning: \n",
      "A value is trying to be set on a copy of a slice from a DataFrame\n",
      "\n",
      "See the caveats in the documentation: https://pandas.pydata.org/pandas-docs/stable/user_guide/indexing.html#returning-a-view-versus-a-copy\n",
      "  data[\"wiki_url\"][index] = url\n"
     ]
    },
    {
     "name": "stdout",
     "output_type": "stream",
     "text": [
      "current index: 553\n"
     ]
    },
    {
     "name": "stderr",
     "output_type": "stream",
     "text": [
      "C:\\Users\\maxji\\AppData\\Local\\Temp\\ipykernel_40900\\1159726583.py:7: SettingWithCopyWarning: \n",
      "A value is trying to be set on a copy of a slice from a DataFrame\n",
      "\n",
      "See the caveats in the documentation: https://pandas.pydata.org/pandas-docs/stable/user_guide/indexing.html#returning-a-view-versus-a-copy\n",
      "  data[\"wiki_url\"][index] = url\n"
     ]
    },
    {
     "name": "stdout",
     "output_type": "stream",
     "text": [
      "current index: 554\n"
     ]
    },
    {
     "name": "stderr",
     "output_type": "stream",
     "text": [
      "C:\\Users\\maxji\\AppData\\Local\\Temp\\ipykernel_40900\\1159726583.py:7: SettingWithCopyWarning: \n",
      "A value is trying to be set on a copy of a slice from a DataFrame\n",
      "\n",
      "See the caveats in the documentation: https://pandas.pydata.org/pandas-docs/stable/user_guide/indexing.html#returning-a-view-versus-a-copy\n",
      "  data[\"wiki_url\"][index] = url\n"
     ]
    },
    {
     "name": "stdout",
     "output_type": "stream",
     "text": [
      "current index: 555\n"
     ]
    },
    {
     "name": "stderr",
     "output_type": "stream",
     "text": [
      "C:\\Users\\maxji\\AppData\\Local\\Temp\\ipykernel_40900\\1159726583.py:7: SettingWithCopyWarning: \n",
      "A value is trying to be set on a copy of a slice from a DataFrame\n",
      "\n",
      "See the caveats in the documentation: https://pandas.pydata.org/pandas-docs/stable/user_guide/indexing.html#returning-a-view-versus-a-copy\n",
      "  data[\"wiki_url\"][index] = url\n"
     ]
    },
    {
     "name": "stdout",
     "output_type": "stream",
     "text": [
      "current index: 556\n"
     ]
    },
    {
     "name": "stderr",
     "output_type": "stream",
     "text": [
      "C:\\Users\\maxji\\AppData\\Local\\Temp\\ipykernel_40900\\1159726583.py:7: SettingWithCopyWarning: \n",
      "A value is trying to be set on a copy of a slice from a DataFrame\n",
      "\n",
      "See the caveats in the documentation: https://pandas.pydata.org/pandas-docs/stable/user_guide/indexing.html#returning-a-view-versus-a-copy\n",
      "  data[\"wiki_url\"][index] = url\n"
     ]
    },
    {
     "name": "stdout",
     "output_type": "stream",
     "text": [
      "current index: 557\n"
     ]
    },
    {
     "name": "stderr",
     "output_type": "stream",
     "text": [
      "C:\\Users\\maxji\\AppData\\Local\\Temp\\ipykernel_40900\\1159726583.py:7: SettingWithCopyWarning: \n",
      "A value is trying to be set on a copy of a slice from a DataFrame\n",
      "\n",
      "See the caveats in the documentation: https://pandas.pydata.org/pandas-docs/stable/user_guide/indexing.html#returning-a-view-versus-a-copy\n",
      "  data[\"wiki_url\"][index] = url\n"
     ]
    },
    {
     "name": "stdout",
     "output_type": "stream",
     "text": [
      "current index: 558\n"
     ]
    },
    {
     "name": "stderr",
     "output_type": "stream",
     "text": [
      "C:\\Users\\maxji\\AppData\\Local\\Temp\\ipykernel_40900\\1159726583.py:7: SettingWithCopyWarning: \n",
      "A value is trying to be set on a copy of a slice from a DataFrame\n",
      "\n",
      "See the caveats in the documentation: https://pandas.pydata.org/pandas-docs/stable/user_guide/indexing.html#returning-a-view-versus-a-copy\n",
      "  data[\"wiki_url\"][index] = url\n"
     ]
    },
    {
     "name": "stdout",
     "output_type": "stream",
     "text": [
      "current index: 559\n"
     ]
    },
    {
     "name": "stderr",
     "output_type": "stream",
     "text": [
      "C:\\Users\\maxji\\AppData\\Local\\Temp\\ipykernel_40900\\1159726583.py:7: SettingWithCopyWarning: \n",
      "A value is trying to be set on a copy of a slice from a DataFrame\n",
      "\n",
      "See the caveats in the documentation: https://pandas.pydata.org/pandas-docs/stable/user_guide/indexing.html#returning-a-view-versus-a-copy\n",
      "  data[\"wiki_url\"][index] = url\n"
     ]
    },
    {
     "name": "stdout",
     "output_type": "stream",
     "text": [
      "current index: 560\n"
     ]
    },
    {
     "name": "stderr",
     "output_type": "stream",
     "text": [
      "C:\\Users\\maxji\\AppData\\Local\\Temp\\ipykernel_40900\\1159726583.py:7: SettingWithCopyWarning: \n",
      "A value is trying to be set on a copy of a slice from a DataFrame\n",
      "\n",
      "See the caveats in the documentation: https://pandas.pydata.org/pandas-docs/stable/user_guide/indexing.html#returning-a-view-versus-a-copy\n",
      "  data[\"wiki_url\"][index] = url\n"
     ]
    },
    {
     "name": "stdout",
     "output_type": "stream",
     "text": [
      "current index: 561\n"
     ]
    },
    {
     "name": "stderr",
     "output_type": "stream",
     "text": [
      "C:\\Users\\maxji\\AppData\\Local\\Temp\\ipykernel_40900\\1159726583.py:7: SettingWithCopyWarning: \n",
      "A value is trying to be set on a copy of a slice from a DataFrame\n",
      "\n",
      "See the caveats in the documentation: https://pandas.pydata.org/pandas-docs/stable/user_guide/indexing.html#returning-a-view-versus-a-copy\n",
      "  data[\"wiki_url\"][index] = url\n"
     ]
    },
    {
     "name": "stdout",
     "output_type": "stream",
     "text": [
      "current index: 562\n"
     ]
    },
    {
     "name": "stderr",
     "output_type": "stream",
     "text": [
      "C:\\Users\\maxji\\AppData\\Local\\Temp\\ipykernel_40900\\1159726583.py:7: SettingWithCopyWarning: \n",
      "A value is trying to be set on a copy of a slice from a DataFrame\n",
      "\n",
      "See the caveats in the documentation: https://pandas.pydata.org/pandas-docs/stable/user_guide/indexing.html#returning-a-view-versus-a-copy\n",
      "  data[\"wiki_url\"][index] = url\n"
     ]
    },
    {
     "name": "stdout",
     "output_type": "stream",
     "text": [
      "current index: 563\n"
     ]
    },
    {
     "name": "stderr",
     "output_type": "stream",
     "text": [
      "C:\\Users\\maxji\\AppData\\Local\\Temp\\ipykernel_40900\\1159726583.py:7: SettingWithCopyWarning: \n",
      "A value is trying to be set on a copy of a slice from a DataFrame\n",
      "\n",
      "See the caveats in the documentation: https://pandas.pydata.org/pandas-docs/stable/user_guide/indexing.html#returning-a-view-versus-a-copy\n",
      "  data[\"wiki_url\"][index] = url\n"
     ]
    },
    {
     "name": "stdout",
     "output_type": "stream",
     "text": [
      "current index: 564\n"
     ]
    },
    {
     "name": "stderr",
     "output_type": "stream",
     "text": [
      "C:\\Users\\maxji\\AppData\\Local\\Temp\\ipykernel_40900\\1159726583.py:7: SettingWithCopyWarning: \n",
      "A value is trying to be set on a copy of a slice from a DataFrame\n",
      "\n",
      "See the caveats in the documentation: https://pandas.pydata.org/pandas-docs/stable/user_guide/indexing.html#returning-a-view-versus-a-copy\n",
      "  data[\"wiki_url\"][index] = url\n"
     ]
    },
    {
     "name": "stdout",
     "output_type": "stream",
     "text": [
      "current index: 565\n"
     ]
    },
    {
     "name": "stderr",
     "output_type": "stream",
     "text": [
      "C:\\Users\\maxji\\AppData\\Local\\Temp\\ipykernel_40900\\1159726583.py:7: SettingWithCopyWarning: \n",
      "A value is trying to be set on a copy of a slice from a DataFrame\n",
      "\n",
      "See the caveats in the documentation: https://pandas.pydata.org/pandas-docs/stable/user_guide/indexing.html#returning-a-view-versus-a-copy\n",
      "  data[\"wiki_url\"][index] = url\n"
     ]
    },
    {
     "name": "stdout",
     "output_type": "stream",
     "text": [
      "current index: 566\n"
     ]
    },
    {
     "name": "stderr",
     "output_type": "stream",
     "text": [
      "C:\\Users\\maxji\\AppData\\Local\\Temp\\ipykernel_40900\\1159726583.py:7: SettingWithCopyWarning: \n",
      "A value is trying to be set on a copy of a slice from a DataFrame\n",
      "\n",
      "See the caveats in the documentation: https://pandas.pydata.org/pandas-docs/stable/user_guide/indexing.html#returning-a-view-versus-a-copy\n",
      "  data[\"wiki_url\"][index] = url\n"
     ]
    },
    {
     "name": "stdout",
     "output_type": "stream",
     "text": [
      "current index: 567\n"
     ]
    },
    {
     "name": "stderr",
     "output_type": "stream",
     "text": [
      "C:\\Users\\maxji\\AppData\\Local\\Temp\\ipykernel_40900\\1159726583.py:7: SettingWithCopyWarning: \n",
      "A value is trying to be set on a copy of a slice from a DataFrame\n",
      "\n",
      "See the caveats in the documentation: https://pandas.pydata.org/pandas-docs/stable/user_guide/indexing.html#returning-a-view-versus-a-copy\n",
      "  data[\"wiki_url\"][index] = url\n"
     ]
    },
    {
     "name": "stdout",
     "output_type": "stream",
     "text": [
      "current index: 568\n"
     ]
    },
    {
     "name": "stderr",
     "output_type": "stream",
     "text": [
      "C:\\Users\\maxji\\AppData\\Local\\Temp\\ipykernel_40900\\1159726583.py:7: SettingWithCopyWarning: \n",
      "A value is trying to be set on a copy of a slice from a DataFrame\n",
      "\n",
      "See the caveats in the documentation: https://pandas.pydata.org/pandas-docs/stable/user_guide/indexing.html#returning-a-view-versus-a-copy\n",
      "  data[\"wiki_url\"][index] = url\n"
     ]
    },
    {
     "name": "stdout",
     "output_type": "stream",
     "text": [
      "current index: 569\n"
     ]
    },
    {
     "name": "stderr",
     "output_type": "stream",
     "text": [
      "C:\\Users\\maxji\\AppData\\Local\\Temp\\ipykernel_40900\\1159726583.py:7: SettingWithCopyWarning: \n",
      "A value is trying to be set on a copy of a slice from a DataFrame\n",
      "\n",
      "See the caveats in the documentation: https://pandas.pydata.org/pandas-docs/stable/user_guide/indexing.html#returning-a-view-versus-a-copy\n",
      "  data[\"wiki_url\"][index] = url\n"
     ]
    },
    {
     "name": "stdout",
     "output_type": "stream",
     "text": [
      "current index: 570\n"
     ]
    },
    {
     "name": "stderr",
     "output_type": "stream",
     "text": [
      "C:\\Users\\maxji\\AppData\\Local\\Temp\\ipykernel_40900\\1159726583.py:7: SettingWithCopyWarning: \n",
      "A value is trying to be set on a copy of a slice from a DataFrame\n",
      "\n",
      "See the caveats in the documentation: https://pandas.pydata.org/pandas-docs/stable/user_guide/indexing.html#returning-a-view-versus-a-copy\n",
      "  data[\"wiki_url\"][index] = url\n"
     ]
    },
    {
     "name": "stdout",
     "output_type": "stream",
     "text": [
      "current index: 571\n"
     ]
    },
    {
     "name": "stderr",
     "output_type": "stream",
     "text": [
      "C:\\Users\\maxji\\AppData\\Local\\Temp\\ipykernel_40900\\1159726583.py:7: SettingWithCopyWarning: \n",
      "A value is trying to be set on a copy of a slice from a DataFrame\n",
      "\n",
      "See the caveats in the documentation: https://pandas.pydata.org/pandas-docs/stable/user_guide/indexing.html#returning-a-view-versus-a-copy\n",
      "  data[\"wiki_url\"][index] = url\n"
     ]
    },
    {
     "name": "stdout",
     "output_type": "stream",
     "text": [
      "current index: 572\n"
     ]
    },
    {
     "name": "stderr",
     "output_type": "stream",
     "text": [
      "C:\\Users\\maxji\\AppData\\Local\\Temp\\ipykernel_40900\\1159726583.py:7: SettingWithCopyWarning: \n",
      "A value is trying to be set on a copy of a slice from a DataFrame\n",
      "\n",
      "See the caveats in the documentation: https://pandas.pydata.org/pandas-docs/stable/user_guide/indexing.html#returning-a-view-versus-a-copy\n",
      "  data[\"wiki_url\"][index] = url\n"
     ]
    },
    {
     "name": "stdout",
     "output_type": "stream",
     "text": [
      "current index: 573\n"
     ]
    },
    {
     "name": "stderr",
     "output_type": "stream",
     "text": [
      "C:\\Users\\maxji\\AppData\\Local\\Temp\\ipykernel_40900\\1159726583.py:7: SettingWithCopyWarning: \n",
      "A value is trying to be set on a copy of a slice from a DataFrame\n",
      "\n",
      "See the caveats in the documentation: https://pandas.pydata.org/pandas-docs/stable/user_guide/indexing.html#returning-a-view-versus-a-copy\n",
      "  data[\"wiki_url\"][index] = url\n"
     ]
    },
    {
     "name": "stdout",
     "output_type": "stream",
     "text": [
      "current index: 574\n"
     ]
    },
    {
     "name": "stderr",
     "output_type": "stream",
     "text": [
      "C:\\Users\\maxji\\AppData\\Local\\Temp\\ipykernel_40900\\1159726583.py:7: SettingWithCopyWarning: \n",
      "A value is trying to be set on a copy of a slice from a DataFrame\n",
      "\n",
      "See the caveats in the documentation: https://pandas.pydata.org/pandas-docs/stable/user_guide/indexing.html#returning-a-view-versus-a-copy\n",
      "  data[\"wiki_url\"][index] = url\n"
     ]
    },
    {
     "name": "stdout",
     "output_type": "stream",
     "text": [
      "current index: 575\n"
     ]
    },
    {
     "name": "stderr",
     "output_type": "stream",
     "text": [
      "C:\\Users\\maxji\\AppData\\Local\\Temp\\ipykernel_40900\\1159726583.py:7: SettingWithCopyWarning: \n",
      "A value is trying to be set on a copy of a slice from a DataFrame\n",
      "\n",
      "See the caveats in the documentation: https://pandas.pydata.org/pandas-docs/stable/user_guide/indexing.html#returning-a-view-versus-a-copy\n",
      "  data[\"wiki_url\"][index] = url\n"
     ]
    },
    {
     "name": "stdout",
     "output_type": "stream",
     "text": [
      "current index: 576\n"
     ]
    },
    {
     "name": "stderr",
     "output_type": "stream",
     "text": [
      "C:\\Users\\maxji\\AppData\\Local\\Temp\\ipykernel_40900\\1159726583.py:7: SettingWithCopyWarning: \n",
      "A value is trying to be set on a copy of a slice from a DataFrame\n",
      "\n",
      "See the caveats in the documentation: https://pandas.pydata.org/pandas-docs/stable/user_guide/indexing.html#returning-a-view-versus-a-copy\n",
      "  data[\"wiki_url\"][index] = url\n"
     ]
    },
    {
     "name": "stdout",
     "output_type": "stream",
     "text": [
      "current index: 577\n"
     ]
    },
    {
     "name": "stderr",
     "output_type": "stream",
     "text": [
      "C:\\Users\\maxji\\AppData\\Local\\Temp\\ipykernel_40900\\1159726583.py:7: SettingWithCopyWarning: \n",
      "A value is trying to be set on a copy of a slice from a DataFrame\n",
      "\n",
      "See the caveats in the documentation: https://pandas.pydata.org/pandas-docs/stable/user_guide/indexing.html#returning-a-view-versus-a-copy\n",
      "  data[\"wiki_url\"][index] = url\n"
     ]
    },
    {
     "name": "stdout",
     "output_type": "stream",
     "text": [
      "current index: 578\n"
     ]
    },
    {
     "name": "stderr",
     "output_type": "stream",
     "text": [
      "C:\\Users\\maxji\\AppData\\Local\\Temp\\ipykernel_40900\\1159726583.py:7: SettingWithCopyWarning: \n",
      "A value is trying to be set on a copy of a slice from a DataFrame\n",
      "\n",
      "See the caveats in the documentation: https://pandas.pydata.org/pandas-docs/stable/user_guide/indexing.html#returning-a-view-versus-a-copy\n",
      "  data[\"wiki_url\"][index] = url\n"
     ]
    },
    {
     "name": "stdout",
     "output_type": "stream",
     "text": [
      "current index: 579\n"
     ]
    },
    {
     "name": "stderr",
     "output_type": "stream",
     "text": [
      "C:\\Users\\maxji\\AppData\\Local\\Temp\\ipykernel_40900\\1159726583.py:7: SettingWithCopyWarning: \n",
      "A value is trying to be set on a copy of a slice from a DataFrame\n",
      "\n",
      "See the caveats in the documentation: https://pandas.pydata.org/pandas-docs/stable/user_guide/indexing.html#returning-a-view-versus-a-copy\n",
      "  data[\"wiki_url\"][index] = url\n"
     ]
    },
    {
     "name": "stdout",
     "output_type": "stream",
     "text": [
      "current index: 580\n"
     ]
    },
    {
     "name": "stderr",
     "output_type": "stream",
     "text": [
      "C:\\Users\\maxji\\AppData\\Local\\Temp\\ipykernel_40900\\1159726583.py:7: SettingWithCopyWarning: \n",
      "A value is trying to be set on a copy of a slice from a DataFrame\n",
      "\n",
      "See the caveats in the documentation: https://pandas.pydata.org/pandas-docs/stable/user_guide/indexing.html#returning-a-view-versus-a-copy\n",
      "  data[\"wiki_url\"][index] = url\n"
     ]
    },
    {
     "name": "stdout",
     "output_type": "stream",
     "text": [
      "current index: 581\n"
     ]
    },
    {
     "name": "stderr",
     "output_type": "stream",
     "text": [
      "C:\\Users\\maxji\\AppData\\Local\\Temp\\ipykernel_40900\\1159726583.py:7: SettingWithCopyWarning: \n",
      "A value is trying to be set on a copy of a slice from a DataFrame\n",
      "\n",
      "See the caveats in the documentation: https://pandas.pydata.org/pandas-docs/stable/user_guide/indexing.html#returning-a-view-versus-a-copy\n",
      "  data[\"wiki_url\"][index] = url\n"
     ]
    },
    {
     "name": "stdout",
     "output_type": "stream",
     "text": [
      "current index: 582\n"
     ]
    },
    {
     "name": "stderr",
     "output_type": "stream",
     "text": [
      "C:\\Users\\maxji\\AppData\\Local\\Temp\\ipykernel_40900\\1159726583.py:7: SettingWithCopyWarning: \n",
      "A value is trying to be set on a copy of a slice from a DataFrame\n",
      "\n",
      "See the caveats in the documentation: https://pandas.pydata.org/pandas-docs/stable/user_guide/indexing.html#returning-a-view-versus-a-copy\n",
      "  data[\"wiki_url\"][index] = url\n"
     ]
    },
    {
     "name": "stdout",
     "output_type": "stream",
     "text": [
      "current index: 583\n"
     ]
    },
    {
     "name": "stderr",
     "output_type": "stream",
     "text": [
      "C:\\Users\\maxji\\AppData\\Local\\Temp\\ipykernel_40900\\1159726583.py:7: SettingWithCopyWarning: \n",
      "A value is trying to be set on a copy of a slice from a DataFrame\n",
      "\n",
      "See the caveats in the documentation: https://pandas.pydata.org/pandas-docs/stable/user_guide/indexing.html#returning-a-view-versus-a-copy\n",
      "  data[\"wiki_url\"][index] = url\n"
     ]
    },
    {
     "name": "stdout",
     "output_type": "stream",
     "text": [
      "current index: 584\n"
     ]
    },
    {
     "name": "stderr",
     "output_type": "stream",
     "text": [
      "C:\\Users\\maxji\\AppData\\Local\\Temp\\ipykernel_40900\\1159726583.py:7: SettingWithCopyWarning: \n",
      "A value is trying to be set on a copy of a slice from a DataFrame\n",
      "\n",
      "See the caveats in the documentation: https://pandas.pydata.org/pandas-docs/stable/user_guide/indexing.html#returning-a-view-versus-a-copy\n",
      "  data[\"wiki_url\"][index] = url\n"
     ]
    },
    {
     "name": "stdout",
     "output_type": "stream",
     "text": [
      "current index: 585\n"
     ]
    },
    {
     "name": "stderr",
     "output_type": "stream",
     "text": [
      "C:\\Users\\maxji\\AppData\\Local\\Temp\\ipykernel_40900\\1159726583.py:7: SettingWithCopyWarning: \n",
      "A value is trying to be set on a copy of a slice from a DataFrame\n",
      "\n",
      "See the caveats in the documentation: https://pandas.pydata.org/pandas-docs/stable/user_guide/indexing.html#returning-a-view-versus-a-copy\n",
      "  data[\"wiki_url\"][index] = url\n"
     ]
    },
    {
     "name": "stdout",
     "output_type": "stream",
     "text": [
      "current index: 586\n"
     ]
    },
    {
     "name": "stderr",
     "output_type": "stream",
     "text": [
      "C:\\Users\\maxji\\AppData\\Local\\Temp\\ipykernel_40900\\1159726583.py:7: SettingWithCopyWarning: \n",
      "A value is trying to be set on a copy of a slice from a DataFrame\n",
      "\n",
      "See the caveats in the documentation: https://pandas.pydata.org/pandas-docs/stable/user_guide/indexing.html#returning-a-view-versus-a-copy\n",
      "  data[\"wiki_url\"][index] = url\n"
     ]
    },
    {
     "name": "stdout",
     "output_type": "stream",
     "text": [
      "current index: 587\n"
     ]
    },
    {
     "name": "stderr",
     "output_type": "stream",
     "text": [
      "C:\\Users\\maxji\\AppData\\Local\\Temp\\ipykernel_40900\\1159726583.py:7: SettingWithCopyWarning: \n",
      "A value is trying to be set on a copy of a slice from a DataFrame\n",
      "\n",
      "See the caveats in the documentation: https://pandas.pydata.org/pandas-docs/stable/user_guide/indexing.html#returning-a-view-versus-a-copy\n",
      "  data[\"wiki_url\"][index] = url\n"
     ]
    },
    {
     "name": "stdout",
     "output_type": "stream",
     "text": [
      "current index: 588\n"
     ]
    },
    {
     "name": "stderr",
     "output_type": "stream",
     "text": [
      "C:\\Users\\maxji\\AppData\\Local\\Temp\\ipykernel_40900\\1159726583.py:7: SettingWithCopyWarning: \n",
      "A value is trying to be set on a copy of a slice from a DataFrame\n",
      "\n",
      "See the caveats in the documentation: https://pandas.pydata.org/pandas-docs/stable/user_guide/indexing.html#returning-a-view-versus-a-copy\n",
      "  data[\"wiki_url\"][index] = url\n"
     ]
    },
    {
     "name": "stdout",
     "output_type": "stream",
     "text": [
      "current index: 589\n"
     ]
    },
    {
     "name": "stderr",
     "output_type": "stream",
     "text": [
      "C:\\Users\\maxji\\AppData\\Local\\Temp\\ipykernel_40900\\1159726583.py:7: SettingWithCopyWarning: \n",
      "A value is trying to be set on a copy of a slice from a DataFrame\n",
      "\n",
      "See the caveats in the documentation: https://pandas.pydata.org/pandas-docs/stable/user_guide/indexing.html#returning-a-view-versus-a-copy\n",
      "  data[\"wiki_url\"][index] = url\n"
     ]
    },
    {
     "name": "stdout",
     "output_type": "stream",
     "text": [
      "current index: 590\n"
     ]
    },
    {
     "name": "stderr",
     "output_type": "stream",
     "text": [
      "C:\\Users\\maxji\\AppData\\Local\\Temp\\ipykernel_40900\\1159726583.py:7: SettingWithCopyWarning: \n",
      "A value is trying to be set on a copy of a slice from a DataFrame\n",
      "\n",
      "See the caveats in the documentation: https://pandas.pydata.org/pandas-docs/stable/user_guide/indexing.html#returning-a-view-versus-a-copy\n",
      "  data[\"wiki_url\"][index] = url\n"
     ]
    },
    {
     "name": "stdout",
     "output_type": "stream",
     "text": [
      "current index: 591\n"
     ]
    },
    {
     "name": "stderr",
     "output_type": "stream",
     "text": [
      "C:\\Users\\maxji\\AppData\\Local\\Temp\\ipykernel_40900\\1159726583.py:7: SettingWithCopyWarning: \n",
      "A value is trying to be set on a copy of a slice from a DataFrame\n",
      "\n",
      "See the caveats in the documentation: https://pandas.pydata.org/pandas-docs/stable/user_guide/indexing.html#returning-a-view-versus-a-copy\n",
      "  data[\"wiki_url\"][index] = url\n"
     ]
    },
    {
     "name": "stdout",
     "output_type": "stream",
     "text": [
      "current index: 592\n"
     ]
    },
    {
     "name": "stderr",
     "output_type": "stream",
     "text": [
      "C:\\Users\\maxji\\AppData\\Local\\Temp\\ipykernel_40900\\1159726583.py:7: SettingWithCopyWarning: \n",
      "A value is trying to be set on a copy of a slice from a DataFrame\n",
      "\n",
      "See the caveats in the documentation: https://pandas.pydata.org/pandas-docs/stable/user_guide/indexing.html#returning-a-view-versus-a-copy\n",
      "  data[\"wiki_url\"][index] = url\n"
     ]
    },
    {
     "name": "stdout",
     "output_type": "stream",
     "text": [
      "current index: 593\n"
     ]
    },
    {
     "name": "stderr",
     "output_type": "stream",
     "text": [
      "C:\\Users\\maxji\\AppData\\Local\\Temp\\ipykernel_40900\\1159726583.py:7: SettingWithCopyWarning: \n",
      "A value is trying to be set on a copy of a slice from a DataFrame\n",
      "\n",
      "See the caveats in the documentation: https://pandas.pydata.org/pandas-docs/stable/user_guide/indexing.html#returning-a-view-versus-a-copy\n",
      "  data[\"wiki_url\"][index] = url\n"
     ]
    },
    {
     "name": "stdout",
     "output_type": "stream",
     "text": [
      "current index: 594\n"
     ]
    },
    {
     "name": "stderr",
     "output_type": "stream",
     "text": [
      "C:\\Users\\maxji\\AppData\\Local\\Temp\\ipykernel_40900\\1159726583.py:7: SettingWithCopyWarning: \n",
      "A value is trying to be set on a copy of a slice from a DataFrame\n",
      "\n",
      "See the caveats in the documentation: https://pandas.pydata.org/pandas-docs/stable/user_guide/indexing.html#returning-a-view-versus-a-copy\n",
      "  data[\"wiki_url\"][index] = url\n"
     ]
    },
    {
     "name": "stdout",
     "output_type": "stream",
     "text": [
      "current index: 595\n"
     ]
    },
    {
     "name": "stderr",
     "output_type": "stream",
     "text": [
      "C:\\Users\\maxji\\AppData\\Local\\Temp\\ipykernel_40900\\1159726583.py:7: SettingWithCopyWarning: \n",
      "A value is trying to be set on a copy of a slice from a DataFrame\n",
      "\n",
      "See the caveats in the documentation: https://pandas.pydata.org/pandas-docs/stable/user_guide/indexing.html#returning-a-view-versus-a-copy\n",
      "  data[\"wiki_url\"][index] = url\n"
     ]
    },
    {
     "name": "stdout",
     "output_type": "stream",
     "text": [
      "current index: 596\n"
     ]
    },
    {
     "name": "stderr",
     "output_type": "stream",
     "text": [
      "C:\\Users\\maxji\\AppData\\Local\\Temp\\ipykernel_40900\\1159726583.py:7: SettingWithCopyWarning: \n",
      "A value is trying to be set on a copy of a slice from a DataFrame\n",
      "\n",
      "See the caveats in the documentation: https://pandas.pydata.org/pandas-docs/stable/user_guide/indexing.html#returning-a-view-versus-a-copy\n",
      "  data[\"wiki_url\"][index] = url\n"
     ]
    },
    {
     "name": "stdout",
     "output_type": "stream",
     "text": [
      "current index: 597\n"
     ]
    },
    {
     "name": "stderr",
     "output_type": "stream",
     "text": [
      "C:\\Users\\maxji\\AppData\\Local\\Temp\\ipykernel_40900\\1159726583.py:7: SettingWithCopyWarning: \n",
      "A value is trying to be set on a copy of a slice from a DataFrame\n",
      "\n",
      "See the caveats in the documentation: https://pandas.pydata.org/pandas-docs/stable/user_guide/indexing.html#returning-a-view-versus-a-copy\n",
      "  data[\"wiki_url\"][index] = url\n"
     ]
    },
    {
     "name": "stdout",
     "output_type": "stream",
     "text": [
      "current index: 598\n"
     ]
    },
    {
     "name": "stderr",
     "output_type": "stream",
     "text": [
      "C:\\Users\\maxji\\AppData\\Local\\Temp\\ipykernel_40900\\1159726583.py:7: SettingWithCopyWarning: \n",
      "A value is trying to be set on a copy of a slice from a DataFrame\n",
      "\n",
      "See the caveats in the documentation: https://pandas.pydata.org/pandas-docs/stable/user_guide/indexing.html#returning-a-view-versus-a-copy\n",
      "  data[\"wiki_url\"][index] = url\n"
     ]
    },
    {
     "name": "stdout",
     "output_type": "stream",
     "text": [
      "current index: 599\n"
     ]
    },
    {
     "name": "stderr",
     "output_type": "stream",
     "text": [
      "C:\\Users\\maxji\\AppData\\Local\\Temp\\ipykernel_40900\\1159726583.py:7: SettingWithCopyWarning: \n",
      "A value is trying to be set on a copy of a slice from a DataFrame\n",
      "\n",
      "See the caveats in the documentation: https://pandas.pydata.org/pandas-docs/stable/user_guide/indexing.html#returning-a-view-versus-a-copy\n",
      "  data[\"wiki_url\"][index] = url\n"
     ]
    },
    {
     "name": "stdout",
     "output_type": "stream",
     "text": [
      "current index: 600\n"
     ]
    },
    {
     "name": "stderr",
     "output_type": "stream",
     "text": [
      "C:\\Users\\maxji\\AppData\\Local\\Temp\\ipykernel_40900\\1159726583.py:7: SettingWithCopyWarning: \n",
      "A value is trying to be set on a copy of a slice from a DataFrame\n",
      "\n",
      "See the caveats in the documentation: https://pandas.pydata.org/pandas-docs/stable/user_guide/indexing.html#returning-a-view-versus-a-copy\n",
      "  data[\"wiki_url\"][index] = url\n"
     ]
    },
    {
     "name": "stdout",
     "output_type": "stream",
     "text": [
      "current index: 601\n"
     ]
    },
    {
     "name": "stderr",
     "output_type": "stream",
     "text": [
      "C:\\Users\\maxji\\AppData\\Local\\Temp\\ipykernel_40900\\1159726583.py:7: SettingWithCopyWarning: \n",
      "A value is trying to be set on a copy of a slice from a DataFrame\n",
      "\n",
      "See the caveats in the documentation: https://pandas.pydata.org/pandas-docs/stable/user_guide/indexing.html#returning-a-view-versus-a-copy\n",
      "  data[\"wiki_url\"][index] = url\n"
     ]
    },
    {
     "name": "stdout",
     "output_type": "stream",
     "text": [
      "current index: 602\n"
     ]
    },
    {
     "name": "stderr",
     "output_type": "stream",
     "text": [
      "C:\\Users\\maxji\\AppData\\Local\\Temp\\ipykernel_40900\\1159726583.py:7: SettingWithCopyWarning: \n",
      "A value is trying to be set on a copy of a slice from a DataFrame\n",
      "\n",
      "See the caveats in the documentation: https://pandas.pydata.org/pandas-docs/stable/user_guide/indexing.html#returning-a-view-versus-a-copy\n",
      "  data[\"wiki_url\"][index] = url\n"
     ]
    },
    {
     "name": "stdout",
     "output_type": "stream",
     "text": [
      "current index: 603\n"
     ]
    },
    {
     "name": "stderr",
     "output_type": "stream",
     "text": [
      "C:\\Users\\maxji\\AppData\\Local\\Temp\\ipykernel_40900\\1159726583.py:7: SettingWithCopyWarning: \n",
      "A value is trying to be set on a copy of a slice from a DataFrame\n",
      "\n",
      "See the caveats in the documentation: https://pandas.pydata.org/pandas-docs/stable/user_guide/indexing.html#returning-a-view-versus-a-copy\n",
      "  data[\"wiki_url\"][index] = url\n"
     ]
    },
    {
     "name": "stdout",
     "output_type": "stream",
     "text": [
      "current index: 604\n"
     ]
    },
    {
     "name": "stderr",
     "output_type": "stream",
     "text": [
      "C:\\Users\\maxji\\AppData\\Local\\Temp\\ipykernel_40900\\1159726583.py:7: SettingWithCopyWarning: \n",
      "A value is trying to be set on a copy of a slice from a DataFrame\n",
      "\n",
      "See the caveats in the documentation: https://pandas.pydata.org/pandas-docs/stable/user_guide/indexing.html#returning-a-view-versus-a-copy\n",
      "  data[\"wiki_url\"][index] = url\n"
     ]
    },
    {
     "name": "stdout",
     "output_type": "stream",
     "text": [
      "current index: 605\n"
     ]
    },
    {
     "name": "stderr",
     "output_type": "stream",
     "text": [
      "C:\\Users\\maxji\\AppData\\Local\\Temp\\ipykernel_40900\\1159726583.py:7: SettingWithCopyWarning: \n",
      "A value is trying to be set on a copy of a slice from a DataFrame\n",
      "\n",
      "See the caveats in the documentation: https://pandas.pydata.org/pandas-docs/stable/user_guide/indexing.html#returning-a-view-versus-a-copy\n",
      "  data[\"wiki_url\"][index] = url\n"
     ]
    },
    {
     "name": "stdout",
     "output_type": "stream",
     "text": [
      "current index: 606\n"
     ]
    },
    {
     "name": "stderr",
     "output_type": "stream",
     "text": [
      "C:\\Users\\maxji\\AppData\\Local\\Temp\\ipykernel_40900\\1159726583.py:7: SettingWithCopyWarning: \n",
      "A value is trying to be set on a copy of a slice from a DataFrame\n",
      "\n",
      "See the caveats in the documentation: https://pandas.pydata.org/pandas-docs/stable/user_guide/indexing.html#returning-a-view-versus-a-copy\n",
      "  data[\"wiki_url\"][index] = url\n"
     ]
    },
    {
     "name": "stdout",
     "output_type": "stream",
     "text": [
      "current index: 607\n"
     ]
    },
    {
     "name": "stderr",
     "output_type": "stream",
     "text": [
      "C:\\Users\\maxji\\AppData\\Local\\Temp\\ipykernel_40900\\1159726583.py:7: SettingWithCopyWarning: \n",
      "A value is trying to be set on a copy of a slice from a DataFrame\n",
      "\n",
      "See the caveats in the documentation: https://pandas.pydata.org/pandas-docs/stable/user_guide/indexing.html#returning-a-view-versus-a-copy\n",
      "  data[\"wiki_url\"][index] = url\n"
     ]
    },
    {
     "name": "stdout",
     "output_type": "stream",
     "text": [
      "current index: 608\n"
     ]
    },
    {
     "name": "stderr",
     "output_type": "stream",
     "text": [
      "C:\\Users\\maxji\\AppData\\Local\\Temp\\ipykernel_40900\\1159726583.py:7: SettingWithCopyWarning: \n",
      "A value is trying to be set on a copy of a slice from a DataFrame\n",
      "\n",
      "See the caveats in the documentation: https://pandas.pydata.org/pandas-docs/stable/user_guide/indexing.html#returning-a-view-versus-a-copy\n",
      "  data[\"wiki_url\"][index] = url\n"
     ]
    },
    {
     "name": "stdout",
     "output_type": "stream",
     "text": [
      "current index: 609\n"
     ]
    },
    {
     "name": "stderr",
     "output_type": "stream",
     "text": [
      "C:\\Users\\maxji\\AppData\\Local\\Temp\\ipykernel_40900\\1159726583.py:7: SettingWithCopyWarning: \n",
      "A value is trying to be set on a copy of a slice from a DataFrame\n",
      "\n",
      "See the caveats in the documentation: https://pandas.pydata.org/pandas-docs/stable/user_guide/indexing.html#returning-a-view-versus-a-copy\n",
      "  data[\"wiki_url\"][index] = url\n"
     ]
    },
    {
     "name": "stdout",
     "output_type": "stream",
     "text": [
      "current index: 610\n"
     ]
    },
    {
     "name": "stderr",
     "output_type": "stream",
     "text": [
      "C:\\Users\\maxji\\AppData\\Local\\Temp\\ipykernel_40900\\1159726583.py:7: SettingWithCopyWarning: \n",
      "A value is trying to be set on a copy of a slice from a DataFrame\n",
      "\n",
      "See the caveats in the documentation: https://pandas.pydata.org/pandas-docs/stable/user_guide/indexing.html#returning-a-view-versus-a-copy\n",
      "  data[\"wiki_url\"][index] = url\n"
     ]
    },
    {
     "name": "stdout",
     "output_type": "stream",
     "text": [
      "current index: 611\n"
     ]
    },
    {
     "name": "stderr",
     "output_type": "stream",
     "text": [
      "C:\\Users\\maxji\\AppData\\Local\\Temp\\ipykernel_40900\\1159726583.py:7: SettingWithCopyWarning: \n",
      "A value is trying to be set on a copy of a slice from a DataFrame\n",
      "\n",
      "See the caveats in the documentation: https://pandas.pydata.org/pandas-docs/stable/user_guide/indexing.html#returning-a-view-versus-a-copy\n",
      "  data[\"wiki_url\"][index] = url\n"
     ]
    },
    {
     "name": "stdout",
     "output_type": "stream",
     "text": [
      "current index: 612\n"
     ]
    },
    {
     "name": "stderr",
     "output_type": "stream",
     "text": [
      "C:\\Users\\maxji\\AppData\\Local\\Temp\\ipykernel_40900\\1159726583.py:7: SettingWithCopyWarning: \n",
      "A value is trying to be set on a copy of a slice from a DataFrame\n",
      "\n",
      "See the caveats in the documentation: https://pandas.pydata.org/pandas-docs/stable/user_guide/indexing.html#returning-a-view-versus-a-copy\n",
      "  data[\"wiki_url\"][index] = url\n"
     ]
    },
    {
     "name": "stdout",
     "output_type": "stream",
     "text": [
      "current index: 613\n"
     ]
    },
    {
     "name": "stderr",
     "output_type": "stream",
     "text": [
      "C:\\Users\\maxji\\AppData\\Local\\Temp\\ipykernel_40900\\1159726583.py:7: SettingWithCopyWarning: \n",
      "A value is trying to be set on a copy of a slice from a DataFrame\n",
      "\n",
      "See the caveats in the documentation: https://pandas.pydata.org/pandas-docs/stable/user_guide/indexing.html#returning-a-view-versus-a-copy\n",
      "  data[\"wiki_url\"][index] = url\n"
     ]
    },
    {
     "name": "stdout",
     "output_type": "stream",
     "text": [
      "current index: 614\n"
     ]
    },
    {
     "name": "stderr",
     "output_type": "stream",
     "text": [
      "C:\\Users\\maxji\\AppData\\Local\\Temp\\ipykernel_40900\\1159726583.py:7: SettingWithCopyWarning: \n",
      "A value is trying to be set on a copy of a slice from a DataFrame\n",
      "\n",
      "See the caveats in the documentation: https://pandas.pydata.org/pandas-docs/stable/user_guide/indexing.html#returning-a-view-versus-a-copy\n",
      "  data[\"wiki_url\"][index] = url\n"
     ]
    },
    {
     "name": "stdout",
     "output_type": "stream",
     "text": [
      "current index: 615\n"
     ]
    },
    {
     "name": "stderr",
     "output_type": "stream",
     "text": [
      "C:\\Users\\maxji\\AppData\\Local\\Temp\\ipykernel_40900\\1159726583.py:7: SettingWithCopyWarning: \n",
      "A value is trying to be set on a copy of a slice from a DataFrame\n",
      "\n",
      "See the caveats in the documentation: https://pandas.pydata.org/pandas-docs/stable/user_guide/indexing.html#returning-a-view-versus-a-copy\n",
      "  data[\"wiki_url\"][index] = url\n"
     ]
    },
    {
     "name": "stdout",
     "output_type": "stream",
     "text": [
      "current index: 616\n"
     ]
    },
    {
     "name": "stderr",
     "output_type": "stream",
     "text": [
      "C:\\Users\\maxji\\AppData\\Local\\Temp\\ipykernel_40900\\1159726583.py:7: SettingWithCopyWarning: \n",
      "A value is trying to be set on a copy of a slice from a DataFrame\n",
      "\n",
      "See the caveats in the documentation: https://pandas.pydata.org/pandas-docs/stable/user_guide/indexing.html#returning-a-view-versus-a-copy\n",
      "  data[\"wiki_url\"][index] = url\n"
     ]
    },
    {
     "name": "stdout",
     "output_type": "stream",
     "text": [
      "current index: 617\n"
     ]
    },
    {
     "name": "stderr",
     "output_type": "stream",
     "text": [
      "C:\\Users\\maxji\\AppData\\Local\\Temp\\ipykernel_40900\\1159726583.py:7: SettingWithCopyWarning: \n",
      "A value is trying to be set on a copy of a slice from a DataFrame\n",
      "\n",
      "See the caveats in the documentation: https://pandas.pydata.org/pandas-docs/stable/user_guide/indexing.html#returning-a-view-versus-a-copy\n",
      "  data[\"wiki_url\"][index] = url\n"
     ]
    },
    {
     "name": "stdout",
     "output_type": "stream",
     "text": [
      "current index: 618\n"
     ]
    },
    {
     "name": "stderr",
     "output_type": "stream",
     "text": [
      "C:\\Users\\maxji\\AppData\\Local\\Temp\\ipykernel_40900\\1159726583.py:7: SettingWithCopyWarning: \n",
      "A value is trying to be set on a copy of a slice from a DataFrame\n",
      "\n",
      "See the caveats in the documentation: https://pandas.pydata.org/pandas-docs/stable/user_guide/indexing.html#returning-a-view-versus-a-copy\n",
      "  data[\"wiki_url\"][index] = url\n"
     ]
    },
    {
     "name": "stdout",
     "output_type": "stream",
     "text": [
      "current index: 619\n"
     ]
    },
    {
     "name": "stderr",
     "output_type": "stream",
     "text": [
      "C:\\Users\\maxji\\AppData\\Local\\Temp\\ipykernel_40900\\1159726583.py:7: SettingWithCopyWarning: \n",
      "A value is trying to be set on a copy of a slice from a DataFrame\n",
      "\n",
      "See the caveats in the documentation: https://pandas.pydata.org/pandas-docs/stable/user_guide/indexing.html#returning-a-view-versus-a-copy\n",
      "  data[\"wiki_url\"][index] = url\n"
     ]
    },
    {
     "name": "stdout",
     "output_type": "stream",
     "text": [
      "current index: 620\n"
     ]
    },
    {
     "name": "stderr",
     "output_type": "stream",
     "text": [
      "C:\\Users\\maxji\\AppData\\Local\\Temp\\ipykernel_40900\\1159726583.py:7: SettingWithCopyWarning: \n",
      "A value is trying to be set on a copy of a slice from a DataFrame\n",
      "\n",
      "See the caveats in the documentation: https://pandas.pydata.org/pandas-docs/stable/user_guide/indexing.html#returning-a-view-versus-a-copy\n",
      "  data[\"wiki_url\"][index] = url\n"
     ]
    },
    {
     "name": "stdout",
     "output_type": "stream",
     "text": [
      "current index: 621\n"
     ]
    },
    {
     "name": "stderr",
     "output_type": "stream",
     "text": [
      "C:\\Users\\maxji\\AppData\\Local\\Temp\\ipykernel_40900\\1159726583.py:7: SettingWithCopyWarning: \n",
      "A value is trying to be set on a copy of a slice from a DataFrame\n",
      "\n",
      "See the caveats in the documentation: https://pandas.pydata.org/pandas-docs/stable/user_guide/indexing.html#returning-a-view-versus-a-copy\n",
      "  data[\"wiki_url\"][index] = url\n"
     ]
    },
    {
     "name": "stdout",
     "output_type": "stream",
     "text": [
      "current index: 622\n"
     ]
    },
    {
     "name": "stderr",
     "output_type": "stream",
     "text": [
      "C:\\Users\\maxji\\AppData\\Local\\Temp\\ipykernel_40900\\1159726583.py:7: SettingWithCopyWarning: \n",
      "A value is trying to be set on a copy of a slice from a DataFrame\n",
      "\n",
      "See the caveats in the documentation: https://pandas.pydata.org/pandas-docs/stable/user_guide/indexing.html#returning-a-view-versus-a-copy\n",
      "  data[\"wiki_url\"][index] = url\n"
     ]
    },
    {
     "name": "stdout",
     "output_type": "stream",
     "text": [
      "current index: 623\n"
     ]
    },
    {
     "name": "stderr",
     "output_type": "stream",
     "text": [
      "C:\\Users\\maxji\\AppData\\Local\\Temp\\ipykernel_40900\\1159726583.py:7: SettingWithCopyWarning: \n",
      "A value is trying to be set on a copy of a slice from a DataFrame\n",
      "\n",
      "See the caveats in the documentation: https://pandas.pydata.org/pandas-docs/stable/user_guide/indexing.html#returning-a-view-versus-a-copy\n",
      "  data[\"wiki_url\"][index] = url\n"
     ]
    },
    {
     "name": "stdout",
     "output_type": "stream",
     "text": [
      "current index: 624\n"
     ]
    },
    {
     "name": "stderr",
     "output_type": "stream",
     "text": [
      "C:\\Users\\maxji\\AppData\\Local\\Temp\\ipykernel_40900\\1159726583.py:7: SettingWithCopyWarning: \n",
      "A value is trying to be set on a copy of a slice from a DataFrame\n",
      "\n",
      "See the caveats in the documentation: https://pandas.pydata.org/pandas-docs/stable/user_guide/indexing.html#returning-a-view-versus-a-copy\n",
      "  data[\"wiki_url\"][index] = url\n"
     ]
    },
    {
     "name": "stdout",
     "output_type": "stream",
     "text": [
      "current index: 625\n"
     ]
    },
    {
     "name": "stderr",
     "output_type": "stream",
     "text": [
      "C:\\Users\\maxji\\AppData\\Local\\Temp\\ipykernel_40900\\1159726583.py:7: SettingWithCopyWarning: \n",
      "A value is trying to be set on a copy of a slice from a DataFrame\n",
      "\n",
      "See the caveats in the documentation: https://pandas.pydata.org/pandas-docs/stable/user_guide/indexing.html#returning-a-view-versus-a-copy\n",
      "  data[\"wiki_url\"][index] = url\n"
     ]
    },
    {
     "name": "stdout",
     "output_type": "stream",
     "text": [
      "current index: 626\n"
     ]
    },
    {
     "name": "stderr",
     "output_type": "stream",
     "text": [
      "C:\\Users\\maxji\\AppData\\Local\\Temp\\ipykernel_40900\\1159726583.py:7: SettingWithCopyWarning: \n",
      "A value is trying to be set on a copy of a slice from a DataFrame\n",
      "\n",
      "See the caveats in the documentation: https://pandas.pydata.org/pandas-docs/stable/user_guide/indexing.html#returning-a-view-versus-a-copy\n",
      "  data[\"wiki_url\"][index] = url\n"
     ]
    },
    {
     "name": "stdout",
     "output_type": "stream",
     "text": [
      "current index: 627\n"
     ]
    },
    {
     "name": "stderr",
     "output_type": "stream",
     "text": [
      "C:\\Users\\maxji\\AppData\\Local\\Temp\\ipykernel_40900\\1159726583.py:7: SettingWithCopyWarning: \n",
      "A value is trying to be set on a copy of a slice from a DataFrame\n",
      "\n",
      "See the caveats in the documentation: https://pandas.pydata.org/pandas-docs/stable/user_guide/indexing.html#returning-a-view-versus-a-copy\n",
      "  data[\"wiki_url\"][index] = url\n"
     ]
    },
    {
     "name": "stdout",
     "output_type": "stream",
     "text": [
      "current index: 628\n"
     ]
    },
    {
     "name": "stderr",
     "output_type": "stream",
     "text": [
      "C:\\Users\\maxji\\AppData\\Local\\Temp\\ipykernel_40900\\1159726583.py:7: SettingWithCopyWarning: \n",
      "A value is trying to be set on a copy of a slice from a DataFrame\n",
      "\n",
      "See the caveats in the documentation: https://pandas.pydata.org/pandas-docs/stable/user_guide/indexing.html#returning-a-view-versus-a-copy\n",
      "  data[\"wiki_url\"][index] = url\n"
     ]
    },
    {
     "name": "stdout",
     "output_type": "stream",
     "text": [
      "current index: 629\n"
     ]
    },
    {
     "name": "stderr",
     "output_type": "stream",
     "text": [
      "C:\\Users\\maxji\\AppData\\Local\\Temp\\ipykernel_40900\\1159726583.py:7: SettingWithCopyWarning: \n",
      "A value is trying to be set on a copy of a slice from a DataFrame\n",
      "\n",
      "See the caveats in the documentation: https://pandas.pydata.org/pandas-docs/stable/user_guide/indexing.html#returning-a-view-versus-a-copy\n",
      "  data[\"wiki_url\"][index] = url\n"
     ]
    },
    {
     "name": "stdout",
     "output_type": "stream",
     "text": [
      "current index: 630\n"
     ]
    },
    {
     "name": "stderr",
     "output_type": "stream",
     "text": [
      "C:\\Users\\maxji\\AppData\\Local\\Temp\\ipykernel_40900\\1159726583.py:7: SettingWithCopyWarning: \n",
      "A value is trying to be set on a copy of a slice from a DataFrame\n",
      "\n",
      "See the caveats in the documentation: https://pandas.pydata.org/pandas-docs/stable/user_guide/indexing.html#returning-a-view-versus-a-copy\n",
      "  data[\"wiki_url\"][index] = url\n"
     ]
    },
    {
     "name": "stdout",
     "output_type": "stream",
     "text": [
      "current index: 631\n"
     ]
    },
    {
     "name": "stderr",
     "output_type": "stream",
     "text": [
      "C:\\Users\\maxji\\AppData\\Local\\Temp\\ipykernel_40900\\1159726583.py:7: SettingWithCopyWarning: \n",
      "A value is trying to be set on a copy of a slice from a DataFrame\n",
      "\n",
      "See the caveats in the documentation: https://pandas.pydata.org/pandas-docs/stable/user_guide/indexing.html#returning-a-view-versus-a-copy\n",
      "  data[\"wiki_url\"][index] = url\n"
     ]
    },
    {
     "name": "stdout",
     "output_type": "stream",
     "text": [
      "current index: 632\n"
     ]
    },
    {
     "name": "stderr",
     "output_type": "stream",
     "text": [
      "C:\\Users\\maxji\\AppData\\Local\\Temp\\ipykernel_40900\\1159726583.py:7: SettingWithCopyWarning: \n",
      "A value is trying to be set on a copy of a slice from a DataFrame\n",
      "\n",
      "See the caveats in the documentation: https://pandas.pydata.org/pandas-docs/stable/user_guide/indexing.html#returning-a-view-versus-a-copy\n",
      "  data[\"wiki_url\"][index] = url\n"
     ]
    },
    {
     "name": "stdout",
     "output_type": "stream",
     "text": [
      "current index: 633\n"
     ]
    },
    {
     "name": "stderr",
     "output_type": "stream",
     "text": [
      "C:\\Users\\maxji\\AppData\\Local\\Temp\\ipykernel_40900\\1159726583.py:7: SettingWithCopyWarning: \n",
      "A value is trying to be set on a copy of a slice from a DataFrame\n",
      "\n",
      "See the caveats in the documentation: https://pandas.pydata.org/pandas-docs/stable/user_guide/indexing.html#returning-a-view-versus-a-copy\n",
      "  data[\"wiki_url\"][index] = url\n"
     ]
    },
    {
     "name": "stdout",
     "output_type": "stream",
     "text": [
      "current index: 634\n"
     ]
    },
    {
     "name": "stderr",
     "output_type": "stream",
     "text": [
      "C:\\Users\\maxji\\AppData\\Local\\Temp\\ipykernel_40900\\1159726583.py:7: SettingWithCopyWarning: \n",
      "A value is trying to be set on a copy of a slice from a DataFrame\n",
      "\n",
      "See the caveats in the documentation: https://pandas.pydata.org/pandas-docs/stable/user_guide/indexing.html#returning-a-view-versus-a-copy\n",
      "  data[\"wiki_url\"][index] = url\n"
     ]
    },
    {
     "name": "stdout",
     "output_type": "stream",
     "text": [
      "current index: 635\n"
     ]
    },
    {
     "name": "stderr",
     "output_type": "stream",
     "text": [
      "C:\\Users\\maxji\\AppData\\Local\\Temp\\ipykernel_40900\\1159726583.py:7: SettingWithCopyWarning: \n",
      "A value is trying to be set on a copy of a slice from a DataFrame\n",
      "\n",
      "See the caveats in the documentation: https://pandas.pydata.org/pandas-docs/stable/user_guide/indexing.html#returning-a-view-versus-a-copy\n",
      "  data[\"wiki_url\"][index] = url\n"
     ]
    },
    {
     "name": "stdout",
     "output_type": "stream",
     "text": [
      "current index: 636\n"
     ]
    },
    {
     "name": "stderr",
     "output_type": "stream",
     "text": [
      "C:\\Users\\maxji\\AppData\\Local\\Temp\\ipykernel_40900\\1159726583.py:7: SettingWithCopyWarning: \n",
      "A value is trying to be set on a copy of a slice from a DataFrame\n",
      "\n",
      "See the caveats in the documentation: https://pandas.pydata.org/pandas-docs/stable/user_guide/indexing.html#returning-a-view-versus-a-copy\n",
      "  data[\"wiki_url\"][index] = url\n"
     ]
    },
    {
     "name": "stdout",
     "output_type": "stream",
     "text": [
      "current index: 637\n"
     ]
    },
    {
     "name": "stderr",
     "output_type": "stream",
     "text": [
      "C:\\Users\\maxji\\AppData\\Local\\Temp\\ipykernel_40900\\1159726583.py:7: SettingWithCopyWarning: \n",
      "A value is trying to be set on a copy of a slice from a DataFrame\n",
      "\n",
      "See the caveats in the documentation: https://pandas.pydata.org/pandas-docs/stable/user_guide/indexing.html#returning-a-view-versus-a-copy\n",
      "  data[\"wiki_url\"][index] = url\n"
     ]
    },
    {
     "name": "stdout",
     "output_type": "stream",
     "text": [
      "current index: 638\n"
     ]
    },
    {
     "name": "stderr",
     "output_type": "stream",
     "text": [
      "C:\\Users\\maxji\\AppData\\Local\\Temp\\ipykernel_40900\\1159726583.py:7: SettingWithCopyWarning: \n",
      "A value is trying to be set on a copy of a slice from a DataFrame\n",
      "\n",
      "See the caveats in the documentation: https://pandas.pydata.org/pandas-docs/stable/user_guide/indexing.html#returning-a-view-versus-a-copy\n",
      "  data[\"wiki_url\"][index] = url\n"
     ]
    },
    {
     "name": "stdout",
     "output_type": "stream",
     "text": [
      "current index: 639\n"
     ]
    },
    {
     "name": "stderr",
     "output_type": "stream",
     "text": [
      "C:\\Users\\maxji\\AppData\\Local\\Temp\\ipykernel_40900\\1159726583.py:7: SettingWithCopyWarning: \n",
      "A value is trying to be set on a copy of a slice from a DataFrame\n",
      "\n",
      "See the caveats in the documentation: https://pandas.pydata.org/pandas-docs/stable/user_guide/indexing.html#returning-a-view-versus-a-copy\n",
      "  data[\"wiki_url\"][index] = url\n"
     ]
    },
    {
     "name": "stdout",
     "output_type": "stream",
     "text": [
      "current index: 640\n"
     ]
    },
    {
     "name": "stderr",
     "output_type": "stream",
     "text": [
      "C:\\Users\\maxji\\AppData\\Local\\Temp\\ipykernel_40900\\1159726583.py:7: SettingWithCopyWarning: \n",
      "A value is trying to be set on a copy of a slice from a DataFrame\n",
      "\n",
      "See the caveats in the documentation: https://pandas.pydata.org/pandas-docs/stable/user_guide/indexing.html#returning-a-view-versus-a-copy\n",
      "  data[\"wiki_url\"][index] = url\n"
     ]
    },
    {
     "name": "stdout",
     "output_type": "stream",
     "text": [
      "current index: 641\n"
     ]
    },
    {
     "name": "stderr",
     "output_type": "stream",
     "text": [
      "C:\\Users\\maxji\\AppData\\Local\\Temp\\ipykernel_40900\\1159726583.py:7: SettingWithCopyWarning: \n",
      "A value is trying to be set on a copy of a slice from a DataFrame\n",
      "\n",
      "See the caveats in the documentation: https://pandas.pydata.org/pandas-docs/stable/user_guide/indexing.html#returning-a-view-versus-a-copy\n",
      "  data[\"wiki_url\"][index] = url\n"
     ]
    },
    {
     "name": "stdout",
     "output_type": "stream",
     "text": [
      "current index: 642\n"
     ]
    },
    {
     "name": "stderr",
     "output_type": "stream",
     "text": [
      "C:\\Users\\maxji\\AppData\\Local\\Temp\\ipykernel_40900\\1159726583.py:7: SettingWithCopyWarning: \n",
      "A value is trying to be set on a copy of a slice from a DataFrame\n",
      "\n",
      "See the caveats in the documentation: https://pandas.pydata.org/pandas-docs/stable/user_guide/indexing.html#returning-a-view-versus-a-copy\n",
      "  data[\"wiki_url\"][index] = url\n"
     ]
    },
    {
     "name": "stdout",
     "output_type": "stream",
     "text": [
      "current index: 643\n"
     ]
    },
    {
     "name": "stderr",
     "output_type": "stream",
     "text": [
      "C:\\Users\\maxji\\AppData\\Local\\Temp\\ipykernel_40900\\1159726583.py:7: SettingWithCopyWarning: \n",
      "A value is trying to be set on a copy of a slice from a DataFrame\n",
      "\n",
      "See the caveats in the documentation: https://pandas.pydata.org/pandas-docs/stable/user_guide/indexing.html#returning-a-view-versus-a-copy\n",
      "  data[\"wiki_url\"][index] = url\n"
     ]
    },
    {
     "name": "stdout",
     "output_type": "stream",
     "text": [
      "current index: 644\n"
     ]
    },
    {
     "name": "stderr",
     "output_type": "stream",
     "text": [
      "C:\\Users\\maxji\\AppData\\Local\\Temp\\ipykernel_40900\\1159726583.py:7: SettingWithCopyWarning: \n",
      "A value is trying to be set on a copy of a slice from a DataFrame\n",
      "\n",
      "See the caveats in the documentation: https://pandas.pydata.org/pandas-docs/stable/user_guide/indexing.html#returning-a-view-versus-a-copy\n",
      "  data[\"wiki_url\"][index] = url\n"
     ]
    },
    {
     "name": "stdout",
     "output_type": "stream",
     "text": [
      "current index: 645\n"
     ]
    },
    {
     "name": "stderr",
     "output_type": "stream",
     "text": [
      "C:\\Users\\maxji\\AppData\\Local\\Temp\\ipykernel_40900\\1159726583.py:7: SettingWithCopyWarning: \n",
      "A value is trying to be set on a copy of a slice from a DataFrame\n",
      "\n",
      "See the caveats in the documentation: https://pandas.pydata.org/pandas-docs/stable/user_guide/indexing.html#returning-a-view-versus-a-copy\n",
      "  data[\"wiki_url\"][index] = url\n"
     ]
    },
    {
     "name": "stdout",
     "output_type": "stream",
     "text": [
      "current index: 646\n"
     ]
    },
    {
     "name": "stderr",
     "output_type": "stream",
     "text": [
      "C:\\Users\\maxji\\AppData\\Local\\Temp\\ipykernel_40900\\1159726583.py:7: SettingWithCopyWarning: \n",
      "A value is trying to be set on a copy of a slice from a DataFrame\n",
      "\n",
      "See the caveats in the documentation: https://pandas.pydata.org/pandas-docs/stable/user_guide/indexing.html#returning-a-view-versus-a-copy\n",
      "  data[\"wiki_url\"][index] = url\n"
     ]
    },
    {
     "name": "stdout",
     "output_type": "stream",
     "text": [
      "current index: 647\n"
     ]
    },
    {
     "name": "stderr",
     "output_type": "stream",
     "text": [
      "C:\\Users\\maxji\\AppData\\Local\\Temp\\ipykernel_40900\\1159726583.py:7: SettingWithCopyWarning: \n",
      "A value is trying to be set on a copy of a slice from a DataFrame\n",
      "\n",
      "See the caveats in the documentation: https://pandas.pydata.org/pandas-docs/stable/user_guide/indexing.html#returning-a-view-versus-a-copy\n",
      "  data[\"wiki_url\"][index] = url\n"
     ]
    },
    {
     "name": "stdout",
     "output_type": "stream",
     "text": [
      "current index: 648\n"
     ]
    },
    {
     "name": "stderr",
     "output_type": "stream",
     "text": [
      "C:\\Users\\maxji\\AppData\\Local\\Temp\\ipykernel_40900\\1159726583.py:7: SettingWithCopyWarning: \n",
      "A value is trying to be set on a copy of a slice from a DataFrame\n",
      "\n",
      "See the caveats in the documentation: https://pandas.pydata.org/pandas-docs/stable/user_guide/indexing.html#returning-a-view-versus-a-copy\n",
      "  data[\"wiki_url\"][index] = url\n"
     ]
    },
    {
     "name": "stdout",
     "output_type": "stream",
     "text": [
      "current index: 649\n"
     ]
    },
    {
     "name": "stderr",
     "output_type": "stream",
     "text": [
      "C:\\Users\\maxji\\AppData\\Local\\Temp\\ipykernel_40900\\1159726583.py:7: SettingWithCopyWarning: \n",
      "A value is trying to be set on a copy of a slice from a DataFrame\n",
      "\n",
      "See the caveats in the documentation: https://pandas.pydata.org/pandas-docs/stable/user_guide/indexing.html#returning-a-view-versus-a-copy\n",
      "  data[\"wiki_url\"][index] = url\n"
     ]
    },
    {
     "name": "stdout",
     "output_type": "stream",
     "text": [
      "current index: 650\n"
     ]
    },
    {
     "name": "stderr",
     "output_type": "stream",
     "text": [
      "C:\\Users\\maxji\\AppData\\Local\\Temp\\ipykernel_40900\\1159726583.py:7: SettingWithCopyWarning: \n",
      "A value is trying to be set on a copy of a slice from a DataFrame\n",
      "\n",
      "See the caveats in the documentation: https://pandas.pydata.org/pandas-docs/stable/user_guide/indexing.html#returning-a-view-versus-a-copy\n",
      "  data[\"wiki_url\"][index] = url\n"
     ]
    },
    {
     "name": "stdout",
     "output_type": "stream",
     "text": [
      "current index: 651\n"
     ]
    },
    {
     "name": "stderr",
     "output_type": "stream",
     "text": [
      "C:\\Users\\maxji\\AppData\\Local\\Temp\\ipykernel_40900\\1159726583.py:7: SettingWithCopyWarning: \n",
      "A value is trying to be set on a copy of a slice from a DataFrame\n",
      "\n",
      "See the caveats in the documentation: https://pandas.pydata.org/pandas-docs/stable/user_guide/indexing.html#returning-a-view-versus-a-copy\n",
      "  data[\"wiki_url\"][index] = url\n"
     ]
    },
    {
     "name": "stdout",
     "output_type": "stream",
     "text": [
      "current index: 652\n"
     ]
    },
    {
     "name": "stderr",
     "output_type": "stream",
     "text": [
      "C:\\Users\\maxji\\AppData\\Local\\Temp\\ipykernel_40900\\1159726583.py:7: SettingWithCopyWarning: \n",
      "A value is trying to be set on a copy of a slice from a DataFrame\n",
      "\n",
      "See the caveats in the documentation: https://pandas.pydata.org/pandas-docs/stable/user_guide/indexing.html#returning-a-view-versus-a-copy\n",
      "  data[\"wiki_url\"][index] = url\n"
     ]
    },
    {
     "name": "stdout",
     "output_type": "stream",
     "text": [
      "current index: 653\n"
     ]
    },
    {
     "name": "stderr",
     "output_type": "stream",
     "text": [
      "C:\\Users\\maxji\\AppData\\Local\\Temp\\ipykernel_40900\\1159726583.py:7: SettingWithCopyWarning: \n",
      "A value is trying to be set on a copy of a slice from a DataFrame\n",
      "\n",
      "See the caveats in the documentation: https://pandas.pydata.org/pandas-docs/stable/user_guide/indexing.html#returning-a-view-versus-a-copy\n",
      "  data[\"wiki_url\"][index] = url\n"
     ]
    },
    {
     "name": "stdout",
     "output_type": "stream",
     "text": [
      "current index: 654\n"
     ]
    },
    {
     "name": "stderr",
     "output_type": "stream",
     "text": [
      "C:\\Users\\maxji\\AppData\\Local\\Temp\\ipykernel_40900\\1159726583.py:7: SettingWithCopyWarning: \n",
      "A value is trying to be set on a copy of a slice from a DataFrame\n",
      "\n",
      "See the caveats in the documentation: https://pandas.pydata.org/pandas-docs/stable/user_guide/indexing.html#returning-a-view-versus-a-copy\n",
      "  data[\"wiki_url\"][index] = url\n"
     ]
    },
    {
     "name": "stdout",
     "output_type": "stream",
     "text": [
      "current index: 655\n"
     ]
    },
    {
     "name": "stderr",
     "output_type": "stream",
     "text": [
      "C:\\Users\\maxji\\AppData\\Local\\Temp\\ipykernel_40900\\1159726583.py:7: SettingWithCopyWarning: \n",
      "A value is trying to be set on a copy of a slice from a DataFrame\n",
      "\n",
      "See the caveats in the documentation: https://pandas.pydata.org/pandas-docs/stable/user_guide/indexing.html#returning-a-view-versus-a-copy\n",
      "  data[\"wiki_url\"][index] = url\n"
     ]
    },
    {
     "name": "stdout",
     "output_type": "stream",
     "text": [
      "current index: 656\n"
     ]
    },
    {
     "name": "stderr",
     "output_type": "stream",
     "text": [
      "C:\\Users\\maxji\\AppData\\Local\\Temp\\ipykernel_40900\\1159726583.py:7: SettingWithCopyWarning: \n",
      "A value is trying to be set on a copy of a slice from a DataFrame\n",
      "\n",
      "See the caveats in the documentation: https://pandas.pydata.org/pandas-docs/stable/user_guide/indexing.html#returning-a-view-versus-a-copy\n",
      "  data[\"wiki_url\"][index] = url\n"
     ]
    },
    {
     "name": "stdout",
     "output_type": "stream",
     "text": [
      "current index: 657\n"
     ]
    },
    {
     "name": "stderr",
     "output_type": "stream",
     "text": [
      "C:\\Users\\maxji\\AppData\\Local\\Temp\\ipykernel_40900\\1159726583.py:7: SettingWithCopyWarning: \n",
      "A value is trying to be set on a copy of a slice from a DataFrame\n",
      "\n",
      "See the caveats in the documentation: https://pandas.pydata.org/pandas-docs/stable/user_guide/indexing.html#returning-a-view-versus-a-copy\n",
      "  data[\"wiki_url\"][index] = url\n"
     ]
    },
    {
     "name": "stdout",
     "output_type": "stream",
     "text": [
      "current index: 658\n"
     ]
    },
    {
     "name": "stderr",
     "output_type": "stream",
     "text": [
      "C:\\Users\\maxji\\AppData\\Local\\Temp\\ipykernel_40900\\1159726583.py:7: SettingWithCopyWarning: \n",
      "A value is trying to be set on a copy of a slice from a DataFrame\n",
      "\n",
      "See the caveats in the documentation: https://pandas.pydata.org/pandas-docs/stable/user_guide/indexing.html#returning-a-view-versus-a-copy\n",
      "  data[\"wiki_url\"][index] = url\n"
     ]
    },
    {
     "name": "stdout",
     "output_type": "stream",
     "text": [
      "current index: 659\n"
     ]
    },
    {
     "name": "stderr",
     "output_type": "stream",
     "text": [
      "C:\\Users\\maxji\\AppData\\Local\\Temp\\ipykernel_40900\\1159726583.py:7: SettingWithCopyWarning: \n",
      "A value is trying to be set on a copy of a slice from a DataFrame\n",
      "\n",
      "See the caveats in the documentation: https://pandas.pydata.org/pandas-docs/stable/user_guide/indexing.html#returning-a-view-versus-a-copy\n",
      "  data[\"wiki_url\"][index] = url\n"
     ]
    },
    {
     "name": "stdout",
     "output_type": "stream",
     "text": [
      "current index: 660\n"
     ]
    },
    {
     "name": "stderr",
     "output_type": "stream",
     "text": [
      "C:\\Users\\maxji\\AppData\\Local\\Temp\\ipykernel_40900\\1159726583.py:7: SettingWithCopyWarning: \n",
      "A value is trying to be set on a copy of a slice from a DataFrame\n",
      "\n",
      "See the caveats in the documentation: https://pandas.pydata.org/pandas-docs/stable/user_guide/indexing.html#returning-a-view-versus-a-copy\n",
      "  data[\"wiki_url\"][index] = url\n"
     ]
    },
    {
     "name": "stdout",
     "output_type": "stream",
     "text": [
      "current index: 661\n"
     ]
    },
    {
     "name": "stderr",
     "output_type": "stream",
     "text": [
      "C:\\Users\\maxji\\AppData\\Local\\Temp\\ipykernel_40900\\1159726583.py:7: SettingWithCopyWarning: \n",
      "A value is trying to be set on a copy of a slice from a DataFrame\n",
      "\n",
      "See the caveats in the documentation: https://pandas.pydata.org/pandas-docs/stable/user_guide/indexing.html#returning-a-view-versus-a-copy\n",
      "  data[\"wiki_url\"][index] = url\n"
     ]
    },
    {
     "name": "stdout",
     "output_type": "stream",
     "text": [
      "current index: 662\n"
     ]
    },
    {
     "name": "stderr",
     "output_type": "stream",
     "text": [
      "C:\\Users\\maxji\\AppData\\Local\\Temp\\ipykernel_40900\\1159726583.py:7: SettingWithCopyWarning: \n",
      "A value is trying to be set on a copy of a slice from a DataFrame\n",
      "\n",
      "See the caveats in the documentation: https://pandas.pydata.org/pandas-docs/stable/user_guide/indexing.html#returning-a-view-versus-a-copy\n",
      "  data[\"wiki_url\"][index] = url\n"
     ]
    },
    {
     "name": "stdout",
     "output_type": "stream",
     "text": [
      "current index: 663\n"
     ]
    },
    {
     "name": "stderr",
     "output_type": "stream",
     "text": [
      "C:\\Users\\maxji\\AppData\\Local\\Temp\\ipykernel_40900\\1159726583.py:7: SettingWithCopyWarning: \n",
      "A value is trying to be set on a copy of a slice from a DataFrame\n",
      "\n",
      "See the caveats in the documentation: https://pandas.pydata.org/pandas-docs/stable/user_guide/indexing.html#returning-a-view-versus-a-copy\n",
      "  data[\"wiki_url\"][index] = url\n"
     ]
    },
    {
     "name": "stdout",
     "output_type": "stream",
     "text": [
      "current index: 664\n"
     ]
    },
    {
     "name": "stderr",
     "output_type": "stream",
     "text": [
      "C:\\Users\\maxji\\AppData\\Local\\Temp\\ipykernel_40900\\1159726583.py:7: SettingWithCopyWarning: \n",
      "A value is trying to be set on a copy of a slice from a DataFrame\n",
      "\n",
      "See the caveats in the documentation: https://pandas.pydata.org/pandas-docs/stable/user_guide/indexing.html#returning-a-view-versus-a-copy\n",
      "  data[\"wiki_url\"][index] = url\n"
     ]
    },
    {
     "name": "stdout",
     "output_type": "stream",
     "text": [
      "current index: 665\n"
     ]
    },
    {
     "name": "stderr",
     "output_type": "stream",
     "text": [
      "C:\\Users\\maxji\\AppData\\Local\\Temp\\ipykernel_40900\\1159726583.py:7: SettingWithCopyWarning: \n",
      "A value is trying to be set on a copy of a slice from a DataFrame\n",
      "\n",
      "See the caveats in the documentation: https://pandas.pydata.org/pandas-docs/stable/user_guide/indexing.html#returning-a-view-versus-a-copy\n",
      "  data[\"wiki_url\"][index] = url\n"
     ]
    },
    {
     "name": "stdout",
     "output_type": "stream",
     "text": [
      "current index: 666\n"
     ]
    },
    {
     "name": "stderr",
     "output_type": "stream",
     "text": [
      "C:\\Users\\maxji\\AppData\\Local\\Temp\\ipykernel_40900\\1159726583.py:7: SettingWithCopyWarning: \n",
      "A value is trying to be set on a copy of a slice from a DataFrame\n",
      "\n",
      "See the caveats in the documentation: https://pandas.pydata.org/pandas-docs/stable/user_guide/indexing.html#returning-a-view-versus-a-copy\n",
      "  data[\"wiki_url\"][index] = url\n"
     ]
    },
    {
     "name": "stdout",
     "output_type": "stream",
     "text": [
      "current index: 667\n"
     ]
    },
    {
     "name": "stderr",
     "output_type": "stream",
     "text": [
      "C:\\Users\\maxji\\AppData\\Local\\Temp\\ipykernel_40900\\1159726583.py:7: SettingWithCopyWarning: \n",
      "A value is trying to be set on a copy of a slice from a DataFrame\n",
      "\n",
      "See the caveats in the documentation: https://pandas.pydata.org/pandas-docs/stable/user_guide/indexing.html#returning-a-view-versus-a-copy\n",
      "  data[\"wiki_url\"][index] = url\n"
     ]
    },
    {
     "name": "stdout",
     "output_type": "stream",
     "text": [
      "current index: 668\n"
     ]
    },
    {
     "name": "stderr",
     "output_type": "stream",
     "text": [
      "C:\\Users\\maxji\\AppData\\Local\\Temp\\ipykernel_40900\\1159726583.py:7: SettingWithCopyWarning: \n",
      "A value is trying to be set on a copy of a slice from a DataFrame\n",
      "\n",
      "See the caveats in the documentation: https://pandas.pydata.org/pandas-docs/stable/user_guide/indexing.html#returning-a-view-versus-a-copy\n",
      "  data[\"wiki_url\"][index] = url\n"
     ]
    },
    {
     "name": "stdout",
     "output_type": "stream",
     "text": [
      "current index: 669\n"
     ]
    },
    {
     "name": "stderr",
     "output_type": "stream",
     "text": [
      "C:\\Users\\maxji\\AppData\\Local\\Temp\\ipykernel_40900\\1159726583.py:7: SettingWithCopyWarning: \n",
      "A value is trying to be set on a copy of a slice from a DataFrame\n",
      "\n",
      "See the caveats in the documentation: https://pandas.pydata.org/pandas-docs/stable/user_guide/indexing.html#returning-a-view-versus-a-copy\n",
      "  data[\"wiki_url\"][index] = url\n"
     ]
    },
    {
     "name": "stdout",
     "output_type": "stream",
     "text": [
      "current index: 670\n"
     ]
    },
    {
     "name": "stderr",
     "output_type": "stream",
     "text": [
      "C:\\Users\\maxji\\AppData\\Local\\Temp\\ipykernel_40900\\1159726583.py:7: SettingWithCopyWarning: \n",
      "A value is trying to be set on a copy of a slice from a DataFrame\n",
      "\n",
      "See the caveats in the documentation: https://pandas.pydata.org/pandas-docs/stable/user_guide/indexing.html#returning-a-view-versus-a-copy\n",
      "  data[\"wiki_url\"][index] = url\n"
     ]
    },
    {
     "name": "stdout",
     "output_type": "stream",
     "text": [
      "current index: 671\n"
     ]
    },
    {
     "name": "stderr",
     "output_type": "stream",
     "text": [
      "C:\\Users\\maxji\\AppData\\Local\\Temp\\ipykernel_40900\\1159726583.py:7: SettingWithCopyWarning: \n",
      "A value is trying to be set on a copy of a slice from a DataFrame\n",
      "\n",
      "See the caveats in the documentation: https://pandas.pydata.org/pandas-docs/stable/user_guide/indexing.html#returning-a-view-versus-a-copy\n",
      "  data[\"wiki_url\"][index] = url\n"
     ]
    },
    {
     "name": "stdout",
     "output_type": "stream",
     "text": [
      "current index: 672\n"
     ]
    },
    {
     "name": "stderr",
     "output_type": "stream",
     "text": [
      "C:\\Users\\maxji\\AppData\\Local\\Temp\\ipykernel_40900\\1159726583.py:7: SettingWithCopyWarning: \n",
      "A value is trying to be set on a copy of a slice from a DataFrame\n",
      "\n",
      "See the caveats in the documentation: https://pandas.pydata.org/pandas-docs/stable/user_guide/indexing.html#returning-a-view-versus-a-copy\n",
      "  data[\"wiki_url\"][index] = url\n"
     ]
    },
    {
     "name": "stdout",
     "output_type": "stream",
     "text": [
      "current index: 673\n"
     ]
    },
    {
     "name": "stderr",
     "output_type": "stream",
     "text": [
      "C:\\Users\\maxji\\AppData\\Local\\Temp\\ipykernel_40900\\1159726583.py:7: SettingWithCopyWarning: \n",
      "A value is trying to be set on a copy of a slice from a DataFrame\n",
      "\n",
      "See the caveats in the documentation: https://pandas.pydata.org/pandas-docs/stable/user_guide/indexing.html#returning-a-view-versus-a-copy\n",
      "  data[\"wiki_url\"][index] = url\n"
     ]
    },
    {
     "name": "stdout",
     "output_type": "stream",
     "text": [
      "current index: 674\n"
     ]
    },
    {
     "name": "stderr",
     "output_type": "stream",
     "text": [
      "C:\\Users\\maxji\\AppData\\Local\\Temp\\ipykernel_40900\\1159726583.py:7: SettingWithCopyWarning: \n",
      "A value is trying to be set on a copy of a slice from a DataFrame\n",
      "\n",
      "See the caveats in the documentation: https://pandas.pydata.org/pandas-docs/stable/user_guide/indexing.html#returning-a-view-versus-a-copy\n",
      "  data[\"wiki_url\"][index] = url\n"
     ]
    },
    {
     "name": "stdout",
     "output_type": "stream",
     "text": [
      "current index: 675\n"
     ]
    },
    {
     "name": "stderr",
     "output_type": "stream",
     "text": [
      "C:\\Users\\maxji\\AppData\\Local\\Temp\\ipykernel_40900\\1159726583.py:7: SettingWithCopyWarning: \n",
      "A value is trying to be set on a copy of a slice from a DataFrame\n",
      "\n",
      "See the caveats in the documentation: https://pandas.pydata.org/pandas-docs/stable/user_guide/indexing.html#returning-a-view-versus-a-copy\n",
      "  data[\"wiki_url\"][index] = url\n"
     ]
    },
    {
     "name": "stdout",
     "output_type": "stream",
     "text": [
      "current index: 676\n"
     ]
    },
    {
     "name": "stderr",
     "output_type": "stream",
     "text": [
      "C:\\Users\\maxji\\AppData\\Local\\Temp\\ipykernel_40900\\1159726583.py:7: SettingWithCopyWarning: \n",
      "A value is trying to be set on a copy of a slice from a DataFrame\n",
      "\n",
      "See the caveats in the documentation: https://pandas.pydata.org/pandas-docs/stable/user_guide/indexing.html#returning-a-view-versus-a-copy\n",
      "  data[\"wiki_url\"][index] = url\n"
     ]
    },
    {
     "name": "stdout",
     "output_type": "stream",
     "text": [
      "current index: 677\n"
     ]
    },
    {
     "name": "stderr",
     "output_type": "stream",
     "text": [
      "C:\\Users\\maxji\\AppData\\Local\\Temp\\ipykernel_40900\\1159726583.py:7: SettingWithCopyWarning: \n",
      "A value is trying to be set on a copy of a slice from a DataFrame\n",
      "\n",
      "See the caveats in the documentation: https://pandas.pydata.org/pandas-docs/stable/user_guide/indexing.html#returning-a-view-versus-a-copy\n",
      "  data[\"wiki_url\"][index] = url\n"
     ]
    },
    {
     "name": "stdout",
     "output_type": "stream",
     "text": [
      "current index: 678\n"
     ]
    },
    {
     "name": "stderr",
     "output_type": "stream",
     "text": [
      "C:\\Users\\maxji\\AppData\\Local\\Temp\\ipykernel_40900\\1159726583.py:7: SettingWithCopyWarning: \n",
      "A value is trying to be set on a copy of a slice from a DataFrame\n",
      "\n",
      "See the caveats in the documentation: https://pandas.pydata.org/pandas-docs/stable/user_guide/indexing.html#returning-a-view-versus-a-copy\n",
      "  data[\"wiki_url\"][index] = url\n"
     ]
    },
    {
     "name": "stdout",
     "output_type": "stream",
     "text": [
      "current index: 679\n"
     ]
    },
    {
     "name": "stderr",
     "output_type": "stream",
     "text": [
      "C:\\Users\\maxji\\AppData\\Local\\Temp\\ipykernel_40900\\1159726583.py:7: SettingWithCopyWarning: \n",
      "A value is trying to be set on a copy of a slice from a DataFrame\n",
      "\n",
      "See the caveats in the documentation: https://pandas.pydata.org/pandas-docs/stable/user_guide/indexing.html#returning-a-view-versus-a-copy\n",
      "  data[\"wiki_url\"][index] = url\n"
     ]
    },
    {
     "name": "stdout",
     "output_type": "stream",
     "text": [
      "current index: 680\n"
     ]
    },
    {
     "name": "stderr",
     "output_type": "stream",
     "text": [
      "C:\\Users\\maxji\\AppData\\Local\\Temp\\ipykernel_40900\\1159726583.py:7: SettingWithCopyWarning: \n",
      "A value is trying to be set on a copy of a slice from a DataFrame\n",
      "\n",
      "See the caveats in the documentation: https://pandas.pydata.org/pandas-docs/stable/user_guide/indexing.html#returning-a-view-versus-a-copy\n",
      "  data[\"wiki_url\"][index] = url\n"
     ]
    },
    {
     "name": "stdout",
     "output_type": "stream",
     "text": [
      "current index: 681\n"
     ]
    },
    {
     "name": "stderr",
     "output_type": "stream",
     "text": [
      "C:\\Users\\maxji\\AppData\\Local\\Temp\\ipykernel_40900\\1159726583.py:7: SettingWithCopyWarning: \n",
      "A value is trying to be set on a copy of a slice from a DataFrame\n",
      "\n",
      "See the caveats in the documentation: https://pandas.pydata.org/pandas-docs/stable/user_guide/indexing.html#returning-a-view-versus-a-copy\n",
      "  data[\"wiki_url\"][index] = url\n"
     ]
    },
    {
     "name": "stdout",
     "output_type": "stream",
     "text": [
      "current index: 682\n"
     ]
    },
    {
     "name": "stderr",
     "output_type": "stream",
     "text": [
      "C:\\Users\\maxji\\AppData\\Local\\Temp\\ipykernel_40900\\1159726583.py:7: SettingWithCopyWarning: \n",
      "A value is trying to be set on a copy of a slice from a DataFrame\n",
      "\n",
      "See the caveats in the documentation: https://pandas.pydata.org/pandas-docs/stable/user_guide/indexing.html#returning-a-view-versus-a-copy\n",
      "  data[\"wiki_url\"][index] = url\n"
     ]
    },
    {
     "name": "stdout",
     "output_type": "stream",
     "text": [
      "current index: 683\n"
     ]
    },
    {
     "name": "stderr",
     "output_type": "stream",
     "text": [
      "C:\\Users\\maxji\\AppData\\Local\\Temp\\ipykernel_40900\\1159726583.py:7: SettingWithCopyWarning: \n",
      "A value is trying to be set on a copy of a slice from a DataFrame\n",
      "\n",
      "See the caveats in the documentation: https://pandas.pydata.org/pandas-docs/stable/user_guide/indexing.html#returning-a-view-versus-a-copy\n",
      "  data[\"wiki_url\"][index] = url\n"
     ]
    },
    {
     "name": "stdout",
     "output_type": "stream",
     "text": [
      "current index: 684\n"
     ]
    },
    {
     "name": "stderr",
     "output_type": "stream",
     "text": [
      "C:\\Users\\maxji\\AppData\\Local\\Temp\\ipykernel_40900\\1159726583.py:7: SettingWithCopyWarning: \n",
      "A value is trying to be set on a copy of a slice from a DataFrame\n",
      "\n",
      "See the caveats in the documentation: https://pandas.pydata.org/pandas-docs/stable/user_guide/indexing.html#returning-a-view-versus-a-copy\n",
      "  data[\"wiki_url\"][index] = url\n"
     ]
    },
    {
     "name": "stdout",
     "output_type": "stream",
     "text": [
      "current index: 685\n"
     ]
    },
    {
     "name": "stderr",
     "output_type": "stream",
     "text": [
      "C:\\Users\\maxji\\AppData\\Local\\Temp\\ipykernel_40900\\1159726583.py:7: SettingWithCopyWarning: \n",
      "A value is trying to be set on a copy of a slice from a DataFrame\n",
      "\n",
      "See the caveats in the documentation: https://pandas.pydata.org/pandas-docs/stable/user_guide/indexing.html#returning-a-view-versus-a-copy\n",
      "  data[\"wiki_url\"][index] = url\n"
     ]
    },
    {
     "name": "stdout",
     "output_type": "stream",
     "text": [
      "current index: 686\n"
     ]
    },
    {
     "name": "stderr",
     "output_type": "stream",
     "text": [
      "C:\\Users\\maxji\\AppData\\Local\\Temp\\ipykernel_40900\\1159726583.py:7: SettingWithCopyWarning: \n",
      "A value is trying to be set on a copy of a slice from a DataFrame\n",
      "\n",
      "See the caveats in the documentation: https://pandas.pydata.org/pandas-docs/stable/user_guide/indexing.html#returning-a-view-versus-a-copy\n",
      "  data[\"wiki_url\"][index] = url\n"
     ]
    },
    {
     "name": "stdout",
     "output_type": "stream",
     "text": [
      "current index: 687\n"
     ]
    },
    {
     "name": "stderr",
     "output_type": "stream",
     "text": [
      "C:\\Users\\maxji\\AppData\\Local\\Temp\\ipykernel_40900\\1159726583.py:7: SettingWithCopyWarning: \n",
      "A value is trying to be set on a copy of a slice from a DataFrame\n",
      "\n",
      "See the caveats in the documentation: https://pandas.pydata.org/pandas-docs/stable/user_guide/indexing.html#returning-a-view-versus-a-copy\n",
      "  data[\"wiki_url\"][index] = url\n"
     ]
    },
    {
     "name": "stdout",
     "output_type": "stream",
     "text": [
      "current index: 688\n"
     ]
    },
    {
     "name": "stderr",
     "output_type": "stream",
     "text": [
      "C:\\Users\\maxji\\AppData\\Local\\Temp\\ipykernel_40900\\1159726583.py:7: SettingWithCopyWarning: \n",
      "A value is trying to be set on a copy of a slice from a DataFrame\n",
      "\n",
      "See the caveats in the documentation: https://pandas.pydata.org/pandas-docs/stable/user_guide/indexing.html#returning-a-view-versus-a-copy\n",
      "  data[\"wiki_url\"][index] = url\n"
     ]
    },
    {
     "name": "stdout",
     "output_type": "stream",
     "text": [
      "current index: 689\n"
     ]
    },
    {
     "name": "stderr",
     "output_type": "stream",
     "text": [
      "C:\\Users\\maxji\\AppData\\Local\\Temp\\ipykernel_40900\\1159726583.py:7: SettingWithCopyWarning: \n",
      "A value is trying to be set on a copy of a slice from a DataFrame\n",
      "\n",
      "See the caveats in the documentation: https://pandas.pydata.org/pandas-docs/stable/user_guide/indexing.html#returning-a-view-versus-a-copy\n",
      "  data[\"wiki_url\"][index] = url\n"
     ]
    },
    {
     "name": "stdout",
     "output_type": "stream",
     "text": [
      "current index: 690\n"
     ]
    },
    {
     "name": "stderr",
     "output_type": "stream",
     "text": [
      "C:\\Users\\maxji\\AppData\\Local\\Temp\\ipykernel_40900\\1159726583.py:7: SettingWithCopyWarning: \n",
      "A value is trying to be set on a copy of a slice from a DataFrame\n",
      "\n",
      "See the caveats in the documentation: https://pandas.pydata.org/pandas-docs/stable/user_guide/indexing.html#returning-a-view-versus-a-copy\n",
      "  data[\"wiki_url\"][index] = url\n"
     ]
    },
    {
     "name": "stdout",
     "output_type": "stream",
     "text": [
      "current index: 691\n"
     ]
    },
    {
     "name": "stderr",
     "output_type": "stream",
     "text": [
      "C:\\Users\\maxji\\AppData\\Local\\Temp\\ipykernel_40900\\1159726583.py:7: SettingWithCopyWarning: \n",
      "A value is trying to be set on a copy of a slice from a DataFrame\n",
      "\n",
      "See the caveats in the documentation: https://pandas.pydata.org/pandas-docs/stable/user_guide/indexing.html#returning-a-view-versus-a-copy\n",
      "  data[\"wiki_url\"][index] = url\n"
     ]
    },
    {
     "name": "stdout",
     "output_type": "stream",
     "text": [
      "current index: 692\n"
     ]
    },
    {
     "name": "stderr",
     "output_type": "stream",
     "text": [
      "C:\\Users\\maxji\\AppData\\Local\\Temp\\ipykernel_40900\\1159726583.py:7: SettingWithCopyWarning: \n",
      "A value is trying to be set on a copy of a slice from a DataFrame\n",
      "\n",
      "See the caveats in the documentation: https://pandas.pydata.org/pandas-docs/stable/user_guide/indexing.html#returning-a-view-versus-a-copy\n",
      "  data[\"wiki_url\"][index] = url\n"
     ]
    },
    {
     "name": "stdout",
     "output_type": "stream",
     "text": [
      "current index: 693\n"
     ]
    },
    {
     "name": "stderr",
     "output_type": "stream",
     "text": [
      "C:\\Users\\maxji\\AppData\\Local\\Temp\\ipykernel_40900\\1159726583.py:7: SettingWithCopyWarning: \n",
      "A value is trying to be set on a copy of a slice from a DataFrame\n",
      "\n",
      "See the caveats in the documentation: https://pandas.pydata.org/pandas-docs/stable/user_guide/indexing.html#returning-a-view-versus-a-copy\n",
      "  data[\"wiki_url\"][index] = url\n"
     ]
    },
    {
     "name": "stdout",
     "output_type": "stream",
     "text": [
      "current index: 694\n"
     ]
    },
    {
     "name": "stderr",
     "output_type": "stream",
     "text": [
      "C:\\Users\\maxji\\AppData\\Local\\Temp\\ipykernel_40900\\1159726583.py:7: SettingWithCopyWarning: \n",
      "A value is trying to be set on a copy of a slice from a DataFrame\n",
      "\n",
      "See the caveats in the documentation: https://pandas.pydata.org/pandas-docs/stable/user_guide/indexing.html#returning-a-view-versus-a-copy\n",
      "  data[\"wiki_url\"][index] = url\n"
     ]
    },
    {
     "name": "stdout",
     "output_type": "stream",
     "text": [
      "current index: 695\n"
     ]
    },
    {
     "name": "stderr",
     "output_type": "stream",
     "text": [
      "C:\\Users\\maxji\\AppData\\Local\\Temp\\ipykernel_40900\\1159726583.py:7: SettingWithCopyWarning: \n",
      "A value is trying to be set on a copy of a slice from a DataFrame\n",
      "\n",
      "See the caveats in the documentation: https://pandas.pydata.org/pandas-docs/stable/user_guide/indexing.html#returning-a-view-versus-a-copy\n",
      "  data[\"wiki_url\"][index] = url\n"
     ]
    },
    {
     "name": "stdout",
     "output_type": "stream",
     "text": [
      "current index: 696\n"
     ]
    },
    {
     "name": "stderr",
     "output_type": "stream",
     "text": [
      "C:\\Users\\maxji\\AppData\\Local\\Temp\\ipykernel_40900\\1159726583.py:7: SettingWithCopyWarning: \n",
      "A value is trying to be set on a copy of a slice from a DataFrame\n",
      "\n",
      "See the caveats in the documentation: https://pandas.pydata.org/pandas-docs/stable/user_guide/indexing.html#returning-a-view-versus-a-copy\n",
      "  data[\"wiki_url\"][index] = url\n"
     ]
    },
    {
     "name": "stdout",
     "output_type": "stream",
     "text": [
      "current index: 697\n"
     ]
    },
    {
     "name": "stderr",
     "output_type": "stream",
     "text": [
      "C:\\Users\\maxji\\AppData\\Local\\Temp\\ipykernel_40900\\1159726583.py:7: SettingWithCopyWarning: \n",
      "A value is trying to be set on a copy of a slice from a DataFrame\n",
      "\n",
      "See the caveats in the documentation: https://pandas.pydata.org/pandas-docs/stable/user_guide/indexing.html#returning-a-view-versus-a-copy\n",
      "  data[\"wiki_url\"][index] = url\n"
     ]
    },
    {
     "name": "stdout",
     "output_type": "stream",
     "text": [
      "current index: 698\n"
     ]
    },
    {
     "name": "stderr",
     "output_type": "stream",
     "text": [
      "C:\\Users\\maxji\\AppData\\Local\\Temp\\ipykernel_40900\\1159726583.py:7: SettingWithCopyWarning: \n",
      "A value is trying to be set on a copy of a slice from a DataFrame\n",
      "\n",
      "See the caveats in the documentation: https://pandas.pydata.org/pandas-docs/stable/user_guide/indexing.html#returning-a-view-versus-a-copy\n",
      "  data[\"wiki_url\"][index] = url\n"
     ]
    },
    {
     "name": "stdout",
     "output_type": "stream",
     "text": [
      "current index: 699\n"
     ]
    },
    {
     "name": "stderr",
     "output_type": "stream",
     "text": [
      "C:\\Users\\maxji\\AppData\\Local\\Temp\\ipykernel_40900\\1159726583.py:7: SettingWithCopyWarning: \n",
      "A value is trying to be set on a copy of a slice from a DataFrame\n",
      "\n",
      "See the caveats in the documentation: https://pandas.pydata.org/pandas-docs/stable/user_guide/indexing.html#returning-a-view-versus-a-copy\n",
      "  data[\"wiki_url\"][index] = url\n"
     ]
    },
    {
     "name": "stdout",
     "output_type": "stream",
     "text": [
      "current index: 700\n"
     ]
    },
    {
     "name": "stderr",
     "output_type": "stream",
     "text": [
      "C:\\Users\\maxji\\AppData\\Local\\Temp\\ipykernel_40900\\1159726583.py:7: SettingWithCopyWarning: \n",
      "A value is trying to be set on a copy of a slice from a DataFrame\n",
      "\n",
      "See the caveats in the documentation: https://pandas.pydata.org/pandas-docs/stable/user_guide/indexing.html#returning-a-view-versus-a-copy\n",
      "  data[\"wiki_url\"][index] = url\n"
     ]
    },
    {
     "name": "stdout",
     "output_type": "stream",
     "text": [
      "current index: 701\n"
     ]
    },
    {
     "name": "stderr",
     "output_type": "stream",
     "text": [
      "C:\\Users\\maxji\\AppData\\Local\\Temp\\ipykernel_40900\\1159726583.py:7: SettingWithCopyWarning: \n",
      "A value is trying to be set on a copy of a slice from a DataFrame\n",
      "\n",
      "See the caveats in the documentation: https://pandas.pydata.org/pandas-docs/stable/user_guide/indexing.html#returning-a-view-versus-a-copy\n",
      "  data[\"wiki_url\"][index] = url\n"
     ]
    },
    {
     "name": "stdout",
     "output_type": "stream",
     "text": [
      "current index: 702\n"
     ]
    },
    {
     "name": "stderr",
     "output_type": "stream",
     "text": [
      "C:\\Users\\maxji\\AppData\\Local\\Temp\\ipykernel_40900\\1159726583.py:7: SettingWithCopyWarning: \n",
      "A value is trying to be set on a copy of a slice from a DataFrame\n",
      "\n",
      "See the caveats in the documentation: https://pandas.pydata.org/pandas-docs/stable/user_guide/indexing.html#returning-a-view-versus-a-copy\n",
      "  data[\"wiki_url\"][index] = url\n"
     ]
    },
    {
     "name": "stdout",
     "output_type": "stream",
     "text": [
      "current index: 703\n"
     ]
    },
    {
     "name": "stderr",
     "output_type": "stream",
     "text": [
      "C:\\Users\\maxji\\AppData\\Local\\Temp\\ipykernel_40900\\1159726583.py:7: SettingWithCopyWarning: \n",
      "A value is trying to be set on a copy of a slice from a DataFrame\n",
      "\n",
      "See the caveats in the documentation: https://pandas.pydata.org/pandas-docs/stable/user_guide/indexing.html#returning-a-view-versus-a-copy\n",
      "  data[\"wiki_url\"][index] = url\n"
     ]
    },
    {
     "name": "stdout",
     "output_type": "stream",
     "text": [
      "current index: 704\n"
     ]
    },
    {
     "name": "stderr",
     "output_type": "stream",
     "text": [
      "C:\\Users\\maxji\\AppData\\Local\\Temp\\ipykernel_40900\\1159726583.py:7: SettingWithCopyWarning: \n",
      "A value is trying to be set on a copy of a slice from a DataFrame\n",
      "\n",
      "See the caveats in the documentation: https://pandas.pydata.org/pandas-docs/stable/user_guide/indexing.html#returning-a-view-versus-a-copy\n",
      "  data[\"wiki_url\"][index] = url\n"
     ]
    },
    {
     "name": "stdout",
     "output_type": "stream",
     "text": [
      "current index: 705\n"
     ]
    },
    {
     "name": "stderr",
     "output_type": "stream",
     "text": [
      "C:\\Users\\maxji\\AppData\\Local\\Temp\\ipykernel_40900\\1159726583.py:7: SettingWithCopyWarning: \n",
      "A value is trying to be set on a copy of a slice from a DataFrame\n",
      "\n",
      "See the caveats in the documentation: https://pandas.pydata.org/pandas-docs/stable/user_guide/indexing.html#returning-a-view-versus-a-copy\n",
      "  data[\"wiki_url\"][index] = url\n"
     ]
    },
    {
     "name": "stdout",
     "output_type": "stream",
     "text": [
      "current index: 706\n"
     ]
    },
    {
     "name": "stderr",
     "output_type": "stream",
     "text": [
      "C:\\Users\\maxji\\AppData\\Local\\Temp\\ipykernel_40900\\1159726583.py:7: SettingWithCopyWarning: \n",
      "A value is trying to be set on a copy of a slice from a DataFrame\n",
      "\n",
      "See the caveats in the documentation: https://pandas.pydata.org/pandas-docs/stable/user_guide/indexing.html#returning-a-view-versus-a-copy\n",
      "  data[\"wiki_url\"][index] = url\n"
     ]
    },
    {
     "name": "stdout",
     "output_type": "stream",
     "text": [
      "current index: 707\n"
     ]
    },
    {
     "name": "stderr",
     "output_type": "stream",
     "text": [
      "C:\\Users\\maxji\\AppData\\Local\\Temp\\ipykernel_40900\\1159726583.py:7: SettingWithCopyWarning: \n",
      "A value is trying to be set on a copy of a slice from a DataFrame\n",
      "\n",
      "See the caveats in the documentation: https://pandas.pydata.org/pandas-docs/stable/user_guide/indexing.html#returning-a-view-versus-a-copy\n",
      "  data[\"wiki_url\"][index] = url\n"
     ]
    },
    {
     "name": "stdout",
     "output_type": "stream",
     "text": [
      "current index: 708\n"
     ]
    },
    {
     "name": "stderr",
     "output_type": "stream",
     "text": [
      "C:\\Users\\maxji\\AppData\\Local\\Temp\\ipykernel_40900\\1159726583.py:7: SettingWithCopyWarning: \n",
      "A value is trying to be set on a copy of a slice from a DataFrame\n",
      "\n",
      "See the caveats in the documentation: https://pandas.pydata.org/pandas-docs/stable/user_guide/indexing.html#returning-a-view-versus-a-copy\n",
      "  data[\"wiki_url\"][index] = url\n"
     ]
    },
    {
     "name": "stdout",
     "output_type": "stream",
     "text": [
      "current index: 709\n"
     ]
    },
    {
     "name": "stderr",
     "output_type": "stream",
     "text": [
      "C:\\Users\\maxji\\AppData\\Local\\Temp\\ipykernel_40900\\1159726583.py:7: SettingWithCopyWarning: \n",
      "A value is trying to be set on a copy of a slice from a DataFrame\n",
      "\n",
      "See the caveats in the documentation: https://pandas.pydata.org/pandas-docs/stable/user_guide/indexing.html#returning-a-view-versus-a-copy\n",
      "  data[\"wiki_url\"][index] = url\n"
     ]
    },
    {
     "name": "stdout",
     "output_type": "stream",
     "text": [
      "current index: 710\n"
     ]
    },
    {
     "name": "stderr",
     "output_type": "stream",
     "text": [
      "C:\\Users\\maxji\\AppData\\Local\\Temp\\ipykernel_40900\\1159726583.py:7: SettingWithCopyWarning: \n",
      "A value is trying to be set on a copy of a slice from a DataFrame\n",
      "\n",
      "See the caveats in the documentation: https://pandas.pydata.org/pandas-docs/stable/user_guide/indexing.html#returning-a-view-versus-a-copy\n",
      "  data[\"wiki_url\"][index] = url\n"
     ]
    },
    {
     "name": "stdout",
     "output_type": "stream",
     "text": [
      "current index: 711\n"
     ]
    },
    {
     "name": "stderr",
     "output_type": "stream",
     "text": [
      "C:\\Users\\maxji\\AppData\\Local\\Temp\\ipykernel_40900\\1159726583.py:7: SettingWithCopyWarning: \n",
      "A value is trying to be set on a copy of a slice from a DataFrame\n",
      "\n",
      "See the caveats in the documentation: https://pandas.pydata.org/pandas-docs/stable/user_guide/indexing.html#returning-a-view-versus-a-copy\n",
      "  data[\"wiki_url\"][index] = url\n"
     ]
    },
    {
     "name": "stdout",
     "output_type": "stream",
     "text": [
      "current index: 712\n"
     ]
    },
    {
     "name": "stderr",
     "output_type": "stream",
     "text": [
      "C:\\Users\\maxji\\AppData\\Local\\Temp\\ipykernel_40900\\1159726583.py:7: SettingWithCopyWarning: \n",
      "A value is trying to be set on a copy of a slice from a DataFrame\n",
      "\n",
      "See the caveats in the documentation: https://pandas.pydata.org/pandas-docs/stable/user_guide/indexing.html#returning-a-view-versus-a-copy\n",
      "  data[\"wiki_url\"][index] = url\n"
     ]
    },
    {
     "name": "stdout",
     "output_type": "stream",
     "text": [
      "current index: 713\n"
     ]
    },
    {
     "name": "stderr",
     "output_type": "stream",
     "text": [
      "C:\\Users\\maxji\\AppData\\Local\\Temp\\ipykernel_40900\\1159726583.py:7: SettingWithCopyWarning: \n",
      "A value is trying to be set on a copy of a slice from a DataFrame\n",
      "\n",
      "See the caveats in the documentation: https://pandas.pydata.org/pandas-docs/stable/user_guide/indexing.html#returning-a-view-versus-a-copy\n",
      "  data[\"wiki_url\"][index] = url\n"
     ]
    },
    {
     "name": "stdout",
     "output_type": "stream",
     "text": [
      "current index: 714\n"
     ]
    },
    {
     "name": "stderr",
     "output_type": "stream",
     "text": [
      "C:\\Users\\maxji\\AppData\\Local\\Temp\\ipykernel_40900\\1159726583.py:7: SettingWithCopyWarning: \n",
      "A value is trying to be set on a copy of a slice from a DataFrame\n",
      "\n",
      "See the caveats in the documentation: https://pandas.pydata.org/pandas-docs/stable/user_guide/indexing.html#returning-a-view-versus-a-copy\n",
      "  data[\"wiki_url\"][index] = url\n"
     ]
    },
    {
     "name": "stdout",
     "output_type": "stream",
     "text": [
      "current index: 715\n"
     ]
    },
    {
     "name": "stderr",
     "output_type": "stream",
     "text": [
      "C:\\Users\\maxji\\AppData\\Local\\Temp\\ipykernel_40900\\1159726583.py:7: SettingWithCopyWarning: \n",
      "A value is trying to be set on a copy of a slice from a DataFrame\n",
      "\n",
      "See the caveats in the documentation: https://pandas.pydata.org/pandas-docs/stable/user_guide/indexing.html#returning-a-view-versus-a-copy\n",
      "  data[\"wiki_url\"][index] = url\n"
     ]
    },
    {
     "name": "stdout",
     "output_type": "stream",
     "text": [
      "current index: 716\n"
     ]
    },
    {
     "name": "stderr",
     "output_type": "stream",
     "text": [
      "C:\\Users\\maxji\\AppData\\Local\\Temp\\ipykernel_40900\\1159726583.py:7: SettingWithCopyWarning: \n",
      "A value is trying to be set on a copy of a slice from a DataFrame\n",
      "\n",
      "See the caveats in the documentation: https://pandas.pydata.org/pandas-docs/stable/user_guide/indexing.html#returning-a-view-versus-a-copy\n",
      "  data[\"wiki_url\"][index] = url\n"
     ]
    },
    {
     "name": "stdout",
     "output_type": "stream",
     "text": [
      "current index: 717\n"
     ]
    },
    {
     "name": "stderr",
     "output_type": "stream",
     "text": [
      "C:\\Users\\maxji\\AppData\\Local\\Temp\\ipykernel_40900\\1159726583.py:7: SettingWithCopyWarning: \n",
      "A value is trying to be set on a copy of a slice from a DataFrame\n",
      "\n",
      "See the caveats in the documentation: https://pandas.pydata.org/pandas-docs/stable/user_guide/indexing.html#returning-a-view-versus-a-copy\n",
      "  data[\"wiki_url\"][index] = url\n"
     ]
    },
    {
     "name": "stdout",
     "output_type": "stream",
     "text": [
      "current index: 718\n"
     ]
    },
    {
     "name": "stderr",
     "output_type": "stream",
     "text": [
      "C:\\Users\\maxji\\AppData\\Local\\Temp\\ipykernel_40900\\1159726583.py:7: SettingWithCopyWarning: \n",
      "A value is trying to be set on a copy of a slice from a DataFrame\n",
      "\n",
      "See the caveats in the documentation: https://pandas.pydata.org/pandas-docs/stable/user_guide/indexing.html#returning-a-view-versus-a-copy\n",
      "  data[\"wiki_url\"][index] = url\n"
     ]
    },
    {
     "name": "stdout",
     "output_type": "stream",
     "text": [
      "current index: 719\n"
     ]
    },
    {
     "name": "stderr",
     "output_type": "stream",
     "text": [
      "C:\\Users\\maxji\\AppData\\Local\\Temp\\ipykernel_40900\\1159726583.py:7: SettingWithCopyWarning: \n",
      "A value is trying to be set on a copy of a slice from a DataFrame\n",
      "\n",
      "See the caveats in the documentation: https://pandas.pydata.org/pandas-docs/stable/user_guide/indexing.html#returning-a-view-versus-a-copy\n",
      "  data[\"wiki_url\"][index] = url\n"
     ]
    },
    {
     "name": "stdout",
     "output_type": "stream",
     "text": [
      "current index: 720\n"
     ]
    },
    {
     "name": "stderr",
     "output_type": "stream",
     "text": [
      "C:\\Users\\maxji\\AppData\\Local\\Temp\\ipykernel_40900\\1159726583.py:7: SettingWithCopyWarning: \n",
      "A value is trying to be set on a copy of a slice from a DataFrame\n",
      "\n",
      "See the caveats in the documentation: https://pandas.pydata.org/pandas-docs/stable/user_guide/indexing.html#returning-a-view-versus-a-copy\n",
      "  data[\"wiki_url\"][index] = url\n"
     ]
    },
    {
     "name": "stdout",
     "output_type": "stream",
     "text": [
      "current index: 721\n"
     ]
    },
    {
     "name": "stderr",
     "output_type": "stream",
     "text": [
      "C:\\Users\\maxji\\AppData\\Local\\Temp\\ipykernel_40900\\1159726583.py:7: SettingWithCopyWarning: \n",
      "A value is trying to be set on a copy of a slice from a DataFrame\n",
      "\n",
      "See the caveats in the documentation: https://pandas.pydata.org/pandas-docs/stable/user_guide/indexing.html#returning-a-view-versus-a-copy\n",
      "  data[\"wiki_url\"][index] = url\n"
     ]
    },
    {
     "name": "stdout",
     "output_type": "stream",
     "text": [
      "current index: 722\n"
     ]
    },
    {
     "name": "stderr",
     "output_type": "stream",
     "text": [
      "C:\\Users\\maxji\\AppData\\Local\\Temp\\ipykernel_40900\\1159726583.py:7: SettingWithCopyWarning: \n",
      "A value is trying to be set on a copy of a slice from a DataFrame\n",
      "\n",
      "See the caveats in the documentation: https://pandas.pydata.org/pandas-docs/stable/user_guide/indexing.html#returning-a-view-versus-a-copy\n",
      "  data[\"wiki_url\"][index] = url\n"
     ]
    },
    {
     "name": "stdout",
     "output_type": "stream",
     "text": [
      "current index: 723\n"
     ]
    },
    {
     "name": "stderr",
     "output_type": "stream",
     "text": [
      "C:\\Users\\maxji\\AppData\\Local\\Temp\\ipykernel_40900\\1159726583.py:7: SettingWithCopyWarning: \n",
      "A value is trying to be set on a copy of a slice from a DataFrame\n",
      "\n",
      "See the caveats in the documentation: https://pandas.pydata.org/pandas-docs/stable/user_guide/indexing.html#returning-a-view-versus-a-copy\n",
      "  data[\"wiki_url\"][index] = url\n"
     ]
    },
    {
     "name": "stdout",
     "output_type": "stream",
     "text": [
      "current index: 724\n"
     ]
    },
    {
     "name": "stderr",
     "output_type": "stream",
     "text": [
      "C:\\Users\\maxji\\AppData\\Local\\Temp\\ipykernel_40900\\1159726583.py:7: SettingWithCopyWarning: \n",
      "A value is trying to be set on a copy of a slice from a DataFrame\n",
      "\n",
      "See the caveats in the documentation: https://pandas.pydata.org/pandas-docs/stable/user_guide/indexing.html#returning-a-view-versus-a-copy\n",
      "  data[\"wiki_url\"][index] = url\n"
     ]
    },
    {
     "name": "stdout",
     "output_type": "stream",
     "text": [
      "current index: 725\n"
     ]
    },
    {
     "name": "stderr",
     "output_type": "stream",
     "text": [
      "C:\\Users\\maxji\\AppData\\Local\\Temp\\ipykernel_40900\\1159726583.py:7: SettingWithCopyWarning: \n",
      "A value is trying to be set on a copy of a slice from a DataFrame\n",
      "\n",
      "See the caveats in the documentation: https://pandas.pydata.org/pandas-docs/stable/user_guide/indexing.html#returning-a-view-versus-a-copy\n",
      "  data[\"wiki_url\"][index] = url\n"
     ]
    },
    {
     "name": "stdout",
     "output_type": "stream",
     "text": [
      "current index: 726\n"
     ]
    },
    {
     "name": "stderr",
     "output_type": "stream",
     "text": [
      "C:\\Users\\maxji\\AppData\\Local\\Temp\\ipykernel_40900\\1159726583.py:7: SettingWithCopyWarning: \n",
      "A value is trying to be set on a copy of a slice from a DataFrame\n",
      "\n",
      "See the caveats in the documentation: https://pandas.pydata.org/pandas-docs/stable/user_guide/indexing.html#returning-a-view-versus-a-copy\n",
      "  data[\"wiki_url\"][index] = url\n"
     ]
    },
    {
     "name": "stdout",
     "output_type": "stream",
     "text": [
      "current index: 727\n"
     ]
    },
    {
     "name": "stderr",
     "output_type": "stream",
     "text": [
      "C:\\Users\\maxji\\AppData\\Local\\Temp\\ipykernel_40900\\1159726583.py:7: SettingWithCopyWarning: \n",
      "A value is trying to be set on a copy of a slice from a DataFrame\n",
      "\n",
      "See the caveats in the documentation: https://pandas.pydata.org/pandas-docs/stable/user_guide/indexing.html#returning-a-view-versus-a-copy\n",
      "  data[\"wiki_url\"][index] = url\n"
     ]
    },
    {
     "name": "stdout",
     "output_type": "stream",
     "text": [
      "current index: 728\n"
     ]
    },
    {
     "name": "stderr",
     "output_type": "stream",
     "text": [
      "C:\\Users\\maxji\\AppData\\Local\\Temp\\ipykernel_40900\\1159726583.py:7: SettingWithCopyWarning: \n",
      "A value is trying to be set on a copy of a slice from a DataFrame\n",
      "\n",
      "See the caveats in the documentation: https://pandas.pydata.org/pandas-docs/stable/user_guide/indexing.html#returning-a-view-versus-a-copy\n",
      "  data[\"wiki_url\"][index] = url\n"
     ]
    },
    {
     "name": "stdout",
     "output_type": "stream",
     "text": [
      "current index: 729\n"
     ]
    },
    {
     "name": "stderr",
     "output_type": "stream",
     "text": [
      "C:\\Users\\maxji\\AppData\\Local\\Temp\\ipykernel_40900\\1159726583.py:7: SettingWithCopyWarning: \n",
      "A value is trying to be set on a copy of a slice from a DataFrame\n",
      "\n",
      "See the caveats in the documentation: https://pandas.pydata.org/pandas-docs/stable/user_guide/indexing.html#returning-a-view-versus-a-copy\n",
      "  data[\"wiki_url\"][index] = url\n"
     ]
    },
    {
     "name": "stdout",
     "output_type": "stream",
     "text": [
      "current index: 730\n"
     ]
    },
    {
     "name": "stderr",
     "output_type": "stream",
     "text": [
      "C:\\Users\\maxji\\AppData\\Local\\Temp\\ipykernel_40900\\1159726583.py:7: SettingWithCopyWarning: \n",
      "A value is trying to be set on a copy of a slice from a DataFrame\n",
      "\n",
      "See the caveats in the documentation: https://pandas.pydata.org/pandas-docs/stable/user_guide/indexing.html#returning-a-view-versus-a-copy\n",
      "  data[\"wiki_url\"][index] = url\n"
     ]
    },
    {
     "name": "stdout",
     "output_type": "stream",
     "text": [
      "current index: 731\n"
     ]
    },
    {
     "name": "stderr",
     "output_type": "stream",
     "text": [
      "C:\\Users\\maxji\\AppData\\Local\\Temp\\ipykernel_40900\\1159726583.py:7: SettingWithCopyWarning: \n",
      "A value is trying to be set on a copy of a slice from a DataFrame\n",
      "\n",
      "See the caveats in the documentation: https://pandas.pydata.org/pandas-docs/stable/user_guide/indexing.html#returning-a-view-versus-a-copy\n",
      "  data[\"wiki_url\"][index] = url\n"
     ]
    },
    {
     "name": "stdout",
     "output_type": "stream",
     "text": [
      "current index: 732\n"
     ]
    },
    {
     "name": "stderr",
     "output_type": "stream",
     "text": [
      "C:\\Users\\maxji\\AppData\\Local\\Temp\\ipykernel_40900\\1159726583.py:7: SettingWithCopyWarning: \n",
      "A value is trying to be set on a copy of a slice from a DataFrame\n",
      "\n",
      "See the caveats in the documentation: https://pandas.pydata.org/pandas-docs/stable/user_guide/indexing.html#returning-a-view-versus-a-copy\n",
      "  data[\"wiki_url\"][index] = url\n"
     ]
    },
    {
     "name": "stdout",
     "output_type": "stream",
     "text": [
      "current index: 733\n"
     ]
    },
    {
     "name": "stderr",
     "output_type": "stream",
     "text": [
      "C:\\Users\\maxji\\AppData\\Local\\Temp\\ipykernel_40900\\1159726583.py:7: SettingWithCopyWarning: \n",
      "A value is trying to be set on a copy of a slice from a DataFrame\n",
      "\n",
      "See the caveats in the documentation: https://pandas.pydata.org/pandas-docs/stable/user_guide/indexing.html#returning-a-view-versus-a-copy\n",
      "  data[\"wiki_url\"][index] = url\n"
     ]
    },
    {
     "name": "stdout",
     "output_type": "stream",
     "text": [
      "current index: 734\n"
     ]
    },
    {
     "name": "stderr",
     "output_type": "stream",
     "text": [
      "C:\\Users\\maxji\\AppData\\Local\\Temp\\ipykernel_40900\\1159726583.py:7: SettingWithCopyWarning: \n",
      "A value is trying to be set on a copy of a slice from a DataFrame\n",
      "\n",
      "See the caveats in the documentation: https://pandas.pydata.org/pandas-docs/stable/user_guide/indexing.html#returning-a-view-versus-a-copy\n",
      "  data[\"wiki_url\"][index] = url\n"
     ]
    },
    {
     "name": "stdout",
     "output_type": "stream",
     "text": [
      "current index: 735\n"
     ]
    },
    {
     "name": "stderr",
     "output_type": "stream",
     "text": [
      "C:\\Users\\maxji\\AppData\\Local\\Temp\\ipykernel_40900\\1159726583.py:7: SettingWithCopyWarning: \n",
      "A value is trying to be set on a copy of a slice from a DataFrame\n",
      "\n",
      "See the caveats in the documentation: https://pandas.pydata.org/pandas-docs/stable/user_guide/indexing.html#returning-a-view-versus-a-copy\n",
      "  data[\"wiki_url\"][index] = url\n"
     ]
    },
    {
     "name": "stdout",
     "output_type": "stream",
     "text": [
      "current index: 736\n"
     ]
    },
    {
     "name": "stderr",
     "output_type": "stream",
     "text": [
      "C:\\Users\\maxji\\AppData\\Local\\Temp\\ipykernel_40900\\1159726583.py:7: SettingWithCopyWarning: \n",
      "A value is trying to be set on a copy of a slice from a DataFrame\n",
      "\n",
      "See the caveats in the documentation: https://pandas.pydata.org/pandas-docs/stable/user_guide/indexing.html#returning-a-view-versus-a-copy\n",
      "  data[\"wiki_url\"][index] = url\n"
     ]
    },
    {
     "name": "stdout",
     "output_type": "stream",
     "text": [
      "current index: 737\n"
     ]
    },
    {
     "name": "stderr",
     "output_type": "stream",
     "text": [
      "C:\\Users\\maxji\\AppData\\Local\\Temp\\ipykernel_40900\\1159726583.py:7: SettingWithCopyWarning: \n",
      "A value is trying to be set on a copy of a slice from a DataFrame\n",
      "\n",
      "See the caveats in the documentation: https://pandas.pydata.org/pandas-docs/stable/user_guide/indexing.html#returning-a-view-versus-a-copy\n",
      "  data[\"wiki_url\"][index] = url\n"
     ]
    },
    {
     "name": "stdout",
     "output_type": "stream",
     "text": [
      "current index: 738\n"
     ]
    },
    {
     "name": "stderr",
     "output_type": "stream",
     "text": [
      "C:\\Users\\maxji\\AppData\\Local\\Temp\\ipykernel_40900\\1159726583.py:7: SettingWithCopyWarning: \n",
      "A value is trying to be set on a copy of a slice from a DataFrame\n",
      "\n",
      "See the caveats in the documentation: https://pandas.pydata.org/pandas-docs/stable/user_guide/indexing.html#returning-a-view-versus-a-copy\n",
      "  data[\"wiki_url\"][index] = url\n"
     ]
    },
    {
     "name": "stdout",
     "output_type": "stream",
     "text": [
      "current index: 739\n"
     ]
    },
    {
     "name": "stderr",
     "output_type": "stream",
     "text": [
      "C:\\Users\\maxji\\AppData\\Local\\Temp\\ipykernel_40900\\1159726583.py:7: SettingWithCopyWarning: \n",
      "A value is trying to be set on a copy of a slice from a DataFrame\n",
      "\n",
      "See the caveats in the documentation: https://pandas.pydata.org/pandas-docs/stable/user_guide/indexing.html#returning-a-view-versus-a-copy\n",
      "  data[\"wiki_url\"][index] = url\n"
     ]
    },
    {
     "name": "stdout",
     "output_type": "stream",
     "text": [
      "current index: 740\n"
     ]
    },
    {
     "name": "stderr",
     "output_type": "stream",
     "text": [
      "C:\\Users\\maxji\\AppData\\Local\\Temp\\ipykernel_40900\\1159726583.py:7: SettingWithCopyWarning: \n",
      "A value is trying to be set on a copy of a slice from a DataFrame\n",
      "\n",
      "See the caveats in the documentation: https://pandas.pydata.org/pandas-docs/stable/user_guide/indexing.html#returning-a-view-versus-a-copy\n",
      "  data[\"wiki_url\"][index] = url\n"
     ]
    },
    {
     "name": "stdout",
     "output_type": "stream",
     "text": [
      "current index: 741\n"
     ]
    },
    {
     "name": "stderr",
     "output_type": "stream",
     "text": [
      "C:\\Users\\maxji\\AppData\\Local\\Temp\\ipykernel_40900\\1159726583.py:7: SettingWithCopyWarning: \n",
      "A value is trying to be set on a copy of a slice from a DataFrame\n",
      "\n",
      "See the caveats in the documentation: https://pandas.pydata.org/pandas-docs/stable/user_guide/indexing.html#returning-a-view-versus-a-copy\n",
      "  data[\"wiki_url\"][index] = url\n"
     ]
    },
    {
     "name": "stdout",
     "output_type": "stream",
     "text": [
      "current index: 742\n"
     ]
    },
    {
     "name": "stderr",
     "output_type": "stream",
     "text": [
      "C:\\Users\\maxji\\AppData\\Local\\Temp\\ipykernel_40900\\1159726583.py:7: SettingWithCopyWarning: \n",
      "A value is trying to be set on a copy of a slice from a DataFrame\n",
      "\n",
      "See the caveats in the documentation: https://pandas.pydata.org/pandas-docs/stable/user_guide/indexing.html#returning-a-view-versus-a-copy\n",
      "  data[\"wiki_url\"][index] = url\n"
     ]
    },
    {
     "name": "stdout",
     "output_type": "stream",
     "text": [
      "current index: 743\n"
     ]
    },
    {
     "name": "stderr",
     "output_type": "stream",
     "text": [
      "C:\\Users\\maxji\\AppData\\Local\\Temp\\ipykernel_40900\\1159726583.py:7: SettingWithCopyWarning: \n",
      "A value is trying to be set on a copy of a slice from a DataFrame\n",
      "\n",
      "See the caveats in the documentation: https://pandas.pydata.org/pandas-docs/stable/user_guide/indexing.html#returning-a-view-versus-a-copy\n",
      "  data[\"wiki_url\"][index] = url\n"
     ]
    },
    {
     "name": "stdout",
     "output_type": "stream",
     "text": [
      "current index: 744\n"
     ]
    },
    {
     "name": "stderr",
     "output_type": "stream",
     "text": [
      "C:\\Users\\maxji\\AppData\\Local\\Temp\\ipykernel_40900\\1159726583.py:7: SettingWithCopyWarning: \n",
      "A value is trying to be set on a copy of a slice from a DataFrame\n",
      "\n",
      "See the caveats in the documentation: https://pandas.pydata.org/pandas-docs/stable/user_guide/indexing.html#returning-a-view-versus-a-copy\n",
      "  data[\"wiki_url\"][index] = url\n"
     ]
    },
    {
     "name": "stdout",
     "output_type": "stream",
     "text": [
      "current index: 745\n"
     ]
    },
    {
     "name": "stderr",
     "output_type": "stream",
     "text": [
      "C:\\Users\\maxji\\AppData\\Local\\Temp\\ipykernel_40900\\1159726583.py:7: SettingWithCopyWarning: \n",
      "A value is trying to be set on a copy of a slice from a DataFrame\n",
      "\n",
      "See the caveats in the documentation: https://pandas.pydata.org/pandas-docs/stable/user_guide/indexing.html#returning-a-view-versus-a-copy\n",
      "  data[\"wiki_url\"][index] = url\n"
     ]
    },
    {
     "name": "stdout",
     "output_type": "stream",
     "text": [
      "current index: 746\n"
     ]
    },
    {
     "name": "stderr",
     "output_type": "stream",
     "text": [
      "C:\\Users\\maxji\\AppData\\Local\\Temp\\ipykernel_40900\\1159726583.py:7: SettingWithCopyWarning: \n",
      "A value is trying to be set on a copy of a slice from a DataFrame\n",
      "\n",
      "See the caveats in the documentation: https://pandas.pydata.org/pandas-docs/stable/user_guide/indexing.html#returning-a-view-versus-a-copy\n",
      "  data[\"wiki_url\"][index] = url\n"
     ]
    },
    {
     "name": "stdout",
     "output_type": "stream",
     "text": [
      "current index: 747\n"
     ]
    },
    {
     "name": "stderr",
     "output_type": "stream",
     "text": [
      "C:\\Users\\maxji\\AppData\\Local\\Temp\\ipykernel_40900\\1159726583.py:7: SettingWithCopyWarning: \n",
      "A value is trying to be set on a copy of a slice from a DataFrame\n",
      "\n",
      "See the caveats in the documentation: https://pandas.pydata.org/pandas-docs/stable/user_guide/indexing.html#returning-a-view-versus-a-copy\n",
      "  data[\"wiki_url\"][index] = url\n"
     ]
    },
    {
     "name": "stdout",
     "output_type": "stream",
     "text": [
      "current index: 748\n"
     ]
    },
    {
     "name": "stderr",
     "output_type": "stream",
     "text": [
      "C:\\Users\\maxji\\AppData\\Local\\Temp\\ipykernel_40900\\1159726583.py:7: SettingWithCopyWarning: \n",
      "A value is trying to be set on a copy of a slice from a DataFrame\n",
      "\n",
      "See the caveats in the documentation: https://pandas.pydata.org/pandas-docs/stable/user_guide/indexing.html#returning-a-view-versus-a-copy\n",
      "  data[\"wiki_url\"][index] = url\n"
     ]
    },
    {
     "name": "stdout",
     "output_type": "stream",
     "text": [
      "current index: 749\n"
     ]
    },
    {
     "name": "stderr",
     "output_type": "stream",
     "text": [
      "C:\\Users\\maxji\\AppData\\Local\\Temp\\ipykernel_40900\\1159726583.py:7: SettingWithCopyWarning: \n",
      "A value is trying to be set on a copy of a slice from a DataFrame\n",
      "\n",
      "See the caveats in the documentation: https://pandas.pydata.org/pandas-docs/stable/user_guide/indexing.html#returning-a-view-versus-a-copy\n",
      "  data[\"wiki_url\"][index] = url\n"
     ]
    },
    {
     "name": "stdout",
     "output_type": "stream",
     "text": [
      "current index: 750\n"
     ]
    },
    {
     "name": "stderr",
     "output_type": "stream",
     "text": [
      "C:\\Users\\maxji\\AppData\\Local\\Temp\\ipykernel_40900\\1159726583.py:7: SettingWithCopyWarning: \n",
      "A value is trying to be set on a copy of a slice from a DataFrame\n",
      "\n",
      "See the caveats in the documentation: https://pandas.pydata.org/pandas-docs/stable/user_guide/indexing.html#returning-a-view-versus-a-copy\n",
      "  data[\"wiki_url\"][index] = url\n"
     ]
    },
    {
     "name": "stdout",
     "output_type": "stream",
     "text": [
      "current index: 751\n"
     ]
    },
    {
     "name": "stderr",
     "output_type": "stream",
     "text": [
      "C:\\Users\\maxji\\AppData\\Local\\Temp\\ipykernel_40900\\1159726583.py:7: SettingWithCopyWarning: \n",
      "A value is trying to be set on a copy of a slice from a DataFrame\n",
      "\n",
      "See the caveats in the documentation: https://pandas.pydata.org/pandas-docs/stable/user_guide/indexing.html#returning-a-view-versus-a-copy\n",
      "  data[\"wiki_url\"][index] = url\n"
     ]
    },
    {
     "name": "stdout",
     "output_type": "stream",
     "text": [
      "current index: 752\n"
     ]
    },
    {
     "name": "stderr",
     "output_type": "stream",
     "text": [
      "C:\\Users\\maxji\\AppData\\Local\\Temp\\ipykernel_40900\\1159726583.py:7: SettingWithCopyWarning: \n",
      "A value is trying to be set on a copy of a slice from a DataFrame\n",
      "\n",
      "See the caveats in the documentation: https://pandas.pydata.org/pandas-docs/stable/user_guide/indexing.html#returning-a-view-versus-a-copy\n",
      "  data[\"wiki_url\"][index] = url\n"
     ]
    },
    {
     "name": "stdout",
     "output_type": "stream",
     "text": [
      "current index: 753\n"
     ]
    },
    {
     "name": "stderr",
     "output_type": "stream",
     "text": [
      "C:\\Users\\maxji\\AppData\\Local\\Temp\\ipykernel_40900\\1159726583.py:7: SettingWithCopyWarning: \n",
      "A value is trying to be set on a copy of a slice from a DataFrame\n",
      "\n",
      "See the caveats in the documentation: https://pandas.pydata.org/pandas-docs/stable/user_guide/indexing.html#returning-a-view-versus-a-copy\n",
      "  data[\"wiki_url\"][index] = url\n"
     ]
    },
    {
     "name": "stdout",
     "output_type": "stream",
     "text": [
      "current index: 754\n"
     ]
    },
    {
     "name": "stderr",
     "output_type": "stream",
     "text": [
      "C:\\Users\\maxji\\AppData\\Local\\Temp\\ipykernel_40900\\1159726583.py:7: SettingWithCopyWarning: \n",
      "A value is trying to be set on a copy of a slice from a DataFrame\n",
      "\n",
      "See the caveats in the documentation: https://pandas.pydata.org/pandas-docs/stable/user_guide/indexing.html#returning-a-view-versus-a-copy\n",
      "  data[\"wiki_url\"][index] = url\n"
     ]
    },
    {
     "name": "stdout",
     "output_type": "stream",
     "text": [
      "current index: 755\n"
     ]
    },
    {
     "name": "stderr",
     "output_type": "stream",
     "text": [
      "C:\\Users\\maxji\\AppData\\Local\\Temp\\ipykernel_40900\\1159726583.py:7: SettingWithCopyWarning: \n",
      "A value is trying to be set on a copy of a slice from a DataFrame\n",
      "\n",
      "See the caveats in the documentation: https://pandas.pydata.org/pandas-docs/stable/user_guide/indexing.html#returning-a-view-versus-a-copy\n",
      "  data[\"wiki_url\"][index] = url\n"
     ]
    },
    {
     "name": "stdout",
     "output_type": "stream",
     "text": [
      "current index: 756\n"
     ]
    },
    {
     "name": "stderr",
     "output_type": "stream",
     "text": [
      "C:\\Users\\maxji\\AppData\\Local\\Temp\\ipykernel_40900\\1159726583.py:7: SettingWithCopyWarning: \n",
      "A value is trying to be set on a copy of a slice from a DataFrame\n",
      "\n",
      "See the caveats in the documentation: https://pandas.pydata.org/pandas-docs/stable/user_guide/indexing.html#returning-a-view-versus-a-copy\n",
      "  data[\"wiki_url\"][index] = url\n"
     ]
    },
    {
     "name": "stdout",
     "output_type": "stream",
     "text": [
      "current index: 757\n"
     ]
    },
    {
     "name": "stderr",
     "output_type": "stream",
     "text": [
      "C:\\Users\\maxji\\AppData\\Local\\Temp\\ipykernel_40900\\1159726583.py:7: SettingWithCopyWarning: \n",
      "A value is trying to be set on a copy of a slice from a DataFrame\n",
      "\n",
      "See the caveats in the documentation: https://pandas.pydata.org/pandas-docs/stable/user_guide/indexing.html#returning-a-view-versus-a-copy\n",
      "  data[\"wiki_url\"][index] = url\n"
     ]
    },
    {
     "name": "stdout",
     "output_type": "stream",
     "text": [
      "current index: 758\n"
     ]
    },
    {
     "name": "stderr",
     "output_type": "stream",
     "text": [
      "C:\\Users\\maxji\\AppData\\Local\\Temp\\ipykernel_40900\\1159726583.py:7: SettingWithCopyWarning: \n",
      "A value is trying to be set on a copy of a slice from a DataFrame\n",
      "\n",
      "See the caveats in the documentation: https://pandas.pydata.org/pandas-docs/stable/user_guide/indexing.html#returning-a-view-versus-a-copy\n",
      "  data[\"wiki_url\"][index] = url\n"
     ]
    },
    {
     "name": "stdout",
     "output_type": "stream",
     "text": [
      "current index: 759\n"
     ]
    },
    {
     "name": "stderr",
     "output_type": "stream",
     "text": [
      "C:\\Users\\maxji\\AppData\\Local\\Temp\\ipykernel_40900\\1159726583.py:7: SettingWithCopyWarning: \n",
      "A value is trying to be set on a copy of a slice from a DataFrame\n",
      "\n",
      "See the caveats in the documentation: https://pandas.pydata.org/pandas-docs/stable/user_guide/indexing.html#returning-a-view-versus-a-copy\n",
      "  data[\"wiki_url\"][index] = url\n"
     ]
    },
    {
     "name": "stdout",
     "output_type": "stream",
     "text": [
      "current index: 760\n"
     ]
    },
    {
     "name": "stderr",
     "output_type": "stream",
     "text": [
      "C:\\Users\\maxji\\AppData\\Local\\Temp\\ipykernel_40900\\1159726583.py:7: SettingWithCopyWarning: \n",
      "A value is trying to be set on a copy of a slice from a DataFrame\n",
      "\n",
      "See the caveats in the documentation: https://pandas.pydata.org/pandas-docs/stable/user_guide/indexing.html#returning-a-view-versus-a-copy\n",
      "  data[\"wiki_url\"][index] = url\n"
     ]
    },
    {
     "name": "stdout",
     "output_type": "stream",
     "text": [
      "current index: 761\n"
     ]
    },
    {
     "name": "stderr",
     "output_type": "stream",
     "text": [
      "C:\\Users\\maxji\\AppData\\Local\\Temp\\ipykernel_40900\\1159726583.py:7: SettingWithCopyWarning: \n",
      "A value is trying to be set on a copy of a slice from a DataFrame\n",
      "\n",
      "See the caveats in the documentation: https://pandas.pydata.org/pandas-docs/stable/user_guide/indexing.html#returning-a-view-versus-a-copy\n",
      "  data[\"wiki_url\"][index] = url\n"
     ]
    },
    {
     "name": "stdout",
     "output_type": "stream",
     "text": [
      "current index: 762\n"
     ]
    },
    {
     "name": "stderr",
     "output_type": "stream",
     "text": [
      "C:\\Users\\maxji\\AppData\\Local\\Temp\\ipykernel_40900\\1159726583.py:7: SettingWithCopyWarning: \n",
      "A value is trying to be set on a copy of a slice from a DataFrame\n",
      "\n",
      "See the caveats in the documentation: https://pandas.pydata.org/pandas-docs/stable/user_guide/indexing.html#returning-a-view-versus-a-copy\n",
      "  data[\"wiki_url\"][index] = url\n"
     ]
    },
    {
     "name": "stdout",
     "output_type": "stream",
     "text": [
      "current index: 763\n"
     ]
    },
    {
     "name": "stderr",
     "output_type": "stream",
     "text": [
      "C:\\Users\\maxji\\AppData\\Local\\Temp\\ipykernel_40900\\1159726583.py:7: SettingWithCopyWarning: \n",
      "A value is trying to be set on a copy of a slice from a DataFrame\n",
      "\n",
      "See the caveats in the documentation: https://pandas.pydata.org/pandas-docs/stable/user_guide/indexing.html#returning-a-view-versus-a-copy\n",
      "  data[\"wiki_url\"][index] = url\n"
     ]
    },
    {
     "name": "stdout",
     "output_type": "stream",
     "text": [
      "current index: 764\n"
     ]
    },
    {
     "name": "stderr",
     "output_type": "stream",
     "text": [
      "C:\\Users\\maxji\\AppData\\Local\\Temp\\ipykernel_40900\\1159726583.py:7: SettingWithCopyWarning: \n",
      "A value is trying to be set on a copy of a slice from a DataFrame\n",
      "\n",
      "See the caveats in the documentation: https://pandas.pydata.org/pandas-docs/stable/user_guide/indexing.html#returning-a-view-versus-a-copy\n",
      "  data[\"wiki_url\"][index] = url\n"
     ]
    },
    {
     "name": "stdout",
     "output_type": "stream",
     "text": [
      "current index: 765\n"
     ]
    },
    {
     "name": "stderr",
     "output_type": "stream",
     "text": [
      "C:\\Users\\maxji\\AppData\\Local\\Temp\\ipykernel_40900\\1159726583.py:7: SettingWithCopyWarning: \n",
      "A value is trying to be set on a copy of a slice from a DataFrame\n",
      "\n",
      "See the caveats in the documentation: https://pandas.pydata.org/pandas-docs/stable/user_guide/indexing.html#returning-a-view-versus-a-copy\n",
      "  data[\"wiki_url\"][index] = url\n"
     ]
    },
    {
     "name": "stdout",
     "output_type": "stream",
     "text": [
      "current index: 766\n"
     ]
    },
    {
     "name": "stderr",
     "output_type": "stream",
     "text": [
      "C:\\Users\\maxji\\AppData\\Local\\Temp\\ipykernel_40900\\1159726583.py:7: SettingWithCopyWarning: \n",
      "A value is trying to be set on a copy of a slice from a DataFrame\n",
      "\n",
      "See the caveats in the documentation: https://pandas.pydata.org/pandas-docs/stable/user_guide/indexing.html#returning-a-view-versus-a-copy\n",
      "  data[\"wiki_url\"][index] = url\n"
     ]
    },
    {
     "name": "stdout",
     "output_type": "stream",
     "text": [
      "current index: 767\n"
     ]
    },
    {
     "name": "stderr",
     "output_type": "stream",
     "text": [
      "C:\\Users\\maxji\\AppData\\Local\\Temp\\ipykernel_40900\\1159726583.py:7: SettingWithCopyWarning: \n",
      "A value is trying to be set on a copy of a slice from a DataFrame\n",
      "\n",
      "See the caveats in the documentation: https://pandas.pydata.org/pandas-docs/stable/user_guide/indexing.html#returning-a-view-versus-a-copy\n",
      "  data[\"wiki_url\"][index] = url\n"
     ]
    },
    {
     "name": "stdout",
     "output_type": "stream",
     "text": [
      "current index: 768\n"
     ]
    },
    {
     "name": "stderr",
     "output_type": "stream",
     "text": [
      "C:\\Users\\maxji\\AppData\\Local\\Temp\\ipykernel_40900\\1159726583.py:7: SettingWithCopyWarning: \n",
      "A value is trying to be set on a copy of a slice from a DataFrame\n",
      "\n",
      "See the caveats in the documentation: https://pandas.pydata.org/pandas-docs/stable/user_guide/indexing.html#returning-a-view-versus-a-copy\n",
      "  data[\"wiki_url\"][index] = url\n"
     ]
    },
    {
     "name": "stdout",
     "output_type": "stream",
     "text": [
      "current index: 769\n"
     ]
    },
    {
     "name": "stderr",
     "output_type": "stream",
     "text": [
      "C:\\Users\\maxji\\AppData\\Local\\Temp\\ipykernel_40900\\1159726583.py:7: SettingWithCopyWarning: \n",
      "A value is trying to be set on a copy of a slice from a DataFrame\n",
      "\n",
      "See the caveats in the documentation: https://pandas.pydata.org/pandas-docs/stable/user_guide/indexing.html#returning-a-view-versus-a-copy\n",
      "  data[\"wiki_url\"][index] = url\n"
     ]
    },
    {
     "name": "stdout",
     "output_type": "stream",
     "text": [
      "current index: 770\n"
     ]
    },
    {
     "name": "stderr",
     "output_type": "stream",
     "text": [
      "C:\\Users\\maxji\\AppData\\Local\\Temp\\ipykernel_40900\\1159726583.py:7: SettingWithCopyWarning: \n",
      "A value is trying to be set on a copy of a slice from a DataFrame\n",
      "\n",
      "See the caveats in the documentation: https://pandas.pydata.org/pandas-docs/stable/user_guide/indexing.html#returning-a-view-versus-a-copy\n",
      "  data[\"wiki_url\"][index] = url\n"
     ]
    },
    {
     "name": "stdout",
     "output_type": "stream",
     "text": [
      "current index: 771\n"
     ]
    },
    {
     "name": "stderr",
     "output_type": "stream",
     "text": [
      "C:\\Users\\maxji\\AppData\\Local\\Temp\\ipykernel_40900\\1159726583.py:7: SettingWithCopyWarning: \n",
      "A value is trying to be set on a copy of a slice from a DataFrame\n",
      "\n",
      "See the caveats in the documentation: https://pandas.pydata.org/pandas-docs/stable/user_guide/indexing.html#returning-a-view-versus-a-copy\n",
      "  data[\"wiki_url\"][index] = url\n"
     ]
    },
    {
     "name": "stdout",
     "output_type": "stream",
     "text": [
      "current index: 772\n"
     ]
    },
    {
     "name": "stderr",
     "output_type": "stream",
     "text": [
      "C:\\Users\\maxji\\AppData\\Local\\Temp\\ipykernel_40900\\1159726583.py:7: SettingWithCopyWarning: \n",
      "A value is trying to be set on a copy of a slice from a DataFrame\n",
      "\n",
      "See the caveats in the documentation: https://pandas.pydata.org/pandas-docs/stable/user_guide/indexing.html#returning-a-view-versus-a-copy\n",
      "  data[\"wiki_url\"][index] = url\n"
     ]
    },
    {
     "name": "stdout",
     "output_type": "stream",
     "text": [
      "current index: 773\n"
     ]
    },
    {
     "name": "stderr",
     "output_type": "stream",
     "text": [
      "C:\\Users\\maxji\\AppData\\Local\\Temp\\ipykernel_40900\\1159726583.py:7: SettingWithCopyWarning: \n",
      "A value is trying to be set on a copy of a slice from a DataFrame\n",
      "\n",
      "See the caveats in the documentation: https://pandas.pydata.org/pandas-docs/stable/user_guide/indexing.html#returning-a-view-versus-a-copy\n",
      "  data[\"wiki_url\"][index] = url\n"
     ]
    },
    {
     "name": "stdout",
     "output_type": "stream",
     "text": [
      "current index: 774\n"
     ]
    },
    {
     "name": "stderr",
     "output_type": "stream",
     "text": [
      "C:\\Users\\maxji\\AppData\\Local\\Temp\\ipykernel_40900\\1159726583.py:7: SettingWithCopyWarning: \n",
      "A value is trying to be set on a copy of a slice from a DataFrame\n",
      "\n",
      "See the caveats in the documentation: https://pandas.pydata.org/pandas-docs/stable/user_guide/indexing.html#returning-a-view-versus-a-copy\n",
      "  data[\"wiki_url\"][index] = url\n"
     ]
    },
    {
     "name": "stdout",
     "output_type": "stream",
     "text": [
      "current index: 775\n"
     ]
    },
    {
     "name": "stderr",
     "output_type": "stream",
     "text": [
      "C:\\Users\\maxji\\AppData\\Local\\Temp\\ipykernel_40900\\1159726583.py:7: SettingWithCopyWarning: \n",
      "A value is trying to be set on a copy of a slice from a DataFrame\n",
      "\n",
      "See the caveats in the documentation: https://pandas.pydata.org/pandas-docs/stable/user_guide/indexing.html#returning-a-view-versus-a-copy\n",
      "  data[\"wiki_url\"][index] = url\n"
     ]
    },
    {
     "name": "stdout",
     "output_type": "stream",
     "text": [
      "current index: 776\n"
     ]
    },
    {
     "name": "stderr",
     "output_type": "stream",
     "text": [
      "C:\\Users\\maxji\\AppData\\Local\\Temp\\ipykernel_40900\\1159726583.py:7: SettingWithCopyWarning: \n",
      "A value is trying to be set on a copy of a slice from a DataFrame\n",
      "\n",
      "See the caveats in the documentation: https://pandas.pydata.org/pandas-docs/stable/user_guide/indexing.html#returning-a-view-versus-a-copy\n",
      "  data[\"wiki_url\"][index] = url\n"
     ]
    },
    {
     "name": "stdout",
     "output_type": "stream",
     "text": [
      "current index: 777\n"
     ]
    },
    {
     "name": "stderr",
     "output_type": "stream",
     "text": [
      "C:\\Users\\maxji\\AppData\\Local\\Temp\\ipykernel_40900\\1159726583.py:7: SettingWithCopyWarning: \n",
      "A value is trying to be set on a copy of a slice from a DataFrame\n",
      "\n",
      "See the caveats in the documentation: https://pandas.pydata.org/pandas-docs/stable/user_guide/indexing.html#returning-a-view-versus-a-copy\n",
      "  data[\"wiki_url\"][index] = url\n"
     ]
    },
    {
     "name": "stdout",
     "output_type": "stream",
     "text": [
      "current index: 778\n"
     ]
    },
    {
     "name": "stderr",
     "output_type": "stream",
     "text": [
      "C:\\Users\\maxji\\AppData\\Local\\Temp\\ipykernel_40900\\1159726583.py:7: SettingWithCopyWarning: \n",
      "A value is trying to be set on a copy of a slice from a DataFrame\n",
      "\n",
      "See the caveats in the documentation: https://pandas.pydata.org/pandas-docs/stable/user_guide/indexing.html#returning-a-view-versus-a-copy\n",
      "  data[\"wiki_url\"][index] = url\n"
     ]
    },
    {
     "name": "stdout",
     "output_type": "stream",
     "text": [
      "current index: 779\n"
     ]
    },
    {
     "name": "stderr",
     "output_type": "stream",
     "text": [
      "C:\\Users\\maxji\\AppData\\Local\\Temp\\ipykernel_40900\\1159726583.py:7: SettingWithCopyWarning: \n",
      "A value is trying to be set on a copy of a slice from a DataFrame\n",
      "\n",
      "See the caveats in the documentation: https://pandas.pydata.org/pandas-docs/stable/user_guide/indexing.html#returning-a-view-versus-a-copy\n",
      "  data[\"wiki_url\"][index] = url\n"
     ]
    },
    {
     "name": "stdout",
     "output_type": "stream",
     "text": [
      "current index: 780\n"
     ]
    },
    {
     "name": "stderr",
     "output_type": "stream",
     "text": [
      "C:\\Users\\maxji\\AppData\\Local\\Temp\\ipykernel_40900\\1159726583.py:7: SettingWithCopyWarning: \n",
      "A value is trying to be set on a copy of a slice from a DataFrame\n",
      "\n",
      "See the caveats in the documentation: https://pandas.pydata.org/pandas-docs/stable/user_guide/indexing.html#returning-a-view-versus-a-copy\n",
      "  data[\"wiki_url\"][index] = url\n"
     ]
    },
    {
     "name": "stdout",
     "output_type": "stream",
     "text": [
      "current index: 781\n"
     ]
    },
    {
     "name": "stderr",
     "output_type": "stream",
     "text": [
      "C:\\Users\\maxji\\AppData\\Local\\Temp\\ipykernel_40900\\1159726583.py:7: SettingWithCopyWarning: \n",
      "A value is trying to be set on a copy of a slice from a DataFrame\n",
      "\n",
      "See the caveats in the documentation: https://pandas.pydata.org/pandas-docs/stable/user_guide/indexing.html#returning-a-view-versus-a-copy\n",
      "  data[\"wiki_url\"][index] = url\n"
     ]
    },
    {
     "name": "stdout",
     "output_type": "stream",
     "text": [
      "current index: 782\n"
     ]
    },
    {
     "name": "stderr",
     "output_type": "stream",
     "text": [
      "C:\\Users\\maxji\\AppData\\Local\\Temp\\ipykernel_40900\\1159726583.py:7: SettingWithCopyWarning: \n",
      "A value is trying to be set on a copy of a slice from a DataFrame\n",
      "\n",
      "See the caveats in the documentation: https://pandas.pydata.org/pandas-docs/stable/user_guide/indexing.html#returning-a-view-versus-a-copy\n",
      "  data[\"wiki_url\"][index] = url\n"
     ]
    },
    {
     "name": "stdout",
     "output_type": "stream",
     "text": [
      "current index: 783\n"
     ]
    },
    {
     "name": "stderr",
     "output_type": "stream",
     "text": [
      "C:\\Users\\maxji\\AppData\\Local\\Temp\\ipykernel_40900\\1159726583.py:7: SettingWithCopyWarning: \n",
      "A value is trying to be set on a copy of a slice from a DataFrame\n",
      "\n",
      "See the caveats in the documentation: https://pandas.pydata.org/pandas-docs/stable/user_guide/indexing.html#returning-a-view-versus-a-copy\n",
      "  data[\"wiki_url\"][index] = url\n"
     ]
    },
    {
     "name": "stdout",
     "output_type": "stream",
     "text": [
      "current index: 784\n"
     ]
    },
    {
     "name": "stderr",
     "output_type": "stream",
     "text": [
      "C:\\Users\\maxji\\AppData\\Local\\Temp\\ipykernel_40900\\1159726583.py:7: SettingWithCopyWarning: \n",
      "A value is trying to be set on a copy of a slice from a DataFrame\n",
      "\n",
      "See the caveats in the documentation: https://pandas.pydata.org/pandas-docs/stable/user_guide/indexing.html#returning-a-view-versus-a-copy\n",
      "  data[\"wiki_url\"][index] = url\n"
     ]
    },
    {
     "name": "stdout",
     "output_type": "stream",
     "text": [
      "current index: 785\n"
     ]
    },
    {
     "name": "stderr",
     "output_type": "stream",
     "text": [
      "C:\\Users\\maxji\\AppData\\Local\\Temp\\ipykernel_40900\\1159726583.py:7: SettingWithCopyWarning: \n",
      "A value is trying to be set on a copy of a slice from a DataFrame\n",
      "\n",
      "See the caveats in the documentation: https://pandas.pydata.org/pandas-docs/stable/user_guide/indexing.html#returning-a-view-versus-a-copy\n",
      "  data[\"wiki_url\"][index] = url\n"
     ]
    },
    {
     "name": "stdout",
     "output_type": "stream",
     "text": [
      "current index: 786\n"
     ]
    },
    {
     "name": "stderr",
     "output_type": "stream",
     "text": [
      "C:\\Users\\maxji\\AppData\\Local\\Temp\\ipykernel_40900\\1159726583.py:7: SettingWithCopyWarning: \n",
      "A value is trying to be set on a copy of a slice from a DataFrame\n",
      "\n",
      "See the caveats in the documentation: https://pandas.pydata.org/pandas-docs/stable/user_guide/indexing.html#returning-a-view-versus-a-copy\n",
      "  data[\"wiki_url\"][index] = url\n"
     ]
    },
    {
     "name": "stdout",
     "output_type": "stream",
     "text": [
      "current index: 787\n"
     ]
    },
    {
     "name": "stderr",
     "output_type": "stream",
     "text": [
      "C:\\Users\\maxji\\AppData\\Local\\Temp\\ipykernel_40900\\1159726583.py:7: SettingWithCopyWarning: \n",
      "A value is trying to be set on a copy of a slice from a DataFrame\n",
      "\n",
      "See the caveats in the documentation: https://pandas.pydata.org/pandas-docs/stable/user_guide/indexing.html#returning-a-view-versus-a-copy\n",
      "  data[\"wiki_url\"][index] = url\n"
     ]
    },
    {
     "name": "stdout",
     "output_type": "stream",
     "text": [
      "current index: 788\n"
     ]
    },
    {
     "name": "stderr",
     "output_type": "stream",
     "text": [
      "C:\\Users\\maxji\\AppData\\Local\\Temp\\ipykernel_40900\\1159726583.py:7: SettingWithCopyWarning: \n",
      "A value is trying to be set on a copy of a slice from a DataFrame\n",
      "\n",
      "See the caveats in the documentation: https://pandas.pydata.org/pandas-docs/stable/user_guide/indexing.html#returning-a-view-versus-a-copy\n",
      "  data[\"wiki_url\"][index] = url\n"
     ]
    },
    {
     "name": "stdout",
     "output_type": "stream",
     "text": [
      "current index: 789\n"
     ]
    },
    {
     "name": "stderr",
     "output_type": "stream",
     "text": [
      "C:\\Users\\maxji\\AppData\\Local\\Temp\\ipykernel_40900\\1159726583.py:7: SettingWithCopyWarning: \n",
      "A value is trying to be set on a copy of a slice from a DataFrame\n",
      "\n",
      "See the caveats in the documentation: https://pandas.pydata.org/pandas-docs/stable/user_guide/indexing.html#returning-a-view-versus-a-copy\n",
      "  data[\"wiki_url\"][index] = url\n"
     ]
    },
    {
     "name": "stdout",
     "output_type": "stream",
     "text": [
      "current index: 790\n"
     ]
    },
    {
     "name": "stderr",
     "output_type": "stream",
     "text": [
      "C:\\Users\\maxji\\AppData\\Local\\Temp\\ipykernel_40900\\1159726583.py:7: SettingWithCopyWarning: \n",
      "A value is trying to be set on a copy of a slice from a DataFrame\n",
      "\n",
      "See the caveats in the documentation: https://pandas.pydata.org/pandas-docs/stable/user_guide/indexing.html#returning-a-view-versus-a-copy\n",
      "  data[\"wiki_url\"][index] = url\n"
     ]
    },
    {
     "name": "stdout",
     "output_type": "stream",
     "text": [
      "current index: 791\n"
     ]
    },
    {
     "name": "stderr",
     "output_type": "stream",
     "text": [
      "C:\\Users\\maxji\\AppData\\Local\\Temp\\ipykernel_40900\\1159726583.py:7: SettingWithCopyWarning: \n",
      "A value is trying to be set on a copy of a slice from a DataFrame\n",
      "\n",
      "See the caveats in the documentation: https://pandas.pydata.org/pandas-docs/stable/user_guide/indexing.html#returning-a-view-versus-a-copy\n",
      "  data[\"wiki_url\"][index] = url\n"
     ]
    },
    {
     "name": "stdout",
     "output_type": "stream",
     "text": [
      "current index: 792\n"
     ]
    },
    {
     "name": "stderr",
     "output_type": "stream",
     "text": [
      "C:\\Users\\maxji\\AppData\\Local\\Temp\\ipykernel_40900\\1159726583.py:7: SettingWithCopyWarning: \n",
      "A value is trying to be set on a copy of a slice from a DataFrame\n",
      "\n",
      "See the caveats in the documentation: https://pandas.pydata.org/pandas-docs/stable/user_guide/indexing.html#returning-a-view-versus-a-copy\n",
      "  data[\"wiki_url\"][index] = url\n"
     ]
    },
    {
     "name": "stdout",
     "output_type": "stream",
     "text": [
      "current index: 793\n"
     ]
    },
    {
     "name": "stderr",
     "output_type": "stream",
     "text": [
      "C:\\Users\\maxji\\AppData\\Local\\Temp\\ipykernel_40900\\1159726583.py:7: SettingWithCopyWarning: \n",
      "A value is trying to be set on a copy of a slice from a DataFrame\n",
      "\n",
      "See the caveats in the documentation: https://pandas.pydata.org/pandas-docs/stable/user_guide/indexing.html#returning-a-view-versus-a-copy\n",
      "  data[\"wiki_url\"][index] = url\n"
     ]
    },
    {
     "name": "stdout",
     "output_type": "stream",
     "text": [
      "current index: 794\n"
     ]
    },
    {
     "name": "stderr",
     "output_type": "stream",
     "text": [
      "C:\\Users\\maxji\\AppData\\Local\\Temp\\ipykernel_40900\\1159726583.py:7: SettingWithCopyWarning: \n",
      "A value is trying to be set on a copy of a slice from a DataFrame\n",
      "\n",
      "See the caveats in the documentation: https://pandas.pydata.org/pandas-docs/stable/user_guide/indexing.html#returning-a-view-versus-a-copy\n",
      "  data[\"wiki_url\"][index] = url\n"
     ]
    },
    {
     "name": "stdout",
     "output_type": "stream",
     "text": [
      "current index: 795\n"
     ]
    },
    {
     "name": "stderr",
     "output_type": "stream",
     "text": [
      "C:\\Users\\maxji\\AppData\\Local\\Temp\\ipykernel_40900\\1159726583.py:7: SettingWithCopyWarning: \n",
      "A value is trying to be set on a copy of a slice from a DataFrame\n",
      "\n",
      "See the caveats in the documentation: https://pandas.pydata.org/pandas-docs/stable/user_guide/indexing.html#returning-a-view-versus-a-copy\n",
      "  data[\"wiki_url\"][index] = url\n"
     ]
    },
    {
     "name": "stdout",
     "output_type": "stream",
     "text": [
      "current index: 796\n"
     ]
    },
    {
     "name": "stderr",
     "output_type": "stream",
     "text": [
      "C:\\Users\\maxji\\AppData\\Local\\Temp\\ipykernel_40900\\1159726583.py:7: SettingWithCopyWarning: \n",
      "A value is trying to be set on a copy of a slice from a DataFrame\n",
      "\n",
      "See the caveats in the documentation: https://pandas.pydata.org/pandas-docs/stable/user_guide/indexing.html#returning-a-view-versus-a-copy\n",
      "  data[\"wiki_url\"][index] = url\n"
     ]
    },
    {
     "name": "stdout",
     "output_type": "stream",
     "text": [
      "current index: 797\n"
     ]
    },
    {
     "name": "stderr",
     "output_type": "stream",
     "text": [
      "C:\\Users\\maxji\\AppData\\Local\\Temp\\ipykernel_40900\\1159726583.py:7: SettingWithCopyWarning: \n",
      "A value is trying to be set on a copy of a slice from a DataFrame\n",
      "\n",
      "See the caveats in the documentation: https://pandas.pydata.org/pandas-docs/stable/user_guide/indexing.html#returning-a-view-versus-a-copy\n",
      "  data[\"wiki_url\"][index] = url\n"
     ]
    },
    {
     "name": "stdout",
     "output_type": "stream",
     "text": [
      "current index: 798\n"
     ]
    },
    {
     "name": "stderr",
     "output_type": "stream",
     "text": [
      "C:\\Users\\maxji\\AppData\\Local\\Temp\\ipykernel_40900\\1159726583.py:7: SettingWithCopyWarning: \n",
      "A value is trying to be set on a copy of a slice from a DataFrame\n",
      "\n",
      "See the caveats in the documentation: https://pandas.pydata.org/pandas-docs/stable/user_guide/indexing.html#returning-a-view-versus-a-copy\n",
      "  data[\"wiki_url\"][index] = url\n"
     ]
    },
    {
     "name": "stdout",
     "output_type": "stream",
     "text": [
      "current index: 799\n"
     ]
    },
    {
     "name": "stderr",
     "output_type": "stream",
     "text": [
      "C:\\Users\\maxji\\AppData\\Local\\Temp\\ipykernel_40900\\1159726583.py:7: SettingWithCopyWarning: \n",
      "A value is trying to be set on a copy of a slice from a DataFrame\n",
      "\n",
      "See the caveats in the documentation: https://pandas.pydata.org/pandas-docs/stable/user_guide/indexing.html#returning-a-view-versus-a-copy\n",
      "  data[\"wiki_url\"][index] = url\n"
     ]
    },
    {
     "name": "stdout",
     "output_type": "stream",
     "text": [
      "current index: 800\n"
     ]
    },
    {
     "name": "stderr",
     "output_type": "stream",
     "text": [
      "C:\\Users\\maxji\\AppData\\Local\\Temp\\ipykernel_40900\\1159726583.py:7: SettingWithCopyWarning: \n",
      "A value is trying to be set on a copy of a slice from a DataFrame\n",
      "\n",
      "See the caveats in the documentation: https://pandas.pydata.org/pandas-docs/stable/user_guide/indexing.html#returning-a-view-versus-a-copy\n",
      "  data[\"wiki_url\"][index] = url\n"
     ]
    },
    {
     "name": "stdout",
     "output_type": "stream",
     "text": [
      "current index: 801\n"
     ]
    },
    {
     "name": "stderr",
     "output_type": "stream",
     "text": [
      "C:\\Users\\maxji\\AppData\\Local\\Temp\\ipykernel_40900\\1159726583.py:7: SettingWithCopyWarning: \n",
      "A value is trying to be set on a copy of a slice from a DataFrame\n",
      "\n",
      "See the caveats in the documentation: https://pandas.pydata.org/pandas-docs/stable/user_guide/indexing.html#returning-a-view-versus-a-copy\n",
      "  data[\"wiki_url\"][index] = url\n"
     ]
    },
    {
     "name": "stdout",
     "output_type": "stream",
     "text": [
      "current index: 802\n"
     ]
    },
    {
     "name": "stderr",
     "output_type": "stream",
     "text": [
      "C:\\Users\\maxji\\AppData\\Local\\Temp\\ipykernel_40900\\1159726583.py:7: SettingWithCopyWarning: \n",
      "A value is trying to be set on a copy of a slice from a DataFrame\n",
      "\n",
      "See the caveats in the documentation: https://pandas.pydata.org/pandas-docs/stable/user_guide/indexing.html#returning-a-view-versus-a-copy\n",
      "  data[\"wiki_url\"][index] = url\n"
     ]
    },
    {
     "name": "stdout",
     "output_type": "stream",
     "text": [
      "current index: 803\n"
     ]
    },
    {
     "name": "stderr",
     "output_type": "stream",
     "text": [
      "C:\\Users\\maxji\\AppData\\Local\\Temp\\ipykernel_40900\\1159726583.py:7: SettingWithCopyWarning: \n",
      "A value is trying to be set on a copy of a slice from a DataFrame\n",
      "\n",
      "See the caveats in the documentation: https://pandas.pydata.org/pandas-docs/stable/user_guide/indexing.html#returning-a-view-versus-a-copy\n",
      "  data[\"wiki_url\"][index] = url\n"
     ]
    },
    {
     "name": "stdout",
     "output_type": "stream",
     "text": [
      "current index: 804\n"
     ]
    },
    {
     "name": "stderr",
     "output_type": "stream",
     "text": [
      "C:\\Users\\maxji\\AppData\\Local\\Temp\\ipykernel_40900\\1159726583.py:7: SettingWithCopyWarning: \n",
      "A value is trying to be set on a copy of a slice from a DataFrame\n",
      "\n",
      "See the caveats in the documentation: https://pandas.pydata.org/pandas-docs/stable/user_guide/indexing.html#returning-a-view-versus-a-copy\n",
      "  data[\"wiki_url\"][index] = url\n"
     ]
    },
    {
     "name": "stdout",
     "output_type": "stream",
     "text": [
      "current index: 805\n"
     ]
    },
    {
     "name": "stderr",
     "output_type": "stream",
     "text": [
      "C:\\Users\\maxji\\AppData\\Local\\Temp\\ipykernel_40900\\1159726583.py:7: SettingWithCopyWarning: \n",
      "A value is trying to be set on a copy of a slice from a DataFrame\n",
      "\n",
      "See the caveats in the documentation: https://pandas.pydata.org/pandas-docs/stable/user_guide/indexing.html#returning-a-view-versus-a-copy\n",
      "  data[\"wiki_url\"][index] = url\n"
     ]
    },
    {
     "name": "stdout",
     "output_type": "stream",
     "text": [
      "current index: 806\n"
     ]
    },
    {
     "name": "stderr",
     "output_type": "stream",
     "text": [
      "C:\\Users\\maxji\\AppData\\Local\\Temp\\ipykernel_40900\\1159726583.py:7: SettingWithCopyWarning: \n",
      "A value is trying to be set on a copy of a slice from a DataFrame\n",
      "\n",
      "See the caveats in the documentation: https://pandas.pydata.org/pandas-docs/stable/user_guide/indexing.html#returning-a-view-versus-a-copy\n",
      "  data[\"wiki_url\"][index] = url\n"
     ]
    },
    {
     "name": "stdout",
     "output_type": "stream",
     "text": [
      "current index: 807\n"
     ]
    },
    {
     "name": "stderr",
     "output_type": "stream",
     "text": [
      "C:\\Users\\maxji\\AppData\\Local\\Temp\\ipykernel_40900\\1159726583.py:7: SettingWithCopyWarning: \n",
      "A value is trying to be set on a copy of a slice from a DataFrame\n",
      "\n",
      "See the caveats in the documentation: https://pandas.pydata.org/pandas-docs/stable/user_guide/indexing.html#returning-a-view-versus-a-copy\n",
      "  data[\"wiki_url\"][index] = url\n"
     ]
    },
    {
     "name": "stdout",
     "output_type": "stream",
     "text": [
      "current index: 808\n"
     ]
    },
    {
     "name": "stderr",
     "output_type": "stream",
     "text": [
      "C:\\Users\\maxji\\AppData\\Local\\Temp\\ipykernel_40900\\1159726583.py:7: SettingWithCopyWarning: \n",
      "A value is trying to be set on a copy of a slice from a DataFrame\n",
      "\n",
      "See the caveats in the documentation: https://pandas.pydata.org/pandas-docs/stable/user_guide/indexing.html#returning-a-view-versus-a-copy\n",
      "  data[\"wiki_url\"][index] = url\n"
     ]
    },
    {
     "name": "stdout",
     "output_type": "stream",
     "text": [
      "current index: 809\n"
     ]
    },
    {
     "name": "stderr",
     "output_type": "stream",
     "text": [
      "C:\\Users\\maxji\\AppData\\Local\\Temp\\ipykernel_40900\\1159726583.py:7: SettingWithCopyWarning: \n",
      "A value is trying to be set on a copy of a slice from a DataFrame\n",
      "\n",
      "See the caveats in the documentation: https://pandas.pydata.org/pandas-docs/stable/user_guide/indexing.html#returning-a-view-versus-a-copy\n",
      "  data[\"wiki_url\"][index] = url\n"
     ]
    },
    {
     "name": "stdout",
     "output_type": "stream",
     "text": [
      "current index: 810\n"
     ]
    },
    {
     "name": "stderr",
     "output_type": "stream",
     "text": [
      "C:\\Users\\maxji\\AppData\\Local\\Temp\\ipykernel_40900\\1159726583.py:7: SettingWithCopyWarning: \n",
      "A value is trying to be set on a copy of a slice from a DataFrame\n",
      "\n",
      "See the caveats in the documentation: https://pandas.pydata.org/pandas-docs/stable/user_guide/indexing.html#returning-a-view-versus-a-copy\n",
      "  data[\"wiki_url\"][index] = url\n"
     ]
    },
    {
     "name": "stdout",
     "output_type": "stream",
     "text": [
      "current index: 811\n"
     ]
    },
    {
     "name": "stderr",
     "output_type": "stream",
     "text": [
      "C:\\Users\\maxji\\AppData\\Local\\Temp\\ipykernel_40900\\1159726583.py:7: SettingWithCopyWarning: \n",
      "A value is trying to be set on a copy of a slice from a DataFrame\n",
      "\n",
      "See the caveats in the documentation: https://pandas.pydata.org/pandas-docs/stable/user_guide/indexing.html#returning-a-view-versus-a-copy\n",
      "  data[\"wiki_url\"][index] = url\n"
     ]
    },
    {
     "name": "stdout",
     "output_type": "stream",
     "text": [
      "current index: 812\n"
     ]
    },
    {
     "name": "stderr",
     "output_type": "stream",
     "text": [
      "C:\\Users\\maxji\\AppData\\Local\\Temp\\ipykernel_40900\\1159726583.py:7: SettingWithCopyWarning: \n",
      "A value is trying to be set on a copy of a slice from a DataFrame\n",
      "\n",
      "See the caveats in the documentation: https://pandas.pydata.org/pandas-docs/stable/user_guide/indexing.html#returning-a-view-versus-a-copy\n",
      "  data[\"wiki_url\"][index] = url\n"
     ]
    },
    {
     "name": "stdout",
     "output_type": "stream",
     "text": [
      "current index: 813\n"
     ]
    },
    {
     "name": "stderr",
     "output_type": "stream",
     "text": [
      "C:\\Users\\maxji\\AppData\\Local\\Temp\\ipykernel_40900\\1159726583.py:7: SettingWithCopyWarning: \n",
      "A value is trying to be set on a copy of a slice from a DataFrame\n",
      "\n",
      "See the caveats in the documentation: https://pandas.pydata.org/pandas-docs/stable/user_guide/indexing.html#returning-a-view-versus-a-copy\n",
      "  data[\"wiki_url\"][index] = url\n"
     ]
    },
    {
     "name": "stdout",
     "output_type": "stream",
     "text": [
      "current index: 814\n"
     ]
    },
    {
     "name": "stderr",
     "output_type": "stream",
     "text": [
      "C:\\Users\\maxji\\AppData\\Local\\Temp\\ipykernel_40900\\1159726583.py:7: SettingWithCopyWarning: \n",
      "A value is trying to be set on a copy of a slice from a DataFrame\n",
      "\n",
      "See the caveats in the documentation: https://pandas.pydata.org/pandas-docs/stable/user_guide/indexing.html#returning-a-view-versus-a-copy\n",
      "  data[\"wiki_url\"][index] = url\n"
     ]
    },
    {
     "name": "stdout",
     "output_type": "stream",
     "text": [
      "current index: 815\n"
     ]
    },
    {
     "name": "stderr",
     "output_type": "stream",
     "text": [
      "C:\\Users\\maxji\\AppData\\Local\\Temp\\ipykernel_40900\\1159726583.py:7: SettingWithCopyWarning: \n",
      "A value is trying to be set on a copy of a slice from a DataFrame\n",
      "\n",
      "See the caveats in the documentation: https://pandas.pydata.org/pandas-docs/stable/user_guide/indexing.html#returning-a-view-versus-a-copy\n",
      "  data[\"wiki_url\"][index] = url\n"
     ]
    },
    {
     "name": "stdout",
     "output_type": "stream",
     "text": [
      "current index: 816\n"
     ]
    },
    {
     "name": "stderr",
     "output_type": "stream",
     "text": [
      "C:\\Users\\maxji\\AppData\\Local\\Temp\\ipykernel_40900\\1159726583.py:7: SettingWithCopyWarning: \n",
      "A value is trying to be set on a copy of a slice from a DataFrame\n",
      "\n",
      "See the caveats in the documentation: https://pandas.pydata.org/pandas-docs/stable/user_guide/indexing.html#returning-a-view-versus-a-copy\n",
      "  data[\"wiki_url\"][index] = url\n"
     ]
    },
    {
     "name": "stdout",
     "output_type": "stream",
     "text": [
      "current index: 817\n"
     ]
    },
    {
     "name": "stderr",
     "output_type": "stream",
     "text": [
      "C:\\Users\\maxji\\AppData\\Local\\Temp\\ipykernel_40900\\1159726583.py:7: SettingWithCopyWarning: \n",
      "A value is trying to be set on a copy of a slice from a DataFrame\n",
      "\n",
      "See the caveats in the documentation: https://pandas.pydata.org/pandas-docs/stable/user_guide/indexing.html#returning-a-view-versus-a-copy\n",
      "  data[\"wiki_url\"][index] = url\n"
     ]
    },
    {
     "name": "stdout",
     "output_type": "stream",
     "text": [
      "current index: 818\n"
     ]
    },
    {
     "name": "stderr",
     "output_type": "stream",
     "text": [
      "C:\\Users\\maxji\\AppData\\Local\\Temp\\ipykernel_40900\\1159726583.py:7: SettingWithCopyWarning: \n",
      "A value is trying to be set on a copy of a slice from a DataFrame\n",
      "\n",
      "See the caveats in the documentation: https://pandas.pydata.org/pandas-docs/stable/user_guide/indexing.html#returning-a-view-versus-a-copy\n",
      "  data[\"wiki_url\"][index] = url\n"
     ]
    },
    {
     "name": "stdout",
     "output_type": "stream",
     "text": [
      "current index: 819\n"
     ]
    },
    {
     "name": "stderr",
     "output_type": "stream",
     "text": [
      "C:\\Users\\maxji\\AppData\\Local\\Temp\\ipykernel_40900\\1159726583.py:7: SettingWithCopyWarning: \n",
      "A value is trying to be set on a copy of a slice from a DataFrame\n",
      "\n",
      "See the caveats in the documentation: https://pandas.pydata.org/pandas-docs/stable/user_guide/indexing.html#returning-a-view-versus-a-copy\n",
      "  data[\"wiki_url\"][index] = url\n"
     ]
    },
    {
     "name": "stdout",
     "output_type": "stream",
     "text": [
      "current index: 820\n"
     ]
    },
    {
     "name": "stderr",
     "output_type": "stream",
     "text": [
      "C:\\Users\\maxji\\AppData\\Local\\Temp\\ipykernel_40900\\1159726583.py:7: SettingWithCopyWarning: \n",
      "A value is trying to be set on a copy of a slice from a DataFrame\n",
      "\n",
      "See the caveats in the documentation: https://pandas.pydata.org/pandas-docs/stable/user_guide/indexing.html#returning-a-view-versus-a-copy\n",
      "  data[\"wiki_url\"][index] = url\n"
     ]
    },
    {
     "name": "stdout",
     "output_type": "stream",
     "text": [
      "current index: 821\n"
     ]
    },
    {
     "name": "stderr",
     "output_type": "stream",
     "text": [
      "C:\\Users\\maxji\\AppData\\Local\\Temp\\ipykernel_40900\\1159726583.py:7: SettingWithCopyWarning: \n",
      "A value is trying to be set on a copy of a slice from a DataFrame\n",
      "\n",
      "See the caveats in the documentation: https://pandas.pydata.org/pandas-docs/stable/user_guide/indexing.html#returning-a-view-versus-a-copy\n",
      "  data[\"wiki_url\"][index] = url\n"
     ]
    },
    {
     "name": "stdout",
     "output_type": "stream",
     "text": [
      "current index: 822\n"
     ]
    },
    {
     "name": "stderr",
     "output_type": "stream",
     "text": [
      "C:\\Users\\maxji\\AppData\\Local\\Temp\\ipykernel_40900\\1159726583.py:7: SettingWithCopyWarning: \n",
      "A value is trying to be set on a copy of a slice from a DataFrame\n",
      "\n",
      "See the caveats in the documentation: https://pandas.pydata.org/pandas-docs/stable/user_guide/indexing.html#returning-a-view-versus-a-copy\n",
      "  data[\"wiki_url\"][index] = url\n"
     ]
    },
    {
     "name": "stdout",
     "output_type": "stream",
     "text": [
      "current index: 823\n"
     ]
    },
    {
     "name": "stderr",
     "output_type": "stream",
     "text": [
      "C:\\Users\\maxji\\AppData\\Local\\Temp\\ipykernel_40900\\1159726583.py:7: SettingWithCopyWarning: \n",
      "A value is trying to be set on a copy of a slice from a DataFrame\n",
      "\n",
      "See the caveats in the documentation: https://pandas.pydata.org/pandas-docs/stable/user_guide/indexing.html#returning-a-view-versus-a-copy\n",
      "  data[\"wiki_url\"][index] = url\n"
     ]
    },
    {
     "name": "stdout",
     "output_type": "stream",
     "text": [
      "current index: 824\n"
     ]
    },
    {
     "name": "stderr",
     "output_type": "stream",
     "text": [
      "C:\\Users\\maxji\\AppData\\Local\\Temp\\ipykernel_40900\\1159726583.py:7: SettingWithCopyWarning: \n",
      "A value is trying to be set on a copy of a slice from a DataFrame\n",
      "\n",
      "See the caveats in the documentation: https://pandas.pydata.org/pandas-docs/stable/user_guide/indexing.html#returning-a-view-versus-a-copy\n",
      "  data[\"wiki_url\"][index] = url\n"
     ]
    },
    {
     "name": "stdout",
     "output_type": "stream",
     "text": [
      "current index: 825\n"
     ]
    },
    {
     "name": "stderr",
     "output_type": "stream",
     "text": [
      "C:\\Users\\maxji\\AppData\\Local\\Temp\\ipykernel_40900\\1159726583.py:7: SettingWithCopyWarning: \n",
      "A value is trying to be set on a copy of a slice from a DataFrame\n",
      "\n",
      "See the caveats in the documentation: https://pandas.pydata.org/pandas-docs/stable/user_guide/indexing.html#returning-a-view-versus-a-copy\n",
      "  data[\"wiki_url\"][index] = url\n"
     ]
    },
    {
     "name": "stdout",
     "output_type": "stream",
     "text": [
      "current index: 826\n"
     ]
    },
    {
     "name": "stderr",
     "output_type": "stream",
     "text": [
      "C:\\Users\\maxji\\AppData\\Local\\Temp\\ipykernel_40900\\1159726583.py:7: SettingWithCopyWarning: \n",
      "A value is trying to be set on a copy of a slice from a DataFrame\n",
      "\n",
      "See the caveats in the documentation: https://pandas.pydata.org/pandas-docs/stable/user_guide/indexing.html#returning-a-view-versus-a-copy\n",
      "  data[\"wiki_url\"][index] = url\n"
     ]
    },
    {
     "name": "stdout",
     "output_type": "stream",
     "text": [
      "current index: 827\n"
     ]
    },
    {
     "name": "stderr",
     "output_type": "stream",
     "text": [
      "C:\\Users\\maxji\\AppData\\Local\\Temp\\ipykernel_40900\\1159726583.py:7: SettingWithCopyWarning: \n",
      "A value is trying to be set on a copy of a slice from a DataFrame\n",
      "\n",
      "See the caveats in the documentation: https://pandas.pydata.org/pandas-docs/stable/user_guide/indexing.html#returning-a-view-versus-a-copy\n",
      "  data[\"wiki_url\"][index] = url\n"
     ]
    },
    {
     "name": "stdout",
     "output_type": "stream",
     "text": [
      "current index: 828\n"
     ]
    },
    {
     "name": "stderr",
     "output_type": "stream",
     "text": [
      "C:\\Users\\maxji\\AppData\\Local\\Temp\\ipykernel_40900\\1159726583.py:7: SettingWithCopyWarning: \n",
      "A value is trying to be set on a copy of a slice from a DataFrame\n",
      "\n",
      "See the caveats in the documentation: https://pandas.pydata.org/pandas-docs/stable/user_guide/indexing.html#returning-a-view-versus-a-copy\n",
      "  data[\"wiki_url\"][index] = url\n"
     ]
    },
    {
     "name": "stdout",
     "output_type": "stream",
     "text": [
      "current index: 829\n"
     ]
    },
    {
     "name": "stderr",
     "output_type": "stream",
     "text": [
      "C:\\Users\\maxji\\AppData\\Local\\Temp\\ipykernel_40900\\1159726583.py:7: SettingWithCopyWarning: \n",
      "A value is trying to be set on a copy of a slice from a DataFrame\n",
      "\n",
      "See the caveats in the documentation: https://pandas.pydata.org/pandas-docs/stable/user_guide/indexing.html#returning-a-view-versus-a-copy\n",
      "  data[\"wiki_url\"][index] = url\n"
     ]
    },
    {
     "name": "stdout",
     "output_type": "stream",
     "text": [
      "current index: 830\n"
     ]
    },
    {
     "name": "stderr",
     "output_type": "stream",
     "text": [
      "C:\\Users\\maxji\\AppData\\Local\\Temp\\ipykernel_40900\\1159726583.py:7: SettingWithCopyWarning: \n",
      "A value is trying to be set on a copy of a slice from a DataFrame\n",
      "\n",
      "See the caveats in the documentation: https://pandas.pydata.org/pandas-docs/stable/user_guide/indexing.html#returning-a-view-versus-a-copy\n",
      "  data[\"wiki_url\"][index] = url\n"
     ]
    },
    {
     "name": "stdout",
     "output_type": "stream",
     "text": [
      "current index: 831\n"
     ]
    },
    {
     "name": "stderr",
     "output_type": "stream",
     "text": [
      "C:\\Users\\maxji\\AppData\\Local\\Temp\\ipykernel_40900\\1159726583.py:7: SettingWithCopyWarning: \n",
      "A value is trying to be set on a copy of a slice from a DataFrame\n",
      "\n",
      "See the caveats in the documentation: https://pandas.pydata.org/pandas-docs/stable/user_guide/indexing.html#returning-a-view-versus-a-copy\n",
      "  data[\"wiki_url\"][index] = url\n"
     ]
    },
    {
     "name": "stdout",
     "output_type": "stream",
     "text": [
      "current index: 832\n"
     ]
    },
    {
     "name": "stderr",
     "output_type": "stream",
     "text": [
      "C:\\Users\\maxji\\AppData\\Local\\Temp\\ipykernel_40900\\1159726583.py:7: SettingWithCopyWarning: \n",
      "A value is trying to be set on a copy of a slice from a DataFrame\n",
      "\n",
      "See the caveats in the documentation: https://pandas.pydata.org/pandas-docs/stable/user_guide/indexing.html#returning-a-view-versus-a-copy\n",
      "  data[\"wiki_url\"][index] = url\n"
     ]
    },
    {
     "name": "stdout",
     "output_type": "stream",
     "text": [
      "current index: 833\n"
     ]
    },
    {
     "name": "stderr",
     "output_type": "stream",
     "text": [
      "C:\\Users\\maxji\\AppData\\Local\\Temp\\ipykernel_40900\\1159726583.py:7: SettingWithCopyWarning: \n",
      "A value is trying to be set on a copy of a slice from a DataFrame\n",
      "\n",
      "See the caveats in the documentation: https://pandas.pydata.org/pandas-docs/stable/user_guide/indexing.html#returning-a-view-versus-a-copy\n",
      "  data[\"wiki_url\"][index] = url\n"
     ]
    },
    {
     "name": "stdout",
     "output_type": "stream",
     "text": [
      "current index: 834\n"
     ]
    },
    {
     "name": "stderr",
     "output_type": "stream",
     "text": [
      "C:\\Users\\maxji\\AppData\\Local\\Temp\\ipykernel_40900\\1159726583.py:7: SettingWithCopyWarning: \n",
      "A value is trying to be set on a copy of a slice from a DataFrame\n",
      "\n",
      "See the caveats in the documentation: https://pandas.pydata.org/pandas-docs/stable/user_guide/indexing.html#returning-a-view-versus-a-copy\n",
      "  data[\"wiki_url\"][index] = url\n"
     ]
    },
    {
     "name": "stdout",
     "output_type": "stream",
     "text": [
      "current index: 835\n"
     ]
    },
    {
     "name": "stderr",
     "output_type": "stream",
     "text": [
      "C:\\Users\\maxji\\AppData\\Local\\Temp\\ipykernel_40900\\1159726583.py:7: SettingWithCopyWarning: \n",
      "A value is trying to be set on a copy of a slice from a DataFrame\n",
      "\n",
      "See the caveats in the documentation: https://pandas.pydata.org/pandas-docs/stable/user_guide/indexing.html#returning-a-view-versus-a-copy\n",
      "  data[\"wiki_url\"][index] = url\n"
     ]
    },
    {
     "name": "stdout",
     "output_type": "stream",
     "text": [
      "current index: 836\n"
     ]
    },
    {
     "name": "stderr",
     "output_type": "stream",
     "text": [
      "C:\\Users\\maxji\\AppData\\Local\\Temp\\ipykernel_40900\\1159726583.py:7: SettingWithCopyWarning: \n",
      "A value is trying to be set on a copy of a slice from a DataFrame\n",
      "\n",
      "See the caveats in the documentation: https://pandas.pydata.org/pandas-docs/stable/user_guide/indexing.html#returning-a-view-versus-a-copy\n",
      "  data[\"wiki_url\"][index] = url\n"
     ]
    },
    {
     "name": "stdout",
     "output_type": "stream",
     "text": [
      "current index: 837\n"
     ]
    },
    {
     "name": "stderr",
     "output_type": "stream",
     "text": [
      "C:\\Users\\maxji\\AppData\\Local\\Temp\\ipykernel_40900\\1159726583.py:7: SettingWithCopyWarning: \n",
      "A value is trying to be set on a copy of a slice from a DataFrame\n",
      "\n",
      "See the caveats in the documentation: https://pandas.pydata.org/pandas-docs/stable/user_guide/indexing.html#returning-a-view-versus-a-copy\n",
      "  data[\"wiki_url\"][index] = url\n"
     ]
    },
    {
     "name": "stdout",
     "output_type": "stream",
     "text": [
      "current index: 838\n"
     ]
    },
    {
     "name": "stderr",
     "output_type": "stream",
     "text": [
      "C:\\Users\\maxji\\AppData\\Local\\Temp\\ipykernel_40900\\1159726583.py:7: SettingWithCopyWarning: \n",
      "A value is trying to be set on a copy of a slice from a DataFrame\n",
      "\n",
      "See the caveats in the documentation: https://pandas.pydata.org/pandas-docs/stable/user_guide/indexing.html#returning-a-view-versus-a-copy\n",
      "  data[\"wiki_url\"][index] = url\n"
     ]
    },
    {
     "name": "stdout",
     "output_type": "stream",
     "text": [
      "current index: 839\n"
     ]
    },
    {
     "name": "stderr",
     "output_type": "stream",
     "text": [
      "C:\\Users\\maxji\\AppData\\Local\\Temp\\ipykernel_40900\\1159726583.py:7: SettingWithCopyWarning: \n",
      "A value is trying to be set on a copy of a slice from a DataFrame\n",
      "\n",
      "See the caveats in the documentation: https://pandas.pydata.org/pandas-docs/stable/user_guide/indexing.html#returning-a-view-versus-a-copy\n",
      "  data[\"wiki_url\"][index] = url\n"
     ]
    },
    {
     "name": "stdout",
     "output_type": "stream",
     "text": [
      "current index: 840\n"
     ]
    },
    {
     "name": "stderr",
     "output_type": "stream",
     "text": [
      "C:\\Users\\maxji\\AppData\\Local\\Temp\\ipykernel_40900\\1159726583.py:7: SettingWithCopyWarning: \n",
      "A value is trying to be set on a copy of a slice from a DataFrame\n",
      "\n",
      "See the caveats in the documentation: https://pandas.pydata.org/pandas-docs/stable/user_guide/indexing.html#returning-a-view-versus-a-copy\n",
      "  data[\"wiki_url\"][index] = url\n"
     ]
    },
    {
     "name": "stdout",
     "output_type": "stream",
     "text": [
      "current index: 841\n"
     ]
    },
    {
     "name": "stderr",
     "output_type": "stream",
     "text": [
      "C:\\Users\\maxji\\AppData\\Local\\Temp\\ipykernel_40900\\1159726583.py:7: SettingWithCopyWarning: \n",
      "A value is trying to be set on a copy of a slice from a DataFrame\n",
      "\n",
      "See the caveats in the documentation: https://pandas.pydata.org/pandas-docs/stable/user_guide/indexing.html#returning-a-view-versus-a-copy\n",
      "  data[\"wiki_url\"][index] = url\n"
     ]
    },
    {
     "name": "stdout",
     "output_type": "stream",
     "text": [
      "current index: 842\n"
     ]
    },
    {
     "name": "stderr",
     "output_type": "stream",
     "text": [
      "C:\\Users\\maxji\\AppData\\Local\\Temp\\ipykernel_40900\\1159726583.py:7: SettingWithCopyWarning: \n",
      "A value is trying to be set on a copy of a slice from a DataFrame\n",
      "\n",
      "See the caveats in the documentation: https://pandas.pydata.org/pandas-docs/stable/user_guide/indexing.html#returning-a-view-versus-a-copy\n",
      "  data[\"wiki_url\"][index] = url\n"
     ]
    },
    {
     "name": "stdout",
     "output_type": "stream",
     "text": [
      "current index: 843\n"
     ]
    },
    {
     "name": "stderr",
     "output_type": "stream",
     "text": [
      "C:\\Users\\maxji\\AppData\\Local\\Temp\\ipykernel_40900\\1159726583.py:7: SettingWithCopyWarning: \n",
      "A value is trying to be set on a copy of a slice from a DataFrame\n",
      "\n",
      "See the caveats in the documentation: https://pandas.pydata.org/pandas-docs/stable/user_guide/indexing.html#returning-a-view-versus-a-copy\n",
      "  data[\"wiki_url\"][index] = url\n"
     ]
    },
    {
     "name": "stdout",
     "output_type": "stream",
     "text": [
      "current index: 844\n"
     ]
    },
    {
     "name": "stderr",
     "output_type": "stream",
     "text": [
      "C:\\Users\\maxji\\AppData\\Local\\Temp\\ipykernel_40900\\1159726583.py:7: SettingWithCopyWarning: \n",
      "A value is trying to be set on a copy of a slice from a DataFrame\n",
      "\n",
      "See the caveats in the documentation: https://pandas.pydata.org/pandas-docs/stable/user_guide/indexing.html#returning-a-view-versus-a-copy\n",
      "  data[\"wiki_url\"][index] = url\n"
     ]
    },
    {
     "name": "stdout",
     "output_type": "stream",
     "text": [
      "current index: 845\n"
     ]
    },
    {
     "name": "stderr",
     "output_type": "stream",
     "text": [
      "C:\\Users\\maxji\\AppData\\Local\\Temp\\ipykernel_40900\\1159726583.py:7: SettingWithCopyWarning: \n",
      "A value is trying to be set on a copy of a slice from a DataFrame\n",
      "\n",
      "See the caveats in the documentation: https://pandas.pydata.org/pandas-docs/stable/user_guide/indexing.html#returning-a-view-versus-a-copy\n",
      "  data[\"wiki_url\"][index] = url\n"
     ]
    },
    {
     "name": "stdout",
     "output_type": "stream",
     "text": [
      "current index: 846\n"
     ]
    },
    {
     "name": "stderr",
     "output_type": "stream",
     "text": [
      "C:\\Users\\maxji\\AppData\\Local\\Temp\\ipykernel_40900\\1159726583.py:7: SettingWithCopyWarning: \n",
      "A value is trying to be set on a copy of a slice from a DataFrame\n",
      "\n",
      "See the caveats in the documentation: https://pandas.pydata.org/pandas-docs/stable/user_guide/indexing.html#returning-a-view-versus-a-copy\n",
      "  data[\"wiki_url\"][index] = url\n"
     ]
    },
    {
     "name": "stdout",
     "output_type": "stream",
     "text": [
      "current index: 847\n"
     ]
    },
    {
     "name": "stderr",
     "output_type": "stream",
     "text": [
      "C:\\Users\\maxji\\AppData\\Local\\Temp\\ipykernel_40900\\1159726583.py:7: SettingWithCopyWarning: \n",
      "A value is trying to be set on a copy of a slice from a DataFrame\n",
      "\n",
      "See the caveats in the documentation: https://pandas.pydata.org/pandas-docs/stable/user_guide/indexing.html#returning-a-view-versus-a-copy\n",
      "  data[\"wiki_url\"][index] = url\n"
     ]
    },
    {
     "name": "stdout",
     "output_type": "stream",
     "text": [
      "current index: 848\n"
     ]
    },
    {
     "name": "stderr",
     "output_type": "stream",
     "text": [
      "C:\\Users\\maxji\\AppData\\Local\\Temp\\ipykernel_40900\\1159726583.py:7: SettingWithCopyWarning: \n",
      "A value is trying to be set on a copy of a slice from a DataFrame\n",
      "\n",
      "See the caveats in the documentation: https://pandas.pydata.org/pandas-docs/stable/user_guide/indexing.html#returning-a-view-versus-a-copy\n",
      "  data[\"wiki_url\"][index] = url\n"
     ]
    },
    {
     "name": "stdout",
     "output_type": "stream",
     "text": [
      "current index: 849\n"
     ]
    },
    {
     "name": "stderr",
     "output_type": "stream",
     "text": [
      "C:\\Users\\maxji\\AppData\\Local\\Temp\\ipykernel_40900\\1159726583.py:7: SettingWithCopyWarning: \n",
      "A value is trying to be set on a copy of a slice from a DataFrame\n",
      "\n",
      "See the caveats in the documentation: https://pandas.pydata.org/pandas-docs/stable/user_guide/indexing.html#returning-a-view-versus-a-copy\n",
      "  data[\"wiki_url\"][index] = url\n"
     ]
    },
    {
     "name": "stdout",
     "output_type": "stream",
     "text": [
      "current index: 850\n"
     ]
    },
    {
     "name": "stderr",
     "output_type": "stream",
     "text": [
      "C:\\Users\\maxji\\AppData\\Local\\Temp\\ipykernel_40900\\1159726583.py:7: SettingWithCopyWarning: \n",
      "A value is trying to be set on a copy of a slice from a DataFrame\n",
      "\n",
      "See the caveats in the documentation: https://pandas.pydata.org/pandas-docs/stable/user_guide/indexing.html#returning-a-view-versus-a-copy\n",
      "  data[\"wiki_url\"][index] = url\n"
     ]
    },
    {
     "name": "stdout",
     "output_type": "stream",
     "text": [
      "current index: 851\n"
     ]
    },
    {
     "name": "stderr",
     "output_type": "stream",
     "text": [
      "C:\\Users\\maxji\\AppData\\Local\\Temp\\ipykernel_40900\\1159726583.py:7: SettingWithCopyWarning: \n",
      "A value is trying to be set on a copy of a slice from a DataFrame\n",
      "\n",
      "See the caveats in the documentation: https://pandas.pydata.org/pandas-docs/stable/user_guide/indexing.html#returning-a-view-versus-a-copy\n",
      "  data[\"wiki_url\"][index] = url\n"
     ]
    },
    {
     "name": "stdout",
     "output_type": "stream",
     "text": [
      "current index: 852\n"
     ]
    },
    {
     "name": "stderr",
     "output_type": "stream",
     "text": [
      "C:\\Users\\maxji\\AppData\\Local\\Temp\\ipykernel_40900\\1159726583.py:7: SettingWithCopyWarning: \n",
      "A value is trying to be set on a copy of a slice from a DataFrame\n",
      "\n",
      "See the caveats in the documentation: https://pandas.pydata.org/pandas-docs/stable/user_guide/indexing.html#returning-a-view-versus-a-copy\n",
      "  data[\"wiki_url\"][index] = url\n"
     ]
    },
    {
     "name": "stdout",
     "output_type": "stream",
     "text": [
      "current index: 853\n"
     ]
    },
    {
     "name": "stderr",
     "output_type": "stream",
     "text": [
      "C:\\Users\\maxji\\AppData\\Local\\Temp\\ipykernel_40900\\1159726583.py:7: SettingWithCopyWarning: \n",
      "A value is trying to be set on a copy of a slice from a DataFrame\n",
      "\n",
      "See the caveats in the documentation: https://pandas.pydata.org/pandas-docs/stable/user_guide/indexing.html#returning-a-view-versus-a-copy\n",
      "  data[\"wiki_url\"][index] = url\n"
     ]
    },
    {
     "name": "stdout",
     "output_type": "stream",
     "text": [
      "current index: 854\n"
     ]
    },
    {
     "name": "stderr",
     "output_type": "stream",
     "text": [
      "C:\\Users\\maxji\\AppData\\Local\\Temp\\ipykernel_40900\\1159726583.py:7: SettingWithCopyWarning: \n",
      "A value is trying to be set on a copy of a slice from a DataFrame\n",
      "\n",
      "See the caveats in the documentation: https://pandas.pydata.org/pandas-docs/stable/user_guide/indexing.html#returning-a-view-versus-a-copy\n",
      "  data[\"wiki_url\"][index] = url\n"
     ]
    },
    {
     "name": "stdout",
     "output_type": "stream",
     "text": [
      "current index: 855\n"
     ]
    },
    {
     "name": "stderr",
     "output_type": "stream",
     "text": [
      "C:\\Users\\maxji\\AppData\\Local\\Temp\\ipykernel_40900\\1159726583.py:7: SettingWithCopyWarning: \n",
      "A value is trying to be set on a copy of a slice from a DataFrame\n",
      "\n",
      "See the caveats in the documentation: https://pandas.pydata.org/pandas-docs/stable/user_guide/indexing.html#returning-a-view-versus-a-copy\n",
      "  data[\"wiki_url\"][index] = url\n"
     ]
    },
    {
     "name": "stdout",
     "output_type": "stream",
     "text": [
      "current index: 856\n"
     ]
    },
    {
     "name": "stderr",
     "output_type": "stream",
     "text": [
      "C:\\Users\\maxji\\AppData\\Local\\Temp\\ipykernel_40900\\1159726583.py:7: SettingWithCopyWarning: \n",
      "A value is trying to be set on a copy of a slice from a DataFrame\n",
      "\n",
      "See the caveats in the documentation: https://pandas.pydata.org/pandas-docs/stable/user_guide/indexing.html#returning-a-view-versus-a-copy\n",
      "  data[\"wiki_url\"][index] = url\n"
     ]
    },
    {
     "name": "stdout",
     "output_type": "stream",
     "text": [
      "current index: 857\n"
     ]
    },
    {
     "name": "stderr",
     "output_type": "stream",
     "text": [
      "C:\\Users\\maxji\\AppData\\Local\\Temp\\ipykernel_40900\\1159726583.py:7: SettingWithCopyWarning: \n",
      "A value is trying to be set on a copy of a slice from a DataFrame\n",
      "\n",
      "See the caveats in the documentation: https://pandas.pydata.org/pandas-docs/stable/user_guide/indexing.html#returning-a-view-versus-a-copy\n",
      "  data[\"wiki_url\"][index] = url\n"
     ]
    },
    {
     "name": "stdout",
     "output_type": "stream",
     "text": [
      "current index: 858\n"
     ]
    },
    {
     "name": "stderr",
     "output_type": "stream",
     "text": [
      "C:\\Users\\maxji\\AppData\\Local\\Temp\\ipykernel_40900\\1159726583.py:7: SettingWithCopyWarning: \n",
      "A value is trying to be set on a copy of a slice from a DataFrame\n",
      "\n",
      "See the caveats in the documentation: https://pandas.pydata.org/pandas-docs/stable/user_guide/indexing.html#returning-a-view-versus-a-copy\n",
      "  data[\"wiki_url\"][index] = url\n"
     ]
    },
    {
     "name": "stdout",
     "output_type": "stream",
     "text": [
      "current index: 859\n"
     ]
    },
    {
     "name": "stderr",
     "output_type": "stream",
     "text": [
      "C:\\Users\\maxji\\AppData\\Local\\Temp\\ipykernel_40900\\1159726583.py:7: SettingWithCopyWarning: \n",
      "A value is trying to be set on a copy of a slice from a DataFrame\n",
      "\n",
      "See the caveats in the documentation: https://pandas.pydata.org/pandas-docs/stable/user_guide/indexing.html#returning-a-view-versus-a-copy\n",
      "  data[\"wiki_url\"][index] = url\n"
     ]
    },
    {
     "name": "stdout",
     "output_type": "stream",
     "text": [
      "current index: 860\n"
     ]
    },
    {
     "name": "stderr",
     "output_type": "stream",
     "text": [
      "C:\\Users\\maxji\\AppData\\Local\\Temp\\ipykernel_40900\\1159726583.py:7: SettingWithCopyWarning: \n",
      "A value is trying to be set on a copy of a slice from a DataFrame\n",
      "\n",
      "See the caveats in the documentation: https://pandas.pydata.org/pandas-docs/stable/user_guide/indexing.html#returning-a-view-versus-a-copy\n",
      "  data[\"wiki_url\"][index] = url\n"
     ]
    },
    {
     "name": "stdout",
     "output_type": "stream",
     "text": [
      "current index: 861\n"
     ]
    },
    {
     "name": "stderr",
     "output_type": "stream",
     "text": [
      "C:\\Users\\maxji\\AppData\\Local\\Temp\\ipykernel_40900\\1159726583.py:7: SettingWithCopyWarning: \n",
      "A value is trying to be set on a copy of a slice from a DataFrame\n",
      "\n",
      "See the caveats in the documentation: https://pandas.pydata.org/pandas-docs/stable/user_guide/indexing.html#returning-a-view-versus-a-copy\n",
      "  data[\"wiki_url\"][index] = url\n"
     ]
    },
    {
     "name": "stdout",
     "output_type": "stream",
     "text": [
      "current index: 862\n"
     ]
    },
    {
     "name": "stderr",
     "output_type": "stream",
     "text": [
      "C:\\Users\\maxji\\AppData\\Local\\Temp\\ipykernel_40900\\1159726583.py:7: SettingWithCopyWarning: \n",
      "A value is trying to be set on a copy of a slice from a DataFrame\n",
      "\n",
      "See the caveats in the documentation: https://pandas.pydata.org/pandas-docs/stable/user_guide/indexing.html#returning-a-view-versus-a-copy\n",
      "  data[\"wiki_url\"][index] = url\n"
     ]
    },
    {
     "name": "stdout",
     "output_type": "stream",
     "text": [
      "current index: 863\n"
     ]
    },
    {
     "name": "stderr",
     "output_type": "stream",
     "text": [
      "C:\\Users\\maxji\\AppData\\Local\\Temp\\ipykernel_40900\\1159726583.py:7: SettingWithCopyWarning: \n",
      "A value is trying to be set on a copy of a slice from a DataFrame\n",
      "\n",
      "See the caveats in the documentation: https://pandas.pydata.org/pandas-docs/stable/user_guide/indexing.html#returning-a-view-versus-a-copy\n",
      "  data[\"wiki_url\"][index] = url\n"
     ]
    },
    {
     "name": "stdout",
     "output_type": "stream",
     "text": [
      "current index: 864\n"
     ]
    },
    {
     "name": "stderr",
     "output_type": "stream",
     "text": [
      "C:\\Users\\maxji\\AppData\\Local\\Temp\\ipykernel_40900\\1159726583.py:7: SettingWithCopyWarning: \n",
      "A value is trying to be set on a copy of a slice from a DataFrame\n",
      "\n",
      "See the caveats in the documentation: https://pandas.pydata.org/pandas-docs/stable/user_guide/indexing.html#returning-a-view-versus-a-copy\n",
      "  data[\"wiki_url\"][index] = url\n"
     ]
    },
    {
     "name": "stdout",
     "output_type": "stream",
     "text": [
      "current index: 865\n"
     ]
    },
    {
     "name": "stderr",
     "output_type": "stream",
     "text": [
      "C:\\Users\\maxji\\AppData\\Local\\Temp\\ipykernel_40900\\1159726583.py:7: SettingWithCopyWarning: \n",
      "A value is trying to be set on a copy of a slice from a DataFrame\n",
      "\n",
      "See the caveats in the documentation: https://pandas.pydata.org/pandas-docs/stable/user_guide/indexing.html#returning-a-view-versus-a-copy\n",
      "  data[\"wiki_url\"][index] = url\n"
     ]
    },
    {
     "name": "stdout",
     "output_type": "stream",
     "text": [
      "current index: 866\n"
     ]
    },
    {
     "name": "stderr",
     "output_type": "stream",
     "text": [
      "C:\\Users\\maxji\\AppData\\Local\\Temp\\ipykernel_40900\\1159726583.py:7: SettingWithCopyWarning: \n",
      "A value is trying to be set on a copy of a slice from a DataFrame\n",
      "\n",
      "See the caveats in the documentation: https://pandas.pydata.org/pandas-docs/stable/user_guide/indexing.html#returning-a-view-versus-a-copy\n",
      "  data[\"wiki_url\"][index] = url\n"
     ]
    },
    {
     "name": "stdout",
     "output_type": "stream",
     "text": [
      "current index: 867\n"
     ]
    },
    {
     "name": "stderr",
     "output_type": "stream",
     "text": [
      "C:\\Users\\maxji\\AppData\\Local\\Temp\\ipykernel_40900\\1159726583.py:7: SettingWithCopyWarning: \n",
      "A value is trying to be set on a copy of a slice from a DataFrame\n",
      "\n",
      "See the caveats in the documentation: https://pandas.pydata.org/pandas-docs/stable/user_guide/indexing.html#returning-a-view-versus-a-copy\n",
      "  data[\"wiki_url\"][index] = url\n"
     ]
    },
    {
     "name": "stdout",
     "output_type": "stream",
     "text": [
      "current index: 868\n"
     ]
    },
    {
     "name": "stderr",
     "output_type": "stream",
     "text": [
      "C:\\Users\\maxji\\AppData\\Local\\Temp\\ipykernel_40900\\1159726583.py:7: SettingWithCopyWarning: \n",
      "A value is trying to be set on a copy of a slice from a DataFrame\n",
      "\n",
      "See the caveats in the documentation: https://pandas.pydata.org/pandas-docs/stable/user_guide/indexing.html#returning-a-view-versus-a-copy\n",
      "  data[\"wiki_url\"][index] = url\n"
     ]
    },
    {
     "name": "stdout",
     "output_type": "stream",
     "text": [
      "current index: 869\n"
     ]
    },
    {
     "name": "stderr",
     "output_type": "stream",
     "text": [
      "C:\\Users\\maxji\\AppData\\Local\\Temp\\ipykernel_40900\\1159726583.py:7: SettingWithCopyWarning: \n",
      "A value is trying to be set on a copy of a slice from a DataFrame\n",
      "\n",
      "See the caveats in the documentation: https://pandas.pydata.org/pandas-docs/stable/user_guide/indexing.html#returning-a-view-versus-a-copy\n",
      "  data[\"wiki_url\"][index] = url\n"
     ]
    },
    {
     "name": "stdout",
     "output_type": "stream",
     "text": [
      "current index: 870\n"
     ]
    },
    {
     "name": "stderr",
     "output_type": "stream",
     "text": [
      "C:\\Users\\maxji\\AppData\\Local\\Temp\\ipykernel_40900\\1159726583.py:7: SettingWithCopyWarning: \n",
      "A value is trying to be set on a copy of a slice from a DataFrame\n",
      "\n",
      "See the caveats in the documentation: https://pandas.pydata.org/pandas-docs/stable/user_guide/indexing.html#returning-a-view-versus-a-copy\n",
      "  data[\"wiki_url\"][index] = url\n"
     ]
    },
    {
     "name": "stdout",
     "output_type": "stream",
     "text": [
      "current index: 871\n"
     ]
    },
    {
     "name": "stderr",
     "output_type": "stream",
     "text": [
      "C:\\Users\\maxji\\AppData\\Local\\Temp\\ipykernel_40900\\1159726583.py:7: SettingWithCopyWarning: \n",
      "A value is trying to be set on a copy of a slice from a DataFrame\n",
      "\n",
      "See the caveats in the documentation: https://pandas.pydata.org/pandas-docs/stable/user_guide/indexing.html#returning-a-view-versus-a-copy\n",
      "  data[\"wiki_url\"][index] = url\n"
     ]
    },
    {
     "name": "stdout",
     "output_type": "stream",
     "text": [
      "current index: 872\n"
     ]
    },
    {
     "name": "stderr",
     "output_type": "stream",
     "text": [
      "C:\\Users\\maxji\\AppData\\Local\\Temp\\ipykernel_40900\\1159726583.py:7: SettingWithCopyWarning: \n",
      "A value is trying to be set on a copy of a slice from a DataFrame\n",
      "\n",
      "See the caveats in the documentation: https://pandas.pydata.org/pandas-docs/stable/user_guide/indexing.html#returning-a-view-versus-a-copy\n",
      "  data[\"wiki_url\"][index] = url\n"
     ]
    },
    {
     "name": "stdout",
     "output_type": "stream",
     "text": [
      "current index: 873\n"
     ]
    },
    {
     "name": "stderr",
     "output_type": "stream",
     "text": [
      "C:\\Users\\maxji\\AppData\\Local\\Temp\\ipykernel_40900\\1159726583.py:7: SettingWithCopyWarning: \n",
      "A value is trying to be set on a copy of a slice from a DataFrame\n",
      "\n",
      "See the caveats in the documentation: https://pandas.pydata.org/pandas-docs/stable/user_guide/indexing.html#returning-a-view-versus-a-copy\n",
      "  data[\"wiki_url\"][index] = url\n"
     ]
    },
    {
     "name": "stdout",
     "output_type": "stream",
     "text": [
      "current index: 874\n"
     ]
    },
    {
     "name": "stderr",
     "output_type": "stream",
     "text": [
      "C:\\Users\\maxji\\AppData\\Local\\Temp\\ipykernel_40900\\1159726583.py:7: SettingWithCopyWarning: \n",
      "A value is trying to be set on a copy of a slice from a DataFrame\n",
      "\n",
      "See the caveats in the documentation: https://pandas.pydata.org/pandas-docs/stable/user_guide/indexing.html#returning-a-view-versus-a-copy\n",
      "  data[\"wiki_url\"][index] = url\n"
     ]
    },
    {
     "name": "stdout",
     "output_type": "stream",
     "text": [
      "current index: 875\n"
     ]
    },
    {
     "name": "stderr",
     "output_type": "stream",
     "text": [
      "C:\\Users\\maxji\\AppData\\Local\\Temp\\ipykernel_40900\\1159726583.py:7: SettingWithCopyWarning: \n",
      "A value is trying to be set on a copy of a slice from a DataFrame\n",
      "\n",
      "See the caveats in the documentation: https://pandas.pydata.org/pandas-docs/stable/user_guide/indexing.html#returning-a-view-versus-a-copy\n",
      "  data[\"wiki_url\"][index] = url\n"
     ]
    },
    {
     "name": "stdout",
     "output_type": "stream",
     "text": [
      "current index: 876\n"
     ]
    },
    {
     "name": "stderr",
     "output_type": "stream",
     "text": [
      "C:\\Users\\maxji\\AppData\\Local\\Temp\\ipykernel_40900\\1159726583.py:7: SettingWithCopyWarning: \n",
      "A value is trying to be set on a copy of a slice from a DataFrame\n",
      "\n",
      "See the caveats in the documentation: https://pandas.pydata.org/pandas-docs/stable/user_guide/indexing.html#returning-a-view-versus-a-copy\n",
      "  data[\"wiki_url\"][index] = url\n"
     ]
    },
    {
     "name": "stdout",
     "output_type": "stream",
     "text": [
      "current index: 877\n"
     ]
    },
    {
     "name": "stderr",
     "output_type": "stream",
     "text": [
      "C:\\Users\\maxji\\AppData\\Local\\Temp\\ipykernel_40900\\1159726583.py:7: SettingWithCopyWarning: \n",
      "A value is trying to be set on a copy of a slice from a DataFrame\n",
      "\n",
      "See the caveats in the documentation: https://pandas.pydata.org/pandas-docs/stable/user_guide/indexing.html#returning-a-view-versus-a-copy\n",
      "  data[\"wiki_url\"][index] = url\n"
     ]
    },
    {
     "name": "stdout",
     "output_type": "stream",
     "text": [
      "current index: 878\n"
     ]
    },
    {
     "name": "stderr",
     "output_type": "stream",
     "text": [
      "C:\\Users\\maxji\\AppData\\Local\\Temp\\ipykernel_40900\\1159726583.py:7: SettingWithCopyWarning: \n",
      "A value is trying to be set on a copy of a slice from a DataFrame\n",
      "\n",
      "See the caveats in the documentation: https://pandas.pydata.org/pandas-docs/stable/user_guide/indexing.html#returning-a-view-versus-a-copy\n",
      "  data[\"wiki_url\"][index] = url\n"
     ]
    },
    {
     "name": "stdout",
     "output_type": "stream",
     "text": [
      "current index: 879\n"
     ]
    },
    {
     "name": "stderr",
     "output_type": "stream",
     "text": [
      "C:\\Users\\maxji\\AppData\\Local\\Temp\\ipykernel_40900\\1159726583.py:7: SettingWithCopyWarning: \n",
      "A value is trying to be set on a copy of a slice from a DataFrame\n",
      "\n",
      "See the caveats in the documentation: https://pandas.pydata.org/pandas-docs/stable/user_guide/indexing.html#returning-a-view-versus-a-copy\n",
      "  data[\"wiki_url\"][index] = url\n"
     ]
    },
    {
     "name": "stdout",
     "output_type": "stream",
     "text": [
      "current index: 880\n"
     ]
    },
    {
     "name": "stderr",
     "output_type": "stream",
     "text": [
      "C:\\Users\\maxji\\AppData\\Local\\Temp\\ipykernel_40900\\1159726583.py:7: SettingWithCopyWarning: \n",
      "A value is trying to be set on a copy of a slice from a DataFrame\n",
      "\n",
      "See the caveats in the documentation: https://pandas.pydata.org/pandas-docs/stable/user_guide/indexing.html#returning-a-view-versus-a-copy\n",
      "  data[\"wiki_url\"][index] = url\n"
     ]
    },
    {
     "name": "stdout",
     "output_type": "stream",
     "text": [
      "current index: 881\n"
     ]
    },
    {
     "name": "stderr",
     "output_type": "stream",
     "text": [
      "C:\\Users\\maxji\\AppData\\Local\\Temp\\ipykernel_40900\\1159726583.py:7: SettingWithCopyWarning: \n",
      "A value is trying to be set on a copy of a slice from a DataFrame\n",
      "\n",
      "See the caveats in the documentation: https://pandas.pydata.org/pandas-docs/stable/user_guide/indexing.html#returning-a-view-versus-a-copy\n",
      "  data[\"wiki_url\"][index] = url\n"
     ]
    },
    {
     "name": "stdout",
     "output_type": "stream",
     "text": [
      "current index: 882\n"
     ]
    },
    {
     "name": "stderr",
     "output_type": "stream",
     "text": [
      "C:\\Users\\maxji\\AppData\\Local\\Temp\\ipykernel_40900\\1159726583.py:7: SettingWithCopyWarning: \n",
      "A value is trying to be set on a copy of a slice from a DataFrame\n",
      "\n",
      "See the caveats in the documentation: https://pandas.pydata.org/pandas-docs/stable/user_guide/indexing.html#returning-a-view-versus-a-copy\n",
      "  data[\"wiki_url\"][index] = url\n"
     ]
    },
    {
     "name": "stdout",
     "output_type": "stream",
     "text": [
      "current index: 883\n"
     ]
    },
    {
     "name": "stderr",
     "output_type": "stream",
     "text": [
      "C:\\Users\\maxji\\AppData\\Local\\Temp\\ipykernel_40900\\1159726583.py:7: SettingWithCopyWarning: \n",
      "A value is trying to be set on a copy of a slice from a DataFrame\n",
      "\n",
      "See the caveats in the documentation: https://pandas.pydata.org/pandas-docs/stable/user_guide/indexing.html#returning-a-view-versus-a-copy\n",
      "  data[\"wiki_url\"][index] = url\n"
     ]
    },
    {
     "name": "stdout",
     "output_type": "stream",
     "text": [
      "current index: 884\n"
     ]
    },
    {
     "name": "stderr",
     "output_type": "stream",
     "text": [
      "C:\\Users\\maxji\\AppData\\Local\\Temp\\ipykernel_40900\\1159726583.py:7: SettingWithCopyWarning: \n",
      "A value is trying to be set on a copy of a slice from a DataFrame\n",
      "\n",
      "See the caveats in the documentation: https://pandas.pydata.org/pandas-docs/stable/user_guide/indexing.html#returning-a-view-versus-a-copy\n",
      "  data[\"wiki_url\"][index] = url\n"
     ]
    },
    {
     "name": "stdout",
     "output_type": "stream",
     "text": [
      "current index: 885\n"
     ]
    },
    {
     "name": "stderr",
     "output_type": "stream",
     "text": [
      "C:\\Users\\maxji\\AppData\\Local\\Temp\\ipykernel_40900\\1159726583.py:7: SettingWithCopyWarning: \n",
      "A value is trying to be set on a copy of a slice from a DataFrame\n",
      "\n",
      "See the caveats in the documentation: https://pandas.pydata.org/pandas-docs/stable/user_guide/indexing.html#returning-a-view-versus-a-copy\n",
      "  data[\"wiki_url\"][index] = url\n"
     ]
    },
    {
     "name": "stdout",
     "output_type": "stream",
     "text": [
      "current index: 886\n"
     ]
    },
    {
     "name": "stderr",
     "output_type": "stream",
     "text": [
      "C:\\Users\\maxji\\AppData\\Local\\Temp\\ipykernel_40900\\1159726583.py:7: SettingWithCopyWarning: \n",
      "A value is trying to be set on a copy of a slice from a DataFrame\n",
      "\n",
      "See the caveats in the documentation: https://pandas.pydata.org/pandas-docs/stable/user_guide/indexing.html#returning-a-view-versus-a-copy\n",
      "  data[\"wiki_url\"][index] = url\n"
     ]
    },
    {
     "name": "stdout",
     "output_type": "stream",
     "text": [
      "current index: 887\n"
     ]
    },
    {
     "name": "stderr",
     "output_type": "stream",
     "text": [
      "C:\\Users\\maxji\\AppData\\Local\\Temp\\ipykernel_40900\\1159726583.py:7: SettingWithCopyWarning: \n",
      "A value is trying to be set on a copy of a slice from a DataFrame\n",
      "\n",
      "See the caveats in the documentation: https://pandas.pydata.org/pandas-docs/stable/user_guide/indexing.html#returning-a-view-versus-a-copy\n",
      "  data[\"wiki_url\"][index] = url\n"
     ]
    },
    {
     "name": "stdout",
     "output_type": "stream",
     "text": [
      "current index: 888\n"
     ]
    },
    {
     "name": "stderr",
     "output_type": "stream",
     "text": [
      "C:\\Users\\maxji\\AppData\\Local\\Temp\\ipykernel_40900\\1159726583.py:7: SettingWithCopyWarning: \n",
      "A value is trying to be set on a copy of a slice from a DataFrame\n",
      "\n",
      "See the caveats in the documentation: https://pandas.pydata.org/pandas-docs/stable/user_guide/indexing.html#returning-a-view-versus-a-copy\n",
      "  data[\"wiki_url\"][index] = url\n"
     ]
    },
    {
     "name": "stdout",
     "output_type": "stream",
     "text": [
      "current index: 889\n"
     ]
    },
    {
     "name": "stderr",
     "output_type": "stream",
     "text": [
      "C:\\Users\\maxji\\AppData\\Local\\Temp\\ipykernel_40900\\1159726583.py:7: SettingWithCopyWarning: \n",
      "A value is trying to be set on a copy of a slice from a DataFrame\n",
      "\n",
      "See the caveats in the documentation: https://pandas.pydata.org/pandas-docs/stable/user_guide/indexing.html#returning-a-view-versus-a-copy\n",
      "  data[\"wiki_url\"][index] = url\n"
     ]
    },
    {
     "name": "stdout",
     "output_type": "stream",
     "text": [
      "current index: 890\n"
     ]
    },
    {
     "name": "stderr",
     "output_type": "stream",
     "text": [
      "C:\\Users\\maxji\\AppData\\Local\\Temp\\ipykernel_40900\\1159726583.py:7: SettingWithCopyWarning: \n",
      "A value is trying to be set on a copy of a slice from a DataFrame\n",
      "\n",
      "See the caveats in the documentation: https://pandas.pydata.org/pandas-docs/stable/user_guide/indexing.html#returning-a-view-versus-a-copy\n",
      "  data[\"wiki_url\"][index] = url\n"
     ]
    },
    {
     "name": "stdout",
     "output_type": "stream",
     "text": [
      "current index: 891\n"
     ]
    },
    {
     "name": "stderr",
     "output_type": "stream",
     "text": [
      "C:\\Users\\maxji\\AppData\\Local\\Temp\\ipykernel_40900\\1159726583.py:7: SettingWithCopyWarning: \n",
      "A value is trying to be set on a copy of a slice from a DataFrame\n",
      "\n",
      "See the caveats in the documentation: https://pandas.pydata.org/pandas-docs/stable/user_guide/indexing.html#returning-a-view-versus-a-copy\n",
      "  data[\"wiki_url\"][index] = url\n"
     ]
    },
    {
     "name": "stdout",
     "output_type": "stream",
     "text": [
      "current index: 892\n"
     ]
    },
    {
     "name": "stderr",
     "output_type": "stream",
     "text": [
      "C:\\Users\\maxji\\AppData\\Local\\Temp\\ipykernel_40900\\1159726583.py:7: SettingWithCopyWarning: \n",
      "A value is trying to be set on a copy of a slice from a DataFrame\n",
      "\n",
      "See the caveats in the documentation: https://pandas.pydata.org/pandas-docs/stable/user_guide/indexing.html#returning-a-view-versus-a-copy\n",
      "  data[\"wiki_url\"][index] = url\n"
     ]
    },
    {
     "name": "stdout",
     "output_type": "stream",
     "text": [
      "current index: 893\n"
     ]
    },
    {
     "name": "stderr",
     "output_type": "stream",
     "text": [
      "C:\\Users\\maxji\\AppData\\Local\\Temp\\ipykernel_40900\\1159726583.py:7: SettingWithCopyWarning: \n",
      "A value is trying to be set on a copy of a slice from a DataFrame\n",
      "\n",
      "See the caveats in the documentation: https://pandas.pydata.org/pandas-docs/stable/user_guide/indexing.html#returning-a-view-versus-a-copy\n",
      "  data[\"wiki_url\"][index] = url\n"
     ]
    },
    {
     "name": "stdout",
     "output_type": "stream",
     "text": [
      "current index: 894\n"
     ]
    },
    {
     "name": "stderr",
     "output_type": "stream",
     "text": [
      "C:\\Users\\maxji\\AppData\\Local\\Temp\\ipykernel_40900\\1159726583.py:7: SettingWithCopyWarning: \n",
      "A value is trying to be set on a copy of a slice from a DataFrame\n",
      "\n",
      "See the caveats in the documentation: https://pandas.pydata.org/pandas-docs/stable/user_guide/indexing.html#returning-a-view-versus-a-copy\n",
      "  data[\"wiki_url\"][index] = url\n"
     ]
    },
    {
     "name": "stdout",
     "output_type": "stream",
     "text": [
      "current index: 895\n"
     ]
    },
    {
     "name": "stderr",
     "output_type": "stream",
     "text": [
      "C:\\Users\\maxji\\AppData\\Local\\Temp\\ipykernel_40900\\1159726583.py:7: SettingWithCopyWarning: \n",
      "A value is trying to be set on a copy of a slice from a DataFrame\n",
      "\n",
      "See the caveats in the documentation: https://pandas.pydata.org/pandas-docs/stable/user_guide/indexing.html#returning-a-view-versus-a-copy\n",
      "  data[\"wiki_url\"][index] = url\n"
     ]
    },
    {
     "name": "stdout",
     "output_type": "stream",
     "text": [
      "current index: 896\n"
     ]
    },
    {
     "name": "stderr",
     "output_type": "stream",
     "text": [
      "C:\\Users\\maxji\\AppData\\Local\\Temp\\ipykernel_40900\\1159726583.py:7: SettingWithCopyWarning: \n",
      "A value is trying to be set on a copy of a slice from a DataFrame\n",
      "\n",
      "See the caveats in the documentation: https://pandas.pydata.org/pandas-docs/stable/user_guide/indexing.html#returning-a-view-versus-a-copy\n",
      "  data[\"wiki_url\"][index] = url\n"
     ]
    },
    {
     "name": "stdout",
     "output_type": "stream",
     "text": [
      "current index: 897\n"
     ]
    },
    {
     "name": "stderr",
     "output_type": "stream",
     "text": [
      "C:\\Users\\maxji\\AppData\\Local\\Temp\\ipykernel_40900\\1159726583.py:7: SettingWithCopyWarning: \n",
      "A value is trying to be set on a copy of a slice from a DataFrame\n",
      "\n",
      "See the caveats in the documentation: https://pandas.pydata.org/pandas-docs/stable/user_guide/indexing.html#returning-a-view-versus-a-copy\n",
      "  data[\"wiki_url\"][index] = url\n"
     ]
    },
    {
     "name": "stdout",
     "output_type": "stream",
     "text": [
      "current index: 898\n"
     ]
    },
    {
     "name": "stderr",
     "output_type": "stream",
     "text": [
      "C:\\Users\\maxji\\AppData\\Local\\Temp\\ipykernel_40900\\1159726583.py:7: SettingWithCopyWarning: \n",
      "A value is trying to be set on a copy of a slice from a DataFrame\n",
      "\n",
      "See the caveats in the documentation: https://pandas.pydata.org/pandas-docs/stable/user_guide/indexing.html#returning-a-view-versus-a-copy\n",
      "  data[\"wiki_url\"][index] = url\n"
     ]
    },
    {
     "name": "stdout",
     "output_type": "stream",
     "text": [
      "current index: 899\n"
     ]
    },
    {
     "name": "stderr",
     "output_type": "stream",
     "text": [
      "C:\\Users\\maxji\\AppData\\Local\\Temp\\ipykernel_40900\\1159726583.py:7: SettingWithCopyWarning: \n",
      "A value is trying to be set on a copy of a slice from a DataFrame\n",
      "\n",
      "See the caveats in the documentation: https://pandas.pydata.org/pandas-docs/stable/user_guide/indexing.html#returning-a-view-versus-a-copy\n",
      "  data[\"wiki_url\"][index] = url\n"
     ]
    },
    {
     "name": "stdout",
     "output_type": "stream",
     "text": [
      "current index: 900\n"
     ]
    },
    {
     "name": "stderr",
     "output_type": "stream",
     "text": [
      "C:\\Users\\maxji\\AppData\\Local\\Temp\\ipykernel_40900\\1159726583.py:7: SettingWithCopyWarning: \n",
      "A value is trying to be set on a copy of a slice from a DataFrame\n",
      "\n",
      "See the caveats in the documentation: https://pandas.pydata.org/pandas-docs/stable/user_guide/indexing.html#returning-a-view-versus-a-copy\n",
      "  data[\"wiki_url\"][index] = url\n"
     ]
    },
    {
     "name": "stdout",
     "output_type": "stream",
     "text": [
      "current index: 901\n"
     ]
    },
    {
     "name": "stderr",
     "output_type": "stream",
     "text": [
      "C:\\Users\\maxji\\AppData\\Local\\Temp\\ipykernel_40900\\1159726583.py:7: SettingWithCopyWarning: \n",
      "A value is trying to be set on a copy of a slice from a DataFrame\n",
      "\n",
      "See the caveats in the documentation: https://pandas.pydata.org/pandas-docs/stable/user_guide/indexing.html#returning-a-view-versus-a-copy\n",
      "  data[\"wiki_url\"][index] = url\n"
     ]
    },
    {
     "name": "stdout",
     "output_type": "stream",
     "text": [
      "current index: 902\n"
     ]
    },
    {
     "name": "stderr",
     "output_type": "stream",
     "text": [
      "C:\\Users\\maxji\\AppData\\Local\\Temp\\ipykernel_40900\\1159726583.py:7: SettingWithCopyWarning: \n",
      "A value is trying to be set on a copy of a slice from a DataFrame\n",
      "\n",
      "See the caveats in the documentation: https://pandas.pydata.org/pandas-docs/stable/user_guide/indexing.html#returning-a-view-versus-a-copy\n",
      "  data[\"wiki_url\"][index] = url\n"
     ]
    },
    {
     "name": "stdout",
     "output_type": "stream",
     "text": [
      "current index: 903\n"
     ]
    },
    {
     "name": "stderr",
     "output_type": "stream",
     "text": [
      "C:\\Users\\maxji\\AppData\\Local\\Temp\\ipykernel_40900\\1159726583.py:7: SettingWithCopyWarning: \n",
      "A value is trying to be set on a copy of a slice from a DataFrame\n",
      "\n",
      "See the caveats in the documentation: https://pandas.pydata.org/pandas-docs/stable/user_guide/indexing.html#returning-a-view-versus-a-copy\n",
      "  data[\"wiki_url\"][index] = url\n"
     ]
    },
    {
     "name": "stdout",
     "output_type": "stream",
     "text": [
      "current index: 904\n"
     ]
    },
    {
     "name": "stderr",
     "output_type": "stream",
     "text": [
      "C:\\Users\\maxji\\AppData\\Local\\Temp\\ipykernel_40900\\1159726583.py:7: SettingWithCopyWarning: \n",
      "A value is trying to be set on a copy of a slice from a DataFrame\n",
      "\n",
      "See the caveats in the documentation: https://pandas.pydata.org/pandas-docs/stable/user_guide/indexing.html#returning-a-view-versus-a-copy\n",
      "  data[\"wiki_url\"][index] = url\n"
     ]
    },
    {
     "name": "stdout",
     "output_type": "stream",
     "text": [
      "current index: 905\n"
     ]
    },
    {
     "name": "stderr",
     "output_type": "stream",
     "text": [
      "C:\\Users\\maxji\\AppData\\Local\\Temp\\ipykernel_40900\\1159726583.py:7: SettingWithCopyWarning: \n",
      "A value is trying to be set on a copy of a slice from a DataFrame\n",
      "\n",
      "See the caveats in the documentation: https://pandas.pydata.org/pandas-docs/stable/user_guide/indexing.html#returning-a-view-versus-a-copy\n",
      "  data[\"wiki_url\"][index] = url\n"
     ]
    },
    {
     "name": "stdout",
     "output_type": "stream",
     "text": [
      "current index: 906\n"
     ]
    },
    {
     "name": "stderr",
     "output_type": "stream",
     "text": [
      "C:\\Users\\maxji\\AppData\\Local\\Temp\\ipykernel_40900\\1159726583.py:7: SettingWithCopyWarning: \n",
      "A value is trying to be set on a copy of a slice from a DataFrame\n",
      "\n",
      "See the caveats in the documentation: https://pandas.pydata.org/pandas-docs/stable/user_guide/indexing.html#returning-a-view-versus-a-copy\n",
      "  data[\"wiki_url\"][index] = url\n"
     ]
    },
    {
     "name": "stdout",
     "output_type": "stream",
     "text": [
      "current index: 907\n"
     ]
    },
    {
     "name": "stderr",
     "output_type": "stream",
     "text": [
      "C:\\Users\\maxji\\AppData\\Local\\Temp\\ipykernel_40900\\1159726583.py:7: SettingWithCopyWarning: \n",
      "A value is trying to be set on a copy of a slice from a DataFrame\n",
      "\n",
      "See the caveats in the documentation: https://pandas.pydata.org/pandas-docs/stable/user_guide/indexing.html#returning-a-view-versus-a-copy\n",
      "  data[\"wiki_url\"][index] = url\n"
     ]
    },
    {
     "name": "stdout",
     "output_type": "stream",
     "text": [
      "current index: 908\n"
     ]
    },
    {
     "name": "stderr",
     "output_type": "stream",
     "text": [
      "C:\\Users\\maxji\\AppData\\Local\\Temp\\ipykernel_40900\\1159726583.py:7: SettingWithCopyWarning: \n",
      "A value is trying to be set on a copy of a slice from a DataFrame\n",
      "\n",
      "See the caveats in the documentation: https://pandas.pydata.org/pandas-docs/stable/user_guide/indexing.html#returning-a-view-versus-a-copy\n",
      "  data[\"wiki_url\"][index] = url\n"
     ]
    },
    {
     "name": "stdout",
     "output_type": "stream",
     "text": [
      "current index: 909\n"
     ]
    },
    {
     "name": "stderr",
     "output_type": "stream",
     "text": [
      "C:\\Users\\maxji\\AppData\\Local\\Temp\\ipykernel_40900\\1159726583.py:7: SettingWithCopyWarning: \n",
      "A value is trying to be set on a copy of a slice from a DataFrame\n",
      "\n",
      "See the caveats in the documentation: https://pandas.pydata.org/pandas-docs/stable/user_guide/indexing.html#returning-a-view-versus-a-copy\n",
      "  data[\"wiki_url\"][index] = url\n"
     ]
    },
    {
     "name": "stdout",
     "output_type": "stream",
     "text": [
      "current index: 910\n"
     ]
    },
    {
     "name": "stderr",
     "output_type": "stream",
     "text": [
      "C:\\Users\\maxji\\AppData\\Local\\Temp\\ipykernel_40900\\1159726583.py:7: SettingWithCopyWarning: \n",
      "A value is trying to be set on a copy of a slice from a DataFrame\n",
      "\n",
      "See the caveats in the documentation: https://pandas.pydata.org/pandas-docs/stable/user_guide/indexing.html#returning-a-view-versus-a-copy\n",
      "  data[\"wiki_url\"][index] = url\n"
     ]
    },
    {
     "name": "stdout",
     "output_type": "stream",
     "text": [
      "current index: 911\n"
     ]
    },
    {
     "name": "stderr",
     "output_type": "stream",
     "text": [
      "C:\\Users\\maxji\\AppData\\Local\\Temp\\ipykernel_40900\\1159726583.py:7: SettingWithCopyWarning: \n",
      "A value is trying to be set on a copy of a slice from a DataFrame\n",
      "\n",
      "See the caveats in the documentation: https://pandas.pydata.org/pandas-docs/stable/user_guide/indexing.html#returning-a-view-versus-a-copy\n",
      "  data[\"wiki_url\"][index] = url\n"
     ]
    },
    {
     "name": "stdout",
     "output_type": "stream",
     "text": [
      "current index: 912\n"
     ]
    },
    {
     "name": "stderr",
     "output_type": "stream",
     "text": [
      "C:\\Users\\maxji\\AppData\\Local\\Temp\\ipykernel_40900\\1159726583.py:7: SettingWithCopyWarning: \n",
      "A value is trying to be set on a copy of a slice from a DataFrame\n",
      "\n",
      "See the caveats in the documentation: https://pandas.pydata.org/pandas-docs/stable/user_guide/indexing.html#returning-a-view-versus-a-copy\n",
      "  data[\"wiki_url\"][index] = url\n"
     ]
    },
    {
     "name": "stdout",
     "output_type": "stream",
     "text": [
      "current index: 913\n"
     ]
    },
    {
     "name": "stderr",
     "output_type": "stream",
     "text": [
      "C:\\Users\\maxji\\AppData\\Local\\Temp\\ipykernel_40900\\1159726583.py:7: SettingWithCopyWarning: \n",
      "A value is trying to be set on a copy of a slice from a DataFrame\n",
      "\n",
      "See the caveats in the documentation: https://pandas.pydata.org/pandas-docs/stable/user_guide/indexing.html#returning-a-view-versus-a-copy\n",
      "  data[\"wiki_url\"][index] = url\n"
     ]
    },
    {
     "name": "stdout",
     "output_type": "stream",
     "text": [
      "current index: 914\n"
     ]
    },
    {
     "name": "stderr",
     "output_type": "stream",
     "text": [
      "C:\\Users\\maxji\\AppData\\Local\\Temp\\ipykernel_40900\\1159726583.py:7: SettingWithCopyWarning: \n",
      "A value is trying to be set on a copy of a slice from a DataFrame\n",
      "\n",
      "See the caveats in the documentation: https://pandas.pydata.org/pandas-docs/stable/user_guide/indexing.html#returning-a-view-versus-a-copy\n",
      "  data[\"wiki_url\"][index] = url\n"
     ]
    },
    {
     "name": "stdout",
     "output_type": "stream",
     "text": [
      "current index: 915\n"
     ]
    },
    {
     "name": "stderr",
     "output_type": "stream",
     "text": [
      "C:\\Users\\maxji\\AppData\\Local\\Temp\\ipykernel_40900\\1159726583.py:7: SettingWithCopyWarning: \n",
      "A value is trying to be set on a copy of a slice from a DataFrame\n",
      "\n",
      "See the caveats in the documentation: https://pandas.pydata.org/pandas-docs/stable/user_guide/indexing.html#returning-a-view-versus-a-copy\n",
      "  data[\"wiki_url\"][index] = url\n"
     ]
    },
    {
     "name": "stdout",
     "output_type": "stream",
     "text": [
      "current index: 916\n"
     ]
    },
    {
     "name": "stderr",
     "output_type": "stream",
     "text": [
      "C:\\Users\\maxji\\AppData\\Local\\Temp\\ipykernel_40900\\1159726583.py:7: SettingWithCopyWarning: \n",
      "A value is trying to be set on a copy of a slice from a DataFrame\n",
      "\n",
      "See the caveats in the documentation: https://pandas.pydata.org/pandas-docs/stable/user_guide/indexing.html#returning-a-view-versus-a-copy\n",
      "  data[\"wiki_url\"][index] = url\n"
     ]
    },
    {
     "name": "stdout",
     "output_type": "stream",
     "text": [
      "current index: 917\n"
     ]
    },
    {
     "name": "stderr",
     "output_type": "stream",
     "text": [
      "C:\\Users\\maxji\\AppData\\Local\\Temp\\ipykernel_40900\\1159726583.py:7: SettingWithCopyWarning: \n",
      "A value is trying to be set on a copy of a slice from a DataFrame\n",
      "\n",
      "See the caveats in the documentation: https://pandas.pydata.org/pandas-docs/stable/user_guide/indexing.html#returning-a-view-versus-a-copy\n",
      "  data[\"wiki_url\"][index] = url\n"
     ]
    },
    {
     "name": "stdout",
     "output_type": "stream",
     "text": [
      "current index: 918\n"
     ]
    },
    {
     "name": "stderr",
     "output_type": "stream",
     "text": [
      "C:\\Users\\maxji\\AppData\\Local\\Temp\\ipykernel_40900\\1159726583.py:7: SettingWithCopyWarning: \n",
      "A value is trying to be set on a copy of a slice from a DataFrame\n",
      "\n",
      "See the caveats in the documentation: https://pandas.pydata.org/pandas-docs/stable/user_guide/indexing.html#returning-a-view-versus-a-copy\n",
      "  data[\"wiki_url\"][index] = url\n"
     ]
    },
    {
     "name": "stdout",
     "output_type": "stream",
     "text": [
      "current index: 919\n"
     ]
    },
    {
     "name": "stderr",
     "output_type": "stream",
     "text": [
      "C:\\Users\\maxji\\AppData\\Local\\Temp\\ipykernel_40900\\1159726583.py:7: SettingWithCopyWarning: \n",
      "A value is trying to be set on a copy of a slice from a DataFrame\n",
      "\n",
      "See the caveats in the documentation: https://pandas.pydata.org/pandas-docs/stable/user_guide/indexing.html#returning-a-view-versus-a-copy\n",
      "  data[\"wiki_url\"][index] = url\n"
     ]
    },
    {
     "name": "stdout",
     "output_type": "stream",
     "text": [
      "current index: 920\n"
     ]
    },
    {
     "name": "stderr",
     "output_type": "stream",
     "text": [
      "C:\\Users\\maxji\\AppData\\Local\\Temp\\ipykernel_40900\\1159726583.py:7: SettingWithCopyWarning: \n",
      "A value is trying to be set on a copy of a slice from a DataFrame\n",
      "\n",
      "See the caveats in the documentation: https://pandas.pydata.org/pandas-docs/stable/user_guide/indexing.html#returning-a-view-versus-a-copy\n",
      "  data[\"wiki_url\"][index] = url\n"
     ]
    },
    {
     "name": "stdout",
     "output_type": "stream",
     "text": [
      "current index: 921\n"
     ]
    },
    {
     "name": "stderr",
     "output_type": "stream",
     "text": [
      "C:\\Users\\maxji\\AppData\\Local\\Temp\\ipykernel_40900\\1159726583.py:7: SettingWithCopyWarning: \n",
      "A value is trying to be set on a copy of a slice from a DataFrame\n",
      "\n",
      "See the caveats in the documentation: https://pandas.pydata.org/pandas-docs/stable/user_guide/indexing.html#returning-a-view-versus-a-copy\n",
      "  data[\"wiki_url\"][index] = url\n"
     ]
    },
    {
     "name": "stdout",
     "output_type": "stream",
     "text": [
      "current index: 922\n"
     ]
    },
    {
     "name": "stderr",
     "output_type": "stream",
     "text": [
      "C:\\Users\\maxji\\AppData\\Local\\Temp\\ipykernel_40900\\1159726583.py:7: SettingWithCopyWarning: \n",
      "A value is trying to be set on a copy of a slice from a DataFrame\n",
      "\n",
      "See the caveats in the documentation: https://pandas.pydata.org/pandas-docs/stable/user_guide/indexing.html#returning-a-view-versus-a-copy\n",
      "  data[\"wiki_url\"][index] = url\n"
     ]
    },
    {
     "name": "stdout",
     "output_type": "stream",
     "text": [
      "current index: 923\n"
     ]
    },
    {
     "name": "stderr",
     "output_type": "stream",
     "text": [
      "C:\\Users\\maxji\\AppData\\Local\\Temp\\ipykernel_40900\\1159726583.py:7: SettingWithCopyWarning: \n",
      "A value is trying to be set on a copy of a slice from a DataFrame\n",
      "\n",
      "See the caveats in the documentation: https://pandas.pydata.org/pandas-docs/stable/user_guide/indexing.html#returning-a-view-versus-a-copy\n",
      "  data[\"wiki_url\"][index] = url\n"
     ]
    },
    {
     "name": "stdout",
     "output_type": "stream",
     "text": [
      "current index: 924\n"
     ]
    },
    {
     "name": "stderr",
     "output_type": "stream",
     "text": [
      "C:\\Users\\maxji\\AppData\\Local\\Temp\\ipykernel_40900\\1159726583.py:7: SettingWithCopyWarning: \n",
      "A value is trying to be set on a copy of a slice from a DataFrame\n",
      "\n",
      "See the caveats in the documentation: https://pandas.pydata.org/pandas-docs/stable/user_guide/indexing.html#returning-a-view-versus-a-copy\n",
      "  data[\"wiki_url\"][index] = url\n"
     ]
    },
    {
     "name": "stdout",
     "output_type": "stream",
     "text": [
      "current index: 925\n"
     ]
    },
    {
     "name": "stderr",
     "output_type": "stream",
     "text": [
      "C:\\Users\\maxji\\AppData\\Local\\Temp\\ipykernel_40900\\1159726583.py:7: SettingWithCopyWarning: \n",
      "A value is trying to be set on a copy of a slice from a DataFrame\n",
      "\n",
      "See the caveats in the documentation: https://pandas.pydata.org/pandas-docs/stable/user_guide/indexing.html#returning-a-view-versus-a-copy\n",
      "  data[\"wiki_url\"][index] = url\n"
     ]
    },
    {
     "name": "stdout",
     "output_type": "stream",
     "text": [
      "current index: 926\n"
     ]
    },
    {
     "name": "stderr",
     "output_type": "stream",
     "text": [
      "C:\\Users\\maxji\\AppData\\Local\\Temp\\ipykernel_40900\\1159726583.py:7: SettingWithCopyWarning: \n",
      "A value is trying to be set on a copy of a slice from a DataFrame\n",
      "\n",
      "See the caveats in the documentation: https://pandas.pydata.org/pandas-docs/stable/user_guide/indexing.html#returning-a-view-versus-a-copy\n",
      "  data[\"wiki_url\"][index] = url\n"
     ]
    },
    {
     "name": "stdout",
     "output_type": "stream",
     "text": [
      "current index: 927\n"
     ]
    },
    {
     "name": "stderr",
     "output_type": "stream",
     "text": [
      "C:\\Users\\maxji\\AppData\\Local\\Temp\\ipykernel_40900\\1159726583.py:7: SettingWithCopyWarning: \n",
      "A value is trying to be set on a copy of a slice from a DataFrame\n",
      "\n",
      "See the caveats in the documentation: https://pandas.pydata.org/pandas-docs/stable/user_guide/indexing.html#returning-a-view-versus-a-copy\n",
      "  data[\"wiki_url\"][index] = url\n"
     ]
    },
    {
     "name": "stdout",
     "output_type": "stream",
     "text": [
      "current index: 928\n"
     ]
    },
    {
     "name": "stderr",
     "output_type": "stream",
     "text": [
      "C:\\Users\\maxji\\AppData\\Local\\Temp\\ipykernel_40900\\1159726583.py:7: SettingWithCopyWarning: \n",
      "A value is trying to be set on a copy of a slice from a DataFrame\n",
      "\n",
      "See the caveats in the documentation: https://pandas.pydata.org/pandas-docs/stable/user_guide/indexing.html#returning-a-view-versus-a-copy\n",
      "  data[\"wiki_url\"][index] = url\n"
     ]
    },
    {
     "name": "stdout",
     "output_type": "stream",
     "text": [
      "current index: 929\n"
     ]
    },
    {
     "name": "stderr",
     "output_type": "stream",
     "text": [
      "C:\\Users\\maxji\\AppData\\Local\\Temp\\ipykernel_40900\\1159726583.py:7: SettingWithCopyWarning: \n",
      "A value is trying to be set on a copy of a slice from a DataFrame\n",
      "\n",
      "See the caveats in the documentation: https://pandas.pydata.org/pandas-docs/stable/user_guide/indexing.html#returning-a-view-versus-a-copy\n",
      "  data[\"wiki_url\"][index] = url\n"
     ]
    },
    {
     "name": "stdout",
     "output_type": "stream",
     "text": [
      "current index: 930\n"
     ]
    },
    {
     "name": "stderr",
     "output_type": "stream",
     "text": [
      "C:\\Users\\maxji\\AppData\\Local\\Temp\\ipykernel_40900\\1159726583.py:7: SettingWithCopyWarning: \n",
      "A value is trying to be set on a copy of a slice from a DataFrame\n",
      "\n",
      "See the caveats in the documentation: https://pandas.pydata.org/pandas-docs/stable/user_guide/indexing.html#returning-a-view-versus-a-copy\n",
      "  data[\"wiki_url\"][index] = url\n"
     ]
    },
    {
     "name": "stdout",
     "output_type": "stream",
     "text": [
      "current index: 931\n"
     ]
    },
    {
     "name": "stderr",
     "output_type": "stream",
     "text": [
      "C:\\Users\\maxji\\AppData\\Local\\Temp\\ipykernel_40900\\1159726583.py:7: SettingWithCopyWarning: \n",
      "A value is trying to be set on a copy of a slice from a DataFrame\n",
      "\n",
      "See the caveats in the documentation: https://pandas.pydata.org/pandas-docs/stable/user_guide/indexing.html#returning-a-view-versus-a-copy\n",
      "  data[\"wiki_url\"][index] = url\n"
     ]
    },
    {
     "name": "stdout",
     "output_type": "stream",
     "text": [
      "current index: 932\n"
     ]
    },
    {
     "name": "stderr",
     "output_type": "stream",
     "text": [
      "C:\\Users\\maxji\\AppData\\Local\\Temp\\ipykernel_40900\\1159726583.py:7: SettingWithCopyWarning: \n",
      "A value is trying to be set on a copy of a slice from a DataFrame\n",
      "\n",
      "See the caveats in the documentation: https://pandas.pydata.org/pandas-docs/stable/user_guide/indexing.html#returning-a-view-versus-a-copy\n",
      "  data[\"wiki_url\"][index] = url\n"
     ]
    },
    {
     "name": "stdout",
     "output_type": "stream",
     "text": [
      "current index: 933\n"
     ]
    },
    {
     "name": "stderr",
     "output_type": "stream",
     "text": [
      "C:\\Users\\maxji\\AppData\\Local\\Temp\\ipykernel_40900\\1159726583.py:7: SettingWithCopyWarning: \n",
      "A value is trying to be set on a copy of a slice from a DataFrame\n",
      "\n",
      "See the caveats in the documentation: https://pandas.pydata.org/pandas-docs/stable/user_guide/indexing.html#returning-a-view-versus-a-copy\n",
      "  data[\"wiki_url\"][index] = url\n"
     ]
    },
    {
     "name": "stdout",
     "output_type": "stream",
     "text": [
      "current index: 934\n"
     ]
    },
    {
     "name": "stderr",
     "output_type": "stream",
     "text": [
      "C:\\Users\\maxji\\AppData\\Local\\Temp\\ipykernel_40900\\1159726583.py:7: SettingWithCopyWarning: \n",
      "A value is trying to be set on a copy of a slice from a DataFrame\n",
      "\n",
      "See the caveats in the documentation: https://pandas.pydata.org/pandas-docs/stable/user_guide/indexing.html#returning-a-view-versus-a-copy\n",
      "  data[\"wiki_url\"][index] = url\n"
     ]
    },
    {
     "name": "stdout",
     "output_type": "stream",
     "text": [
      "current index: 935\n"
     ]
    },
    {
     "name": "stderr",
     "output_type": "stream",
     "text": [
      "C:\\Users\\maxji\\AppData\\Local\\Temp\\ipykernel_40900\\1159726583.py:7: SettingWithCopyWarning: \n",
      "A value is trying to be set on a copy of a slice from a DataFrame\n",
      "\n",
      "See the caveats in the documentation: https://pandas.pydata.org/pandas-docs/stable/user_guide/indexing.html#returning-a-view-versus-a-copy\n",
      "  data[\"wiki_url\"][index] = url\n"
     ]
    },
    {
     "name": "stdout",
     "output_type": "stream",
     "text": [
      "current index: 936\n"
     ]
    },
    {
     "name": "stderr",
     "output_type": "stream",
     "text": [
      "C:\\Users\\maxji\\AppData\\Local\\Temp\\ipykernel_40900\\1159726583.py:7: SettingWithCopyWarning: \n",
      "A value is trying to be set on a copy of a slice from a DataFrame\n",
      "\n",
      "See the caveats in the documentation: https://pandas.pydata.org/pandas-docs/stable/user_guide/indexing.html#returning-a-view-versus-a-copy\n",
      "  data[\"wiki_url\"][index] = url\n"
     ]
    },
    {
     "name": "stdout",
     "output_type": "stream",
     "text": [
      "current index: 937\n"
     ]
    },
    {
     "name": "stderr",
     "output_type": "stream",
     "text": [
      "C:\\Users\\maxji\\AppData\\Local\\Temp\\ipykernel_40900\\1159726583.py:7: SettingWithCopyWarning: \n",
      "A value is trying to be set on a copy of a slice from a DataFrame\n",
      "\n",
      "See the caveats in the documentation: https://pandas.pydata.org/pandas-docs/stable/user_guide/indexing.html#returning-a-view-versus-a-copy\n",
      "  data[\"wiki_url\"][index] = url\n"
     ]
    },
    {
     "name": "stdout",
     "output_type": "stream",
     "text": [
      "current index: 938\n"
     ]
    },
    {
     "name": "stderr",
     "output_type": "stream",
     "text": [
      "C:\\Users\\maxji\\AppData\\Local\\Temp\\ipykernel_40900\\1159726583.py:7: SettingWithCopyWarning: \n",
      "A value is trying to be set on a copy of a slice from a DataFrame\n",
      "\n",
      "See the caveats in the documentation: https://pandas.pydata.org/pandas-docs/stable/user_guide/indexing.html#returning-a-view-versus-a-copy\n",
      "  data[\"wiki_url\"][index] = url\n"
     ]
    },
    {
     "name": "stdout",
     "output_type": "stream",
     "text": [
      "current index: 939\n"
     ]
    },
    {
     "name": "stderr",
     "output_type": "stream",
     "text": [
      "C:\\Users\\maxji\\AppData\\Local\\Temp\\ipykernel_40900\\1159726583.py:7: SettingWithCopyWarning: \n",
      "A value is trying to be set on a copy of a slice from a DataFrame\n",
      "\n",
      "See the caveats in the documentation: https://pandas.pydata.org/pandas-docs/stable/user_guide/indexing.html#returning-a-view-versus-a-copy\n",
      "  data[\"wiki_url\"][index] = url\n"
     ]
    },
    {
     "name": "stdout",
     "output_type": "stream",
     "text": [
      "current index: 940\n"
     ]
    },
    {
     "name": "stderr",
     "output_type": "stream",
     "text": [
      "C:\\Users\\maxji\\AppData\\Local\\Temp\\ipykernel_40900\\1159726583.py:7: SettingWithCopyWarning: \n",
      "A value is trying to be set on a copy of a slice from a DataFrame\n",
      "\n",
      "See the caveats in the documentation: https://pandas.pydata.org/pandas-docs/stable/user_guide/indexing.html#returning-a-view-versus-a-copy\n",
      "  data[\"wiki_url\"][index] = url\n"
     ]
    },
    {
     "name": "stdout",
     "output_type": "stream",
     "text": [
      "current index: 941\n"
     ]
    },
    {
     "name": "stderr",
     "output_type": "stream",
     "text": [
      "C:\\Users\\maxji\\AppData\\Local\\Temp\\ipykernel_40900\\1159726583.py:7: SettingWithCopyWarning: \n",
      "A value is trying to be set on a copy of a slice from a DataFrame\n",
      "\n",
      "See the caveats in the documentation: https://pandas.pydata.org/pandas-docs/stable/user_guide/indexing.html#returning-a-view-versus-a-copy\n",
      "  data[\"wiki_url\"][index] = url\n"
     ]
    },
    {
     "name": "stdout",
     "output_type": "stream",
     "text": [
      "current index: 942\n"
     ]
    },
    {
     "name": "stderr",
     "output_type": "stream",
     "text": [
      "C:\\Users\\maxji\\AppData\\Local\\Temp\\ipykernel_40900\\1159726583.py:7: SettingWithCopyWarning: \n",
      "A value is trying to be set on a copy of a slice from a DataFrame\n",
      "\n",
      "See the caveats in the documentation: https://pandas.pydata.org/pandas-docs/stable/user_guide/indexing.html#returning-a-view-versus-a-copy\n",
      "  data[\"wiki_url\"][index] = url\n"
     ]
    },
    {
     "name": "stdout",
     "output_type": "stream",
     "text": [
      "current index: 943\n"
     ]
    },
    {
     "name": "stderr",
     "output_type": "stream",
     "text": [
      "C:\\Users\\maxji\\AppData\\Local\\Temp\\ipykernel_40900\\1159726583.py:7: SettingWithCopyWarning: \n",
      "A value is trying to be set on a copy of a slice from a DataFrame\n",
      "\n",
      "See the caveats in the documentation: https://pandas.pydata.org/pandas-docs/stable/user_guide/indexing.html#returning-a-view-versus-a-copy\n",
      "  data[\"wiki_url\"][index] = url\n"
     ]
    },
    {
     "name": "stdout",
     "output_type": "stream",
     "text": [
      "current index: 944\n"
     ]
    },
    {
     "name": "stderr",
     "output_type": "stream",
     "text": [
      "C:\\Users\\maxji\\AppData\\Local\\Temp\\ipykernel_40900\\1159726583.py:7: SettingWithCopyWarning: \n",
      "A value is trying to be set on a copy of a slice from a DataFrame\n",
      "\n",
      "See the caveats in the documentation: https://pandas.pydata.org/pandas-docs/stable/user_guide/indexing.html#returning-a-view-versus-a-copy\n",
      "  data[\"wiki_url\"][index] = url\n"
     ]
    },
    {
     "name": "stdout",
     "output_type": "stream",
     "text": [
      "current index: 945\n"
     ]
    },
    {
     "name": "stderr",
     "output_type": "stream",
     "text": [
      "C:\\Users\\maxji\\AppData\\Local\\Temp\\ipykernel_40900\\1159726583.py:7: SettingWithCopyWarning: \n",
      "A value is trying to be set on a copy of a slice from a DataFrame\n",
      "\n",
      "See the caveats in the documentation: https://pandas.pydata.org/pandas-docs/stable/user_guide/indexing.html#returning-a-view-versus-a-copy\n",
      "  data[\"wiki_url\"][index] = url\n"
     ]
    },
    {
     "name": "stdout",
     "output_type": "stream",
     "text": [
      "current index: 946\n"
     ]
    },
    {
     "name": "stderr",
     "output_type": "stream",
     "text": [
      "C:\\Users\\maxji\\AppData\\Local\\Temp\\ipykernel_40900\\1159726583.py:7: SettingWithCopyWarning: \n",
      "A value is trying to be set on a copy of a slice from a DataFrame\n",
      "\n",
      "See the caveats in the documentation: https://pandas.pydata.org/pandas-docs/stable/user_guide/indexing.html#returning-a-view-versus-a-copy\n",
      "  data[\"wiki_url\"][index] = url\n"
     ]
    },
    {
     "name": "stdout",
     "output_type": "stream",
     "text": [
      "current index: 947\n"
     ]
    },
    {
     "name": "stderr",
     "output_type": "stream",
     "text": [
      "C:\\Users\\maxji\\AppData\\Local\\Temp\\ipykernel_40900\\1159726583.py:7: SettingWithCopyWarning: \n",
      "A value is trying to be set on a copy of a slice from a DataFrame\n",
      "\n",
      "See the caveats in the documentation: https://pandas.pydata.org/pandas-docs/stable/user_guide/indexing.html#returning-a-view-versus-a-copy\n",
      "  data[\"wiki_url\"][index] = url\n"
     ]
    },
    {
     "name": "stdout",
     "output_type": "stream",
     "text": [
      "current index: 948\n"
     ]
    },
    {
     "name": "stderr",
     "output_type": "stream",
     "text": [
      "C:\\Users\\maxji\\AppData\\Local\\Temp\\ipykernel_40900\\1159726583.py:7: SettingWithCopyWarning: \n",
      "A value is trying to be set on a copy of a slice from a DataFrame\n",
      "\n",
      "See the caveats in the documentation: https://pandas.pydata.org/pandas-docs/stable/user_guide/indexing.html#returning-a-view-versus-a-copy\n",
      "  data[\"wiki_url\"][index] = url\n"
     ]
    },
    {
     "name": "stdout",
     "output_type": "stream",
     "text": [
      "current index: 949\n"
     ]
    },
    {
     "name": "stderr",
     "output_type": "stream",
     "text": [
      "C:\\Users\\maxji\\AppData\\Local\\Temp\\ipykernel_40900\\1159726583.py:7: SettingWithCopyWarning: \n",
      "A value is trying to be set on a copy of a slice from a DataFrame\n",
      "\n",
      "See the caveats in the documentation: https://pandas.pydata.org/pandas-docs/stable/user_guide/indexing.html#returning-a-view-versus-a-copy\n",
      "  data[\"wiki_url\"][index] = url\n"
     ]
    },
    {
     "name": "stdout",
     "output_type": "stream",
     "text": [
      "current index: 950\n"
     ]
    },
    {
     "name": "stderr",
     "output_type": "stream",
     "text": [
      "C:\\Users\\maxji\\AppData\\Local\\Temp\\ipykernel_40900\\1159726583.py:7: SettingWithCopyWarning: \n",
      "A value is trying to be set on a copy of a slice from a DataFrame\n",
      "\n",
      "See the caveats in the documentation: https://pandas.pydata.org/pandas-docs/stable/user_guide/indexing.html#returning-a-view-versus-a-copy\n",
      "  data[\"wiki_url\"][index] = url\n"
     ]
    },
    {
     "name": "stdout",
     "output_type": "stream",
     "text": [
      "current index: 951\n"
     ]
    },
    {
     "name": "stderr",
     "output_type": "stream",
     "text": [
      "C:\\Users\\maxji\\AppData\\Local\\Temp\\ipykernel_40900\\1159726583.py:7: SettingWithCopyWarning: \n",
      "A value is trying to be set on a copy of a slice from a DataFrame\n",
      "\n",
      "See the caveats in the documentation: https://pandas.pydata.org/pandas-docs/stable/user_guide/indexing.html#returning-a-view-versus-a-copy\n",
      "  data[\"wiki_url\"][index] = url\n"
     ]
    },
    {
     "name": "stdout",
     "output_type": "stream",
     "text": [
      "current index: 952\n"
     ]
    },
    {
     "name": "stderr",
     "output_type": "stream",
     "text": [
      "C:\\Users\\maxji\\AppData\\Local\\Temp\\ipykernel_40900\\1159726583.py:7: SettingWithCopyWarning: \n",
      "A value is trying to be set on a copy of a slice from a DataFrame\n",
      "\n",
      "See the caveats in the documentation: https://pandas.pydata.org/pandas-docs/stable/user_guide/indexing.html#returning-a-view-versus-a-copy\n",
      "  data[\"wiki_url\"][index] = url\n"
     ]
    },
    {
     "name": "stdout",
     "output_type": "stream",
     "text": [
      "current index: 953\n"
     ]
    },
    {
     "name": "stderr",
     "output_type": "stream",
     "text": [
      "C:\\Users\\maxji\\AppData\\Local\\Temp\\ipykernel_40900\\1159726583.py:7: SettingWithCopyWarning: \n",
      "A value is trying to be set on a copy of a slice from a DataFrame\n",
      "\n",
      "See the caveats in the documentation: https://pandas.pydata.org/pandas-docs/stable/user_guide/indexing.html#returning-a-view-versus-a-copy\n",
      "  data[\"wiki_url\"][index] = url\n"
     ]
    },
    {
     "name": "stdout",
     "output_type": "stream",
     "text": [
      "current index: 954\n"
     ]
    },
    {
     "name": "stderr",
     "output_type": "stream",
     "text": [
      "C:\\Users\\maxji\\AppData\\Local\\Temp\\ipykernel_40900\\1159726583.py:7: SettingWithCopyWarning: \n",
      "A value is trying to be set on a copy of a slice from a DataFrame\n",
      "\n",
      "See the caveats in the documentation: https://pandas.pydata.org/pandas-docs/stable/user_guide/indexing.html#returning-a-view-versus-a-copy\n",
      "  data[\"wiki_url\"][index] = url\n"
     ]
    },
    {
     "name": "stdout",
     "output_type": "stream",
     "text": [
      "current index: 955\n"
     ]
    },
    {
     "name": "stderr",
     "output_type": "stream",
     "text": [
      "C:\\Users\\maxji\\AppData\\Local\\Temp\\ipykernel_40900\\1159726583.py:7: SettingWithCopyWarning: \n",
      "A value is trying to be set on a copy of a slice from a DataFrame\n",
      "\n",
      "See the caveats in the documentation: https://pandas.pydata.org/pandas-docs/stable/user_guide/indexing.html#returning-a-view-versus-a-copy\n",
      "  data[\"wiki_url\"][index] = url\n"
     ]
    },
    {
     "name": "stdout",
     "output_type": "stream",
     "text": [
      "current index: 956\n"
     ]
    },
    {
     "name": "stderr",
     "output_type": "stream",
     "text": [
      "C:\\Users\\maxji\\AppData\\Local\\Temp\\ipykernel_40900\\1159726583.py:7: SettingWithCopyWarning: \n",
      "A value is trying to be set on a copy of a slice from a DataFrame\n",
      "\n",
      "See the caveats in the documentation: https://pandas.pydata.org/pandas-docs/stable/user_guide/indexing.html#returning-a-view-versus-a-copy\n",
      "  data[\"wiki_url\"][index] = url\n"
     ]
    },
    {
     "name": "stdout",
     "output_type": "stream",
     "text": [
      "current index: 957\n"
     ]
    },
    {
     "name": "stderr",
     "output_type": "stream",
     "text": [
      "C:\\Users\\maxji\\AppData\\Local\\Temp\\ipykernel_40900\\1159726583.py:7: SettingWithCopyWarning: \n",
      "A value is trying to be set on a copy of a slice from a DataFrame\n",
      "\n",
      "See the caveats in the documentation: https://pandas.pydata.org/pandas-docs/stable/user_guide/indexing.html#returning-a-view-versus-a-copy\n",
      "  data[\"wiki_url\"][index] = url\n"
     ]
    },
    {
     "name": "stdout",
     "output_type": "stream",
     "text": [
      "current index: 958\n"
     ]
    },
    {
     "name": "stderr",
     "output_type": "stream",
     "text": [
      "C:\\Users\\maxji\\AppData\\Local\\Temp\\ipykernel_40900\\1159726583.py:7: SettingWithCopyWarning: \n",
      "A value is trying to be set on a copy of a slice from a DataFrame\n",
      "\n",
      "See the caveats in the documentation: https://pandas.pydata.org/pandas-docs/stable/user_guide/indexing.html#returning-a-view-versus-a-copy\n",
      "  data[\"wiki_url\"][index] = url\n"
     ]
    },
    {
     "name": "stdout",
     "output_type": "stream",
     "text": [
      "current index: 959\n"
     ]
    },
    {
     "name": "stderr",
     "output_type": "stream",
     "text": [
      "C:\\Users\\maxji\\AppData\\Local\\Temp\\ipykernel_40900\\1159726583.py:7: SettingWithCopyWarning: \n",
      "A value is trying to be set on a copy of a slice from a DataFrame\n",
      "\n",
      "See the caveats in the documentation: https://pandas.pydata.org/pandas-docs/stable/user_guide/indexing.html#returning-a-view-versus-a-copy\n",
      "  data[\"wiki_url\"][index] = url\n"
     ]
    },
    {
     "name": "stdout",
     "output_type": "stream",
     "text": [
      "current index: 960\n"
     ]
    },
    {
     "name": "stderr",
     "output_type": "stream",
     "text": [
      "C:\\Users\\maxji\\AppData\\Local\\Temp\\ipykernel_40900\\1159726583.py:7: SettingWithCopyWarning: \n",
      "A value is trying to be set on a copy of a slice from a DataFrame\n",
      "\n",
      "See the caveats in the documentation: https://pandas.pydata.org/pandas-docs/stable/user_guide/indexing.html#returning-a-view-versus-a-copy\n",
      "  data[\"wiki_url\"][index] = url\n"
     ]
    },
    {
     "name": "stdout",
     "output_type": "stream",
     "text": [
      "current index: 961\n"
     ]
    },
    {
     "name": "stderr",
     "output_type": "stream",
     "text": [
      "C:\\Users\\maxji\\AppData\\Local\\Temp\\ipykernel_40900\\1159726583.py:7: SettingWithCopyWarning: \n",
      "A value is trying to be set on a copy of a slice from a DataFrame\n",
      "\n",
      "See the caveats in the documentation: https://pandas.pydata.org/pandas-docs/stable/user_guide/indexing.html#returning-a-view-versus-a-copy\n",
      "  data[\"wiki_url\"][index] = url\n"
     ]
    },
    {
     "name": "stdout",
     "output_type": "stream",
     "text": [
      "current index: 962\n"
     ]
    },
    {
     "name": "stderr",
     "output_type": "stream",
     "text": [
      "C:\\Users\\maxji\\AppData\\Local\\Temp\\ipykernel_40900\\1159726583.py:7: SettingWithCopyWarning: \n",
      "A value is trying to be set on a copy of a slice from a DataFrame\n",
      "\n",
      "See the caveats in the documentation: https://pandas.pydata.org/pandas-docs/stable/user_guide/indexing.html#returning-a-view-versus-a-copy\n",
      "  data[\"wiki_url\"][index] = url\n"
     ]
    },
    {
     "name": "stdout",
     "output_type": "stream",
     "text": [
      "current index: 963\n"
     ]
    },
    {
     "name": "stderr",
     "output_type": "stream",
     "text": [
      "C:\\Users\\maxji\\AppData\\Local\\Temp\\ipykernel_40900\\1159726583.py:7: SettingWithCopyWarning: \n",
      "A value is trying to be set on a copy of a slice from a DataFrame\n",
      "\n",
      "See the caveats in the documentation: https://pandas.pydata.org/pandas-docs/stable/user_guide/indexing.html#returning-a-view-versus-a-copy\n",
      "  data[\"wiki_url\"][index] = url\n"
     ]
    },
    {
     "name": "stdout",
     "output_type": "stream",
     "text": [
      "current index: 964\n"
     ]
    },
    {
     "name": "stderr",
     "output_type": "stream",
     "text": [
      "C:\\Users\\maxji\\AppData\\Local\\Temp\\ipykernel_40900\\1159726583.py:7: SettingWithCopyWarning: \n",
      "A value is trying to be set on a copy of a slice from a DataFrame\n",
      "\n",
      "See the caveats in the documentation: https://pandas.pydata.org/pandas-docs/stable/user_guide/indexing.html#returning-a-view-versus-a-copy\n",
      "  data[\"wiki_url\"][index] = url\n"
     ]
    },
    {
     "name": "stdout",
     "output_type": "stream",
     "text": [
      "current index: 965\n"
     ]
    },
    {
     "name": "stderr",
     "output_type": "stream",
     "text": [
      "C:\\Users\\maxji\\AppData\\Local\\Temp\\ipykernel_40900\\1159726583.py:7: SettingWithCopyWarning: \n",
      "A value is trying to be set on a copy of a slice from a DataFrame\n",
      "\n",
      "See the caveats in the documentation: https://pandas.pydata.org/pandas-docs/stable/user_guide/indexing.html#returning-a-view-versus-a-copy\n",
      "  data[\"wiki_url\"][index] = url\n"
     ]
    },
    {
     "name": "stdout",
     "output_type": "stream",
     "text": [
      "current index: 966\n"
     ]
    },
    {
     "name": "stderr",
     "output_type": "stream",
     "text": [
      "C:\\Users\\maxji\\AppData\\Local\\Temp\\ipykernel_40900\\1159726583.py:7: SettingWithCopyWarning: \n",
      "A value is trying to be set on a copy of a slice from a DataFrame\n",
      "\n",
      "See the caveats in the documentation: https://pandas.pydata.org/pandas-docs/stable/user_guide/indexing.html#returning-a-view-versus-a-copy\n",
      "  data[\"wiki_url\"][index] = url\n"
     ]
    },
    {
     "name": "stdout",
     "output_type": "stream",
     "text": [
      "current index: 967\n"
     ]
    },
    {
     "name": "stderr",
     "output_type": "stream",
     "text": [
      "C:\\Users\\maxji\\AppData\\Local\\Temp\\ipykernel_40900\\1159726583.py:7: SettingWithCopyWarning: \n",
      "A value is trying to be set on a copy of a slice from a DataFrame\n",
      "\n",
      "See the caveats in the documentation: https://pandas.pydata.org/pandas-docs/stable/user_guide/indexing.html#returning-a-view-versus-a-copy\n",
      "  data[\"wiki_url\"][index] = url\n"
     ]
    },
    {
     "name": "stdout",
     "output_type": "stream",
     "text": [
      "current index: 968\n"
     ]
    },
    {
     "name": "stderr",
     "output_type": "stream",
     "text": [
      "C:\\Users\\maxji\\AppData\\Local\\Temp\\ipykernel_40900\\1159726583.py:7: SettingWithCopyWarning: \n",
      "A value is trying to be set on a copy of a slice from a DataFrame\n",
      "\n",
      "See the caveats in the documentation: https://pandas.pydata.org/pandas-docs/stable/user_guide/indexing.html#returning-a-view-versus-a-copy\n",
      "  data[\"wiki_url\"][index] = url\n"
     ]
    },
    {
     "name": "stdout",
     "output_type": "stream",
     "text": [
      "current index: 969\n"
     ]
    },
    {
     "name": "stderr",
     "output_type": "stream",
     "text": [
      "C:\\Users\\maxji\\AppData\\Local\\Temp\\ipykernel_40900\\1159726583.py:7: SettingWithCopyWarning: \n",
      "A value is trying to be set on a copy of a slice from a DataFrame\n",
      "\n",
      "See the caveats in the documentation: https://pandas.pydata.org/pandas-docs/stable/user_guide/indexing.html#returning-a-view-versus-a-copy\n",
      "  data[\"wiki_url\"][index] = url\n"
     ]
    },
    {
     "name": "stdout",
     "output_type": "stream",
     "text": [
      "current index: 970\n"
     ]
    },
    {
     "name": "stderr",
     "output_type": "stream",
     "text": [
      "C:\\Users\\maxji\\AppData\\Local\\Temp\\ipykernel_40900\\1159726583.py:7: SettingWithCopyWarning: \n",
      "A value is trying to be set on a copy of a slice from a DataFrame\n",
      "\n",
      "See the caveats in the documentation: https://pandas.pydata.org/pandas-docs/stable/user_guide/indexing.html#returning-a-view-versus-a-copy\n",
      "  data[\"wiki_url\"][index] = url\n"
     ]
    },
    {
     "name": "stdout",
     "output_type": "stream",
     "text": [
      "current index: 971\n"
     ]
    },
    {
     "name": "stderr",
     "output_type": "stream",
     "text": [
      "C:\\Users\\maxji\\AppData\\Local\\Temp\\ipykernel_40900\\1159726583.py:7: SettingWithCopyWarning: \n",
      "A value is trying to be set on a copy of a slice from a DataFrame\n",
      "\n",
      "See the caveats in the documentation: https://pandas.pydata.org/pandas-docs/stable/user_guide/indexing.html#returning-a-view-versus-a-copy\n",
      "  data[\"wiki_url\"][index] = url\n"
     ]
    },
    {
     "name": "stdout",
     "output_type": "stream",
     "text": [
      "current index: 972\n"
     ]
    },
    {
     "name": "stderr",
     "output_type": "stream",
     "text": [
      "C:\\Users\\maxji\\AppData\\Local\\Temp\\ipykernel_40900\\1159726583.py:7: SettingWithCopyWarning: \n",
      "A value is trying to be set on a copy of a slice from a DataFrame\n",
      "\n",
      "See the caveats in the documentation: https://pandas.pydata.org/pandas-docs/stable/user_guide/indexing.html#returning-a-view-versus-a-copy\n",
      "  data[\"wiki_url\"][index] = url\n"
     ]
    },
    {
     "name": "stdout",
     "output_type": "stream",
     "text": [
      "current index: 973\n"
     ]
    },
    {
     "name": "stderr",
     "output_type": "stream",
     "text": [
      "C:\\Users\\maxji\\AppData\\Local\\Temp\\ipykernel_40900\\1159726583.py:7: SettingWithCopyWarning: \n",
      "A value is trying to be set on a copy of a slice from a DataFrame\n",
      "\n",
      "See the caveats in the documentation: https://pandas.pydata.org/pandas-docs/stable/user_guide/indexing.html#returning-a-view-versus-a-copy\n",
      "  data[\"wiki_url\"][index] = url\n"
     ]
    },
    {
     "name": "stdout",
     "output_type": "stream",
     "text": [
      "current index: 974\n"
     ]
    },
    {
     "name": "stderr",
     "output_type": "stream",
     "text": [
      "C:\\Users\\maxji\\AppData\\Local\\Temp\\ipykernel_40900\\1159726583.py:7: SettingWithCopyWarning: \n",
      "A value is trying to be set on a copy of a slice from a DataFrame\n",
      "\n",
      "See the caveats in the documentation: https://pandas.pydata.org/pandas-docs/stable/user_guide/indexing.html#returning-a-view-versus-a-copy\n",
      "  data[\"wiki_url\"][index] = url\n"
     ]
    },
    {
     "name": "stdout",
     "output_type": "stream",
     "text": [
      "current index: 975\n"
     ]
    },
    {
     "name": "stderr",
     "output_type": "stream",
     "text": [
      "C:\\Users\\maxji\\AppData\\Local\\Temp\\ipykernel_40900\\1159726583.py:7: SettingWithCopyWarning: \n",
      "A value is trying to be set on a copy of a slice from a DataFrame\n",
      "\n",
      "See the caveats in the documentation: https://pandas.pydata.org/pandas-docs/stable/user_guide/indexing.html#returning-a-view-versus-a-copy\n",
      "  data[\"wiki_url\"][index] = url\n"
     ]
    },
    {
     "name": "stdout",
     "output_type": "stream",
     "text": [
      "current index: 976\n"
     ]
    },
    {
     "name": "stderr",
     "output_type": "stream",
     "text": [
      "C:\\Users\\maxji\\AppData\\Local\\Temp\\ipykernel_40900\\1159726583.py:7: SettingWithCopyWarning: \n",
      "A value is trying to be set on a copy of a slice from a DataFrame\n",
      "\n",
      "See the caveats in the documentation: https://pandas.pydata.org/pandas-docs/stable/user_guide/indexing.html#returning-a-view-versus-a-copy\n",
      "  data[\"wiki_url\"][index] = url\n"
     ]
    },
    {
     "name": "stdout",
     "output_type": "stream",
     "text": [
      "current index: 977\n"
     ]
    },
    {
     "name": "stderr",
     "output_type": "stream",
     "text": [
      "C:\\Users\\maxji\\AppData\\Local\\Temp\\ipykernel_40900\\1159726583.py:7: SettingWithCopyWarning: \n",
      "A value is trying to be set on a copy of a slice from a DataFrame\n",
      "\n",
      "See the caveats in the documentation: https://pandas.pydata.org/pandas-docs/stable/user_guide/indexing.html#returning-a-view-versus-a-copy\n",
      "  data[\"wiki_url\"][index] = url\n"
     ]
    },
    {
     "name": "stdout",
     "output_type": "stream",
     "text": [
      "current index: 978\n"
     ]
    },
    {
     "name": "stderr",
     "output_type": "stream",
     "text": [
      "C:\\Users\\maxji\\AppData\\Local\\Temp\\ipykernel_40900\\1159726583.py:7: SettingWithCopyWarning: \n",
      "A value is trying to be set on a copy of a slice from a DataFrame\n",
      "\n",
      "See the caveats in the documentation: https://pandas.pydata.org/pandas-docs/stable/user_guide/indexing.html#returning-a-view-versus-a-copy\n",
      "  data[\"wiki_url\"][index] = url\n"
     ]
    },
    {
     "name": "stdout",
     "output_type": "stream",
     "text": [
      "current index: 979\n"
     ]
    },
    {
     "name": "stderr",
     "output_type": "stream",
     "text": [
      "C:\\Users\\maxji\\AppData\\Local\\Temp\\ipykernel_40900\\1159726583.py:7: SettingWithCopyWarning: \n",
      "A value is trying to be set on a copy of a slice from a DataFrame\n",
      "\n",
      "See the caveats in the documentation: https://pandas.pydata.org/pandas-docs/stable/user_guide/indexing.html#returning-a-view-versus-a-copy\n",
      "  data[\"wiki_url\"][index] = url\n"
     ]
    },
    {
     "name": "stdout",
     "output_type": "stream",
     "text": [
      "current index: 980\n"
     ]
    },
    {
     "name": "stderr",
     "output_type": "stream",
     "text": [
      "C:\\Users\\maxji\\AppData\\Local\\Temp\\ipykernel_40900\\1159726583.py:7: SettingWithCopyWarning: \n",
      "A value is trying to be set on a copy of a slice from a DataFrame\n",
      "\n",
      "See the caveats in the documentation: https://pandas.pydata.org/pandas-docs/stable/user_guide/indexing.html#returning-a-view-versus-a-copy\n",
      "  data[\"wiki_url\"][index] = url\n"
     ]
    },
    {
     "name": "stdout",
     "output_type": "stream",
     "text": [
      "current index: 981\n"
     ]
    },
    {
     "name": "stderr",
     "output_type": "stream",
     "text": [
      "C:\\Users\\maxji\\AppData\\Local\\Temp\\ipykernel_40900\\1159726583.py:7: SettingWithCopyWarning: \n",
      "A value is trying to be set on a copy of a slice from a DataFrame\n",
      "\n",
      "See the caveats in the documentation: https://pandas.pydata.org/pandas-docs/stable/user_guide/indexing.html#returning-a-view-versus-a-copy\n",
      "  data[\"wiki_url\"][index] = url\n"
     ]
    },
    {
     "name": "stdout",
     "output_type": "stream",
     "text": [
      "current index: 982\n"
     ]
    },
    {
     "name": "stderr",
     "output_type": "stream",
     "text": [
      "C:\\Users\\maxji\\AppData\\Local\\Temp\\ipykernel_40900\\1159726583.py:7: SettingWithCopyWarning: \n",
      "A value is trying to be set on a copy of a slice from a DataFrame\n",
      "\n",
      "See the caveats in the documentation: https://pandas.pydata.org/pandas-docs/stable/user_guide/indexing.html#returning-a-view-versus-a-copy\n",
      "  data[\"wiki_url\"][index] = url\n"
     ]
    },
    {
     "name": "stdout",
     "output_type": "stream",
     "text": [
      "current index: 983\n"
     ]
    },
    {
     "name": "stderr",
     "output_type": "stream",
     "text": [
      "C:\\Users\\maxji\\AppData\\Local\\Temp\\ipykernel_40900\\1159726583.py:7: SettingWithCopyWarning: \n",
      "A value is trying to be set on a copy of a slice from a DataFrame\n",
      "\n",
      "See the caveats in the documentation: https://pandas.pydata.org/pandas-docs/stable/user_guide/indexing.html#returning-a-view-versus-a-copy\n",
      "  data[\"wiki_url\"][index] = url\n"
     ]
    },
    {
     "name": "stdout",
     "output_type": "stream",
     "text": [
      "current index: 984\n"
     ]
    },
    {
     "name": "stderr",
     "output_type": "stream",
     "text": [
      "C:\\Users\\maxji\\AppData\\Local\\Temp\\ipykernel_40900\\1159726583.py:7: SettingWithCopyWarning: \n",
      "A value is trying to be set on a copy of a slice from a DataFrame\n",
      "\n",
      "See the caveats in the documentation: https://pandas.pydata.org/pandas-docs/stable/user_guide/indexing.html#returning-a-view-versus-a-copy\n",
      "  data[\"wiki_url\"][index] = url\n"
     ]
    },
    {
     "name": "stdout",
     "output_type": "stream",
     "text": [
      "current index: 985\n"
     ]
    },
    {
     "name": "stderr",
     "output_type": "stream",
     "text": [
      "C:\\Users\\maxji\\AppData\\Local\\Temp\\ipykernel_40900\\1159726583.py:7: SettingWithCopyWarning: \n",
      "A value is trying to be set on a copy of a slice from a DataFrame\n",
      "\n",
      "See the caveats in the documentation: https://pandas.pydata.org/pandas-docs/stable/user_guide/indexing.html#returning-a-view-versus-a-copy\n",
      "  data[\"wiki_url\"][index] = url\n"
     ]
    },
    {
     "name": "stdout",
     "output_type": "stream",
     "text": [
      "current index: 986\n"
     ]
    },
    {
     "name": "stderr",
     "output_type": "stream",
     "text": [
      "C:\\Users\\maxji\\AppData\\Local\\Temp\\ipykernel_40900\\1159726583.py:7: SettingWithCopyWarning: \n",
      "A value is trying to be set on a copy of a slice from a DataFrame\n",
      "\n",
      "See the caveats in the documentation: https://pandas.pydata.org/pandas-docs/stable/user_guide/indexing.html#returning-a-view-versus-a-copy\n",
      "  data[\"wiki_url\"][index] = url\n"
     ]
    },
    {
     "name": "stdout",
     "output_type": "stream",
     "text": [
      "current index: 987\n"
     ]
    },
    {
     "name": "stderr",
     "output_type": "stream",
     "text": [
      "C:\\Users\\maxji\\AppData\\Local\\Temp\\ipykernel_40900\\1159726583.py:7: SettingWithCopyWarning: \n",
      "A value is trying to be set on a copy of a slice from a DataFrame\n",
      "\n",
      "See the caveats in the documentation: https://pandas.pydata.org/pandas-docs/stable/user_guide/indexing.html#returning-a-view-versus-a-copy\n",
      "  data[\"wiki_url\"][index] = url\n"
     ]
    },
    {
     "name": "stdout",
     "output_type": "stream",
     "text": [
      "current index: 988\n"
     ]
    },
    {
     "name": "stderr",
     "output_type": "stream",
     "text": [
      "C:\\Users\\maxji\\AppData\\Local\\Temp\\ipykernel_40900\\1159726583.py:7: SettingWithCopyWarning: \n",
      "A value is trying to be set on a copy of a slice from a DataFrame\n",
      "\n",
      "See the caveats in the documentation: https://pandas.pydata.org/pandas-docs/stable/user_guide/indexing.html#returning-a-view-versus-a-copy\n",
      "  data[\"wiki_url\"][index] = url\n"
     ]
    }
   ],
   "source": [
    "data[\"wiki_url\"] =None #add column\n",
    "for index, row in data.iterrows():\n",
    "    try:\n",
    "        print(\"current index:\", index)\n",
    "        iata = row[\"iata\"]\n",
    "        url = get_wikipedia_url_from_iata(iata)\n",
    "        data[\"wiki_url\"][index] = url\n",
    "    except:\n",
    "        data[\"wiki_url\"][index] = None"
   ]
  },
  {
   "cell_type": "code",
   "execution_count": 30,
   "id": "43366a7d",
   "metadata": {},
   "outputs": [
    {
     "data": {
      "text/html": [
       "<div>\n",
       "<style scoped>\n",
       "    .dataframe tbody tr th:only-of-type {\n",
       "        vertical-align: middle;\n",
       "    }\n",
       "\n",
       "    .dataframe tbody tr th {\n",
       "        vertical-align: top;\n",
       "    }\n",
       "\n",
       "    .dataframe thead th {\n",
       "        text-align: right;\n",
       "    }\n",
       "</style>\n",
       "<table border=\"1\" class=\"dataframe\">\n",
       "  <thead>\n",
       "    <tr style=\"text-align: right;\">\n",
       "      <th></th>\n",
       "      <th>Unnamed: 0</th>\n",
       "      <th>full_name</th>\n",
       "      <th>iata</th>\n",
       "      <th>city</th>\n",
       "      <th>country</th>\n",
       "      <th>estimated_pax</th>\n",
       "      <th>wiki_url</th>\n",
       "    </tr>\n",
       "  </thead>\n",
       "  <tbody>\n",
       "    <tr>\n",
       "      <th>0</th>\n",
       "      <td>1.0</td>\n",
       "      <td>Hartsfield–Jackson Atlanta International Airport</td>\n",
       "      <td>ATL</td>\n",
       "      <td>Atlanta</td>\n",
       "      <td>United States</td>\n",
       "      <td>103,902,992</td>\n",
       "      <td>https://en.wikipedia.org/wiki/Hartsfield–Jacks...</td>\n",
       "    </tr>\n",
       "    <tr>\n",
       "      <th>1</th>\n",
       "      <td>2.0</td>\n",
       "      <td>Beijing Capital International Airport</td>\n",
       "      <td>PEK</td>\n",
       "      <td>Beijing</td>\n",
       "      <td>China</td>\n",
       "      <td>95,786,442</td>\n",
       "      <td>https://en.wikipedia.org/wiki/Beijing_Capital_...</td>\n",
       "    </tr>\n",
       "    <tr>\n",
       "      <th>2</th>\n",
       "      <td>3.0</td>\n",
       "      <td>Dubai International Airport</td>\n",
       "      <td>DXB</td>\n",
       "      <td>Dubai</td>\n",
       "      <td>United Arab Emirates</td>\n",
       "      <td>88,242,099</td>\n",
       "      <td>https://en.wikipedia.org/wiki/Dubai_Internatio...</td>\n",
       "    </tr>\n",
       "    <tr>\n",
       "      <th>3</th>\n",
       "      <td>4.0</td>\n",
       "      <td>Los Angeles International Airport</td>\n",
       "      <td>LAX</td>\n",
       "      <td>Los Angeles</td>\n",
       "      <td>United States</td>\n",
       "      <td>84,557,968</td>\n",
       "      <td>https://en.wikipedia.org/wiki/Los_Angeles_Inte...</td>\n",
       "    </tr>\n",
       "    <tr>\n",
       "      <th>4</th>\n",
       "      <td>5.0</td>\n",
       "      <td>O'Hare International Airport</td>\n",
       "      <td>ORD</td>\n",
       "      <td>Chicago</td>\n",
       "      <td>United States</td>\n",
       "      <td>79,828,183</td>\n",
       "      <td>https://en.wikipedia.org/wiki/O'Hare_Internati...</td>\n",
       "    </tr>\n",
       "  </tbody>\n",
       "</table>\n",
       "</div>"
      ],
      "text/plain": [
       "   Unnamed: 0                                         full_name iata  \\\n",
       "0         1.0  Hartsfield–Jackson Atlanta International Airport  ATL   \n",
       "1         2.0             Beijing Capital International Airport  PEK   \n",
       "2         3.0                       Dubai International Airport  DXB   \n",
       "3         4.0                 Los Angeles International Airport  LAX   \n",
       "4         5.0                      O'Hare International Airport  ORD   \n",
       "\n",
       "          city               country estimated_pax  \\\n",
       "0      Atlanta         United States   103,902,992   \n",
       "1      Beijing                 China    95,786,442   \n",
       "2        Dubai  United Arab Emirates    88,242,099   \n",
       "3  Los Angeles         United States    84,557,968   \n",
       "4      Chicago         United States    79,828,183   \n",
       "\n",
       "                                            wiki_url  \n",
       "0  https://en.wikipedia.org/wiki/Hartsfield–Jacks...  \n",
       "1  https://en.wikipedia.org/wiki/Beijing_Capital_...  \n",
       "2  https://en.wikipedia.org/wiki/Dubai_Internatio...  \n",
       "3  https://en.wikipedia.org/wiki/Los_Angeles_Inte...  \n",
       "4  https://en.wikipedia.org/wiki/O'Hare_Internati...  "
      ]
     },
     "execution_count": 30,
     "metadata": {},
     "output_type": "execute_result"
    }
   ],
   "source": [
    "data.head()"
   ]
  },
  {
   "cell_type": "markdown",
   "id": "1fac4ede",
   "metadata": {},
   "source": [
    "finding number of null entries in the wiki_url column"
   ]
  },
  {
   "cell_type": "code",
   "execution_count": null,
   "id": "bbeccba2",
   "metadata": {},
   "outputs": [
    {
     "name": "stdout",
     "output_type": "stream",
     "text": [
      "Number of null entries: 1\n"
     ]
    }
   ],
   "source": [
    "print(f\"Number of null entries: {data['wiki_url'].isnull().sum()}\")"
   ]
  },
  {
   "cell_type": "markdown",
   "id": "4ee562f5",
   "metadata": {},
   "source": [
    "find the null row   "
   ]
  },
  {
   "cell_type": "code",
   "execution_count": 32,
   "id": "8a17c4aa",
   "metadata": {},
   "outputs": [
    {
     "data": {
      "text/html": [
       "<div>\n",
       "<style scoped>\n",
       "    .dataframe tbody tr th:only-of-type {\n",
       "        vertical-align: middle;\n",
       "    }\n",
       "\n",
       "    .dataframe tbody tr th {\n",
       "        vertical-align: top;\n",
       "    }\n",
       "\n",
       "    .dataframe thead th {\n",
       "        text-align: right;\n",
       "    }\n",
       "</style>\n",
       "<table border=\"1\" class=\"dataframe\">\n",
       "  <thead>\n",
       "    <tr style=\"text-align: right;\">\n",
       "      <th></th>\n",
       "      <th>Unnamed: 0</th>\n",
       "      <th>full_name</th>\n",
       "      <th>iata</th>\n",
       "      <th>city</th>\n",
       "      <th>country</th>\n",
       "      <th>estimated_pax</th>\n",
       "      <th>wiki_url</th>\n",
       "    </tr>\n",
       "  </thead>\n",
       "  <tbody>\n",
       "    <tr>\n",
       "      <th>465</th>\n",
       "      <td>466.0</td>\n",
       "      <td>Victoria International Airport</td>\n",
       "      <td>YYJ</td>\n",
       "      <td>Victoria</td>\n",
       "      <td>Canada</td>\n",
       "      <td>1,934,842</td>\n",
       "      <td>None</td>\n",
       "    </tr>\n",
       "  </tbody>\n",
       "</table>\n",
       "</div>"
      ],
      "text/plain": [
       "     Unnamed: 0                       full_name iata      city country  \\\n",
       "465       466.0  Victoria International Airport  YYJ  Victoria  Canada   \n",
       "\n",
       "    estimated_pax wiki_url  \n",
       "465     1,934,842     None  "
      ]
     },
     "execution_count": 32,
     "metadata": {},
     "output_type": "execute_result"
    }
   ],
   "source": [
    "data[data['wiki_url'].isnull()]"
   ]
  },
  {
   "cell_type": "markdown",
   "id": "02a6943b",
   "metadata": {},
   "source": [
    "add the missing url"
   ]
  },
  {
   "cell_type": "code",
   "execution_count": 33,
   "id": "840205b3",
   "metadata": {},
   "outputs": [
    {
     "name": "stdout",
     "output_type": "stream",
     "text": [
      "Number of null entries: 0\n"
     ]
    },
    {
     "name": "stderr",
     "output_type": "stream",
     "text": [
      "C:\\Users\\maxji\\AppData\\Local\\Temp\\ipykernel_40900\\550697600.py:1: SettingWithCopyWarning: \n",
      "A value is trying to be set on a copy of a slice from a DataFrame\n",
      "\n",
      "See the caveats in the documentation: https://pandas.pydata.org/pandas-docs/stable/user_guide/indexing.html#returning-a-view-versus-a-copy\n",
      "  data[\"wiki_url\"][465] = \"https://en.wikipedia.org/wiki/Victoria_International_Airport\"\n"
     ]
    }
   ],
   "source": [
    "data[\"wiki_url\"][465] = \"https://en.wikipedia.org/wiki/Victoria_International_Airport\"\n",
    "print(f\"Number of null entries: {data['wiki_url'].isnull().sum()}\")"
   ]
  },
  {
   "cell_type": "markdown",
   "id": "6613333f",
   "metadata": {},
   "source": [
    "saving the updated data"
   ]
  },
  {
   "cell_type": "code",
   "execution_count": 34,
   "id": "c81a6589",
   "metadata": {},
   "outputs": [],
   "source": [
    "data.to_csv(\"./data/top_airports_basic_data.csv\")"
   ]
  }
 ],
 "metadata": {
  "kernelspec": {
   "display_name": "base",
   "language": "python",
   "name": "python3"
  },
  "language_info": {
   "codemirror_mode": {
    "name": "ipython",
    "version": 3
   },
   "file_extension": ".py",
   "mimetype": "text/x-python",
   "name": "python",
   "nbconvert_exporter": "python",
   "pygments_lexer": "ipython3",
   "version": "3.11.5"
  }
 },
 "nbformat": 4,
 "nbformat_minor": 5
}
