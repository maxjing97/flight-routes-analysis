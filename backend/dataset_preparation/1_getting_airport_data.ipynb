{
 "cells": [
  {
   "cell_type": "markdown",
   "id": "0c7ef589",
   "metadata": {},
   "source": [
    "\n",
    "# General information of the datascrapping process.\n",
    "\n",
    "Here, we get vital data for the key airports we want to scrape data from:\n",
    "\n",
    "location (coordinates, country, city), IATA code,\n",
    "\n",
    "This then allows us, using the wikipedia API to find each airport's corresponding wikipedia link and wikipedia name.\n",
    "For example JFK is encoded in wikipedia's internal database as John_F._Kennedy_International_Airport. This matches the last part of the url in the wikipedia page link for the airport:     \n",
    "https://en.wikipedia.org/wiki/John_F._Kennedy_International_Airport\n",
    "\n",
    "For each time range:\n",
    "\n",
    "The wikipedia page's raw text can be scrapped predictiably for a list of destinations from an airport. We will encode airport destinations using iata code.\n",
    "\n",
    "We do this for each airport, generating a large csv file of airport-destination pairs for a particular time change.\n",
    "\n",
    "We will look at 2 time ranges (now(as of June 4th 11am Eastern Time), before Jan 1, 2000 UTC 0)"
   ]
  },
  {
   "cell_type": "markdown",
   "id": "c30a557d",
   "metadata": {},
   "source": [
    "### Sources :\n",
    "\n",
    "\n",
    "list of top 1000 airports by traffic to scrape:\n",
    "\n",
    "https://gettocenter.com/airports/top-100-airports-in-world/1000#google_vignette  \n",
    "\n",
    "\n",
    "detailed airport database to cross reference:\n",
    "\n",
    "https://www.partow.net/miscellaneous/airportdatabase/index.html#Downloads "
   ]
  }
 ],
 "metadata": {
  "language_info": {
   "name": "python"
  }
 },
 "nbformat": 4,
 "nbformat_minor": 5
}
