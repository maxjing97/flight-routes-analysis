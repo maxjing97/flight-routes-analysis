import requests
from bs4 import BeautifulSoup
import csv
import re
import pandas as pd
# Suppress just SettingWithCopyWarning
import warnings
warnings.simplefilter(action='ignore', category=pd.errors.ChainedAssignmentError)
warnings.simplefilter(action='ignore', category=pd.errors.SettingWithCopyWarning)











def get_destinations(iata_source, wiki_name, path_write):
    file = open(path_write, "a") #file to append to
    
    url = f"https://en.wikipedia.org/wiki/{wiki_name}"
    response = requests.get(url)
    
    soup = BeautifulSoup(response.text, 'html.parser')
    #find the related destination table
    # Case-insensitive string match
    heading = soup.find("h2", string=re.compile(r"destination", re.IGNORECASE))
    #check text in heading
    heading_text =  heading.get_text()
    if  "former" in heading_text or "Former" in heading_text: #if either text is found, abort the function. This indicate the airport is no longer in service
        file.close() #close
        return
        
    
    table = heading.find_next("table") 
    while ('wikitable' not in table.get("class")): #find the next table matching a predictable class, if one has not been found
        table = table.find_next("table") 
    rows = table.find_all("tr")

    
    for i in range(1,len(rows)): #exclude the first row
        row = rows[i]
        # Extract all cells (td or th)
        cols = row.find_all(["td", "th"])
        # Write the row text content to CSV
        #first column is the airline
        airline = cols[0].get_text(strip=True)
        #get the list of destinations in the 2nd  
        destinations = cols[1]
        isSeasonal = 0 #iterate over subcomponents (seasonal always comes last, so set is seasonal to be false for now)
        for child in destinations.children: 
            #anchor components are the only destinations
            if (child.name == "a"):
                dest_name = child.get('title') #the title is the official wikipedia airport name (without _ in place of spaces)
                dest_name = dest_name.replace(" ", "_") 
                output = f"\"{iata_source}\",\"{wiki_name}\",\"{dest_name}\",\"{airline}\",\"{isSeasonal}\"\n" #final output to append to the file
                file.write(output)#write file
            elif ((child.name == "b") and (child.text == "Seasonal:")):
                isSeasonal = 1 #get seasonal to be 1 for future destinations
    file.close() #close
    return








f = open("./data/current_routes.csv", "w")
f.write("iata_source,starting_wiki_name,dest_wikipedia_name,airline,isSeasonal\n") 
f.close() #add column names





data = pd.read_csv("./data/top_airports_basic_data.csv")
print(len(data))
data.head(n=1)
codes_list = data["iata"]
names_list = data["wiki_name"]
file_append_path = "./data/current_routes.csv"






for i in range(0,50):
    print("airport index:", i)
    code = codes_list[i]
    name = names_list[i]
    try:
        get_destinations(code,name,file_append_path)
    except:
        print(f"failed airport:{code}")






for i in range(50,100):
    print("airport index:", i)
    code = codes_list[i]
    name = names_list[i]
    try:
        get_destinations(code,name,file_append_path)
    except:
        print(f"failed airport:{code}")





for i in range(100, 150):
    print("airport index:", i)
    code = codes_list[i]
    name = names_list[i]
    try:
        get_destinations(code,name,file_append_path)
    except:
        print(f"failed airport:{code}")





for i in range(150,200):
    print("airport index:", i)
    code = codes_list[i]
    name = names_list[i]
    try:
        get_destinations(code,name,file_append_path)
    except:
        print(f"failed airport:{code}")





for i in range(200,250):
    print("airport index:", i)
    code = codes_list[i]
    name = names_list[i]
    try:
        get_destinations(code,name,file_append_path)
    except:
        print(f"failed airport:{code}")





for i in range(250,300):
    print("airport index:", i)
    code = codes_list[i]
    name = names_list[i]
    try:
        get_destinations(code,name,file_append_path)
    except:
        print(f"failed airport:{code}")





for i in range(300,350):
    print("airport index:", i)
    code = codes_list[i]
    name = names_list[i]
    try:
        get_destinations(code,name,file_append_path)
    except:
        print(f"failed airport:{code}")





for i in range(350, len(codes_list)):
    print("airport index:", i)
    code = codes_list[i]
    name = names_list[i]
    try:
        get_destinations(code,name,file_append_path)
    except:
        print(f"failed airport:{code}")








routes = pd.read_csv("./data/current_routes.csv")
unique_airports_in_routes = set(routes["iata_source"].unique())
#find missing airports
missing = set(codes_list) - unique_airports_in_routes
for m in missing:
    print("missing airports", m)





get_destinations("LDU","Lahad_Datu_Airport",file_append_path)


get_destinations("CGY","Laguindingan_Airport",file_append_path)


#new Saratov airport -replacing RTW, removed RTW entries
get_destinations("GSV","Saratov_Gagarin_Airport",file_append_path)


#new Berlin airport- replacing TXL, SXF 
get_destinations("BER", "Berlin_Brandenburg_Airport",file_append_path)


get_destinations("UTH", "Udon_Thani_International_Airport",file_append_path)



get_destinations("VAS", "Sivas_Airport",file_append_path)


get_destinations("TER", "Lajes_Airport",file_append_path)



get_destinations("SYZ", "Shiraz_Shahid_Dastgheib_International_Airport",file_append_path)



get_destinations("SNO", "Sakon_Nakhon_Airport",file_append_path)


get_destinations("TTE", "Sultan_Babullah_Airport",file_append_path)



get_destinations("NST","Nakhon_Si_Thammarat_Airport",file_append_path)


obt = ("SOC", "Adisoemarmo_Airport")
get_destinations(obt[0],obt[1],file_append_path)


#new Rajkot airport, replacing RAJ
obt = ("HSR", "Rajkot_International_Airport")
get_destinations(obt[0],obt[1],file_append_path)


#replacing TAG, old TAG entries in routes removed
obt = ("TAG", "Bohol–Panglao_International_Airport")
get_destinations(obt[0],obt[1],file_append_path)


# New samarinda,indonesia airport, replacing SRI, old entries revmoed
obt = ("AAP", "Aji_Pangeran_Tumenggung_Pranoto_International_Airport")
get_destinations(obt[0],obt[1],file_append_path)


obt = ("DIN", "Dien_Bien_Airport")
get_destinations(obt[0],obt[1],file_append_path)


obt = ("UBJ", "Yamaguchi_Ube_Airport")
get_destinations(obt[0],obt[1],file_append_path)


obt = ("KUV", "Gunsan_Airport")
get_destinations(obt[0],obt[1],file_append_path)


obt = ("HMA", "Khanty-Mansiysk Airport")
get_destinations(obt[0],obt[1],file_append_path)


obt = ("WGA", "Wagga_Wagga_Airport")
get_destinations(obt[0],obt[1],file_append_path)


obt = ("GRV", "Kadyrov_Grozny_International_Airport")
get_destinations(obt[0],obt[1],file_append_path)


obt = ("TAO", "Qingdao_Jiaodong_International_Airport")
get_destinations(obt[0],obt[1],file_append_path)


obt = ("HRB", "Harbin_Taiping_International_Airport")
get_destinations(obt[0],obt[1],file_append_path)


obt = ("YNT", "Yantai_Penglai_International_Airport")
get_destinations(obt[0],obt[1],file_append_path)


obt = ("ZAZ", "Zaragoza_Airport")
get_destinations(obt[0],obt[1],file_append_path)


obt = ("THS", "Sukhothai_Airport")
get_destinations(obt[0],obt[1],file_append_path)


#new Murcia airport, replacing MJV
obt = ("RMU", "Región_de_Murcia_International_Airport")
get_destinations(obt[0],obt[1],file_append_path)


obt = ("MSJ", "Misawa_Airport")
get_destinations(obt[0],obt[1],file_append_path)


obt = ("ISG", "New_Ishigaki_Airport")
get_destinations(obt[0],obt[1],file_append_path)


obt = ("TIM", "Mozes_Kilangin_Airport")
get_destinations(obt[0],obt[1],file_append_path)


obt = ("UBP", "Ubon_Ratchathani_Airport")
get_destinations(obt[0],obt[1],file_append_path)


obt = ("HFE", "Hefei_Xinqiao_International_Airport")
get_destinations(obt[0],obt[1],file_append_path)


obt = ("MLX", "Malatya_Erhaç_Airport")
get_destinations(obt[0],obt[1],file_append_path)


obt = ("REU", "Reus_Airport")
get_destinations(obt[0],obt[1],file_append_path)


obt = ("YKS", "Platon_Oyunsky_Yakutsk_International_Airport")
get_destinations(obt[0],obt[1],file_append_path)


#new istanbul airport
obt = ("IST", "Istanbul_Airport")
get_destinations(obt[0],obt[1],file_append_path)


obt = ("BMV", "Buon_Ma_Thuot_Airport")
get_destinations(obt[0],obt[1],file_append_path)


obt = ("ROV", "Platov_International_Airport")
get_destinations(obt[0],obt[1],file_append_path)


obt = ("TRZ", "Tiruchirappalli_International_Airport")
get_destinations(obt[0],obt[1],file_append_path)


obt = ("RBR", "Rio_Branco_International_Airport")
get_destinations(obt[0],obt[1],file_append_path)


obt = ("KOP", "Nakhon_Phanom_Airport")
get_destinations(obt[0],obt[1],file_append_path)


obt = ("JOG", "Adisutjipto_Airport")
get_destinations(obt[0],obt[1],file_append_path)


obt = ("UUS", "Yuzhno-Sakhalinsk_Airport")
get_destinations(obt[0],obt[1],file_append_path)


obt = ("NSN", "Nelson_Airport_(New_Zealand)")
get_destinations(obt[0],obt[1],file_append_path)


obt = ("NUX", "Novy_Urengoy_Airport")
get_destinations(obt[0],obt[1],file_append_path)


obt = ("INC", "Incheon_International_Airport")
get_destinations(obt[0],obt[1],file_append_path)


obt = ("PMW", "Palmas_Airport")
get_destinations(obt[0],obt[1],file_append_path)





routes = pd.read_csv("./data/current_routes.csv")
unique_airports_in_routes = set(routes["iata_source"].unique())
#find missing airports
missing = set(codes_list) - unique_airports_in_routes
for m in missing:
    print("missing airports", m)





routes= routes.drop_duplicates() #drop rows where all values are the same (should not be any)
print(len(routes))
routes.to_csv("./data/current_routes.csv")





new_airlines_list = []
old_airlines_list = routes["airline"]
for airline in old_airlines_list:
    airline = airline.split("[")[0] #remove quotation
    new_airlines_list.append(airline)
routes["airline"] = new_airlines_list
routes.head()


routes.to_csv("./data/current_routes.csv")





print("number of unique airlines:", routes["airline"].nunique())
print("number of unique destinations:", routes["dest_wikipedia_name"].nunique())





routes = pd.read_csv("./data/current_routes.csv")
destinations_wiki_names = routes["dest_wikipedia_name"].unique()





f = open("./data/current_served_airports.csv", "w")
f.write("IATA,wiki_name,city,country,latitude,longitude\n") 
f.close() #add column names





db_names=["ICAO","IATA","Airport_name", "City", "Country", 
          "lat_deg","lat_min","lat_sec","lat_dir",
          "long_deg","long_min","long_sec","long_dir",
          "Altitude", "lat_dec", "long_dec"]#names given on the website in order
airport_db = pd.read_csv("./data/GlobalAirportDatabase.txt", delimiter=":",names=db_names)
airport_db.head()





def getdetails(iata, airport_db):
    try:
        matching = airport_db[airport_db["IATA"]==iata].iloc[0]
        return {"city":matching["City"], "country":matching["Country"],"latitude":matching["lat_dec"], "longitude":matching["long_dec"]}
    except:
        return {"city":"", "country":"","latitude":"", "longitude":""}
getdetails("JFK", airport_db)





def getIataFromWikiName(wiki_name):
    url = f"https://en.wikipedia.org/w/index.php?title={wiki_name}&action=raw"
    response = requests.get(url)
    #find the text between
    text = response.text
    
    try:
        match = re.findall(r'IATA.*?=', text)[0] #find the first indstance
        start = text.find(match) #find the starting index, by matching the re pattern iata*=
        start += len(match) #do not include iata
        
        end = text.find("\n", start) #starting from the end, find the starting index
        iata_code = text[start:end]
        iata_code = iata_code.split("<")[0]#get rid of ref tags
        iata_code = iata_code.strip()
        return iata_code
    except:
        #check for redirect
        check_text = text.split("[[")[0] #get section between [[
        check_text = check_text.lower()
        if ("redirect" in check_text):
            #get the text in between [[]]
            redirect = text.split("]]")[0]
            redirect = redirect.split("[[")[1]
            redirect = redirect.replace(" ", "_") #replace spaces
            print("redirect found:", redirect)
            return getIataFromWikiName(redirect)
        return "x"





getIataFromWikiName("Dallas/Fort Worth International Airport")


getIataFromWikiName("Genoa_Airport")


getIataFromWikiName("Victoria_Falls_International_Airport")






i = 0
for dest_wiki in destinations_wiki_names:
    try:
        f = open("./data/current_served_airports.csv", "a")
        print("index is:",i)
        iata_code = getIataFromWikiName(dest_wiki)
        matching = getdetails(iata_code, airport_db) #details object 
        city =  matching["city"]
        country = matching["country"]
        lat = matching["latitude"]
        long = matching["longitude"]
        output = f"\"{iata_code}\",\"{dest_wiki}\",\"{city}\",\"{country}\",\"{lat}\",\"{long}\"\n" #write IATA,wiki_name,country,city,latitude,longitude
        f.write(output)
        f.close()    
    except:
        output = f"\"{iata_code}\",\"{dest_wiki}\",\"\",\"\",\"\",\"\"\n" #write IATA,wiki_name,country,city,latitude,longitude
        f.write(output)
        f.close()
        continue
    i += 1





airports = pd.read_csv("./data/current_served_airports.csv", on_bad_lines="skip")
print(len(airports))
airports.head(n=1)


def checkiata(airports):
    for index, row in airports.iterrows():
        iata = row["IATA"]
        name = row["wiki_name"]
        try:
            if len(iata) != 3:
                print(f"faulty iata:{iata}| for name: {name}") 
        except:
            print(f"faulty iata:{iata}| for name: {name}") 
    return


checkiata(airports)





drop = []
for index, row in airports.iterrows():
    iata = row["IATA"]
    iata = str(iata)
    if iata == "nan":
        drop.append(index)


print(drop)


airports = airports.drop(index=drop)
airports = airports.reset_index(drop=True) #reindex (dropping old index)





for index, row in airports.iterrows():
    iata = str(row["IATA"])
    name = row["wiki_name"]
    try:
        if len(iata) != 3:
            iata_code = getIataFromWikiName(name)
            matching = getdetails(iata_code, airport_db) #details object 
            airports["IATA"][index] = iata_code
            airports["city"][index] = matching["city"]
            airports["country"][index] = matching["country"]
            airports["latitude"][index] = matching["latitude"]
            airports["longitude"][index] = matching["longitude"]
    except:
        continue
    





checkiata(airports)





drop = []
for index, row in airports.iterrows():
    iata = str(row["IATA"])
    name = row["wiki_name"]
    if len(iata) != 3:
        if "BSL, MLH, EAP" != iata and "OIBH" != iata:
            print("dropped iata code:", iata)
            drop.append(index)
        if "IKU" in iata :
            iata_code = "IKU"
            matching = getdetails(iata_code, airport_db) #details object 
            airports["IATA"][index] = iata_code
            airports["city"][index] = matching["city"]
            airports["country"][index] = matching["country"]
            airports["latitude"][index] = matching["latitude"]
            airports["longitude"][index] = matching["longitude"]
        if "''TRT''" in iata :
            iata_code = "TRT"
            matching = getdetails(iata_code, airport_db) #details object 
            airports["IATA"][index] = iata_code
            airports["city"][index] = matching["city"]
            airports["country"][index] = matching["country"]
            airports["latitude"][index] = matching["latitude"]
            airports["longitude"][index] = matching["longitude"]
    



drop


airports = airports.drop(index=drop)
airports = airports.reset_index(drop=True) #reindex (dropping old index)





len(airports)
#
airports.to_csv("./data/current_served_airports.csv")





routes_data = pd.read_csv("./data/current_routes.csv")
airports = pd.read_csv("./data/current_served_airports.csv")


routes_data.head(n=1)


airports.head(n=1)


#add iata_dest_source
routes_data["iata_dest"] = None 
for index, rows in routes_data.iterrows():
    print("current row:", index)
    dest_wiki = rows["dest_wikipedia_name"]
    try:  #try to match to a iata code
        match = airports[airports["wiki_name"]==dest_wiki].iloc[0]
        match = match["IATA"]
        routes_data["iata_dest"][index] = match
    except:
        routes_data["iata_dest"][index] = None





routes_data.to_csv("./data/current_routes.csv", index=False)


routes_data.head(n=1)





none_dest_Data = routes_data[routes_data["iata_dest"].isnull()]
print(len(none_dest_Data))


none_dest_Data.head()











routes = pd.read_csv("./data/current_routes.csv", encoding='utf-8')
iata_sources = routes["iata_source"].unique()
print(len(iata_sources))
routes.head(n=1)


source_airport_link = "./data/current_source_airports.csv"
data = [
    ["IATA","wiki_name","city","country","latitude","longitude"]
]






ref_data =pd.read_csv("./data/current_served_airports.csv", encoding='utf-8')
ref_data.head(n=1)





i = 0 
for iata_source in iata_sources:
    try:
        print("index is:",i)
        #match based on reference data 
        matching = ref_data[ref_data["IATA"]==iata_source].iloc[0]
        wiki_name =  str(matching["wiki_name"])
        city =  str(matching["city"])
        country = str(matching["country"])
        lat = str(matching["latitude"])
        long = str(matching["longitude"])
        data.append([iata_source, wiki_name, city,country,lat,long])

    except:
        data.append([iata_source, wiki_name, "","","",""])
        continue
    i += 1
with open(source_airport_link, 'w', encoding='utf-8', newline='') as csvfile:
    writer = csv.writer(csvfile)
    writer.writerows(data)





current_airports =pd.read_csv(source_airport_link, encoding='utf-8')
print(len(current_airports))
current_airports.head(n=1)


len(current_airports[current_airports["IATA"].isnull()])





empty_rows = current_airports[current_airports["latitude"].isnull()]
print(len(empty_rows))


empty_rows.head(n=196)





wiki_names = set(empty_rows["wiki_name"])
print(len(wiki_names))





def getRow(text, key): #help function to text a key from = of the first rpws
    try:
        regex = f"{key}"+'.*?='
        match = re.findall(rf'{regex}', text)[0] #find the first indstance
        
        start = text.find(match) #find the starting index, by matching the re pattern iata*=
        start += len(match) #do not include iata
        
        end = text.find("\n", start) #starting from the end, find the starting index
        code = text[start:end]
        code = code.split("<")[0]#get rid of ref tags
        code = code.strip()
        return code
    except:
        #check for redirect
        check_text = text.split("[[")[0] #get section between [[
        check_text = check_text.lower()
        if ("redirect" in check_text):
            #get the text in between [[]]
            redirect = text.split("]]")[0]
            redirect = redirect.split("[[")[1]
            redirect = redirect.replace(" ", "_") #replace spaces
            #get text from redirect
            url = f"https://en.wikipedia.org/w/index.php?title={wiki_name}&action=raw"
            response = requests.get(url)
            #find the text between
            text = response.text
            return getRow(text, key)
        return "" #return empty string if nothing is found

#function to convert DMS coordinates on wiki to decimal ones
def dms_to_decimal(degrees, minutes, seconds, direction):
    dd = float(degrees) + float(minutes) / 60 + float(seconds) / 3600
    if direction.upper() in ['S', 'W']:
        dd *= -1
    return str(dd)



def getDetailsFromWikiName(wiki_name):
    url = f"https://en.wikipedia.org/w/index.php?title={wiki_name}&action=raw"
    response = requests.get(url)
    #find the text between
    text = response.text
    try:
        #process city data
        city = getRow(text,"city-served")#city
        city = city[2:len(city)-2] 
        # process latitude, longtitude data
        coor = getRow(text,"coordinates")
        coor = coor.split("}}")[0]
        coor = coor.split("{{")[1]
        coor = coor.split("|")
        lat = dms_to_decimal(coor[1],coor[2],coor[3],coor[4]) #convert using function
        long = dms_to_decimal(coor[5],coor[6],coor[7],coor[8])
        #get country data, using wikipedia api using city
        url2 = f"https://en.wikipedia.org/w/index.php?title={city}&action=raw"
        response2 = requests.get(url2)
        #find the text between
        text2 = response2.text
        country = getRow(text2,"subdivision_name")
        #depending on the enclosing symbol
        print(country)
        if "[" in country:
            country = country.split("[[")[1]#get between [[]]
            country = country.split("]]")[0]
        elif "{" in country:
            #get between (())
            country = country.split("{{")[1]#get between [[]]
            country = country.split("}}")[0]
        if "|" in country: #now, check for |
            tlist = country.split("|")
            country = tlist[len(tlist)-1]
        return {"city":city, "country":country, "latitude":lat, "longitude":long}
    except:
        #check for redirect
        check_text = text.split("[[")[0] #get section between [[
        check_text = check_text.lower()
        if ("redirect" in check_text):
            #get the text in between [[]]
            redirect = text.split("]]")[0]
            redirect = redirect.split("[[")[1]
            redirect = redirect.replace(" ", "_") #replace spaces
            return getDetailsFromWikiName(redirect)
        return {"city":"", "country":"", "latitude":"", "longitude":""}
        
        








current_airports = pd.read_csv(source_airport_link, encoding='utf-8')

for index, row in current_airports.iterrows():
    wiki_name = row["wiki_name"]
    if wiki_name in wiki_names: #if this is in the empty list
        data = getDetailsFromWikiName(wiki_name)
        current_airports["city"][index] = data["city"]
        current_airports["country"][index] = data["country"]
        current_airports["latitude"][index] = data["latitude"]
        current_airports["longitude"][index] = data["longitude"]
        


# Count rows where any column is null
num_rows_with_nulls = current_airports.isnull().any(axis=1).sum()

print(num_rows_with_nulls)
